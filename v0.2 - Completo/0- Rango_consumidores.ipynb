{
 "cells": [
  {
   "cell_type": "markdown",
   "metadata": {},
   "source": [
    "# Rango Consumos por Persona"
   ]
  },
  {
   "cell_type": "markdown",
   "metadata": {},
   "source": [
    "Se calcula con consumos por período de prestación en un reporte y stock en otro reporte"
   ]
  },
  {
   "cell_type": "code",
   "execution_count": 1,
   "metadata": {},
   "outputs": [],
   "source": [
    "# Librerías usadas:\n",
    "import pandas as pd\n",
    "import numpy as np\n",
    "import os\n",
    "from datetime import datetime"
   ]
  },
  {
   "cell_type": "code",
   "execution_count": 2,
   "metadata": {},
   "outputs": [],
   "source": [
    "# Lectura df de consumos:\n",
    "ruta_cons = 'Consumo_SanCor_12M/30.2 Consumo 12 M.xlsx'\n",
    "dfc = pd.read_excel(ruta_cons)"
   ]
  },
  {
   "cell_type": "code",
   "execution_count": 3,
   "metadata": {},
   "outputs": [],
   "source": [
    "ruta_stock = './Stock_SanCor_12M/'"
   ]
  },
  {
   "cell_type": "code",
   "execution_count": 4,
   "metadata": {},
   "outputs": [
    {
     "name": "stdout",
     "output_type": "stream",
     "text": [
      "Inicio del proceso: 12:30:16\n",
      "Se cargó el archivo:  30.1 Stock Brinkmann 12 M.xlsx a las: 12:30:47\n",
      "Fin de la carga de archivos\n"
     ]
    }
   ],
   "source": [
    "# Levanto el stock existente en una carpeta:\n",
    "\n",
    "ruta = ruta_stock\n",
    "contenido = os.listdir(ruta)\n",
    "\n",
    "print(\"Inicio del proceso: \" + datetime.now().strftime('%H:%M:%S'))\n",
    "\n",
    "# Dataframe con el stock:\n",
    "dfs = pd.DataFrame()\n",
    "\n",
    "archivos = []\n",
    "for fichero in contenido:\n",
    "    if os.path.isfile(os.path.join(ruta, fichero)) and fichero.endswith('.xlsx'):\n",
    "        df_temp = pd.read_excel(ruta+fichero)\n",
    "        dfs = pd.concat([dfs, df_temp], axis=0)\n",
    "        print(\"Se cargó el archivo: \", fichero, \"a las: \" + datetime.now().strftime('%H:%M:%S'))\n",
    "\n",
    "df_temp = []\n",
    "print(\"Fin de la carga de archivos\")        \n"
   ]
  },
  {
   "cell_type": "code",
   "execution_count": 5,
   "metadata": {},
   "outputs": [],
   "source": [
    "# bkp temporal\n",
    "dfsbkp = dfs\n",
    "# dfs = dfsbkp"
   ]
  },
  {
   "cell_type": "markdown",
   "metadata": {},
   "source": [
    "## 1.2- Renombrar columnas"
   ]
  },
  {
   "cell_type": "code",
   "execution_count": 6,
   "metadata": {},
   "outputs": [],
   "source": [
    "# Se pueden renombrar incluso columnas que no existen (mejorar la eficiencia en función del warning)\n",
    "dfs.rename( columns = {    'Periodo ID': 'Periodo',\n",
    "                           'Persona ID': 'Persona',\n",
    "                           'Persona Fecha Nacimiento': 'Fecha_nac',\n",
    "                           'Discapacitado ID': 'Discapacidad',\n",
    "                           'Marca Persona con Diabetes DESC': 'Diabetes',\n",
    "                           'Marca Persona con Hepatitis DESC': 'Hepatitis',\n",
    "                           'Marca Persona con PMI DESC': 'PMI',\n",
    "                           'Marca Persona con Tratamiento Cronico DESC': 'Cronico',\n",
    "                           'Marca Persona con Tratamiento Oncológico DESC':  'Oncologico',\n",
    "                           'Sexo ID': 'Sexo',\n",
    "                           'Plan Sin Segmento ID': 'Plan',\n",
    "                           'Posicion Asociado DESC': 'Posicion Asociado',\n",
    "                           'Zona de Promocion DESC': 'Zona de Promocion',\n",
    "                           'Segmento Agrupado DESC': 'Segmento',\n",
    "                           'Plan Agrupado Sin Segmento DESC': 'Plan Agrupado',\n",
    "                           'Stock Asociados Salud': 'Stock',\n",
    "                           'Edad Periodo ID': 'Edad',\n",
    "                           'ACE Stock Asociados Salud': 'ACE',\n",
    "                           'Consumos Costo con Subsidios SSS': 'Consumo3',\n",
    "                           'Recaudacion Costo con Otros Subsidios': 'Recaudacion3'                      \n",
    "                           }, inplace=True)\n",
    "\n",
    "\n",
    "dfc.rename( columns = {    'Periodo ID': 'Periodo',\n",
    "                           'Persona ID': 'Persona',\n",
    "                           'Persona Fecha Nacimiento': 'Fecha_nac',\n",
    "                           'Discapacitado ID': 'Discapacidad',\n",
    "                           'Marca Persona con Diabetes DESC': 'Diabetes',\n",
    "                           'Marca Persona con Hepatitis DESC': 'Hepatitis',\n",
    "                           'Marca Persona con PMI DESC': 'PMI',\n",
    "                           'Marca Persona con Tratamiento Cronico DESC': 'Cronico',\n",
    "                           'Marca Persona con Tratamiento Oncológico DESC':  'Oncologico',\n",
    "                           'Sexo ID': 'Sexo',\n",
    "                           'Plan Sin Segmento ID': 'Plan',\n",
    "                           'Posicion Asociado DESC': 'Posicion Asociado',\n",
    "                           'Zona de Promocion DESC': 'Zona de Promocion',\n",
    "                           'Segmento Agrupado DESC': 'Segmento',\n",
    "                           'Plan Agrupado Sin Segmento DESC': 'Plan Agrupado',\n",
    "                           'Stock Asociados Salud': 'Stock',\n",
    "                           'Edad Periodo ID': 'Edad',\n",
    "                           'ACE Stock Asociados Salud': 'ACE',\n",
    "                           'Consumos Costo con Subsidios SSS': 'Consumo2',\n",
    "                           'Consumos Costo con Otros Subsidios': 'Consumo3',\n",
    "                           'Recaudacion Costo con Otros Subsidios': 'Recaudacion3'                      \n",
    "                           }, inplace=True)"
   ]
  },
  {
   "cell_type": "code",
   "execution_count": 7,
   "metadata": {},
   "outputs": [],
   "source": [
    "# Agregamos a dfs el consumo de dfc:\n",
    "dfs = pd.merge(left = dfs, right = dfc, left_on='Persona', right_on='Persona', how = \"left\")"
   ]
  },
  {
   "cell_type": "code",
   "execution_count": 8,
   "metadata": {},
   "outputs": [
    {
     "data": {
      "text/plain": [
       "758659"
      ]
     },
     "execution_count": 8,
     "metadata": {},
     "output_type": "execute_result"
    }
   ],
   "source": [
    "len(dfs)"
   ]
  },
  {
   "cell_type": "code",
   "execution_count": 9,
   "metadata": {},
   "outputs": [
    {
     "data": {
      "text/plain": [
       "7190382"
      ]
     },
     "execution_count": 9,
     "metadata": {},
     "output_type": "execute_result"
    }
   ],
   "source": [
    "dfs.Stock.sum()"
   ]
  },
  {
   "cell_type": "markdown",
   "metadata": {},
   "source": [
    "# 2- Cálculo de marca GC\n",
    "\n",
    "Pasos a seguir:<br>\n",
    "1- Marcar gc con la actualización de los valores acordados<br>\n",
    "2- Marcar diagnosticos con la logica acordada<br>\n",
    "<br>"
   ]
  },
  {
   "cell_type": "code",
   "execution_count": 10,
   "metadata": {},
   "outputs": [],
   "source": [
    "# Seteo de variables para marcas:\n",
    "\n",
    "# Defino importe gran consumidor\n",
    "importe_gc = 636370\n",
    "\n",
    "# De cada rango se define su límite inferior para consumo mensual\n",
    "c_muy_alto = importe_gc / 12\n",
    "c_alto = 120000 / 12\n",
    "c_medio = 6000 / 12\n",
    "c_bajo = 2400 / 12 # 200 pesos por mes por el efecto cápita\n",
    "# El consumo c_muy_bajo queda por defecto."
   ]
  },
  {
   "cell_type": "code",
   "execution_count": 11,
   "metadata": {},
   "outputs": [
    {
     "data": {
      "text/plain": [
       "Index(['Persona', 'Stock', 'Consumo3'], dtype='object')"
      ]
     },
     "execution_count": 11,
     "metadata": {},
     "output_type": "execute_result"
    }
   ],
   "source": [
    "dfs.columns"
   ]
  },
  {
   "cell_type": "code",
   "execution_count": 12,
   "metadata": {},
   "outputs": [
    {
     "name": "stderr",
     "output_type": "stream",
     "text": [
      "C:\\ProgramData\\Anaconda3\\lib\\site-packages\\ipykernel_launcher.py:13: SettingWithCopyWarning: \n",
      "A value is trying to be set on a copy of a slice from a DataFrame\n",
      "\n",
      "See the caveats in the documentation: https://pandas.pydata.org/pandas-docs/stable/user_guide/indexing.html#returning-a-view-versus-a-copy\n",
      "  del sys.path[0]\n"
     ]
    }
   ],
   "source": [
    "######## MARCO GRAN CONSUMIDOR:\n",
    "# https://es.stackoverflow.com/questions/193267/c%C3%B3mo-creo-una-columna-en-un-dataframe-dependiendo-del-valor-de-otras-dos-column\n",
    "dfs['GC'] = np.where(dfs['Consumo3'] > importe_gc, 'GC','NO GC')\n",
    "\n",
    "######## MARCO RANGO CONSUMOS:\n",
    "# Cálculo de consumo anualizado para rango consumos:\n",
    "dfs['Cons_mensualizado'] = (dfs['Consumo3'] / dfs['Stock'])\n",
    "\n",
    "# Como existen personas con stock == 0 -> reemplazo los nan con el valor de la columna \"Consumo3\"\n",
    "# No encontré una función -> hago una reimputación manual\n",
    "for i in range(len(dfs)):\n",
    "    if np.isnan(dfs[\"Cons_mensualizado\"][i]) == True:\n",
    "        dfs[\"Cons_mensualizado\"][i] = dfs[\"Consumo3\"][i]\n",
    "\n",
    "# Lista de condiciones para selección\n",
    "# https://www.delftstack.com/es/howto/python-pandas/how-to-create-dataframe-column-based-on-given-condition-in-pandas/#lista-de-comprensi%25C3%25B3n-para-crear-nuevas-columnas-dataframe-basadas-en-una-condici%25C3%25B3n-dada-en-pandas\n",
    "# Método np.select()\n",
    "condiciones = [\n",
    "    (dfs['Cons_mensualizado'] >= c_muy_alto) ,\n",
    "    (dfs['Cons_mensualizado'] >= c_alto) ,\n",
    "    (dfs['Cons_mensualizado'] >= c_medio) ,\n",
    "    (dfs['Cons_mensualizado'] >= c_bajo) ,\n",
    "    (dfs['Cons_mensualizado'] < c_bajo)]\n",
    "\n",
    "# Lista de resultados en función de las selecciones\n",
    "valores_condic = ['Muy Alto', 'Alto', 'Medio', 'Bajo', 'Muy Bajo']     \n",
    "\n",
    "# Generación de la columna calculada\n",
    "dfs['Rango_Cons'] = np.select(condiciones, valores_condic, default='Muy Bajo') # se analizaron y surgen de consumo 3 == 0\n",
    "\n",
    "# debería eliminar dfc de memoria porque no se usa más\n",
    "# debería eliminar dfsbkp de memoria porque no se usa más"
   ]
  },
  {
   "cell_type": "code",
   "execution_count": 13,
   "metadata": {},
   "outputs": [],
   "source": [
    "# Exportamos la auxiliar por persona para entender marcas rango consumos\n",
    "dfs.to_csv(\"Rango_cons.csv\", encoding = 'latin1', \n",
    "                decimal=',', index = False)"
   ]
  },
  {
   "cell_type": "code",
   "execution_count": null,
   "metadata": {},
   "outputs": [],
   "source": []
  },
  {
   "cell_type": "code",
   "execution_count": null,
   "metadata": {},
   "outputs": [],
   "source": []
  },
  {
   "cell_type": "code",
   "execution_count": 14,
   "metadata": {},
   "outputs": [],
   "source": [
    "# finaliza el script"
   ]
  },
  {
   "cell_type": "code",
   "execution_count": null,
   "metadata": {},
   "outputs": [],
   "source": []
  },
  {
   "cell_type": "code",
   "execution_count": null,
   "metadata": {},
   "outputs": [],
   "source": []
  },
  {
   "cell_type": "code",
   "execution_count": null,
   "metadata": {},
   "outputs": [],
   "source": []
  },
  {
   "cell_type": "code",
   "execution_count": null,
   "metadata": {},
   "outputs": [],
   "source": []
  },
  {
   "cell_type": "code",
   "execution_count": null,
   "metadata": {},
   "outputs": [],
   "source": []
  },
  {
   "cell_type": "code",
   "execution_count": null,
   "metadata": {},
   "outputs": [],
   "source": []
  },
  {
   "cell_type": "code",
   "execution_count": null,
   "metadata": {},
   "outputs": [],
   "source": []
  },
  {
   "cell_type": "code",
   "execution_count": null,
   "metadata": {},
   "outputs": [],
   "source": []
  },
  {
   "cell_type": "code",
   "execution_count": null,
   "metadata": {},
   "outputs": [],
   "source": []
  },
  {
   "cell_type": "code",
   "execution_count": null,
   "metadata": {},
   "outputs": [],
   "source": []
  },
  {
   "cell_type": "markdown",
   "metadata": {},
   "source": [
    "# 3- Calcular marcas de diagnóstico -- NO SE REALIZA MAS AQUI\n",
    "\n",
    "El procedimiento a seguir debe ser el siguiente:<br>\n",
    "1- Si el 100% del tiempo tuvo un diagnóstico va ese. <br>\n",
    "2- Si más del 60% tuvo algún diagnóstico va ese.<br>\n",
    "3- Si no supera 60% en algún clúster se lo define como su peor situación (con diagnóstico).<br>\n",
    "4- (solamente para consumos) = si no se encuentra la persona en el tiempo de stock analizado se lo marca como \"No Corresponde\".<br>"
   ]
  },
  {
   "cell_type": "code",
   "execution_count": null,
   "metadata": {},
   "outputs": [],
   "source": [
    "# dfs2 es el 2do dataframe que usamos para hacer el pegado de diag.\n",
    "ruta_dfs2 = 'C:\\\\Users\\\\lsaucedo\\\\Desktop\\\\Brinkmann v2\\\\Stock_Brinkmann/'\n",
    "dfs2 = pd.read_excel(ruta_dfs2 + \"Stock_brinkmann_202010-202109.xlsx\")"
   ]
  },
  {
   "cell_type": "code",
   "execution_count": null,
   "metadata": {},
   "outputs": [],
   "source": [
    "dfs2.rename( columns = {    'Periodo ID': 'Periodo',\n",
    "                           'Persona ID': 'Persona',\n",
    "                           'Persona Fecha Nacimiento': 'Fecha_nac',\n",
    "                           'Discapacitado ID': 'Discapacidad',\n",
    "                           'Marca Persona con Diabetes DESC': 'Diabetes',\n",
    "                           'Marca Persona con Hepatitis DESC': 'Hepatitis',\n",
    "                           'Marca Persona con PMI DESC': 'PMI',\n",
    "                           'Marca Persona con Tratamiento Cronico DESC': 'Cronico',\n",
    "                           'Marca Persona con Tratamiento Oncológico DESC':  'Oncologico',\n",
    "                           'Sexo ID': 'Sexo',\n",
    "                           'Plan Sin Segmento ID': 'Plan',\n",
    "                           'Posicion Asociado DESC': 'Posicion Asociado',\n",
    "                           'Zona de Promocion DESC': 'Zona de Promocion',\n",
    "                           'Segmento Agrupado DESC': 'Segmento',\n",
    "                           'Plan Agrupado Sin Segmento DESC': 'Plan Agrupado',\n",
    "                           'Stock Asociados Salud': 'Stock',\n",
    "                           'Edad Periodo ID': 'Edad',\n",
    "                           'ACE Stock Asociados Salud': 'ACE',\n",
    "                           'Consumos Costo con Subsidios SSS': 'Consumo3',\n",
    "                           'Recaudacion Costo con Otros Subsidios': 'Recaudacion3'                      \n",
    "                           }, inplace=True)"
   ]
  },
  {
   "cell_type": "code",
   "execution_count": null,
   "metadata": {},
   "outputs": [],
   "source": [
    "# Ruta de auxiliares\n",
    "ruta_aux = 'C:\\\\modelos\\\\Auxiliares\\\\'"
   ]
  },
  {
   "cell_type": "code",
   "execution_count": null,
   "metadata": {},
   "outputs": [],
   "source": [
    "# Definiciones:\n",
    "# Proporción mínima de meses con diagnóstico para ser considerado con algún diagnóstico:\n",
    "prop_limite = 0.4\n",
    "# Se puede agregar los campos considerados como diag..\n",
    "\n",
    "# Reemplazo valores de filas con replace:\n",
    "dfs2['Diabetes'] = dfs2['Diabetes'].replace(['No Diabético', 'Diabético'], [0, 1])\n",
    "dfs2['Hepatitis'] = dfs2['Hepatitis'].replace(['Sin Hepatitis', 'Con Hepatitis'], [0, 1])\n",
    "dfs2['PMI'] = dfs2['PMI'].replace(['NO', 'SI'], [0, 1])\n",
    "dfs2['Cronico'] = dfs2['Cronico'].replace(['NO', 'SI'], [0, 1])\n",
    "dfs2['Oncologico'] = dfs2['Oncologico'].replace(['Sin Marca', 'Paciente Oncológico'], [0, 1])\n",
    "dfs2['GC'] = dfs2['GC'].replace(['NO GC', 'GC'], [0, 1])\n",
    "dfs2['Discapacidad'] = dfs2['Discapacidad'].replace(['N', 'S'], [0, 1])\n",
    "\n",
    "# Creo una columna de resultado que marque 1 si se tiene cualquier diagnostico\n",
    "# Se tendría que mejorar para generalizar:\n",
    "suma = (dfs2['Diabetes'] + dfs2['Hepatitis'] + dfs2['PMI'] + \n",
    "        dfs2['Cronico'] + dfs2['Oncologico'] + dfs2['GC'] + dfs2['Discapacidad'])\n",
    "dfs2['algun_diag'] = np.where(suma > 0, 1, 0)\n",
    "\n",
    "# Creo una auxiliar que resuma por persona el stock y cantidad de veces con diag.\n",
    "# Agrupo por persona las diferentes métricas en otro df para luego cruzar con la base original\n",
    "filas = ['Persona','Rango_Cons']\n",
    "columnas = ['Stock','Diabetes', 'Hepatitis', 'PMI','Cronico', 'Oncologico', 'GC', 'Discapacidad', 'algun_diag']\n",
    "aux_diag = pd.DataFrame(dfs2.pivot_table(columnas , filas, aggfunc = np.sum))\n",
    "\n",
    "\n",
    "# Genero una columna que calcule el % de veces que se tuvo algún diagnóstico:\n",
    "aux_diag['prop_diag'] = aux_diag['algun_diag'] / aux_diag['Stock']\n",
    "aux_diag.tail()\n",
    "\n",
    "# Creamos la marca a cada persona\n",
    "# Analizando las diferentes posibilidades llegué a la conclusión que si la proporción es mayor a 40% se debe poner \"Con Diagnóstico\"\n",
    "aux_diag['Marca_Diagnostico'] = np.where(aux_diag['prop_diag'] > prop_limite, 'Con Diagnostico','Sin Diagnostico')\n",
    "\n",
    "# Reseteo los multi index:\n",
    "aux_diag = aux_diag.reset_index()"
   ]
  },
  {
   "cell_type": "code",
   "execution_count": null,
   "metadata": {},
   "outputs": [],
   "source": [
    "# tener en cuenta que al agregar la pos. asoc. a la td pueden aparecer\n",
    "#personas duplicadas si se exportan los reportes en diferente momento.."
   ]
  },
  {
   "cell_type": "code",
   "execution_count": null,
   "metadata": {},
   "outputs": [],
   "source": [
    "# lo que se acorta el df tiene relacion con personas duplicadas.\n",
    "# en el caso de stock continúa ok.\n",
    "len(aux_diag)"
   ]
  },
  {
   "cell_type": "code",
   "execution_count": null,
   "metadata": {},
   "outputs": [],
   "source": [
    "aux_diag.Stock.sum()"
   ]
  },
  {
   "cell_type": "markdown",
   "metadata": {},
   "source": [
    "# Exporto la info a csv"
   ]
  },
  {
   "cell_type": "code",
   "execution_count": null,
   "metadata": {},
   "outputs": [],
   "source": [
    "aux_diag.to_csv(\"Dx_costeos.csv\", encoding = 'latin1', \n",
    "                decimal=',', index = False)"
   ]
  },
  {
   "cell_type": "code",
   "execution_count": null,
   "metadata": {},
   "outputs": [],
   "source": []
  },
  {
   "cell_type": "code",
   "execution_count": null,
   "metadata": {},
   "outputs": [],
   "source": []
  },
  {
   "cell_type": "code",
   "execution_count": null,
   "metadata": {},
   "outputs": [],
   "source": []
  }
 ],
 "metadata": {
  "kernelspec": {
   "display_name": "Python 3",
   "language": "python",
   "name": "python3"
  },
  "language_info": {
   "codemirror_mode": {
    "name": "ipython",
    "version": 3
   },
   "file_extension": ".py",
   "mimetype": "text/x-python",
   "name": "python",
   "nbconvert_exporter": "python",
   "pygments_lexer": "ipython3",
   "version": "3.7.6"
  }
 },
 "nbformat": 4,
 "nbformat_minor": 4
}
