{
 "cells": [
  {
   "cell_type": "code",
   "execution_count": 1,
   "metadata": {},
   "outputs": [],
   "source": [
    "# Librerías usadas:\n",
    "import pandas as pd\n",
    "import numpy as np\n",
    "import os\n",
    "from datetime import datetime"
   ]
  },
  {
   "cell_type": "code",
   "execution_count": 2,
   "metadata": {},
   "outputs": [],
   "source": [
    "# Levanto los rangos consumo:\n",
    "dfrc = pd.read_csv('./Rango_cons.csv', encoding = 'latin1',  decimal=',')"
   ]
  },
  {
   "cell_type": "code",
   "execution_count": 3,
   "metadata": {},
   "outputs": [
    {
     "name": "stdout",
     "output_type": "stream",
     "text": [
      "Inicio del proceso: 12:31:34\n",
      "Se cargó el archivo:  20.1 Stock 202010.xlsx a las: 12:34:22\n",
      "Se cargó el archivo:  20.1 Stock 202011.xlsx a las: 12:37:48\n",
      "Se cargó el archivo:  20.1 Stock 202012.xlsx a las: 12:40:42\n",
      "Se cargó el archivo:  20.1 Stock 202101.xlsx a las: 12:43:33\n",
      "Se cargó el archivo:  20.1 Stock 202102.xlsx a las: 12:46:24\n",
      "Se cargó el archivo:  20.1 Stock 202103.xlsx a las: 12:49:17\n",
      "Se cargó el archivo:  20.1 Stock 202104.xlsx a las: 12:52:16\n",
      "Se cargó el archivo:  20.1 Stock 202105.xlsx a las: 12:55:16\n",
      "Se cargó el archivo:  20.1 Stock 202106.xlsx a las: 12:58:21\n",
      "Se cargó el archivo:  20.1 Stock 202107.xlsx a las: 13:01:40\n",
      "Se cargó el archivo:  20.1 Stock 202108.xlsx a las: 13:05:00\n",
      "Se cargó el archivo:  20.1 Stock 202109.xlsx a las: 13:08:24\n",
      "Fin de la carga de archivos\n"
     ]
    }
   ],
   "source": [
    "# Levanto el stock existente en una carpeta:\n",
    "\n",
    "ruta = './Stock_SanCor/'\n",
    "contenido = os.listdir(ruta)\n",
    "\n",
    "print(\"Inicio del proceso: \" + datetime.now().strftime('%H:%M:%S'))\n",
    "\n",
    "# Dataframe con el stock:\n",
    "dfs = pd.DataFrame()\n",
    "\n",
    "archivos = []\n",
    "for fichero in contenido:\n",
    "    if os.path.isfile(os.path.join(ruta, fichero)) and fichero.endswith('.xlsx'):\n",
    "        df_temp = pd.read_excel(ruta+fichero)\n",
    "        dfs = pd.concat([dfs, df_temp], axis=0)\n",
    "        print(\"Se cargó el archivo: \", fichero, \"a las: \" + datetime.now().strftime('%H:%M:%S'))\n",
    "\n",
    "df_temp = []\n",
    "print(\"Fin de la carga de archivos\")"
   ]
  },
  {
   "cell_type": "code",
   "execution_count": 4,
   "metadata": {},
   "outputs": [],
   "source": [
    "# Cambiar nombre a las columnas\n",
    "dfs.rename( columns = {    'Periodo ID': 'Periodo',\n",
    "                           'Persona ID': 'Persona',\n",
    "                           'Persona Fecha Nacimiento': 'Fecha_nac',\n",
    "                           'Discapacitado ID': 'Discapacidad',\n",
    "                           'Marca Persona con Diabetes DESC': 'Diabetes',\n",
    "                           'Marca Persona con Hepatitis DESC': 'Hepatitis',\n",
    "                           'Marca Persona con PMI DESC': 'PMI',\n",
    "                           'Marca Persona con Tratamiento Cronico DESC': 'Cronico',\n",
    "                           'Marca Persona con Tratamiento Oncológico DESC':  'Oncologico',\n",
    "                           'Sexo ID': 'Sexo',\n",
    "                           'Plan Sin Segmento ID': 'Plan',\n",
    "                           'Posicion Asociado DESC': 'Posicion Asociado',\n",
    "                           'Zona de Promocion DESC': 'Zona de Promocion',\n",
    "                           'Segmento Agrupado DESC': 'Segmento',\n",
    "                           'Plan Agrupado Sin Segmento DESC': 'Plan Agrupado',\n",
    "                           'Stock Asociados Salud': 'Stock',\n",
    "                           'Edad Periodo ID': 'Edad',\n",
    "                           'ACE Stock Asociados Salud': 'ACE',\n",
    "                           'Consumos Costo con Subsidios SSS': 'Consumo3',\n",
    "                           'Recaudacion Costo con Otros Subsidios': 'Recaudacion3'                      \n",
    "                           }, inplace=True)"
   ]
  },
  {
   "cell_type": "code",
   "execution_count": 5,
   "metadata": {},
   "outputs": [
    {
     "data": {
      "text/plain": [
       "Index(['Persona', 'Stock', 'Consumo3', 'GC', 'Cons_mensualizado',\n",
       "       'Rango_Cons'],\n",
       "      dtype='object')"
      ]
     },
     "execution_count": 5,
     "metadata": {},
     "output_type": "execute_result"
    }
   ],
   "source": [
    "dfrc.columns"
   ]
  },
  {
   "cell_type": "code",
   "execution_count": 6,
   "metadata": {},
   "outputs": [
    {
     "data": {
      "text/plain": [
       "array(['Alto', 'Medio', 'Muy Alto', 'Bajo', 'Muy Bajo'], dtype=object)"
      ]
     },
     "execution_count": 6,
     "metadata": {},
     "output_type": "execute_result"
    }
   ],
   "source": [
    "# Pensar la decisión a tomar con \"sin valor\"\n",
    "dfrc.Rango_Cons.unique()"
   ]
  },
  {
   "cell_type": "code",
   "execution_count": 7,
   "metadata": {},
   "outputs": [],
   "source": [
    "# Pegamos a dfs el rango de consumo de los encontrados:\n",
    "dfs = pd.merge(left = dfs, right = dfrc[['Persona', 'GC', 'Rango_Cons']], left_on='Persona', right_on='Persona', how = \"left\")"
   ]
  },
  {
   "cell_type": "code",
   "execution_count": 8,
   "metadata": {},
   "outputs": [],
   "source": [
    "# Existen casos con nan a reemplazar (decisión leo)\n",
    "# Al ser personas encontradas en el stock y no encontradas en el consumo ponemos: No GC y Rango Cons == Muy Bajo\n",
    "values = {\"GC\": \"NO GC\", \"Rango_Cons\": \"Muy Bajo\"}\n",
    "dfs = dfs.fillna(value=values)"
   ]
  },
  {
   "cell_type": "code",
   "execution_count": 9,
   "metadata": {},
   "outputs": [],
   "source": [
    "# Realizamos las transformaciones:\n",
    "\n",
    "# Reemplazar GC = S por 1 y N por 0\n",
    "dfs['GC'] = dfs['GC'].replace(['NO GC', 'GC'], [0, 1])\n",
    "\n",
    "\n",
    "# Definiciones:\n",
    "# Proporción mínima de meses con diagnóstico para ser considerado con algún diagnóstico:\n",
    "prop_limite = 0.4\n",
    "# Se puede agregar los campos considerados como diag..\n",
    "\n",
    "# Reemplazo valores de filas con replace:\n",
    "dfs['Diabetes'] = dfs['Diabetes'].replace(['No Diabético', 'Diabético'], [0, 1])\n",
    "dfs['Hepatitis'] = dfs['Hepatitis'].replace(['Sin Hepatitis', 'Con Hepatitis'], [0, 1])\n",
    "dfs['PMI'] = dfs['PMI'].replace(['NO', 'SI'], [0, 1])\n",
    "dfs['Cronico'] = dfs['Cronico'].replace(['NO', 'SI'], [0, 1])\n",
    "dfs['Oncologico'] = dfs['Oncologico'].replace(['Sin Marca', 'Paciente Oncológico'], [0, 1])\n",
    "dfs['GC'] = dfs['GC'].replace(['NO GC', 'GC'], [0, 1])\n",
    "dfs['Discapacidad'] = dfs['Discapacidad'].replace(['N', 'S'], [0, 1])\n",
    "\n",
    "# Creo una columna de resultado que marque 1 si se tiene cualquier diagnostico\n",
    "# Se tendría que mejorar para generalizar:\n",
    "suma = (dfs['Diabetes'] + dfs['Hepatitis'] + dfs['PMI'] + \n",
    "        dfs['Cronico'] + dfs['Oncologico'] + dfs['GC'] + dfs['Discapacidad'])\n",
    "dfs['algun_diag'] = np.where( suma > 0, 1, 0)\n",
    "\n",
    "# Creo una auxiliar que resuma por persona el stock y cantidad de veces con diag.\n",
    "# Agrupo por persona las diferentes métricas en otro df para luego cruzar con la base original\n",
    "filas = ['Persona','Rango_Cons']\n",
    "columnas = ['Stock','Diabetes', 'Hepatitis', 'PMI','Cronico', 'Oncologico', 'GC', 'Discapacidad', 'algun_diag']\n",
    "aux_diag = pd.DataFrame(dfs.pivot_table(columnas , filas, aggfunc = np.sum))\n",
    "\n",
    "\n",
    "# Genero una columna que calcule el % de veces que se tuvo algún diagnóstico:\n",
    "aux_diag['prop_diag'] = aux_diag['algun_diag'] / aux_diag['Stock']\n",
    "aux_diag.tail()\n",
    "\n",
    "# Creamos la marca a cada persona\n",
    "# Analizando las diferentes posibilidades llegué a la conclusión que si la proporción es mayor a 40% se debe poner \"Con Diagnóstico\"\n",
    "aux_diag['Marca_Diagnostico'] = np.where(aux_diag['prop_diag'] > prop_limite, 'Con Diagnostico','Sin Diagnostico')\n",
    "\n",
    "# Reseteo los multi index:\n",
    "aux_diag = aux_diag.reset_index()"
   ]
  },
  {
   "cell_type": "code",
   "execution_count": 10,
   "metadata": {},
   "outputs": [
    {
     "data": {
      "text/html": [
       "<div>\n",
       "<style scoped>\n",
       "    .dataframe tbody tr th:only-of-type {\n",
       "        vertical-align: middle;\n",
       "    }\n",
       "\n",
       "    .dataframe tbody tr th {\n",
       "        vertical-align: top;\n",
       "    }\n",
       "\n",
       "    .dataframe thead th {\n",
       "        text-align: right;\n",
       "    }\n",
       "</style>\n",
       "<table border=\"1\" class=\"dataframe\">\n",
       "  <thead>\n",
       "    <tr style=\"text-align: right;\">\n",
       "      <th></th>\n",
       "      <th>Persona</th>\n",
       "      <th>Rango_Cons</th>\n",
       "      <th>Cronico</th>\n",
       "      <th>Diabetes</th>\n",
       "      <th>Discapacidad</th>\n",
       "      <th>GC</th>\n",
       "      <th>Hepatitis</th>\n",
       "      <th>Oncologico</th>\n",
       "      <th>PMI</th>\n",
       "      <th>Stock</th>\n",
       "      <th>algun_diag</th>\n",
       "      <th>prop_diag</th>\n",
       "      <th>Marca_Diagnostico</th>\n",
       "    </tr>\n",
       "  </thead>\n",
       "  <tbody>\n",
       "    <tr>\n",
       "      <th>0</th>\n",
       "      <td>215</td>\n",
       "      <td>Alto</td>\n",
       "      <td>0</td>\n",
       "      <td>0</td>\n",
       "      <td>0</td>\n",
       "      <td>0</td>\n",
       "      <td>0</td>\n",
       "      <td>0</td>\n",
       "      <td>0</td>\n",
       "      <td>9</td>\n",
       "      <td>0</td>\n",
       "      <td>0.0</td>\n",
       "      <td>Sin Diagnostico</td>\n",
       "    </tr>\n",
       "    <tr>\n",
       "      <th>1</th>\n",
       "      <td>218</td>\n",
       "      <td>Medio</td>\n",
       "      <td>0</td>\n",
       "      <td>0</td>\n",
       "      <td>0</td>\n",
       "      <td>0</td>\n",
       "      <td>0</td>\n",
       "      <td>0</td>\n",
       "      <td>0</td>\n",
       "      <td>12</td>\n",
       "      <td>0</td>\n",
       "      <td>0.0</td>\n",
       "      <td>Sin Diagnostico</td>\n",
       "    </tr>\n",
       "    <tr>\n",
       "      <th>2</th>\n",
       "      <td>225</td>\n",
       "      <td>Muy Alto</td>\n",
       "      <td>0</td>\n",
       "      <td>3</td>\n",
       "      <td>0</td>\n",
       "      <td>0</td>\n",
       "      <td>0</td>\n",
       "      <td>0</td>\n",
       "      <td>0</td>\n",
       "      <td>3</td>\n",
       "      <td>3</td>\n",
       "      <td>1.0</td>\n",
       "      <td>Con Diagnostico</td>\n",
       "    </tr>\n",
       "    <tr>\n",
       "      <th>3</th>\n",
       "      <td>246</td>\n",
       "      <td>Medio</td>\n",
       "      <td>0</td>\n",
       "      <td>0</td>\n",
       "      <td>0</td>\n",
       "      <td>0</td>\n",
       "      <td>0</td>\n",
       "      <td>0</td>\n",
       "      <td>0</td>\n",
       "      <td>12</td>\n",
       "      <td>0</td>\n",
       "      <td>0.0</td>\n",
       "      <td>Sin Diagnostico</td>\n",
       "    </tr>\n",
       "    <tr>\n",
       "      <th>4</th>\n",
       "      <td>248</td>\n",
       "      <td>Medio</td>\n",
       "      <td>0</td>\n",
       "      <td>0</td>\n",
       "      <td>0</td>\n",
       "      <td>0</td>\n",
       "      <td>0</td>\n",
       "      <td>0</td>\n",
       "      <td>0</td>\n",
       "      <td>12</td>\n",
       "      <td>0</td>\n",
       "      <td>0.0</td>\n",
       "      <td>Sin Diagnostico</td>\n",
       "    </tr>\n",
       "  </tbody>\n",
       "</table>\n",
       "</div>"
      ],
      "text/plain": [
       "   Persona Rango_Cons  Cronico  Diabetes  Discapacidad  GC  Hepatitis  \\\n",
       "0      215       Alto        0         0             0   0          0   \n",
       "1      218      Medio        0         0             0   0          0   \n",
       "2      225   Muy Alto        0         3             0   0          0   \n",
       "3      246      Medio        0         0             0   0          0   \n",
       "4      248      Medio        0         0             0   0          0   \n",
       "\n",
       "   Oncologico  PMI  Stock  algun_diag  prop_diag Marca_Diagnostico  \n",
       "0           0    0      9           0        0.0   Sin Diagnostico  \n",
       "1           0    0     12           0        0.0   Sin Diagnostico  \n",
       "2           0    0      3           3        1.0   Con Diagnostico  \n",
       "3           0    0     12           0        0.0   Sin Diagnostico  \n",
       "4           0    0     12           0        0.0   Sin Diagnostico  "
      ]
     },
     "execution_count": 10,
     "metadata": {},
     "output_type": "execute_result"
    }
   ],
   "source": [
    "aux_diag.head()"
   ]
  },
  {
   "cell_type": "code",
   "execution_count": 11,
   "metadata": {},
   "outputs": [],
   "source": [
    "aux_diag.to_csv(\"Diagnosticos.csv\", encoding = 'latin1',  decimal=',')"
   ]
  },
  {
   "cell_type": "code",
   "execution_count": null,
   "metadata": {},
   "outputs": [],
   "source": []
  },
  {
   "cell_type": "code",
   "execution_count": null,
   "metadata": {},
   "outputs": [],
   "source": []
  },
  {
   "cell_type": "code",
   "execution_count": null,
   "metadata": {},
   "outputs": [],
   "source": []
  },
  {
   "cell_type": "code",
   "execution_count": null,
   "metadata": {},
   "outputs": [],
   "source": []
  },
  {
   "cell_type": "code",
   "execution_count": null,
   "metadata": {},
   "outputs": [],
   "source": []
  },
  {
   "cell_type": "code",
   "execution_count": null,
   "metadata": {},
   "outputs": [],
   "source": []
  },
  {
   "cell_type": "code",
   "execution_count": null,
   "metadata": {},
   "outputs": [],
   "source": []
  },
  {
   "cell_type": "code",
   "execution_count": null,
   "metadata": {},
   "outputs": [],
   "source": []
  },
  {
   "cell_type": "code",
   "execution_count": null,
   "metadata": {},
   "outputs": [],
   "source": []
  },
  {
   "cell_type": "code",
   "execution_count": null,
   "metadata": {},
   "outputs": [],
   "source": []
  },
  {
   "cell_type": "code",
   "execution_count": null,
   "metadata": {},
   "outputs": [],
   "source": []
  },
  {
   "cell_type": "code",
   "execution_count": null,
   "metadata": {},
   "outputs": [],
   "source": []
  },
  {
   "cell_type": "code",
   "execution_count": null,
   "metadata": {},
   "outputs": [],
   "source": []
  },
  {
   "cell_type": "code",
   "execution_count": null,
   "metadata": {},
   "outputs": [],
   "source": []
  },
  {
   "cell_type": "code",
   "execution_count": null,
   "metadata": {},
   "outputs": [],
   "source": []
  },
  {
   "cell_type": "code",
   "execution_count": null,
   "metadata": {},
   "outputs": [],
   "source": []
  },
  {
   "cell_type": "code",
   "execution_count": null,
   "metadata": {},
   "outputs": [],
   "source": []
  },
  {
   "cell_type": "code",
   "execution_count": null,
   "metadata": {},
   "outputs": [],
   "source": []
  }
 ],
 "metadata": {
  "kernelspec": {
   "display_name": "Python 3",
   "language": "python",
   "name": "python3"
  },
  "language_info": {
   "codemirror_mode": {
    "name": "ipython",
    "version": 3
   },
   "file_extension": ".py",
   "mimetype": "text/x-python",
   "name": "python",
   "nbconvert_exporter": "python",
   "pygments_lexer": "ipython3",
   "version": "3.7.6"
  }
 },
 "nbformat": 4,
 "nbformat_minor": 4
}
