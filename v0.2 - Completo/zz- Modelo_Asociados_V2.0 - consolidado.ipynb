{
 "cells": [
  {
   "cell_type": "markdown",
   "metadata": {},
   "source": [
    "# En el presente script se genera el reporte de asociados para ser cruzado con el de consumos."
   ]
  },
  {
   "cell_type": "code",
   "execution_count": 1,
   "metadata": {},
   "outputs": [],
   "source": [
    "# Librerías usadas:\n",
    "import pandas as pd\n",
    "import numpy as np\n",
    "import os\n",
    "from datetime import datetime"
   ]
  },
  {
   "cell_type": "code",
   "execution_count": 2,
   "metadata": {},
   "outputs": [
    {
     "data": {
      "text/plain": [
       "datetime.datetime(2022, 5, 2, 10, 35, 28, 202360)"
      ]
     },
     "execution_count": 2,
     "metadata": {},
     "output_type": "execute_result"
    }
   ],
   "source": [
    "inicio = datetime.now()\n",
    "inicio"
   ]
  },
  {
   "cell_type": "code",
   "execution_count": 3,
   "metadata": {},
   "outputs": [],
   "source": [
    "# Parámetros de seteo.\n",
    "\n",
    "# Ruta a la que tiene que salir la información\n",
    "ruta_base = 'C:\\\\Users\\\\lsaucedo\\\\Desktop\\\\Brinkmann v2\\\\'\n",
    "\n",
    "# Archivo de salida\n",
    "archivo_salida = ruta_base + \"Stock_Brinkmann\" + \".csv\"\n",
    "\n",
    "# Ruta en que se encuentran los archivos:\n",
    "ruta = ruta_base + 'Stock_Brinkmann\\\\'\n",
    "\n",
    "# Carpeta en que se encuentran las auxiliares:\n",
    "ruta_aux = 'C:\\\\modelos\\\\Auxiliares\\\\'\n",
    "\n",
    "# Diagnosticos:\n",
    "ruta_diag =  ruta_base + \"./\" + \"Rango_cons.csv\"\n",
    "\n",
    "# Aquí debería cargar las diferentes rutas y filtros de archivos."
   ]
  },
  {
   "cell_type": "code",
   "execution_count": null,
   "metadata": {},
   "outputs": [],
   "source": []
  },
  {
   "cell_type": "markdown",
   "metadata": {},
   "source": [
    "# 1- Levantar el excel de stock."
   ]
  },
  {
   "cell_type": "code",
   "execution_count": null,
   "metadata": {},
   "outputs": [
    {
     "name": "stdout",
     "output_type": "stream",
     "text": [
      "Inicio del proceso: 20:44:21\n"
     ]
    }
   ],
   "source": [
    "# Levanto el stock existente en una carpeta:\n",
    "\n",
    "contenido = os.listdir(ruta)\n",
    "\n",
    "print(\"Inicio del proceso: \" + datetime.now().strftime('%H:%M:%S'))\n",
    "\n",
    "# Dataframe con el stock:\n",
    "dfs = pd.DataFrame()\n",
    "\n",
    "archivos = []\n",
    "for fichero in contenido:\n",
    "    if os.path.isfile(os.path.join(ruta, fichero)) and fichero.endswith('.xlsx'):\n",
    "        df_temp = pd.read_excel(ruta+fichero)\n",
    "        dfs = pd.concat([dfs, df_temp], axis=0)\n",
    "        print(\"Se cargó el archivo: \", fichero, \"a las: \" + datetime.now().strftime('%H:%M:%S'))\n",
    "\n",
    "df_temp = []\n",
    "print(\"Fin de la carga de archivos\")        \n"
   ]
  },
  {
   "cell_type": "markdown",
   "metadata": {},
   "source": [
    "## 1.2 Renombrar las columnas"
   ]
  },
  {
   "cell_type": "code",
   "execution_count": 80,
   "metadata": {},
   "outputs": [],
   "source": [
    "# Se pueden renombrar incluso columnas que no existen (mejorar la eficiencia en función del warning)\n",
    "dfs.rename( columns = {    'Periodo ID': 'Periodo',\n",
    "                           'Persona ID': 'Persona',\n",
    "                           'Persona Fecha Nacimiento': 'Fecha_nac',\n",
    "                           'Discapacitado ID': 'Discapacidad',\n",
    "                           'Marca Persona con Diabetes DESC': 'Diabetes',\n",
    "                           'Marca Persona con Hepatitis DESC': 'Hepatitis',\n",
    "                           'Marca Persona con PMI DESC': 'PMI',\n",
    "                           'Marca Persona con Tratamiento Cronico DESC': 'Cronico',\n",
    "                           'Marca Persona con Tratamiento Oncológico DESC':  'Oncologico',\n",
    "                           'Sexo ID': 'Sexo',\n",
    "                           'Plan Sin Segmento ID': 'Plan',\n",
    "                           'Posicion Asociado DESC': 'Posicion Asociado',\n",
    "                           'Zona de Promocion DESC': 'Zona de Promocion',\n",
    "                           'Segmento Agrupado DESC': 'Segmento',\n",
    "                           'Plan Agrupado Sin Segmento DESC': 'Plan Agrupado',\n",
    "                           'Stock Asociados Salud': 'Stock',\n",
    "                           'Edad Periodo ID': 'Edad',\n",
    "                           'ACE Stock Asociados Salud': 'ACE',\n",
    "                           'Consumos Costo con Subsidios SSS': 'Consumo3',\n",
    "                           'Recaudacion Costo con Otros Subsidios': 'Recaudacion3'\n",
    "                           }, inplace=True)"
   ]
  },
  {
   "cell_type": "code",
   "execution_count": 81,
   "metadata": {},
   "outputs": [
    {
     "data": {
      "text/plain": [
       "array([202009, 202010, 202011, 202012, 202101, 202102, 202103, 202104,\n",
       "       202105, 202106, 202107, 202108, 202109], dtype=int64)"
      ]
     },
     "execution_count": 81,
     "metadata": {},
     "output_type": "execute_result"
    }
   ],
   "source": [
    "dfs.Periodo.unique()"
   ]
  },
  {
   "cell_type": "code",
   "execution_count": 82,
   "metadata": {},
   "outputs": [
    {
     "data": {
      "text/plain": [
       "28907"
      ]
     },
     "execution_count": 82,
     "metadata": {},
     "output_type": "execute_result"
    }
   ],
   "source": [
    "len(dfs)"
   ]
  },
  {
   "cell_type": "code",
   "execution_count": 83,
   "metadata": {},
   "outputs": [
    {
     "data": {
      "text/plain": [
       "28909"
      ]
     },
     "execution_count": 83,
     "metadata": {},
     "output_type": "execute_result"
    }
   ],
   "source": [
    "dfs.Stock.sum()"
   ]
  },
  {
   "cell_type": "markdown",
   "metadata": {},
   "source": [
    "# 2- Agrego archivos auxiliares"
   ]
  },
  {
   "cell_type": "code",
   "execution_count": 84,
   "metadata": {},
   "outputs": [],
   "source": [
    "# Guardo cantidad de registros iniciales para comparar al final:\n",
    "len_dfs = len(dfs)"
   ]
  },
  {
   "cell_type": "code",
   "execution_count": 85,
   "metadata": {},
   "outputs": [],
   "source": [
    "# Agrego la info al df de stock: RANGO EDAD\n",
    "\n",
    "# Levanto la auxiliar:\n",
    "Aux_RangoEdad = pd.read_excel(ruta_aux + \"Aux_RangoEdad.xlsx\")\n",
    "# Pego la informacion al df stock:\n",
    "dfs = pd.merge(left = dfs, right = Aux_RangoEdad[[\"Edad\",\"Rango_Edad\"]], left_on='Edad', right_on='Edad', how = \"left\")\n",
    "# Elimino la columna adicional -- no hay\n",
    "# Calculo la diferencia de registros:\n",
    "len_dfs_edad = len(dfs)\n",
    "len_dfs_edad - len_dfs\n",
    "# Elimino Aux_RangoEdad de memoria\n",
    "Aux_RangoEdad = []"
   ]
  },
  {
   "cell_type": "code",
   "execution_count": 86,
   "metadata": {},
   "outputs": [
    {
     "data": {
      "text/plain": [
       "array(['Más de 70', 'Entre 65 y 70', 'Entre 41 y 50', 'Entre 30 y 40',\n",
       "       'Entre 26 y 30', 'Entre 61 y 65', 'Entre 51 y 60', 'Entre 21 y 25',\n",
       "       'Entre 16 y 20', 'Entre 11 y 15', 'Entre 6 y 10', 'Entre 2 y 5',\n",
       "       'Entre 0 y 1'], dtype=object)"
      ]
     },
     "execution_count": 86,
     "metadata": {},
     "output_type": "execute_result"
    }
   ],
   "source": [
    "# No debería haber nan\n",
    "dfs[\"Rango_Edad\"].unique()"
   ]
  },
  {
   "cell_type": "code",
   "execution_count": 87,
   "metadata": {},
   "outputs": [],
   "source": [
    "# Agrego la info al df de stock: CARTILLA BASE\n",
    "\n",
    "# Levanto la auxiliar:\n",
    "Aux_CartillaBase = pd.read_excel(ruta_aux+\"Aux_CartillaBase.xlsx\")\n",
    "# Pego la informacion al df stock:\n",
    "dfs = pd.merge(left = dfs, right = Aux_CartillaBase[[\"Plan\",\"Modelo_Cartilla\"]], left_on='Plan', right_on='Plan', how = \"left\")\n",
    "# Elimino la columna adicional -- no hay\n",
    "# Calculo la diferencia de registros:\n",
    "len_dfs_cartilla = len(dfs)\n",
    "len_dfs_cartilla - len_dfs\n",
    "# Elimino Aux_CartillaBase de memoria\n",
    "Aux_CartillaBase = []"
   ]
  },
  {
   "cell_type": "code",
   "execution_count": 88,
   "metadata": {},
   "outputs": [
    {
     "data": {
      "text/plain": [
       "array(['2000', '3000', '1000', '500', '4000', '1500', '2000E', 'C',\n",
       "       'AMPS2', 'AMPS7', 'AMPS3', 'AMPS5', '5000', '4500'], dtype=object)"
      ]
     },
     "execution_count": 88,
     "metadata": {},
     "output_type": "execute_result"
    }
   ],
   "source": [
    "# No debería haber nan\n",
    "dfs[\"Modelo_Cartilla\"].unique()"
   ]
  },
  {
   "cell_type": "code",
   "execution_count": 89,
   "metadata": {},
   "outputs": [],
   "source": [
    "# Agrego la info al df de stock: COBERTURA MED\n",
    "\n",
    "# Levanto la auxiliar:\n",
    "Aux_CobertMedicamentosPlan = pd.read_excel(ruta_aux+\"Aux_CobertMedicamentosPlan.xlsx\")\n",
    "# Pego la informacion al df stock:\n",
    "dfs = pd.merge(left = dfs, right = Aux_CobertMedicamentosPlan[[\"Plan\",\"Cobertura_med_id\"]], left_on='Plan', right_on='Plan', how = \"left\")\n",
    "# Elimino la columna adicional -- no hay\n",
    "# Calculo la diferencia de registros:\n",
    "len_dfs_medicam = len(dfs)\n",
    "len_dfs_medicam - len_dfs\n",
    "# Elimino Aux_CartillaBase de memoria\n",
    "Aux_CobertMedicamentosPlan = []"
   ]
  },
  {
   "cell_type": "code",
   "execution_count": 90,
   "metadata": {},
   "outputs": [
    {
     "data": {
      "text/plain": [
       "array([302, 315, 306, 304, 303, 301, 310, 319, 308], dtype=int64)"
      ]
     },
     "execution_count": 90,
     "metadata": {},
     "output_type": "execute_result"
    }
   ],
   "source": [
    "# No debería haber nan\n",
    "dfs[\"Cobertura_med_id\"].unique()"
   ]
  },
  {
   "cell_type": "code",
   "execution_count": 91,
   "metadata": {},
   "outputs": [],
   "source": [
    "# Agrego la info al df de stock: LISTA COPAGOS\n",
    "\n",
    "# Levanto la auxiliar:\n",
    "Aux_ListaCopagos = pd.read_excel(ruta_aux+\"Aux_ListaCopagos.xlsx\")\n",
    "# Pego la informacion al df stock:\n",
    "dfs = pd.merge(left = dfs, right = Aux_ListaCopagos[[\"Plan\",\"Lista_PrecioDesc\"]], left_on='Plan', right_on='Plan', how = \"left\")\n",
    "# Elimino la columna adicional -- no hay\n",
    "# Calculo la diferencia de registros:\n",
    "len_dfs_copagos = len(dfs)\n",
    "len_dfs_copagos - len_dfs\n",
    "# Elimino Aux_CartillaBase de memoria\n",
    "Aux_ListaCopagos = []"
   ]
  },
  {
   "cell_type": "code",
   "execution_count": 92,
   "metadata": {},
   "outputs": [
    {
     "data": {
      "text/plain": [
       "array(['SANCOR SALUD CON COPAGO       ', 'SIN COPAGOS (SANCOR Y STAFF)  ',\n",
       "       'F/D'], dtype=object)"
      ]
     },
     "execution_count": 92,
     "metadata": {},
     "output_type": "execute_result"
    }
   ],
   "source": [
    "# No debería haber nan\n",
    "dfs[\"Lista_PrecioDesc\"].unique()"
   ]
  },
  {
   "cell_type": "markdown",
   "metadata": {},
   "source": [
    "# 3- Agregar Diagnósticos\n",
    "\n",
    "Existe un script que realiza el cálculo de patologías y GC. Aquí solamente lo cargamos y cruzamos."
   ]
  },
  {
   "cell_type": "code",
   "execution_count": 93,
   "metadata": {},
   "outputs": [
    {
     "data": {
      "text/plain": [
       "'C:\\\\Users\\\\lsaucedo\\\\Desktop\\\\Brinkmann V1\\\\Diagnostico\\\\Diagnosticos.csv'"
      ]
     },
     "execution_count": 93,
     "metadata": {},
     "output_type": "execute_result"
    }
   ],
   "source": [
    "ruta_diag"
   ]
  },
  {
   "cell_type": "code",
   "execution_count": 94,
   "metadata": {},
   "outputs": [
    {
     "data": {
      "text/plain": [
       "0"
      ]
     },
     "execution_count": 94,
     "metadata": {},
     "output_type": "execute_result"
    }
   ],
   "source": [
    "# Levanto la auxiliar:\n",
    "dfdiag = pd.read_csv(ruta_diag)\n",
    "\n",
    "# Pego la informacion al df stock:\n",
    "dfs = pd.merge(left = dfs, right = dfdiag[[\"Persona\",'GC', 'Cons_anualizado', 'Rango_Cons', \n",
    "              'algun_diag', 'prop_diag', 'Marca_Diagnostico']], left_on='Persona', right_on='Persona', how = \"left\")\n",
    "# Elimino la columna adicional -- no hay\n",
    "# Calculo la diferencia de registros:\n",
    "len_dfs_diag = len(dfs)\n",
    "len_dfs_diag - len_dfs\n",
    "# Elimino Aux_CartillaBase de memoria\n",
    "dfdiag = []\n",
    "len_dfs_diag - len_dfs"
   ]
  },
  {
   "cell_type": "code",
   "execution_count": 95,
   "metadata": {},
   "outputs": [
    {
     "data": {
      "text/html": [
       "<div>\n",
       "<style scoped>\n",
       "    .dataframe tbody tr th:only-of-type {\n",
       "        vertical-align: middle;\n",
       "    }\n",
       "\n",
       "    .dataframe tbody tr th {\n",
       "        vertical-align: top;\n",
       "    }\n",
       "\n",
       "    .dataframe thead th {\n",
       "        text-align: right;\n",
       "    }\n",
       "</style>\n",
       "<table border=\"1\" class=\"dataframe\">\n",
       "  <thead>\n",
       "    <tr style=\"text-align: right;\">\n",
       "      <th></th>\n",
       "      <th>Periodo</th>\n",
       "      <th>Persona</th>\n",
       "      <th>Fecha_nac</th>\n",
       "      <th>Edad</th>\n",
       "      <th>Sexo</th>\n",
       "      <th>Discapacidad</th>\n",
       "      <th>Posicion Asociado ID</th>\n",
       "      <th>Zona de Promocion ID</th>\n",
       "      <th>Segmento Agrupado ID</th>\n",
       "      <th>Segmento</th>\n",
       "      <th>...</th>\n",
       "      <th>Rango_Edad</th>\n",
       "      <th>Modelo_Cartilla</th>\n",
       "      <th>Cobertura_med_id</th>\n",
       "      <th>Lista_PrecioDesc</th>\n",
       "      <th>GC</th>\n",
       "      <th>Cons_anualizado</th>\n",
       "      <th>Rango_Cons</th>\n",
       "      <th>algun_diag</th>\n",
       "      <th>prop_diag</th>\n",
       "      <th>Marca_Diagnostico</th>\n",
       "    </tr>\n",
       "  </thead>\n",
       "  <tbody>\n",
       "    <tr>\n",
       "      <th>0</th>\n",
       "      <td>202009</td>\n",
       "      <td>266</td>\n",
       "      <td>19360501</td>\n",
       "      <td>84</td>\n",
       "      <td>F</td>\n",
       "      <td>N</td>\n",
       "      <td>75</td>\n",
       "      <td>10</td>\n",
       "      <td>1</td>\n",
       "      <td>AMS GRAVADO</td>\n",
       "      <td>...</td>\n",
       "      <td>Más de 70</td>\n",
       "      <td>2000</td>\n",
       "      <td>302</td>\n",
       "      <td>SANCOR SALUD CON COPAGO</td>\n",
       "      <td>0</td>\n",
       "      <td>23294.981538</td>\n",
       "      <td>Medio</td>\n",
       "      <td>0.0</td>\n",
       "      <td>0.0</td>\n",
       "      <td>Sin Diagnostico</td>\n",
       "    </tr>\n",
       "    <tr>\n",
       "      <th>1</th>\n",
       "      <td>202009</td>\n",
       "      <td>452</td>\n",
       "      <td>19370814</td>\n",
       "      <td>83</td>\n",
       "      <td>F</td>\n",
       "      <td>N</td>\n",
       "      <td>75</td>\n",
       "      <td>10</td>\n",
       "      <td>1</td>\n",
       "      <td>AMS GRAVADO</td>\n",
       "      <td>...</td>\n",
       "      <td>Más de 70</td>\n",
       "      <td>3000</td>\n",
       "      <td>302</td>\n",
       "      <td>SIN COPAGOS (SANCOR Y STAFF)</td>\n",
       "      <td>0</td>\n",
       "      <td>17509.440000</td>\n",
       "      <td>Medio</td>\n",
       "      <td>0.0</td>\n",
       "      <td>0.0</td>\n",
       "      <td>Sin Diagnostico</td>\n",
       "    </tr>\n",
       "  </tbody>\n",
       "</table>\n",
       "<p>2 rows × 33 columns</p>\n",
       "</div>"
      ],
      "text/plain": [
       "   Periodo  Persona  Fecha_nac  Edad Sexo Discapacidad  Posicion Asociado ID  \\\n",
       "0   202009      266   19360501    84    F            N                    75   \n",
       "1   202009      452   19370814    83    F            N                    75   \n",
       "\n",
       "   Zona de Promocion ID  Segmento Agrupado ID     Segmento  ... Rango_Edad  \\\n",
       "0                    10                     1  AMS GRAVADO  ...  Más de 70   \n",
       "1                    10                     1  AMS GRAVADO  ...  Más de 70   \n",
       "\n",
       "  Modelo_Cartilla Cobertura_med_id                Lista_PrecioDesc GC  \\\n",
       "0            2000              302  SANCOR SALUD CON COPAGO         0   \n",
       "1            3000              302  SIN COPAGOS (SANCOR Y STAFF)    0   \n",
       "\n",
       "   Cons_anualizado Rango_Cons algun_diag prop_diag Marca_Diagnostico  \n",
       "0     23294.981538      Medio        0.0       0.0   Sin Diagnostico  \n",
       "1     17509.440000      Medio        0.0       0.0   Sin Diagnostico  \n",
       "\n",
       "[2 rows x 33 columns]"
      ]
     },
     "execution_count": 95,
     "metadata": {},
     "output_type": "execute_result"
    }
   ],
   "source": [
    "dfs.head(2)"
   ]
  },
  {
   "cell_type": "markdown",
   "metadata": {},
   "source": [
    "Transformamos los diag. conocidos:"
   ]
  },
  {
   "cell_type": "code",
   "execution_count": 96,
   "metadata": {},
   "outputs": [],
   "source": [
    "# Reemplazo valores de filas con replace:\n",
    "dfs['Diabetes'] = dfs['Diabetes'].replace(['No Diabético', 'Diabético'], [0, 1])\n",
    "dfs['Hepatitis'] = dfs['Hepatitis'].replace(['Sin Hepatitis', 'Con Hepatitis'], [0, 1])\n",
    "dfs['PMI'] = dfs['PMI'].replace(['NO', 'SI'], [0, 1])\n",
    "dfs['Cronico'] = dfs['Cronico'].replace(['NO', 'SI'], [0, 1])\n",
    "dfs['Oncologico'] = dfs['Oncologico'].replace(['Sin Marca', 'Paciente Oncológico'], [0, 1])\n",
    "dfs['algun_diag'] = dfs['Marca_Diagnostico'].replace(['Sin Diagnostico', 'Con Diagnostico'], [0, 1])\n",
    "\n",
    "# Es un reemplazar que funciona al revez: Reemplaza todos los valores que NO CUMPLEN la condición\n",
    "dfs['GC'] = dfs['GC'].where(dfs['GC'] == 0 , 1)"
   ]
  },
  {
   "cell_type": "code",
   "execution_count": 97,
   "metadata": {},
   "outputs": [
    {
     "data": {
      "text/plain": [
       "Index(['Periodo', 'Persona', 'Fecha_nac', 'Edad', 'Sexo', 'Discapacidad',\n",
       "       'Posicion Asociado ID', 'Zona de Promocion ID', 'Segmento Agrupado ID',\n",
       "       'Segmento', 'Plan', 'Plan Agrupado', 'Tipo de Venta DESC',\n",
       "       'Tipo de Venta ID', 'Subtipo de Venta DESC', 'Subtipo de Venta ID',\n",
       "       'Diabetes', 'Hepatitis', 'PMI', 'Cronico', 'Oncologico', 'Stock', 'ACE',\n",
       "       'Rango_Edad', 'Modelo_Cartilla', 'Cobertura_med_id', 'Lista_PrecioDesc',\n",
       "       'GC', 'Cons_anualizado', 'Rango_Cons', 'algun_diag', 'prop_diag',\n",
       "       'Marca_Diagnostico'],\n",
       "      dtype='object')"
      ]
     },
     "execution_count": 97,
     "metadata": {},
     "output_type": "execute_result"
    }
   ],
   "source": [
    "dfs.columns"
   ]
  },
  {
   "cell_type": "code",
   "execution_count": 98,
   "metadata": {},
   "outputs": [],
   "source": [
    "# en caso que se quiera exportar sin la td previa.\n",
    "# dfs.to_csv(\"Stock_brinkmann.xlsx\", encoding = 'latin1', decimal=',')"
   ]
  },
  {
   "cell_type": "markdown",
   "metadata": {},
   "source": [
    "# 4- Exportar la información en \".csv\""
   ]
  },
  {
   "cell_type": "code",
   "execution_count": 53,
   "metadata": {},
   "outputs": [],
   "source": [
    "# Defino los campos de segmentación:\n",
    "\n",
    "# QUEDA PENDIENTE SEGMENTO EN LA APERTURA\n",
    "segmentacion = (['Periodo', 'Posicion Asociado ID', 'Zona de Promocion ID', 'Plan Agrupado',\n",
    "                'Sexo', 'Rango_Edad', 'Tipo de Venta ID', 'Segmento','Cobertura_med_id', 'Modelo_Cartilla', 'Lista_PrecioDesc',\n",
    "                'Rango_Cons', 'Marca_Diagnostico'])\n",
    "\n",
    "# dejo para probar procesamientos más rápido (debugging)\n",
    "segmentacion2 = ['Periodo', 'Sexo']\n",
    "\n",
    "\n",
    "# Segementación inicial SIN SEGMENTO:\n",
    "segmentacion3 = (['Periodo', 'Posicion Asociado ID', 'Zona de Promocion ID', 'Plan Agrupado',\n",
    "                'Sexo', 'Rango_Edad', 'Tipo de Venta ID','Cobertura_med_id', 'Modelo_Cartilla', 'Lista_PrecioDesc',\n",
    "                'Rango_Cons', 'Marca_Diagnostico'])\n",
    "\n",
    "\n",
    "# Defino las métricas a calcular\n",
    "metricas = ({   'Stock':np.sum,\n",
    "                'Edad':np.sum,\n",
    "                'ACE':np.sum,\n",
    "                'Oncologico':np.sum,\n",
    "                'Cronico':np.sum,\n",
    "                'PMI':np.sum,\n",
    "                'Hepatitis':np.sum,\n",
    "                'Diabetes':np.sum,\n",
    "                'GC':np.sum,\n",
    "                'algun_diag':np.sum,\n",
    "            })\n",
    "\n",
    "\n",
    "metricas2 = ({   'Stock':[np.sum,len],\n",
    "                'Edad':np.sum,\n",
    "                'ACE':np.sum,\n",
    "                          })\n",
    "\n",
    "\n",
    "# Genero la tabla de salida\n",
    "td = pd.pivot_table(dfs, index = segmentacion, \n",
    "               #values = ['Stock Asociados Salud', 'Edad Periodo ID'] , # no es obligatorio\n",
    "               aggfunc = metricas)\n",
    "\n",
    "\n",
    "# Genero un dataframe con la td\n",
    "base_asociados = pd.DataFrame(td)\n",
    "\n",
    "# Exporto la información en csv:\n",
    "base_asociados.to_csv(archivo_salida, encoding = 'latin1', decimal=',')\n",
    "# A modo de ejemplo:\n",
    "#  df.to_csv('./exportaciones/' + supermercado + '-' + str(fecha_exportado) + '.csv', encoding = 'latin1')"
   ]
  },
  {
   "cell_type": "code",
   "execution_count": 99,
   "metadata": {},
   "outputs": [],
   "source": [
    "# Exportación de archivo sin hacer td:\n",
    "dfs.to_csv(archivo_salida, encoding = 'latin1', decimal=',')"
   ]
  },
  {
   "cell_type": "code",
   "execution_count": 100,
   "metadata": {},
   "outputs": [
    {
     "data": {
      "text/plain": [
       "Periodo                  0\n",
       "Persona                  0\n",
       "Fecha_nac                0\n",
       "Edad                     0\n",
       "Sexo                     0\n",
       "Discapacidad             0\n",
       "Posicion Asociado ID     0\n",
       "Zona de Promocion ID     0\n",
       "Segmento Agrupado ID     0\n",
       "Segmento                 0\n",
       "Plan                     0\n",
       "Plan Agrupado            0\n",
       "Tipo de Venta DESC       0\n",
       "Tipo de Venta ID         0\n",
       "Subtipo de Venta DESC    0\n",
       "Subtipo de Venta ID      0\n",
       "Diabetes                 0\n",
       "Hepatitis                0\n",
       "PMI                      0\n",
       "Cronico                  0\n",
       "Oncologico               0\n",
       "Stock                    0\n",
       "ACE                      0\n",
       "Rango_Edad               0\n",
       "Modelo_Cartilla          0\n",
       "Cobertura_med_id         0\n",
       "Lista_PrecioDesc         0\n",
       "GC                       0\n",
       "Cons_anualizado          0\n",
       "Rango_Cons               0\n",
       "algun_diag               0\n",
       "prop_diag                0\n",
       "Marca_Diagnostico        0\n",
       "dtype: int64"
      ]
     },
     "execution_count": 100,
     "metadata": {},
     "output_type": "execute_result"
    }
   ],
   "source": [
    "dfs.isnull().sum()"
   ]
  },
  {
   "cell_type": "code",
   "execution_count": 101,
   "metadata": {},
   "outputs": [
    {
     "data": {
      "text/plain": [
       "28909"
      ]
     },
     "execution_count": 101,
     "metadata": {},
     "output_type": "execute_result"
    }
   ],
   "source": [
    "dfs.Stock.sum()"
   ]
  },
  {
   "cell_type": "code",
   "execution_count": 102,
   "metadata": {},
   "outputs": [
    {
     "data": {
      "text/plain": [
       "28907"
      ]
     },
     "execution_count": 102,
     "metadata": {},
     "output_type": "execute_result"
    }
   ],
   "source": [
    "len(dfs)"
   ]
  },
  {
   "cell_type": "code",
   "execution_count": null,
   "metadata": {},
   "outputs": [],
   "source": []
  },
  {
   "cell_type": "code",
   "execution_count": null,
   "metadata": {},
   "outputs": [],
   "source": []
  },
  {
   "cell_type": "code",
   "execution_count": null,
   "metadata": {},
   "outputs": [],
   "source": []
  },
  {
   "cell_type": "code",
   "execution_count": null,
   "metadata": {},
   "outputs": [],
   "source": []
  },
  {
   "cell_type": "code",
   "execution_count": null,
   "metadata": {},
   "outputs": [],
   "source": []
  },
  {
   "cell_type": "code",
   "execution_count": null,
   "metadata": {},
   "outputs": [],
   "source": []
  },
  {
   "cell_type": "code",
   "execution_count": null,
   "metadata": {},
   "outputs": [],
   "source": []
  },
  {
   "cell_type": "code",
   "execution_count": null,
   "metadata": {},
   "outputs": [],
   "source": []
  },
  {
   "cell_type": "markdown",
   "metadata": {},
   "source": [
    "# 5- Adicional: Levantar el csv descargado"
   ]
  },
  {
   "cell_type": "code",
   "execution_count": 103,
   "metadata": {},
   "outputs": [],
   "source": [
    "# Forma de volver a levantar el csv:\n",
    "df = pd.read_csv(archivo_salida, skiprows=(1,2), encoding = 'latin1', decimal=',')\n",
    "#, nrows = 50)\n",
    "# skiprows=(1,2) -> evito cargar la segunda y tercera línea\n",
    "# dependerá de cómo se guarde la cantidad a \"saltar\"\n",
    "# Leemos las primeras: nrows= 200"
   ]
  },
  {
   "cell_type": "code",
   "execution_count": 104,
   "metadata": {},
   "outputs": [
    {
     "data": {
      "text/html": [
       "<div>\n",
       "<style scoped>\n",
       "    .dataframe tbody tr th:only-of-type {\n",
       "        vertical-align: middle;\n",
       "    }\n",
       "\n",
       "    .dataframe tbody tr th {\n",
       "        vertical-align: top;\n",
       "    }\n",
       "\n",
       "    .dataframe thead th {\n",
       "        text-align: right;\n",
       "    }\n",
       "</style>\n",
       "<table border=\"1\" class=\"dataframe\">\n",
       "  <thead>\n",
       "    <tr style=\"text-align: right;\">\n",
       "      <th></th>\n",
       "      <th>Unnamed: 0</th>\n",
       "      <th>Periodo</th>\n",
       "      <th>Persona</th>\n",
       "      <th>Fecha_nac</th>\n",
       "      <th>Edad</th>\n",
       "      <th>Sexo</th>\n",
       "      <th>Discapacidad</th>\n",
       "      <th>Posicion Asociado ID</th>\n",
       "      <th>Zona de Promocion ID</th>\n",
       "      <th>Segmento Agrupado ID</th>\n",
       "      <th>...</th>\n",
       "      <th>Rango_Edad</th>\n",
       "      <th>Modelo_Cartilla</th>\n",
       "      <th>Cobertura_med_id</th>\n",
       "      <th>Lista_PrecioDesc</th>\n",
       "      <th>GC</th>\n",
       "      <th>Cons_anualizado</th>\n",
       "      <th>Rango_Cons</th>\n",
       "      <th>algun_diag</th>\n",
       "      <th>prop_diag</th>\n",
       "      <th>Marca_Diagnostico</th>\n",
       "    </tr>\n",
       "  </thead>\n",
       "  <tbody>\n",
       "    <tr>\n",
       "      <th>0</th>\n",
       "      <td>2</td>\n",
       "      <td>202009</td>\n",
       "      <td>779</td>\n",
       "      <td>19310102</td>\n",
       "      <td>89</td>\n",
       "      <td>M</td>\n",
       "      <td>N</td>\n",
       "      <td>75</td>\n",
       "      <td>10</td>\n",
       "      <td>1</td>\n",
       "      <td>...</td>\n",
       "      <td>Más de 70</td>\n",
       "      <td>1000</td>\n",
       "      <td>302</td>\n",
       "      <td>SANCOR SALUD CON COPAGO</td>\n",
       "      <td>0</td>\n",
       "      <td>35231.220000</td>\n",
       "      <td>Medio</td>\n",
       "      <td>0</td>\n",
       "      <td>0.0</td>\n",
       "      <td>Sin Diagnostico</td>\n",
       "    </tr>\n",
       "    <tr>\n",
       "      <th>1</th>\n",
       "      <td>3</td>\n",
       "      <td>202009</td>\n",
       "      <td>780</td>\n",
       "      <td>19330515</td>\n",
       "      <td>87</td>\n",
       "      <td>F</td>\n",
       "      <td>N</td>\n",
       "      <td>75</td>\n",
       "      <td>10</td>\n",
       "      <td>1</td>\n",
       "      <td>...</td>\n",
       "      <td>Más de 70</td>\n",
       "      <td>1000</td>\n",
       "      <td>302</td>\n",
       "      <td>SANCOR SALUD CON COPAGO</td>\n",
       "      <td>0</td>\n",
       "      <td>54854.252308</td>\n",
       "      <td>Medio</td>\n",
       "      <td>0</td>\n",
       "      <td>0.0</td>\n",
       "      <td>Sin Diagnostico</td>\n",
       "    </tr>\n",
       "    <tr>\n",
       "      <th>2</th>\n",
       "      <td>4</td>\n",
       "      <td>202009</td>\n",
       "      <td>1219</td>\n",
       "      <td>19360211</td>\n",
       "      <td>84</td>\n",
       "      <td>F</td>\n",
       "      <td>N</td>\n",
       "      <td>75</td>\n",
       "      <td>10</td>\n",
       "      <td>1</td>\n",
       "      <td>...</td>\n",
       "      <td>Más de 70</td>\n",
       "      <td>3000</td>\n",
       "      <td>302</td>\n",
       "      <td>SIN COPAGOS (SANCOR Y STAFF)</td>\n",
       "      <td>0</td>\n",
       "      <td>399571.753846</td>\n",
       "      <td>Alto</td>\n",
       "      <td>0</td>\n",
       "      <td>0.0</td>\n",
       "      <td>Sin Diagnostico</td>\n",
       "    </tr>\n",
       "    <tr>\n",
       "      <th>3</th>\n",
       "      <td>5</td>\n",
       "      <td>202009</td>\n",
       "      <td>1421</td>\n",
       "      <td>19450614</td>\n",
       "      <td>75</td>\n",
       "      <td>M</td>\n",
       "      <td>N</td>\n",
       "      <td>75</td>\n",
       "      <td>10</td>\n",
       "      <td>1</td>\n",
       "      <td>...</td>\n",
       "      <td>Más de 70</td>\n",
       "      <td>500</td>\n",
       "      <td>315</td>\n",
       "      <td>SANCOR SALUD CON COPAGO</td>\n",
       "      <td>0</td>\n",
       "      <td>16013.261538</td>\n",
       "      <td>Medio</td>\n",
       "      <td>0</td>\n",
       "      <td>0.0</td>\n",
       "      <td>Sin Diagnostico</td>\n",
       "    </tr>\n",
       "    <tr>\n",
       "      <th>4</th>\n",
       "      <td>6</td>\n",
       "      <td>202009</td>\n",
       "      <td>1422</td>\n",
       "      <td>19500214</td>\n",
       "      <td>70</td>\n",
       "      <td>F</td>\n",
       "      <td>N</td>\n",
       "      <td>75</td>\n",
       "      <td>10</td>\n",
       "      <td>1</td>\n",
       "      <td>...</td>\n",
       "      <td>Entre 65 y 70</td>\n",
       "      <td>500</td>\n",
       "      <td>315</td>\n",
       "      <td>SANCOR SALUD CON COPAGO</td>\n",
       "      <td>0</td>\n",
       "      <td>8511.332308</td>\n",
       "      <td>Bajo</td>\n",
       "      <td>0</td>\n",
       "      <td>0.0</td>\n",
       "      <td>Sin Diagnostico</td>\n",
       "    </tr>\n",
       "  </tbody>\n",
       "</table>\n",
       "<p>5 rows × 34 columns</p>\n",
       "</div>"
      ],
      "text/plain": [
       "   Unnamed: 0  Periodo  Persona  Fecha_nac  Edad Sexo Discapacidad  \\\n",
       "0           2   202009      779   19310102    89    M            N   \n",
       "1           3   202009      780   19330515    87    F            N   \n",
       "2           4   202009     1219   19360211    84    F            N   \n",
       "3           5   202009     1421   19450614    75    M            N   \n",
       "4           6   202009     1422   19500214    70    F            N   \n",
       "\n",
       "   Posicion Asociado ID  Zona de Promocion ID  Segmento Agrupado ID  ...  \\\n",
       "0                    75                    10                     1  ...   \n",
       "1                    75                    10                     1  ...   \n",
       "2                    75                    10                     1  ...   \n",
       "3                    75                    10                     1  ...   \n",
       "4                    75                    10                     1  ...   \n",
       "\n",
       "      Rango_Edad Modelo_Cartilla Cobertura_med_id  \\\n",
       "0      Más de 70            1000              302   \n",
       "1      Más de 70            1000              302   \n",
       "2      Más de 70            3000              302   \n",
       "3      Más de 70             500              315   \n",
       "4  Entre 65 y 70             500              315   \n",
       "\n",
       "                 Lista_PrecioDesc  GC Cons_anualizado  Rango_Cons  algun_diag  \\\n",
       "0  SANCOR SALUD CON COPAGO          0    35231.220000       Medio           0   \n",
       "1  SANCOR SALUD CON COPAGO          0    54854.252308       Medio           0   \n",
       "2  SIN COPAGOS (SANCOR Y STAFF)     0   399571.753846        Alto           0   \n",
       "3  SANCOR SALUD CON COPAGO          0    16013.261538       Medio           0   \n",
       "4  SANCOR SALUD CON COPAGO          0     8511.332308        Bajo           0   \n",
       "\n",
       "   prop_diag  Marca_Diagnostico  \n",
       "0        0.0    Sin Diagnostico  \n",
       "1        0.0    Sin Diagnostico  \n",
       "2        0.0    Sin Diagnostico  \n",
       "3        0.0    Sin Diagnostico  \n",
       "4        0.0    Sin Diagnostico  \n",
       "\n",
       "[5 rows x 34 columns]"
      ]
     },
     "execution_count": 104,
     "metadata": {},
     "output_type": "execute_result"
    }
   ],
   "source": [
    "df.head(5)"
   ]
  },
  {
   "cell_type": "code",
   "execution_count": 105,
   "metadata": {},
   "outputs": [
    {
     "data": {
      "text/html": [
       "<div>\n",
       "<style scoped>\n",
       "    .dataframe tbody tr th:only-of-type {\n",
       "        vertical-align: middle;\n",
       "    }\n",
       "\n",
       "    .dataframe tbody tr th {\n",
       "        vertical-align: top;\n",
       "    }\n",
       "\n",
       "    .dataframe thead th {\n",
       "        text-align: right;\n",
       "    }\n",
       "</style>\n",
       "<table border=\"1\" class=\"dataframe\">\n",
       "  <thead>\n",
       "    <tr style=\"text-align: right;\">\n",
       "      <th></th>\n",
       "      <th>Unnamed: 0</th>\n",
       "      <th>Periodo</th>\n",
       "      <th>Persona</th>\n",
       "      <th>Fecha_nac</th>\n",
       "      <th>Edad</th>\n",
       "      <th>Sexo</th>\n",
       "      <th>Discapacidad</th>\n",
       "      <th>Posicion Asociado ID</th>\n",
       "      <th>Zona de Promocion ID</th>\n",
       "      <th>Segmento Agrupado ID</th>\n",
       "      <th>...</th>\n",
       "      <th>Rango_Edad</th>\n",
       "      <th>Modelo_Cartilla</th>\n",
       "      <th>Cobertura_med_id</th>\n",
       "      <th>Lista_PrecioDesc</th>\n",
       "      <th>GC</th>\n",
       "      <th>Cons_anualizado</th>\n",
       "      <th>Rango_Cons</th>\n",
       "      <th>algun_diag</th>\n",
       "      <th>prop_diag</th>\n",
       "      <th>Marca_Diagnostico</th>\n",
       "    </tr>\n",
       "  </thead>\n",
       "  <tbody>\n",
       "    <tr>\n",
       "      <th>0</th>\n",
       "      <td>2</td>\n",
       "      <td>202009</td>\n",
       "      <td>779</td>\n",
       "      <td>19310102</td>\n",
       "      <td>89</td>\n",
       "      <td>M</td>\n",
       "      <td>N</td>\n",
       "      <td>75</td>\n",
       "      <td>10</td>\n",
       "      <td>1</td>\n",
       "      <td>...</td>\n",
       "      <td>Más de 70</td>\n",
       "      <td>1000</td>\n",
       "      <td>302</td>\n",
       "      <td>SANCOR SALUD CON COPAGO</td>\n",
       "      <td>0</td>\n",
       "      <td>35231.220000</td>\n",
       "      <td>Medio</td>\n",
       "      <td>0</td>\n",
       "      <td>0.0</td>\n",
       "      <td>Sin Diagnostico</td>\n",
       "    </tr>\n",
       "    <tr>\n",
       "      <th>1</th>\n",
       "      <td>3</td>\n",
       "      <td>202009</td>\n",
       "      <td>780</td>\n",
       "      <td>19330515</td>\n",
       "      <td>87</td>\n",
       "      <td>F</td>\n",
       "      <td>N</td>\n",
       "      <td>75</td>\n",
       "      <td>10</td>\n",
       "      <td>1</td>\n",
       "      <td>...</td>\n",
       "      <td>Más de 70</td>\n",
       "      <td>1000</td>\n",
       "      <td>302</td>\n",
       "      <td>SANCOR SALUD CON COPAGO</td>\n",
       "      <td>0</td>\n",
       "      <td>54854.252308</td>\n",
       "      <td>Medio</td>\n",
       "      <td>0</td>\n",
       "      <td>0.0</td>\n",
       "      <td>Sin Diagnostico</td>\n",
       "    </tr>\n",
       "    <tr>\n",
       "      <th>2</th>\n",
       "      <td>4</td>\n",
       "      <td>202009</td>\n",
       "      <td>1219</td>\n",
       "      <td>19360211</td>\n",
       "      <td>84</td>\n",
       "      <td>F</td>\n",
       "      <td>N</td>\n",
       "      <td>75</td>\n",
       "      <td>10</td>\n",
       "      <td>1</td>\n",
       "      <td>...</td>\n",
       "      <td>Más de 70</td>\n",
       "      <td>3000</td>\n",
       "      <td>302</td>\n",
       "      <td>SIN COPAGOS (SANCOR Y STAFF)</td>\n",
       "      <td>0</td>\n",
       "      <td>399571.753846</td>\n",
       "      <td>Alto</td>\n",
       "      <td>0</td>\n",
       "      <td>0.0</td>\n",
       "      <td>Sin Diagnostico</td>\n",
       "    </tr>\n",
       "    <tr>\n",
       "      <th>3</th>\n",
       "      <td>5</td>\n",
       "      <td>202009</td>\n",
       "      <td>1421</td>\n",
       "      <td>19450614</td>\n",
       "      <td>75</td>\n",
       "      <td>M</td>\n",
       "      <td>N</td>\n",
       "      <td>75</td>\n",
       "      <td>10</td>\n",
       "      <td>1</td>\n",
       "      <td>...</td>\n",
       "      <td>Más de 70</td>\n",
       "      <td>500</td>\n",
       "      <td>315</td>\n",
       "      <td>SANCOR SALUD CON COPAGO</td>\n",
       "      <td>0</td>\n",
       "      <td>16013.261538</td>\n",
       "      <td>Medio</td>\n",
       "      <td>0</td>\n",
       "      <td>0.0</td>\n",
       "      <td>Sin Diagnostico</td>\n",
       "    </tr>\n",
       "    <tr>\n",
       "      <th>4</th>\n",
       "      <td>6</td>\n",
       "      <td>202009</td>\n",
       "      <td>1422</td>\n",
       "      <td>19500214</td>\n",
       "      <td>70</td>\n",
       "      <td>F</td>\n",
       "      <td>N</td>\n",
       "      <td>75</td>\n",
       "      <td>10</td>\n",
       "      <td>1</td>\n",
       "      <td>...</td>\n",
       "      <td>Entre 65 y 70</td>\n",
       "      <td>500</td>\n",
       "      <td>315</td>\n",
       "      <td>SANCOR SALUD CON COPAGO</td>\n",
       "      <td>0</td>\n",
       "      <td>8511.332308</td>\n",
       "      <td>Bajo</td>\n",
       "      <td>0</td>\n",
       "      <td>0.0</td>\n",
       "      <td>Sin Diagnostico</td>\n",
       "    </tr>\n",
       "    <tr>\n",
       "      <th>...</th>\n",
       "      <td>...</td>\n",
       "      <td>...</td>\n",
       "      <td>...</td>\n",
       "      <td>...</td>\n",
       "      <td>...</td>\n",
       "      <td>...</td>\n",
       "      <td>...</td>\n",
       "      <td>...</td>\n",
       "      <td>...</td>\n",
       "      <td>...</td>\n",
       "      <td>...</td>\n",
       "      <td>...</td>\n",
       "      <td>...</td>\n",
       "      <td>...</td>\n",
       "      <td>...</td>\n",
       "      <td>...</td>\n",
       "      <td>...</td>\n",
       "      <td>...</td>\n",
       "      <td>...</td>\n",
       "      <td>...</td>\n",
       "      <td>...</td>\n",
       "    </tr>\n",
       "    <tr>\n",
       "      <th>28900</th>\n",
       "      <td>28902</td>\n",
       "      <td>202109</td>\n",
       "      <td>1874541</td>\n",
       "      <td>19780730</td>\n",
       "      <td>43</td>\n",
       "      <td>F</td>\n",
       "      <td>N</td>\n",
       "      <td>75</td>\n",
       "      <td>10</td>\n",
       "      <td>1</td>\n",
       "      <td>...</td>\n",
       "      <td>Entre 41 y 50</td>\n",
       "      <td>1500</td>\n",
       "      <td>302</td>\n",
       "      <td>SIN COPAGOS (SANCOR Y STAFF)</td>\n",
       "      <td>0</td>\n",
       "      <td>1031.040000</td>\n",
       "      <td>Muy Bajo</td>\n",
       "      <td>0</td>\n",
       "      <td>0.0</td>\n",
       "      <td>Sin Diagnostico</td>\n",
       "    </tr>\n",
       "    <tr>\n",
       "      <th>28901</th>\n",
       "      <td>28903</td>\n",
       "      <td>202109</td>\n",
       "      <td>1877777</td>\n",
       "      <td>20210715</td>\n",
       "      <td>0</td>\n",
       "      <td>F</td>\n",
       "      <td>N</td>\n",
       "      <td>75</td>\n",
       "      <td>10</td>\n",
       "      <td>1</td>\n",
       "      <td>...</td>\n",
       "      <td>Entre 0 y 1</td>\n",
       "      <td>3000</td>\n",
       "      <td>302</td>\n",
       "      <td>SIN COPAGOS (SANCOR Y STAFF)</td>\n",
       "      <td>0</td>\n",
       "      <td>21859.560000</td>\n",
       "      <td>Medio</td>\n",
       "      <td>1</td>\n",
       "      <td>1.0</td>\n",
       "      <td>Con Diagnostico</td>\n",
       "    </tr>\n",
       "    <tr>\n",
       "      <th>28902</th>\n",
       "      <td>28904</td>\n",
       "      <td>202109</td>\n",
       "      <td>1883718</td>\n",
       "      <td>19941101</td>\n",
       "      <td>26</td>\n",
       "      <td>F</td>\n",
       "      <td>N</td>\n",
       "      <td>75</td>\n",
       "      <td>10</td>\n",
       "      <td>2</td>\n",
       "      <td>...</td>\n",
       "      <td>Entre 26 y 30</td>\n",
       "      <td>4000</td>\n",
       "      <td>302</td>\n",
       "      <td>SIN COPAGOS (SANCOR Y STAFF)</td>\n",
       "      <td>0</td>\n",
       "      <td>1650.240000</td>\n",
       "      <td>Muy Bajo</td>\n",
       "      <td>0</td>\n",
       "      <td>0.0</td>\n",
       "      <td>Sin Diagnostico</td>\n",
       "    </tr>\n",
       "    <tr>\n",
       "      <th>28903</th>\n",
       "      <td>28905</td>\n",
       "      <td>202109</td>\n",
       "      <td>1884020</td>\n",
       "      <td>20210812</td>\n",
       "      <td>0</td>\n",
       "      <td>F</td>\n",
       "      <td>N</td>\n",
       "      <td>75</td>\n",
       "      <td>10</td>\n",
       "      <td>2</td>\n",
       "      <td>...</td>\n",
       "      <td>Entre 0 y 1</td>\n",
       "      <td>1000</td>\n",
       "      <td>304</td>\n",
       "      <td>SIN COPAGOS (SANCOR Y STAFF)</td>\n",
       "      <td>0</td>\n",
       "      <td>9532.320000</td>\n",
       "      <td>Bajo</td>\n",
       "      <td>1</td>\n",
       "      <td>1.0</td>\n",
       "      <td>Con Diagnostico</td>\n",
       "    </tr>\n",
       "    <tr>\n",
       "      <th>28904</th>\n",
       "      <td>28906</td>\n",
       "      <td>202109</td>\n",
       "      <td>1896774</td>\n",
       "      <td>20210812</td>\n",
       "      <td>0</td>\n",
       "      <td>F</td>\n",
       "      <td>N</td>\n",
       "      <td>75</td>\n",
       "      <td>10</td>\n",
       "      <td>2</td>\n",
       "      <td>...</td>\n",
       "      <td>Entre 0 y 1</td>\n",
       "      <td>1000</td>\n",
       "      <td>302</td>\n",
       "      <td>SANCOR SALUD CON COPAGO</td>\n",
       "      <td>0</td>\n",
       "      <td>1031.040000</td>\n",
       "      <td>Muy Bajo</td>\n",
       "      <td>1</td>\n",
       "      <td>1.0</td>\n",
       "      <td>Con Diagnostico</td>\n",
       "    </tr>\n",
       "  </tbody>\n",
       "</table>\n",
       "<p>28905 rows × 34 columns</p>\n",
       "</div>"
      ],
      "text/plain": [
       "       Unnamed: 0  Periodo  Persona  Fecha_nac  Edad Sexo Discapacidad  \\\n",
       "0               2   202009      779   19310102    89    M            N   \n",
       "1               3   202009      780   19330515    87    F            N   \n",
       "2               4   202009     1219   19360211    84    F            N   \n",
       "3               5   202009     1421   19450614    75    M            N   \n",
       "4               6   202009     1422   19500214    70    F            N   \n",
       "...           ...      ...      ...        ...   ...  ...          ...   \n",
       "28900       28902   202109  1874541   19780730    43    F            N   \n",
       "28901       28903   202109  1877777   20210715     0    F            N   \n",
       "28902       28904   202109  1883718   19941101    26    F            N   \n",
       "28903       28905   202109  1884020   20210812     0    F            N   \n",
       "28904       28906   202109  1896774   20210812     0    F            N   \n",
       "\n",
       "       Posicion Asociado ID  Zona de Promocion ID  Segmento Agrupado ID  ...  \\\n",
       "0                        75                    10                     1  ...   \n",
       "1                        75                    10                     1  ...   \n",
       "2                        75                    10                     1  ...   \n",
       "3                        75                    10                     1  ...   \n",
       "4                        75                    10                     1  ...   \n",
       "...                     ...                   ...                   ...  ...   \n",
       "28900                    75                    10                     1  ...   \n",
       "28901                    75                    10                     1  ...   \n",
       "28902                    75                    10                     2  ...   \n",
       "28903                    75                    10                     2  ...   \n",
       "28904                    75                    10                     2  ...   \n",
       "\n",
       "          Rango_Edad Modelo_Cartilla Cobertura_med_id  \\\n",
       "0          Más de 70            1000              302   \n",
       "1          Más de 70            1000              302   \n",
       "2          Más de 70            3000              302   \n",
       "3          Más de 70             500              315   \n",
       "4      Entre 65 y 70             500              315   \n",
       "...              ...             ...              ...   \n",
       "28900  Entre 41 y 50            1500              302   \n",
       "28901    Entre 0 y 1            3000              302   \n",
       "28902  Entre 26 y 30            4000              302   \n",
       "28903    Entre 0 y 1            1000              304   \n",
       "28904    Entre 0 y 1            1000              302   \n",
       "\n",
       "                     Lista_PrecioDesc  GC Cons_anualizado  Rango_Cons  \\\n",
       "0      SANCOR SALUD CON COPAGO          0    35231.220000       Medio   \n",
       "1      SANCOR SALUD CON COPAGO          0    54854.252308       Medio   \n",
       "2      SIN COPAGOS (SANCOR Y STAFF)     0   399571.753846        Alto   \n",
       "3      SANCOR SALUD CON COPAGO          0    16013.261538       Medio   \n",
       "4      SANCOR SALUD CON COPAGO          0     8511.332308        Bajo   \n",
       "...                               ...  ..             ...         ...   \n",
       "28900  SIN COPAGOS (SANCOR Y STAFF)     0     1031.040000    Muy Bajo   \n",
       "28901  SIN COPAGOS (SANCOR Y STAFF)     0    21859.560000       Medio   \n",
       "28902  SIN COPAGOS (SANCOR Y STAFF)     0     1650.240000    Muy Bajo   \n",
       "28903  SIN COPAGOS (SANCOR Y STAFF)     0     9532.320000        Bajo   \n",
       "28904  SANCOR SALUD CON COPAGO          0     1031.040000    Muy Bajo   \n",
       "\n",
       "       algun_diag  prop_diag  Marca_Diagnostico  \n",
       "0               0        0.0    Sin Diagnostico  \n",
       "1               0        0.0    Sin Diagnostico  \n",
       "2               0        0.0    Sin Diagnostico  \n",
       "3               0        0.0    Sin Diagnostico  \n",
       "4               0        0.0    Sin Diagnostico  \n",
       "...           ...        ...                ...  \n",
       "28900           0        0.0    Sin Diagnostico  \n",
       "28901           1        1.0    Con Diagnostico  \n",
       "28902           0        0.0    Sin Diagnostico  \n",
       "28903           1        1.0    Con Diagnostico  \n",
       "28904           1        1.0    Con Diagnostico  \n",
       "\n",
       "[28905 rows x 34 columns]"
      ]
     },
     "execution_count": 105,
     "metadata": {},
     "output_type": "execute_result"
    }
   ],
   "source": [
    "df"
   ]
  },
  {
   "cell_type": "code",
   "execution_count": 106,
   "metadata": {},
   "outputs": [
    {
     "data": {
      "text/plain": [
       "datetime.datetime(2022, 4, 20, 19, 32, 54, 387697)"
      ]
     },
     "execution_count": 106,
     "metadata": {},
     "output_type": "execute_result"
    }
   ],
   "source": [
    "fin = datetime.now()\n",
    "fin"
   ]
  },
  {
   "cell_type": "code",
   "execution_count": 107,
   "metadata": {},
   "outputs": [
    {
     "data": {
      "text/plain": [
       "datetime.timedelta(seconds=53, microseconds=692617)"
      ]
     },
     "execution_count": 107,
     "metadata": {},
     "output_type": "execute_result"
    }
   ],
   "source": [
    "fin - inicio"
   ]
  },
  {
   "cell_type": "code",
   "execution_count": 108,
   "metadata": {},
   "outputs": [
    {
     "data": {
      "text/plain": [
       "0.8833333333333333"
      ]
     },
     "execution_count": 108,
     "metadata": {},
     "output_type": "execute_result"
    }
   ],
   "source": [
    "# Demora en minutos\n",
    "(fin-inicio).seconds/60"
   ]
  },
  {
   "cell_type": "code",
   "execution_count": 109,
   "metadata": {},
   "outputs": [
    {
     "data": {
      "text/plain": [
       "28907"
      ]
     },
     "execution_count": 109,
     "metadata": {},
     "output_type": "execute_result"
    }
   ],
   "source": [
    "df.Stock.sum()"
   ]
  },
  {
   "cell_type": "code",
   "execution_count": 110,
   "metadata": {},
   "outputs": [
    {
     "data": {
      "text/plain": [
       "28905"
      ]
     },
     "execution_count": 110,
     "metadata": {},
     "output_type": "execute_result"
    }
   ],
   "source": [
    "len(df)"
   ]
  },
  {
   "cell_type": "code",
   "execution_count": 111,
   "metadata": {},
   "outputs": [
    {
     "data": {
      "text/plain": [
       "Unnamed: 0               0\n",
       "Periodo                  0\n",
       "Persona                  0\n",
       "Fecha_nac                0\n",
       "Edad                     0\n",
       "Sexo                     0\n",
       "Discapacidad             0\n",
       "Posicion Asociado ID     0\n",
       "Zona de Promocion ID     0\n",
       "Segmento Agrupado ID     0\n",
       "Segmento                 0\n",
       "Plan                     0\n",
       "Plan Agrupado            0\n",
       "Tipo de Venta DESC       0\n",
       "Tipo de Venta ID         0\n",
       "Subtipo de Venta DESC    0\n",
       "Subtipo de Venta ID      0\n",
       "Diabetes                 0\n",
       "Hepatitis                0\n",
       "PMI                      0\n",
       "Cronico                  0\n",
       "Oncologico               0\n",
       "Stock                    0\n",
       "ACE                      0\n",
       "Rango_Edad               0\n",
       "Modelo_Cartilla          0\n",
       "Cobertura_med_id         0\n",
       "Lista_PrecioDesc         0\n",
       "GC                       0\n",
       "Cons_anualizado          0\n",
       "Rango_Cons               0\n",
       "algun_diag               0\n",
       "prop_diag                0\n",
       "Marca_Diagnostico        0\n",
       "dtype: int64"
      ]
     },
     "execution_count": 111,
     "metadata": {},
     "output_type": "execute_result"
    }
   ],
   "source": [
    "df.isnull().sum()"
   ]
  },
  {
   "cell_type": "markdown",
   "metadata": {},
   "source": [
    "# Borrar todas las variables en memoria"
   ]
  },
  {
   "cell_type": "code",
   "execution_count": null,
   "metadata": {},
   "outputs": [],
   "source": [
    "# https://www.delftstack.com/es/howto/python/how-to-clear-variables-in-ipython/#:~:text=Podemos%20usar%20%25reset%20para%20borrar,para%20borrar%20una%20variable%20espec%C3%ADfica.\n",
    "%reset"
   ]
  },
  {
   "cell_type": "code",
   "execution_count": null,
   "metadata": {},
   "outputs": [],
   "source": []
  }
 ],
 "metadata": {
  "kernelspec": {
   "display_name": "Python 3",
   "language": "python",
   "name": "python3"
  },
  "language_info": {
   "codemirror_mode": {
    "name": "ipython",
    "version": 3
   },
   "file_extension": ".py",
   "mimetype": "text/x-python",
   "name": "python",
   "nbconvert_exporter": "python",
   "pygments_lexer": "ipython3",
   "version": "3.7.6"
  }
 },
 "nbformat": 4,
 "nbformat_minor": 4
}
