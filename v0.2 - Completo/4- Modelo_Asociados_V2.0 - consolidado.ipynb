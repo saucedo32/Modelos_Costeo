{
 "cells": [
  {
   "cell_type": "markdown",
   "metadata": {},
   "source": [
    "# En el presente script se genera el reporte de asociados para ser cruzado con el de consumos."
   ]
  },
  {
   "cell_type": "code",
   "execution_count": 1,
   "metadata": {},
   "outputs": [],
   "source": [
    "# Librerías usadas:\n",
    "import pandas as pd\n",
    "import numpy as np\n",
    "import os\n",
    "from datetime import datetime"
   ]
  },
  {
   "cell_type": "code",
   "execution_count": 2,
   "metadata": {},
   "outputs": [
    {
     "data": {
      "text/plain": [
       "datetime.datetime(2022, 5, 3, 9, 57, 41, 70111)"
      ]
     },
     "execution_count": 2,
     "metadata": {},
     "output_type": "execute_result"
    }
   ],
   "source": [
    "inicio = datetime.now()\n",
    "inicio"
   ]
  },
  {
   "cell_type": "code",
   "execution_count": 3,
   "metadata": {},
   "outputs": [],
   "source": [
    "# Parámetros de seteo.\n",
    "\n",
    "# Ruta a la que tiene que salir la información\n",
    "ruta_base = 'C:\\\\Users\\\\lsaucedo\\\\Desktop\\\\Brinkmann v2\\\\'\n",
    "\n",
    "# Archivo de salida\n",
    "# archivo_salida = ruta_base + \"Stock_Brinkmann_marcado\" + \".csv\"\n",
    "archivo_salida = ruta_base + \"Stock_Total_marcado\" + \".csv\"\n",
    "\n",
    "# Ruta en que se encuentran los archivos:\n",
    "ruta = ruta_base + 'Stock_SanCor\\\\'\n",
    "\n",
    "# Carpeta en que se encuentran las auxiliares:\n",
    "ruta_aux = 'C:\\\\modelos\\\\Auxiliares\\\\'\n",
    "\n",
    "# Diagnosticos:\n",
    "ruta_diag =  \"./\" + \"Diagnosticos.csv\"\n",
    "\n",
    "# Aquí debería cargar las diferentes rutas y filtros de archivos."
   ]
  },
  {
   "cell_type": "markdown",
   "metadata": {},
   "source": [
    "# 1- Levantar el excel de stock."
   ]
  },
  {
   "cell_type": "code",
   "execution_count": 4,
   "metadata": {},
   "outputs": [
    {
     "name": "stdout",
     "output_type": "stream",
     "text": [
      "Inicio del proceso: 09:57:44\n",
      "Se cargó el archivo:  20.1 Stock 202010.xlsx a las: 10:00:52\n",
      "Se cargó el archivo:  20.1 Stock 202011.xlsx a las: 10:04:00\n",
      "Se cargó el archivo:  20.1 Stock 202012.xlsx a las: 10:07:17\n",
      "Se cargó el archivo:  20.1 Stock 202101.xlsx a las: 10:10:01\n",
      "Se cargó el archivo:  20.1 Stock 202102.xlsx a las: 10:12:46\n",
      "Se cargó el archivo:  20.1 Stock 202103.xlsx a las: 10:15:33\n",
      "Se cargó el archivo:  20.1 Stock 202104.xlsx a las: 10:18:25\n",
      "Se cargó el archivo:  20.1 Stock 202105.xlsx a las: 10:21:23\n",
      "Se cargó el archivo:  20.1 Stock 202106.xlsx a las: 10:24:20\n",
      "Se cargó el archivo:  20.1 Stock 202107.xlsx a las: 10:27:18\n",
      "Se cargó el archivo:  20.1 Stock 202108.xlsx a las: 10:30:21\n",
      "Se cargó el archivo:  20.1 Stock 202109.xlsx a las: 10:33:26\n",
      "Fin de la carga de archivos\n"
     ]
    }
   ],
   "source": [
    "# Levanto el stock existente en una carpeta:\n",
    "\n",
    "contenido = os.listdir(ruta)\n",
    "\n",
    "print(\"Inicio del proceso: \" + datetime.now().strftime('%H:%M:%S'))\n",
    "\n",
    "# Dataframe con el stock:\n",
    "dfs = pd.DataFrame()\n",
    "\n",
    "archivos = []\n",
    "for fichero in contenido:\n",
    "    if os.path.isfile(os.path.join(ruta, fichero)) and fichero.endswith('.xlsx'):\n",
    "        df_temp = pd.read_excel(ruta+fichero)\n",
    "        dfs = pd.concat([dfs, df_temp], axis=0)\n",
    "        print(\"Se cargó el archivo: \", fichero, \"a las: \" + datetime.now().strftime('%H:%M:%S'))\n",
    "\n",
    "df_temp = []\n",
    "print(\"Fin de la carga de archivos\")"
   ]
  },
  {
   "cell_type": "markdown",
   "metadata": {},
   "source": [
    "## 1.2 Renombrar las columnas"
   ]
  },
  {
   "cell_type": "code",
   "execution_count": 9,
   "metadata": {},
   "outputs": [],
   "source": [
    "# Se pueden renombrar incluso columnas que no existen (mejorar la eficiencia en función del warning)\n",
    "dfs.rename( columns = {    'Periodo ID': 'Periodo',\n",
    "                           'Persona ID': 'Persona',\n",
    "                           'Persona Fecha Nacimiento': 'Fecha_nac',\n",
    "                           'Discapacitado ID': 'Discapacidad',\n",
    "                           'Marca Persona con Diabetes DESC': 'Diabetes',\n",
    "                           'Marca Persona con Hepatitis DESC': 'Hepatitis',\n",
    "                           'Marca Persona con PMI DESC': 'PMI',\n",
    "                           'Marca Persona con Tratamiento Cronico DESC': 'Cronico',\n",
    "                           'Marca Persona con Tratamiento Oncológico DESC':  'Oncologico',\n",
    "                           'Sexo ID': 'Sexo',\n",
    "                           'Plan Sin Segmento ID': 'Plan',\n",
    "                           'Posicion Asociado DESC': 'Posicion Asociado',\n",
    "                           'Zona de Promocion DESC': 'Zona de Promocion',\n",
    "                           'Segmento Agrupado DESC': 'Segmento',\n",
    "                           'Plan Agrupado Sin Segmento DESC': 'Plan Agrupado',\n",
    "                           'Stock Asociados Salud': 'Stock',\n",
    "                           'Edad Periodo ID': 'Edad',\n",
    "                           'ACE Stock Asociados Salud': 'ACE',\n",
    "                           'Consumos Costo con Subsidios SSS': 'Consumo3',\n",
    "                           'Recaudacion Costo con Otros Subsidios': 'Recaudacion3'\n",
    "                           }, inplace=True)"
   ]
  },
  {
   "cell_type": "code",
   "execution_count": 10,
   "metadata": {},
   "outputs": [
    {
     "data": {
      "text/plain": [
       "array([202010, 202011, 202012, 202101, 202102, 202103, 202104, 202105,\n",
       "       202106, 202107, 202108, 202109], dtype=int64)"
      ]
     },
     "execution_count": 10,
     "metadata": {},
     "output_type": "execute_result"
    }
   ],
   "source": [
    "dfs.Periodo.unique()"
   ]
  },
  {
   "cell_type": "code",
   "execution_count": 11,
   "metadata": {},
   "outputs": [
    {
     "data": {
      "text/plain": [
       "7189316"
      ]
     },
     "execution_count": 11,
     "metadata": {},
     "output_type": "execute_result"
    }
   ],
   "source": [
    "len(dfs)"
   ]
  },
  {
   "cell_type": "code",
   "execution_count": 12,
   "metadata": {},
   "outputs": [
    {
     "data": {
      "text/plain": [
       "7189639"
      ]
     },
     "execution_count": 12,
     "metadata": {},
     "output_type": "execute_result"
    }
   ],
   "source": [
    "dfs.Stock.sum()"
   ]
  },
  {
   "cell_type": "markdown",
   "metadata": {},
   "source": [
    "# 2- Agrego archivos auxiliares"
   ]
  },
  {
   "cell_type": "code",
   "execution_count": 13,
   "metadata": {},
   "outputs": [],
   "source": [
    "# Guardo cantidad de registros iniciales para comparar al final:\n",
    "len_dfs = len(dfs)"
   ]
  },
  {
   "cell_type": "code",
   "execution_count": 14,
   "metadata": {},
   "outputs": [],
   "source": [
    "# Agrego la info al df de stock: RANGO EDAD\n",
    "\n",
    "# Levanto la auxiliar:\n",
    "Aux_RangoEdad = pd.read_excel(ruta_aux + \"Aux_RangoEdad.xlsx\")\n",
    "# Pego la informacion al df stock:\n",
    "dfs = pd.merge(left = dfs, right = Aux_RangoEdad[[\"Edad\",\"Rango_Edad\"]], left_on='Edad', right_on='Edad', how = \"left\")\n",
    "# Elimino la columna adicional -- no hay\n",
    "# Calculo la diferencia de registros:\n",
    "len_dfs_edad = len(dfs)\n",
    "len_dfs_edad - len_dfs\n",
    "# Elimino Aux_RangoEdad de memoria\n",
    "Aux_RangoEdad = []"
   ]
  },
  {
   "cell_type": "code",
   "execution_count": 15,
   "metadata": {},
   "outputs": [
    {
     "data": {
      "text/plain": [
       "array(['Entre 60 y 69', 'Entre 36 y 40', 'Entre 31 y 35', 'Entre 41 y 45',\n",
       "       'Entre 50 y 59', 'Entre 46 y 49', 'Entre 26 y 30', 'Entre 21 y 25',\n",
       "       'Entre 16 y 20', 'Entre 11 y 15', 'Entre 6 y 10', 'Entre 0 y 1',\n",
       "       'Entre 2 y 5'], dtype=object)"
      ]
     },
     "execution_count": 15,
     "metadata": {},
     "output_type": "execute_result"
    }
   ],
   "source": [
    "# No debería haber nan\n",
    "dfs[\"Rango_Edad\"].unique()"
   ]
  },
  {
   "cell_type": "code",
   "execution_count": 16,
   "metadata": {},
   "outputs": [],
   "source": [
    "# Agrego la info al df de stock: CARTILLA BASE\n",
    "\n",
    "# Levanto la auxiliar:\n",
    "Aux_CartillaBase = pd.read_excel(ruta_aux+\"Aux_CartillaBase.xlsx\")\n",
    "# Pego la informacion al df stock:\n",
    "dfs = pd.merge(left = dfs, right = Aux_CartillaBase[[\"Plan\",\"Modelo_Cartilla\"]], left_on='Plan', right_on='Plan', how = \"left\")\n",
    "# Elimino la columna adicional -- no hay\n",
    "# Calculo la diferencia de registros:\n",
    "len_dfs_cartilla = len(dfs)\n",
    "len_dfs_cartilla - len_dfs\n",
    "# Elimino Aux_CartillaBase de memoria\n",
    "Aux_CartillaBase = []"
   ]
  },
  {
   "cell_type": "code",
   "execution_count": 17,
   "metadata": {},
   "outputs": [
    {
     "data": {
      "text/plain": [
       "array(['3000', '2000', '500', '4000', '2000E', '1000', '1500', 'AMPS7',\n",
       "       'AMPS4', '5000', 'C', 'AMPS2', 'AMPS5', 'AMPS3', '4500', 'STAFM',\n",
       "       'AMPS6', 'OS', 'E2000'], dtype=object)"
      ]
     },
     "execution_count": 17,
     "metadata": {},
     "output_type": "execute_result"
    }
   ],
   "source": [
    "# No debería haber nan\n",
    "dfs[\"Modelo_Cartilla\"].unique()"
   ]
  },
  {
   "cell_type": "code",
   "execution_count": 18,
   "metadata": {},
   "outputs": [],
   "source": [
    "# Agrego la info al df de stock: COBERTURA MED\n",
    "\n",
    "# Levanto la auxiliar:\n",
    "Aux_CobertMedicamentosPlan = pd.read_excel(ruta_aux+\"Aux_CobertMedicamentosPlan.xlsx\")\n",
    "# Pego la informacion al df stock:\n",
    "dfs = pd.merge(left = dfs, right = Aux_CobertMedicamentosPlan[[\"Plan\",\"Cobertura_med_id\"]], left_on='Plan', right_on='Plan', how = \"left\")\n",
    "# Elimino la columna adicional -- no hay\n",
    "# Calculo la diferencia de registros:\n",
    "len_dfs_medicam = len(dfs)\n",
    "len_dfs_medicam - len_dfs\n",
    "# Elimino Aux_CartillaBase de memoria\n",
    "Aux_CobertMedicamentosPlan = []"
   ]
  },
  {
   "cell_type": "code",
   "execution_count": 19,
   "metadata": {},
   "outputs": [
    {
     "data": {
      "text/plain": [
       "array([306, 302, 315, 301, 319, 303, 304, 308, 310, 305, 307, 312, 313],\n",
       "      dtype=int64)"
      ]
     },
     "execution_count": 19,
     "metadata": {},
     "output_type": "execute_result"
    }
   ],
   "source": [
    "# No debería haber nan\n",
    "dfs[\"Cobertura_med_id\"].unique()"
   ]
  },
  {
   "cell_type": "code",
   "execution_count": 20,
   "metadata": {},
   "outputs": [],
   "source": [
    "# Agrego la info al df de stock: LISTA COPAGOS\n",
    "\n",
    "# Levanto la auxiliar:\n",
    "Aux_ListaCopagos = pd.read_excel(ruta_aux+\"Aux_ListaCopagos.xlsx\")\n",
    "# Pego la informacion al df stock:\n",
    "dfs = pd.merge(left = dfs, right = Aux_ListaCopagos[[\"Plan\",\"Lista_PrecioDesc\"]], left_on='Plan', right_on='Plan', how = \"left\")\n",
    "# Elimino la columna adicional -- no hay\n",
    "# Calculo la diferencia de registros:\n",
    "len_dfs_copagos = len(dfs)\n",
    "len_dfs_copagos - len_dfs\n",
    "# Elimino Aux_CartillaBase de memoria\n",
    "Aux_ListaCopagos = []"
   ]
  },
  {
   "cell_type": "markdown",
   "metadata": {},
   "source": [
    "# 3- Agregar Diagnósticos\n",
    "\n",
    "Existe un script que realiza el cálculo de patologías y GC. Aquí solamente lo cargamos y cruzamos."
   ]
  },
  {
   "cell_type": "code",
   "execution_count": 21,
   "metadata": {},
   "outputs": [
    {
     "data": {
      "text/plain": [
       "'./Diagnosticos.csv'"
      ]
     },
     "execution_count": 21,
     "metadata": {},
     "output_type": "execute_result"
    }
   ],
   "source": [
    "ruta_diag"
   ]
  },
  {
   "cell_type": "code",
   "execution_count": 22,
   "metadata": {},
   "outputs": [
    {
     "data": {
      "text/plain": [
       "0"
      ]
     },
     "execution_count": 22,
     "metadata": {},
     "output_type": "execute_result"
    }
   ],
   "source": [
    "# Levanto la auxiliar:\n",
    "dfdiag = pd.read_csv(ruta_diag)\n",
    "\n",
    "# Pego la informacion al df stock:\n",
    "dfs = pd.merge(left = dfs, right = dfdiag[[\"Persona\",'GC', 'Rango_Cons', \n",
    "              'algun_diag', 'prop_diag', 'Marca_Diagnostico']], left_on='Persona', right_on='Persona', how = \"left\")\n",
    "# Elimino la columna adicional -- no hay\n",
    "# Calculo la diferencia de registros:\n",
    "len_dfs_diag = len(dfs)\n",
    "len_dfs_diag - len_dfs\n",
    "# Elimino Aux_CartillaBase de memoria\n",
    "dfdiag = []\n",
    "len_dfs_diag - len_dfs"
   ]
  },
  {
   "cell_type": "markdown",
   "metadata": {},
   "source": [
    "Transformamos los diag. conocidos:"
   ]
  },
  {
   "cell_type": "code",
   "execution_count": 23,
   "metadata": {},
   "outputs": [],
   "source": [
    "# Reemplazo valores de filas con replace:\n",
    "dfs['Diabetes'] = dfs['Diabetes'].replace(['No Diabético', 'Diabético'], [0, 1])\n",
    "dfs['Hepatitis'] = dfs['Hepatitis'].replace(['Sin Hepatitis', 'Con Hepatitis'], [0, 1])\n",
    "dfs['PMI'] = dfs['PMI'].replace(['NO', 'SI'], [0, 1])\n",
    "dfs['Cronico'] = dfs['Cronico'].replace(['NO', 'SI'], [0, 1])\n",
    "dfs['Oncologico'] = dfs['Oncologico'].replace(['Sin Marca', 'Paciente Oncológico'], [0, 1])\n",
    "dfs['algun_diag'] = dfs['Marca_Diagnostico'].replace(['Sin Diagnostico', 'Con Diagnostico'], [0, 1])\n"
   ]
  },
  {
   "cell_type": "code",
   "execution_count": 24,
   "metadata": {},
   "outputs": [
    {
     "data": {
      "text/plain": [
       "Index(['Periodo', 'Persona', 'Fecha_nac', 'Parentesco IdParentesco', 'Edad',\n",
       "       'Sexo', 'Discapacidad', 'Posicion Asociado ID', 'Zona de Promocion ID',\n",
       "       'Segmento Agrupado ID', 'Segmento', 'Plan', 'Plan Agrupado',\n",
       "       'Tipo de Venta DESC', 'Tipo de Venta ID', 'Subtipo de Venta DESC',\n",
       "       'Subtipo de Venta ID', 'Diabetes', 'Hepatitis', 'PMI', 'Cronico',\n",
       "       'Oncologico', 'Stock', 'ACE', 'Rango_Edad', 'Modelo_Cartilla',\n",
       "       'Cobertura_med_id', 'Lista_PrecioDesc', 'GC', 'Rango_Cons',\n",
       "       'algun_diag', 'prop_diag', 'Marca_Diagnostico'],\n",
       "      dtype='object')"
      ]
     },
     "execution_count": 24,
     "metadata": {},
     "output_type": "execute_result"
    }
   ],
   "source": [
    "dfs.columns"
   ]
  },
  {
   "cell_type": "code",
   "execution_count": 56,
   "metadata": {},
   "outputs": [],
   "source": [
    "# en caso que se quiera exportar sin la td previa.\n",
    "# dfs.to_csv(\"Stock_brinkmann.xlsx\", encoding = 'latin1', decimal=',')"
   ]
  },
  {
   "cell_type": "markdown",
   "metadata": {},
   "source": [
    "# 4- Exportar la información en \".csv\"\n",
    "\n",
    "## Exportamos parcialmente el stock de brinkmann\n",
    "Hasta aquí se puede hacer para todo el stock."
   ]
  },
  {
   "cell_type": "code",
   "execution_count": 25,
   "metadata": {},
   "outputs": [],
   "source": [
    "# Reemplazo los datos faltantes:\n",
    "dfs[\"GC\"].fillna(0, inplace = True)\n",
    "dfs[\"Rango_Cons\"].fillna(\"Muy Bajo\", inplace = True)\n",
    "dfs[\"algun_diag\"].fillna(0, inplace = True)\n",
    "dfs[\"prop_diag\"].fillna(0, inplace = True)\n",
    "dfs[\"Marca_Diagnostico\"].fillna(\"Sin Diagnostico\", inplace = True)\n",
    "\n",
    "# Reemplazo los valores mayores a 1 por 1 para que quede marca de gc 1 o 0\n",
    "#en lugar de cantidad de veces siendo GC..\n",
    "# Es un reemplazar que funciona al revez: Reemplaza todos los valores que NO CUMPLEN la condición\n",
    "dfs['GC'] = dfs['GC'].where(dfs['GC'] == 0 , 1)"
   ]
  },
  {
   "cell_type": "code",
   "execution_count": 26,
   "metadata": {},
   "outputs": [
    {
     "data": {
      "text/plain": [
       "array([ 0,  1, 90,  5,  9,  8,  2,  3, 99, 92, 98,  4, 91,  6,  7, 10, 12],\n",
       "      dtype=int64)"
      ]
     },
     "execution_count": 26,
     "metadata": {},
     "output_type": "execute_result"
    }
   ],
   "source": [
    "dfs['Parentesco IdParentesco'].unique()"
   ]
  },
  {
   "cell_type": "code",
   "execution_count": 27,
   "metadata": {},
   "outputs": [],
   "source": [
    "# Agregamos los parentescos de los hijos:\n",
    "# Método np.select()\n",
    "\n",
    "condiciones = [\n",
    "    (dfs['Parentesco IdParentesco'] == 3),\n",
    "    (dfs['Parentesco IdParentesco'] == 4),\n",
    "    (dfs['Parentesco IdParentesco'] == 5),\n",
    "    (dfs['Parentesco IdParentesco'] == 6),\n",
    "    (dfs['Parentesco IdParentesco'] == 7)]\n",
    "\n",
    "# Lista de resultados en función de las selecciones\n",
    "valores_condic = [1,1,1,1,1]     \n",
    "\n",
    "# Generación de la columna calculada\n",
    "dfs['Marca Hijo'] = np.select(condiciones, valores_condic, default=0) # se analizaron y surgen de consumo 3 == 0"
   ]
  },
  {
   "cell_type": "code",
   "execution_count": 28,
   "metadata": {},
   "outputs": [
    {
     "data": {
      "text/plain": [
       "7189639"
      ]
     },
     "execution_count": 28,
     "metadata": {},
     "output_type": "execute_result"
    }
   ],
   "source": [
    "dfs.Stock.sum()"
   ]
  },
  {
   "cell_type": "code",
   "execution_count": 29,
   "metadata": {},
   "outputs": [
    {
     "data": {
      "text/plain": [
       "7189316"
      ]
     },
     "execution_count": 29,
     "metadata": {},
     "output_type": "execute_result"
    }
   ],
   "source": [
    "len(dfs)"
   ]
  },
  {
   "cell_type": "code",
   "execution_count": null,
   "metadata": {},
   "outputs": [],
   "source": []
  },
  {
   "cell_type": "code",
   "execution_count": 59,
   "metadata": {},
   "outputs": [],
   "source": [
    "##############################################\n",
    "##############################################\n",
    "# SI QUEREMOS EXPORTAR POR PERSONA - PERIODO\n",
    "\n",
    "# Exportación de archivo sin hacer td:\n",
    "dfs.to_csv(archivo_salida, encoding = 'latin1', decimal=',', index = False)"
   ]
  },
  {
   "cell_type": "code",
   "execution_count": null,
   "metadata": {},
   "outputs": [],
   "source": []
  },
  {
   "cell_type": "code",
   "execution_count": null,
   "metadata": {},
   "outputs": [],
   "source": [
    "##############################################\n",
    "##############################################\n",
    "# SI QUEREMOS EXPORTAR POR APERTURAS:"
   ]
  },
  {
   "cell_type": "code",
   "execution_count": 56,
   "metadata": {},
   "outputs": [],
   "source": [
    "# Defino los campos de segmentación:\n",
    "\n",
    "# QUEDA PENDIENTE SEGMENTO EN LA APERTURA\n",
    "segmentacion = ([ 'Periodo', 'Posicion Asociado ID', 'Plan Agrupado',\n",
    "                'Sexo', 'Rango_Edad','Rango_Cons'])\n",
    "\n",
    "\n",
    "# 'Cobertura_med_id', \n",
    "#   'Lista_PrecioDesc',\n",
    "# 'Modelo_Cartilla',\n",
    "# 'Tipo de Venta ID',\n",
    "# , 'Segmento'\n",
    "# , 'Zona de Promocion ID'\n",
    "# , 'Marca_Diagnostico'\n",
    "\n",
    "\n",
    "# dejo para probar procesamientos más rápido (debugging)\n",
    "segmentacion2 = ['Periodo', 'Sexo']\n",
    "\n",
    "\n",
    "# Segementación inicial SIN SEGMENTO:\n",
    "segmentacion3 = (['Periodo', 'Posicion Asociado ID', 'Zona de Promocion ID', 'Plan Agrupado',\n",
    "                'Sexo', 'Rango_Edad', 'Tipo de Venta ID','Cobertura_med_id', 'Modelo_Cartilla', 'Lista_PrecioDesc',\n",
    "                'Rango_Cons', 'Marca_Diagnostico'])\n",
    "\n",
    "\n",
    "# Defino las métricas a calcular\n",
    "metricas = ({   'Stock':np.sum,\n",
    "                'Edad':np.sum,\n",
    "                'ACE':np.sum,\n",
    "                'Oncologico':np.sum,\n",
    "                'Cronico':np.sum,\n",
    "                'PMI':np.sum,\n",
    "                'Hepatitis':np.sum,\n",
    "                'Diabetes':np.sum,\n",
    "                'GC':np.sum,\n",
    "                'algun_diag':np.sum,\n",
    "                'Marca Hijo':np.sum,\n",
    "            })\n",
    "\n",
    "\n",
    "metricas2 = ({   'Stock':[np.sum,len],\n",
    "                'Edad':np.sum,\n",
    "                'ACE':np.sum,\n",
    "                          })\n",
    "\n",
    "\n",
    "# Genero la tabla de salida\n",
    "td = pd.pivot_table(dfs, index = segmentacion, \n",
    "               #values = ['Stock Asociados Salud', 'Edad Periodo ID'] , # no es obligatorio\n",
    "               aggfunc = metricas)\n",
    "\n",
    "\n",
    "# Genero un dataframe con la td\n",
    "base_asociados = pd.DataFrame(td)\n"
   ]
  },
  {
   "cell_type": "code",
   "execution_count": 58,
   "metadata": {},
   "outputs": [],
   "source": [
    "# Exporto la información en csv:\n",
    "base_asociados.to_csv(archivo_salida , encoding = 'latin1', decimal=',', index = False)"
   ]
  },
  {
   "cell_type": "code",
   "execution_count": null,
   "metadata": {},
   "outputs": [],
   "source": []
  },
  {
   "cell_type": "code",
   "execution_count": null,
   "metadata": {},
   "outputs": [],
   "source": []
  },
  {
   "cell_type": "code",
   "execution_count": null,
   "metadata": {},
   "outputs": [],
   "source": []
  },
  {
   "cell_type": "code",
   "execution_count": null,
   "metadata": {},
   "outputs": [],
   "source": []
  },
  {
   "cell_type": "markdown",
   "metadata": {},
   "source": [
    "# 5- Adicional: Pegar los consumos para exportar"
   ]
  },
  {
   "cell_type": "code",
   "execution_count": 64,
   "metadata": {},
   "outputs": [
    {
     "data": {
      "text/html": [
       "<div>\n",
       "<style scoped>\n",
       "    .dataframe tbody tr th:only-of-type {\n",
       "        vertical-align: middle;\n",
       "    }\n",
       "\n",
       "    .dataframe tbody tr th {\n",
       "        vertical-align: top;\n",
       "    }\n",
       "\n",
       "    .dataframe thead th {\n",
       "        text-align: right;\n",
       "    }\n",
       "</style>\n",
       "<table border=\"1\" class=\"dataframe\">\n",
       "  <thead>\n",
       "    <tr style=\"text-align: right;\">\n",
       "      <th></th>\n",
       "      <th>Periodo_Prest</th>\n",
       "      <th>Persona</th>\n",
       "      <th>Cantidad Total</th>\n",
       "      <th>Consumo Total</th>\n",
       "      <th>Prest. Dist. Total</th>\n",
       "      <th>Cantidad Amb.</th>\n",
       "      <th>Cantidad Int.</th>\n",
       "      <th>Cantidad Medic.</th>\n",
       "      <th>Cantidad NC.</th>\n",
       "      <th>Cantidad NA</th>\n",
       "      <th>...</th>\n",
       "      <th>Prest. Farmacia</th>\n",
       "      <th>Prest. No Considerar.1</th>\n",
       "      <th>Prest. Otras vias</th>\n",
       "      <th>Prest. Provision</th>\n",
       "      <th>Cantidad NO PMO</th>\n",
       "      <th>Cantidad PMO</th>\n",
       "      <th>Consumo NO PMO</th>\n",
       "      <th>Consumo PMO</th>\n",
       "      <th>Prest. NO PMO</th>\n",
       "      <th>Prest. PMO</th>\n",
       "    </tr>\n",
       "  </thead>\n",
       "  <tbody>\n",
       "    <tr>\n",
       "      <th>0</th>\n",
       "      <td>202010</td>\n",
       "      <td>266</td>\n",
       "      <td>8</td>\n",
       "      <td>1101.97</td>\n",
       "      <td>6</td>\n",
       "      <td>2</td>\n",
       "      <td>0</td>\n",
       "      <td>0</td>\n",
       "      <td>2</td>\n",
       "      <td>4</td>\n",
       "      <td>...</td>\n",
       "      <td>0</td>\n",
       "      <td>6</td>\n",
       "      <td>0</td>\n",
       "      <td>0</td>\n",
       "      <td>1</td>\n",
       "      <td>7</td>\n",
       "      <td>1.30</td>\n",
       "      <td>1100.67</td>\n",
       "      <td>1</td>\n",
       "      <td>5</td>\n",
       "    </tr>\n",
       "    <tr>\n",
       "      <th>1</th>\n",
       "      <td>202010</td>\n",
       "      <td>452</td>\n",
       "      <td>5</td>\n",
       "      <td>3366.78</td>\n",
       "      <td>5</td>\n",
       "      <td>1</td>\n",
       "      <td>0</td>\n",
       "      <td>0</td>\n",
       "      <td>3</td>\n",
       "      <td>1</td>\n",
       "      <td>...</td>\n",
       "      <td>0</td>\n",
       "      <td>5</td>\n",
       "      <td>0</td>\n",
       "      <td>0</td>\n",
       "      <td>2</td>\n",
       "      <td>3</td>\n",
       "      <td>1.30</td>\n",
       "      <td>3365.48</td>\n",
       "      <td>2</td>\n",
       "      <td>3</td>\n",
       "    </tr>\n",
       "    <tr>\n",
       "      <th>2</th>\n",
       "      <td>202010</td>\n",
       "      <td>779</td>\n",
       "      <td>22</td>\n",
       "      <td>4835.15</td>\n",
       "      <td>19</td>\n",
       "      <td>13</td>\n",
       "      <td>1</td>\n",
       "      <td>2</td>\n",
       "      <td>2</td>\n",
       "      <td>4</td>\n",
       "      <td>...</td>\n",
       "      <td>2</td>\n",
       "      <td>17</td>\n",
       "      <td>0</td>\n",
       "      <td>0</td>\n",
       "      <td>3</td>\n",
       "      <td>19</td>\n",
       "      <td>1589.25</td>\n",
       "      <td>3245.90</td>\n",
       "      <td>3</td>\n",
       "      <td>16</td>\n",
       "    </tr>\n",
       "    <tr>\n",
       "      <th>3</th>\n",
       "      <td>202010</td>\n",
       "      <td>780</td>\n",
       "      <td>27</td>\n",
       "      <td>4422.58</td>\n",
       "      <td>8</td>\n",
       "      <td>21</td>\n",
       "      <td>0</td>\n",
       "      <td>0</td>\n",
       "      <td>2</td>\n",
       "      <td>4</td>\n",
       "      <td>...</td>\n",
       "      <td>0</td>\n",
       "      <td>8</td>\n",
       "      <td>0</td>\n",
       "      <td>0</td>\n",
       "      <td>11</td>\n",
       "      <td>16</td>\n",
       "      <td>3151.30</td>\n",
       "      <td>1271.28</td>\n",
       "      <td>2</td>\n",
       "      <td>6</td>\n",
       "    </tr>\n",
       "    <tr>\n",
       "      <th>4</th>\n",
       "      <td>202010</td>\n",
       "      <td>1219</td>\n",
       "      <td>11</td>\n",
       "      <td>5360.73</td>\n",
       "      <td>10</td>\n",
       "      <td>4</td>\n",
       "      <td>0</td>\n",
       "      <td>0</td>\n",
       "      <td>3</td>\n",
       "      <td>4</td>\n",
       "      <td>...</td>\n",
       "      <td>0</td>\n",
       "      <td>10</td>\n",
       "      <td>0</td>\n",
       "      <td>0</td>\n",
       "      <td>2</td>\n",
       "      <td>9</td>\n",
       "      <td>1.30</td>\n",
       "      <td>5359.43</td>\n",
       "      <td>2</td>\n",
       "      <td>8</td>\n",
       "    </tr>\n",
       "  </tbody>\n",
       "</table>\n",
       "<p>5 rows × 83 columns</p>\n",
       "</div>"
      ],
      "text/plain": [
       "   Periodo_Prest  Persona  Cantidad Total  Consumo Total  Prest. Dist. Total  \\\n",
       "0         202010      266               8        1101.97                   6   \n",
       "1         202010      452               5        3366.78                   5   \n",
       "2         202010      779              22        4835.15                  19   \n",
       "3         202010      780              27        4422.58                   8   \n",
       "4         202010     1219              11        5360.73                  10   \n",
       "\n",
       "   Cantidad Amb.  Cantidad Int.  Cantidad Medic.  Cantidad NC.  Cantidad NA  \\\n",
       "0              2              0                0             2            4   \n",
       "1              1              0                0             3            1   \n",
       "2             13              1                2             2            4   \n",
       "3             21              0                0             2            4   \n",
       "4              4              0                0             3            4   \n",
       "\n",
       "   ...  Prest. Farmacia  Prest. No Considerar.1  Prest. Otras vias  \\\n",
       "0  ...                0                       6                  0   \n",
       "1  ...                0                       5                  0   \n",
       "2  ...                2                      17                  0   \n",
       "3  ...                0                       8                  0   \n",
       "4  ...                0                      10                  0   \n",
       "\n",
       "   Prest. Provision  Cantidad NO PMO  Cantidad PMO  Consumo NO PMO  \\\n",
       "0                 0                1             7            1.30   \n",
       "1                 0                2             3            1.30   \n",
       "2                 0                3            19         1589.25   \n",
       "3                 0               11            16         3151.30   \n",
       "4                 0                2             9            1.30   \n",
       "\n",
       "   Consumo PMO  Prest. NO PMO  Prest. PMO  \n",
       "0      1100.67              1           5  \n",
       "1      3365.48              2           3  \n",
       "2      3245.90              3          16  \n",
       "3      1271.28              2           6  \n",
       "4      5359.43              2           8  \n",
       "\n",
       "[5 rows x 83 columns]"
      ]
     },
     "execution_count": 64,
     "metadata": {},
     "output_type": "execute_result"
    }
   ],
   "source": [
    "# leemos el df consumo procesado\n",
    "dfcp = pd.read_csv('./PerPrest-Persona-Consumo-Bnknn_v2.csv', encoding = 'latin1', decimal=',')\n",
    "dfcp.head()"
   ]
  },
  {
   "cell_type": "code",
   "execution_count": 65,
   "metadata": {},
   "outputs": [],
   "source": [
    "dff = pd.merge(left = dfs, right = dfcp, \n",
    "               left_on=(\"Persona\",\"Periodo\"), right_on=(\"Persona\",\"Periodo_Prest\"), how = \"left\")"
   ]
  },
  {
   "cell_type": "code",
   "execution_count": 66,
   "metadata": {},
   "outputs": [
    {
     "data": {
      "text/plain": [
       "102792475.71000001"
      ]
     },
     "execution_count": 66,
     "metadata": {},
     "output_type": "execute_result"
    }
   ],
   "source": [
    "dff[\"Consumo Total\"].sum()"
   ]
  },
  {
   "cell_type": "code",
   "execution_count": 67,
   "metadata": {
    "scrolled": true
   },
   "outputs": [
    {
     "data": {
      "text/plain": [
       "102763070.06"
      ]
     },
     "execution_count": 67,
     "metadata": {},
     "output_type": "execute_result"
    }
   ],
   "source": [
    "dfcp[\"Consumo Total\"].sum()"
   ]
  },
  {
   "cell_type": "code",
   "execution_count": 68,
   "metadata": {},
   "outputs": [
    {
     "data": {
      "text/plain": [
       "array([202010, 202011, 202012, 202101, 202102, 202103, 202104, 202105,\n",
       "       202106, 202107, 202108, 202109], dtype=int64)"
      ]
     },
     "execution_count": 68,
     "metadata": {},
     "output_type": "execute_result"
    }
   ],
   "source": [
    "dfcp.Periodo_Prest.unique()"
   ]
  },
  {
   "cell_type": "code",
   "execution_count": 69,
   "metadata": {},
   "outputs": [],
   "source": [
    "dff = dff.fillna(0)"
   ]
  },
  {
   "cell_type": "code",
   "execution_count": 70,
   "metadata": {},
   "outputs": [],
   "source": [
    "# Exportamos el df final\n",
    "dff = dff.to_csv(\"Reporte_Brinkmann.csv\", encoding = 'latin1', decimal=',', index = False)"
   ]
  },
  {
   "cell_type": "code",
   "execution_count": null,
   "metadata": {},
   "outputs": [],
   "source": []
  },
  {
   "cell_type": "code",
   "execution_count": null,
   "metadata": {},
   "outputs": [],
   "source": []
  },
  {
   "cell_type": "code",
   "execution_count": null,
   "metadata": {},
   "outputs": [],
   "source": []
  },
  {
   "cell_type": "code",
   "execution_count": null,
   "metadata": {},
   "outputs": [],
   "source": []
  },
  {
   "cell_type": "code",
   "execution_count": null,
   "metadata": {},
   "outputs": [],
   "source": []
  },
  {
   "cell_type": "markdown",
   "metadata": {},
   "source": [
    "# Borrar todas las variables en memoria"
   ]
  },
  {
   "cell_type": "code",
   "execution_count": null,
   "metadata": {},
   "outputs": [],
   "source": [
    "# https://www.delftstack.com/es/howto/python/how-to-clear-variables-in-ipython/#:~:text=Podemos%20usar%20%25reset%20para%20borrar,para%20borrar%20una%20variable%20espec%C3%ADfica.\n",
    "%reset"
   ]
  },
  {
   "cell_type": "code",
   "execution_count": null,
   "metadata": {},
   "outputs": [],
   "source": []
  }
 ],
 "metadata": {
  "kernelspec": {
   "display_name": "Python 3 (ipykernel)",
   "language": "python",
   "name": "python3"
  },
  "language_info": {
   "codemirror_mode": {
    "name": "ipython",
    "version": 3
   },
   "file_extension": ".py",
   "mimetype": "text/x-python",
   "name": "python",
   "nbconvert_exporter": "python",
   "pygments_lexer": "ipython3",
   "version": "3.9.7"
  }
 },
 "nbformat": 4,
 "nbformat_minor": 4
}
