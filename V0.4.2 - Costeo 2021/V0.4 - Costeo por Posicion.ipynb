{
 "cells": [
  {
   "cell_type": "markdown",
   "metadata": {},
   "source": [
    "Primera versión con funciones:"
   ]
  },
  {
   "cell_type": "code",
   "execution_count": 1,
   "metadata": {},
   "outputs": [],
   "source": [
    "# Librerías usadas:\n",
    "import pandas as pd\n",
    "import numpy as np\n",
    "import os\n",
    "from datetime import datetime\n",
    "import funciones"
   ]
  },
  {
   "cell_type": "code",
   "execution_count": 3,
   "metadata": {},
   "outputs": [],
   "source": [
    "# Ruta donde se encuentran los seteos:\n",
    "ruta_seteos = 'C:/Users/lsaucedo/Desktop/set_archivo.txt'\n",
    "\n",
    "# leemos las variables de los diferentes archivos txt.\n",
    "variables = {}   # Diccionario que contendra los datos leidos.\n",
    "with open(ruta_seteos, \"r\") as datos:\n",
    "    for linea in datos:\n",
    "        nombre, valor = linea.strip().split(\"=\", maxsplit=1)\n",
    "        variables[nombre] = valor\n",
    "\n",
    "# Guardamos las variables en variables globales:\n",
    "ruta_aux = variables['ruta_aux']\n",
    "ruta_stock = variables['ruta_stock']\n",
    "ruta_consumo = variables['ruta_consumo']\n",
    "ruta_int = variables['ruta_int']\n",
    "ruta_diag = variables['ruta_diag']\n",
    "medicamentos_especiales = variables['medicamentos_especiales']\n",
    "cobertura_medicamentos = variables['cobertura_medicamentos']\n",
    "archivo_exportacion = variables['archivo_exportacion']\n",
    "resultado_exportacion = variables['resultado_exportacion']"
   ]
  },
  {
   "cell_type": "markdown",
   "metadata": {},
   "source": [
    "## Levantar los archivos de consumos"
   ]
  },
  {
   "cell_type": "code",
   "execution_count": 4,
   "metadata": {},
   "outputs": [
    {
     "name": "stdout",
     "output_type": "stream",
     "text": [
      "Inicio del proceso: 17:10:41\n",
      "Se cargó el archivo:  Cons_Brinkmann_202010_202109.xlsx a las: 17:11:58\n",
      "Fin de la carga de archivos\n"
     ]
    }
   ],
   "source": [
    "# Generamos dataframe de consumos:\n",
    "dfc = funciones.leer_xlsx(ruta = ruta_consumo)\n",
    "# renombramos las columnas:\n",
    "funciones.renombrar_columnas(df = dfc)"
   ]
  },
  {
   "cell_type": "markdown",
   "metadata": {},
   "source": [
    "## Agregamos marca PMO"
   ]
  },
  {
   "cell_type": "code",
   "execution_count": 5,
   "metadata": {},
   "outputs": [
    {
     "name": "stdout",
     "output_type": "stream",
     "text": [
      "Las prestaciones que no se pudieron catalogar fueron:\n",
      "['NS121002  ' 'NS0405710 ' 'NS0401070 ' 'NS0401100 ' 'NS0401080 '\n",
      " 'NS0401140 ']\n"
     ]
    }
   ],
   "source": [
    "# CREAMOS LA COLUMNA: \"Marca PMO\"\n",
    "# Levanto el excel con marca de prestaciones pmo\n",
    "dfpmo = pd.read_excel(ruta_aux + 'Aux_pmo.xlsx')\n",
    "# Quito los espacios a las prestaciones:\n",
    "dfc[\"Prest_sin_esp\"] = dfc.Prestacion.str.strip()\n",
    "# Unimos la marca al dfc\n",
    "dfc = pd.merge( left = dfc, right = dfpmo, left_on='Prest_sin_esp', \n",
    "               right_on='Prest sin espacios', how = \"left\")\n",
    "# Libero memoria:\n",
    "dfpmo = []\n",
    "# Prestaciones detectadas como faltantes:\n",
    "print('Las prestaciones que no se pudieron catalogar fueron:')\n",
    "print(dfc[dfc['Marca PMO'].isna()][\"Prestacion\"].unique())\n",
    "# Reemplazamos los nan de marca pmo por \"NO PMO\"\n",
    "dfc['Marca PMO'] = dfc['Marca PMO'].replace(np.nan,\"NO PMO\")"
   ]
  },
  {
   "cell_type": "markdown",
   "metadata": {},
   "source": [
    "## Agregamos Tipo Internación"
   ]
  },
  {
   "cell_type": "code",
   "execution_count": 6,
   "metadata": {},
   "outputs": [],
   "source": [
    "# CREAMOS LA COLUMNA: \"Tipo Int. ID\"\n",
    "# Levanto las internaciones históricas para cruzar:\n",
    "dfint = pd.read_excel(ruta_int)\n",
    "# Agregamos info a dfc\n",
    "dfc = pd.merge( left = dfc, right = dfint[['Paciente ID','Orden Int. ID','Tipo Int. ID']], \n",
    "               right_on=['Paciente ID','Orden Int. ID'], \n",
    "               left_on=['Persona','Orden Relacionada ID'], how = \"left\")\n",
    "# Libero memoria:\n",
    "dfint = []\n",
    "\n",
    "# Reemplazamos los falta dato por \"otras Int\"\n",
    "dfc['Tipo Int. ID'] = dfc['Tipo Int. ID'].replace(np.nan,\"Otras Int\")\n",
    "# Armado de la columna calculada:\n",
    "condiciones_dfint = [\n",
    "    (dfc['Origen Prestacion ID'] == 'I')]\n",
    "# Lista de resultados en función de las selecciones\n",
    "valores_dfint = [dfc['Tipo Int. ID']]   \n",
    "# Generación de la columna calculada\n",
    "dfc['Tipo Int. ID'] = np.select(condiciones_dfint, valores_dfint, default = 'No Considerar')"
   ]
  },
  {
   "cell_type": "markdown",
   "metadata": {},
   "source": [
    "## Apertura Total"
   ]
  },
  {
   "cell_type": "code",
   "execution_count": 7,
   "metadata": {},
   "outputs": [],
   "source": [
    "condiciones2 = [\n",
    "    (dfc['Origen Facturacion ID'] == 'A') ,\n",
    "    (dfc['Origen Facturacion ID'] == 'C') ,\n",
    "    (dfc['Nomenclador ID'] == 'ME') ,\n",
    "    (dfc['Nomenclador ID'] == 'M1') ,\n",
    "    (dfc['Origen Prestacion ID'] == 'I')]\n",
    "\n",
    "# Lista de resultados en función de las selecciones\n",
    "valores_condic2 = ['Naj', 'NC', 'MEd', 'MEd', 'Internacion sin A,C,Med']     \n",
    "\n",
    "# Generación de la columna calculada\n",
    "dfc['Apertura Total'] = np.select(condiciones2, valores_condic2, default = 'Ambulatorio sin A,C,Med')"
   ]
  },
  {
   "cell_type": "code",
   "execution_count": null,
   "metadata": {},
   "outputs": [],
   "source": []
  },
  {
   "cell_type": "markdown",
   "metadata": {},
   "source": [
    "# Apertura Amb por Rubros"
   ]
  },
  {
   "cell_type": "code",
   "execution_count": 8,
   "metadata": {},
   "outputs": [],
   "source": [
    "# Creamos la columna: Amb por Rubros\n",
    "\n",
    "\n",
    "# Apertura para consumo: Agrupador consumos 3\n",
    "\n",
    "condiciones3 = [\n",
    "    (dfc['Origen Prestacion ID'] == 'A') & (dfc['Rubro Indicadores Consumo ID'] == 'A'),\n",
    "    \n",
    "    (dfc['Origen Prestacion ID'] == 'A') & (dfc['Rubro Indicadores Consumo ID'] == 'I'),\n",
    "    \n",
    "    (dfc['Origen Prestacion ID'] == 'A') & (dfc['Rubro Indicadores Consumo ID'] == 'C'),\n",
    "    (dfc['Origen Prestacion ID'] == 'A') & (dfc['Rubro Indicadores Consumo ID'] == 'D'),\n",
    "    (dfc['Origen Prestacion ID'] == 'A') & (dfc['Rubro Indicadores Consumo ID'] == 'E'),\n",
    "    (dfc['Origen Prestacion ID'] == 'A') & (dfc['Rubro Indicadores Consumo ID'] == 'F'),\n",
    "    (dfc['Origen Prestacion ID'] == 'A') & (dfc['Rubro Indicadores Consumo ID'] == 'G'),\n",
    "    \n",
    "    (dfc['Origen Prestacion ID'] == 'A') & (dfc['Rubro Indicadores Consumo ID'] == 'N'),\n",
    "    \n",
    "    (dfc['Origen Prestacion ID'] == 'A') & (dfc['Rubro Indicadores Consumo ID'] == 'M'),\n",
    "    \n",
    "    (dfc['Origen Prestacion ID'] == 'A') & (dfc['Rubro Indicadores Consumo ID'] == 'J'),\n",
    "    (dfc['Origen Prestacion ID'] == 'A') & (dfc['Rubro Indicadores Consumo ID'] == 'R'),\n",
    "    (dfc['Origen Prestacion ID'] == 'A') & (dfc['Rubro Indicadores Consumo ID'] == 'S'),\n",
    "    (dfc['Origen Prestacion ID'] == 'A') & (dfc['Rubro Indicadores Consumo ID'] == 'T'),\n",
    "    (dfc['Origen Prestacion ID'] == 'A') & (dfc['Rubro Indicadores Consumo ID'] == 'U'),\n",
    "    (dfc['Origen Prestacion ID'] == 'A') & (dfc['Rubro Indicadores Consumo ID'] == 'V'),\n",
    "    (dfc['Origen Prestacion ID'] == 'A') & (dfc['Rubro Indicadores Consumo ID'] == 'W'),\n",
    "    (dfc['Origen Prestacion ID'] == 'A') & (dfc['Rubro Indicadores Consumo ID'] == 'X'),\n",
    "    \n",
    "    (dfc['Origen Prestacion ID'] == 'A') & (dfc['Nomenclador ID'] == 'ME'),\n",
    "    (dfc['Origen Prestacion ID'] == 'A') & (dfc['Nomenclador ID'] == 'M1'),\n",
    "\n",
    "    (dfc['Origen Prestacion ID'] == 'A') & (dfc['Nomenclador ID'] == 'NP'),\n",
    "    \n",
    "    (dfc['Origen Prestacion ID'] == 'A') & (dfc['Nomenclador ID'] == 'DI'),\n",
    "    \n",
    "    (dfc['Origen Prestacion ID'] == 'A') & (dfc['Nomenclador ID'] == 'NC'),\n",
    "    \n",
    "    (dfc['Origen Prestacion ID'] == 'A') & (dfc['Nomenclador ID'] == 'NA'),\n",
    "    \n",
    "    (dfc['Origen Prestacion ID'] == 'A') ]\n",
    "\n",
    "# Lista de resultados en función de las selecciones\n",
    "valores_condic3 = ['Consulta', 'Laboratorio', 'Imagenes', 'Imagenes', 'Imagenes', \n",
    "                  'Imagenes', 'Imagenes', 'Fisiokinesio', 'Salud Mental', \n",
    "                  'Odontologia', 'Odontologia', 'Odontologia', 'Odontologia', \n",
    "                   'Odontologia', 'Odontologia', 'Odontologia', 'Odontologia',\n",
    "                   'Amb ME','Amb ME','Amb NP','Amb DI', 'Amb NC',\n",
    "                   'Amb NA','Resto Amb']   \n",
    "\n",
    "# Generación de la columna calculada\n",
    "dfc['Amb por Rubros'] = np.select(condiciones3, valores_condic3, default = 'No Considerar')\n"
   ]
  },
  {
   "cell_type": "code",
   "execution_count": null,
   "metadata": {},
   "outputs": [],
   "source": []
  },
  {
   "cell_type": "markdown",
   "metadata": {},
   "source": [
    "## Apertura Medicamentos por Origen Prestacion"
   ]
  },
  {
   "cell_type": "code",
   "execution_count": 9,
   "metadata": {},
   "outputs": [],
   "source": [
    "# Apertura para consumo: Medicamentos por Origen\n",
    "\n",
    "condiciones4 = [\n",
    "    \n",
    "    # Condiciones para marcar medicamentos en internacion:\n",
    "    (dfc['Origen Prestacion ID'] == 'I') & (dfc['Nomenclador ID'] == 'ME'),\n",
    "    (dfc['Origen Prestacion ID'] == 'I') & (dfc['Nomenclador ID'] == 'M1'),\n",
    "    \n",
    "    # Condiciones para marcar medicamentos en amb -> no se filtra origen (por defecto mandar a AMB)\n",
    "    (dfc['Nomenclador ID'] == 'ME'),\n",
    "    (dfc['Nomenclador ID'] == 'M1') ]\n",
    "\n",
    "# Lista de resultados en función de las selecciones\n",
    "valores_condic4 = ['Med. Int', 'Med. Int', 'Med. Amb', 'Med. Amb']     \n",
    "\n",
    "# Generación de la columna calculada\n",
    "dfc['Medicamentos por Origen'] = np.select(condiciones4, valores_condic4, default = 'No Considerar')"
   ]
  },
  {
   "cell_type": "code",
   "execution_count": null,
   "metadata": {},
   "outputs": [],
   "source": []
  },
  {
   "cell_type": "markdown",
   "metadata": {},
   "source": [
    "## Medicamentos por Vía"
   ]
  },
  {
   "cell_type": "code",
   "execution_count": 10,
   "metadata": {},
   "outputs": [],
   "source": [
    "# Apertura para consumo: Medicamentos por via\n",
    "\n",
    "condiciones5 = [\n",
    "    \n",
    "    # Condiciones para marcar medicamentos en internacion:\n",
    "    (dfc['Provision Acreedor ID'] == 6) & (dfc['Nomenclador ID'] == 'ME'),\n",
    "    (dfc['Provision Acreedor ID'] == 6) & (dfc['Nomenclador ID'] == 'M1'),\n",
    "\n",
    "    (dfc['Provision Acreedor ID'] == 66) & (dfc['Nomenclador ID'] == 'ME'),\n",
    "    (dfc['Provision Acreedor ID'] == 66) & (dfc['Nomenclador ID'] == 'M1'),\n",
    "    \n",
    "    (dfc['Nomenclador ID'] == 'ME'),\n",
    "    (dfc['Nomenclador ID'] == 'M1') ]\n",
    "\n",
    "# Lista de resultados en función de las selecciones\n",
    "valores_condic5 = ['Farmacia', 'Farmacia', 'Provision', 'Provision', 'Otras vias', 'Otras vias']     \n",
    "\n",
    "# Generación de la columna calculada\n",
    "dfc['Medicamentos por Via'] = np.select(condiciones5, valores_condic5, default = 'No Considerar')"
   ]
  },
  {
   "cell_type": "code",
   "execution_count": null,
   "metadata": {},
   "outputs": [],
   "source": []
  },
  {
   "cell_type": "markdown",
   "metadata": {},
   "source": [
    "## Medicamentos por Cobertura"
   ]
  },
  {
   "cell_type": "code",
   "execution_count": 11,
   "metadata": {},
   "outputs": [],
   "source": [
    "# Creamos la columna adicional: medicamentos por cobertura:\n",
    "\n",
    "dfmed = pd.read_excel(medicamentos_especiales)\n",
    "\n",
    "\n",
    "# Cruzamos con el dfc:\n",
    "dfc = pd.merge( left = dfc, right = dfmed[[\"Prestacion\",\"Tipo_med\"]], \n",
    "               left_on='Prestacion', right_on='Prestacion', how = \"left\")\n",
    "\n",
    "# Libero memoria:\n",
    "dfmed = []\n",
    "\n",
    "\n",
    "# Cálculos auxiliares para definir % cobertura:\n",
    "# Creo el cálculo auxiliar con *10 para quedarnos con la decena de la cobertura\n",
    "dfc['Cob_prec_sug'] = (dfc.Consumo / dfc.Precio_sug)*10\n",
    "\n",
    "# Reemplazo valores +inf y -inf por 0\n",
    "dfc['Cob_prec_sug'] = dfc['Cob_prec_sug'].replace([np.inf, -np.inf], 0)\n",
    "\n",
    "# Redondeo a 0 y multiplico por 10 para quedarme con la decena\n",
    "dfc['Cob_prec_sug'] = round(dfc['Cob_prec_sug'],0)*10\n",
    "\n",
    "\n",
    "\n",
    "# Coberturas\n",
    "dfmed2 = pd.read_excel(cobertura_medicamentos)\n",
    "\n",
    "# Cruzamos con el dfc:\n",
    "dfc = pd.merge( left = dfc, right = dfmed2[[\"Plan\",\"Cobertura_med_id\"]], \n",
    "               left_on='Plan', right_on='Plan', how = \"left\")\n",
    "\n",
    "# Libero memoria:\n",
    "dfmed2 = []\n",
    "\n",
    "\n",
    "# MARCA COBERTURA BASE\n",
    "\n",
    "# Transformo las provisiones en función de su descripción\n",
    "condiciones_c = [\n",
    "    (dfc.Cobertura_med_id == 301) & (dfc.Cobertura_DW == 40) & (dfc.Cob_prec_sug == 40),\n",
    "    (dfc.Cobertura_med_id == 302) & (dfc.Cobertura_DW == 40) & (dfc.Cob_prec_sug == 40),\n",
    "    (dfc.Cobertura_med_id == 302) & (dfc.Cobertura_DW == 50) & (dfc.Cob_prec_sug == 50),    \n",
    "    (dfc.Cobertura_med_id == 303) & (dfc.Cobertura_DW == 50) & (dfc.Cob_prec_sug == 50),\n",
    "    (dfc.Cobertura_med_id == 304) & (dfc.Cobertura_DW == 60) & (dfc.Cob_prec_sug == 60),\n",
    "    (dfc.Cobertura_med_id == 305) & (dfc.Cobertura_DW == 70) & (dfc.Cob_prec_sug == 70),\n",
    "    (dfc.Cobertura_med_id == 306) & (dfc.Cobertura_DW == 80) & (dfc.Cob_prec_sug == 80),\n",
    "    (dfc.Cobertura_med_id == 307) & (dfc.Cobertura_DW == 40) & (dfc.Cob_prec_sug == 40),\n",
    "    (dfc.Cobertura_med_id == 307) & (dfc.Cobertura_DW == 60) & (dfc.Cob_prec_sug == 60),\n",
    "    (dfc.Cobertura_med_id == 308) & (dfc.Cobertura_DW == 40) & (dfc.Cob_prec_sug == 40),\n",
    "    (dfc.Cobertura_med_id == 310) & (dfc.Cobertura_DW == 40) & (dfc.Cob_prec_sug == 40),\n",
    "    (dfc.Cobertura_med_id == 312) & (dfc.Cobertura_DW == 40) & (dfc.Cob_prec_sug == 40),\n",
    "    (dfc.Cobertura_med_id == 312) & (dfc.Cobertura_DW == 60) & (dfc.Cob_prec_sug == 60),\n",
    "    (dfc.Cobertura_med_id == 313) & (dfc.Cobertura_DW == 40) & (dfc.Cob_prec_sug == 40),\n",
    "    (dfc.Cobertura_med_id == 313) & (dfc.Cobertura_DW == 40) & (dfc.Cob_prec_sug == 40),\n",
    "    (dfc.Cobertura_med_id == 315) & (dfc.Cobertura_DW == 40) & (dfc.Cob_prec_sug == 40) \n",
    "]\n",
    "\n",
    "# Lista de resultados en función de las selecciones\n",
    "valores_condic_c = ['Cob. Base 40%', \n",
    "                  'Cob. Base 40%',\n",
    "                  'Cob. Base 50%',\n",
    "                  'Cob. Base 50%',\n",
    "                  'Cob. Base 60%',\n",
    "                  'Cob. Base 70%',\n",
    "                  'Cob. Base 80%',\n",
    "                  'Cob. Base 40%',\n",
    "                  'Cob. Base 60%',\n",
    "                  'Cob. Base 40%',\n",
    "                  'Cob. Base 40%',\n",
    "                  'Cob. Base 40%',\n",
    "                  'Cob. Base 60%',\n",
    "                  'Cob. Base 40%',\n",
    "                  'Cob. Base 40%',\n",
    "                  'Cob. Base 40%']     \n",
    "\n",
    "# Generación de la columna calculada\n",
    "dfc['Marca_Cob_Base'] = np.select(condiciones_c, valores_condic_c, default = 'No Cob. Base')\n",
    "\n",
    "\n",
    "# MARCA COBERTURA 100%\n",
    "\n",
    "condiciones = [(dfc.Cobertura_DW == 100) & (dfc.Cob_prec_sug == 100)]\n",
    "\n",
    "# Lista de resultados en función de las selecciones\n",
    "valores_condic = ['Cobertura 100%']  \n",
    "\n",
    "# Generación de la columna calculada\n",
    "dfc['Marca_Cobertura_100'] = np.select(condiciones, valores_condic, default = 'No Cobertura 100%')\n",
    "\n",
    "\n",
    "\n",
    "# Genero la agrupación final med\n",
    "condiciones = [\n",
    "    # Tipo medicamento es MACBI, ME6000 o M1 o R310.\n",
    "    dfc.Tipo_med == 'ME6000000 y ME1600085',\n",
    "    dfc.Tipo_med.isnull() == 0,\n",
    "    dfc.Marca_Cob_Base != 'No Cob. Base',\n",
    "    dfc.Marca_Cobertura_100 == \"Cobertura 100%\",\n",
    "    dfc[\"Tipo Orden ID\"] == 4,\n",
    "    dfc[\"Nomenclador ID\"] == 'ME',\n",
    "    dfc[\"Nomenclador ID\"] == 'M1']\n",
    "    \n",
    "# Lista de resultados en función de las selecciones\n",
    "valores_condic = [\"Prest Genéricas\", dfc.Tipo_med, dfc.Marca_Cob_Base, dfc.Marca_Cobertura_100, \"Form. 4\", \"Otros\", \"Otros\"]  \n",
    "\n",
    "# Generación de la columna calculada\n",
    "dfc['Medicamentos por Cobertura'] = np.select(condiciones, valores_condic, default = 'No Considerar')"
   ]
  },
  {
   "cell_type": "code",
   "execution_count": null,
   "metadata": {},
   "outputs": [],
   "source": []
  },
  {
   "cell_type": "markdown",
   "metadata": {},
   "source": [
    "## Creamos las diferentes tds"
   ]
  },
  {
   "cell_type": "code",
   "execution_count": 12,
   "metadata": {},
   "outputs": [],
   "source": [
    "# Segmentaciones y métricas comúnes:\n",
    "\n",
    "segmentacion = (['Periodo_Prest', 'Persona'])\n",
    "\n",
    "# dejo para probar procesamientos más rápido (debugging)\n",
    "segmentacion2 = ['Periodo', 'Sexo']\n",
    "\n",
    "\n",
    "# Defino las métricas a calcular\n",
    "metricas = ({'Consumo':[np.sum], 'Prestacion':pd.Series.nunique,'Cantidad':[np.sum]})\n",
    "\n",
    "\n",
    "metricas2 = ({  'Consumo':[np.sum,len],\n",
    "                'Cantidad':np.sum })"
   ]
  },
  {
   "cell_type": "code",
   "execution_count": 13,
   "metadata": {},
   "outputs": [],
   "source": [
    "td1 = pd.pivot_table(dfc, index = segmentacion, aggfunc = metricas, fill_value = 0)\n",
    "\n",
    "# Nombres de columnas:\n",
    "col_td1 = [\n",
    "\n",
    "    \"Cantidad Total\",\n",
    "    \"Consumo Total\",\n",
    "    \"Prest. Dist. Total\"  ]\n",
    "\n",
    "# Renombro las columnas:\n",
    "td1.columns = col_td1"
   ]
  },
  {
   "cell_type": "code",
   "execution_count": 15,
   "metadata": {},
   "outputs": [
    {
     "name": "stderr",
     "output_type": "stream",
     "text": [
      "c:\\GitHub\\Modelos_Costeo\\V0.4.2 - Costeo 2021\\funciones.py:83: FutureWarning: In a future version of pandas all arguments of DataFrame.drop except for the argument 'labels' will be keyword-only\n",
      "  td = td.drop(td.columns[col_drop],1)\n"
     ]
    },
    {
     "name": "stdout",
     "output_type": "stream",
     "text": [
      "fin td2 -- 17:14:53\n",
      "fin td3 -- 17:14:58\n",
      "fin td4 -- 17:15:00\n",
      "fin td5 -- 17:15:02\n",
      "fin td6 -- 17:15:04\n",
      "fin td7 -- 17:15:06\n",
      "fin td8 -- 17:15:08\n"
     ]
    }
   ],
   "source": [
    "td2 = funciones.td_consumo(df = dfc, columna = \"Apertura Total\", segmentacion = segmentacion, metricas = metricas)\n",
    "print(\"fin td2 -- \" + datetime.now().strftime('%H:%M:%S'))\n",
    "\n",
    "td3 = funciones.td_consumo(df = dfc, columna = \"Amb por Rubros\", segmentacion = segmentacion, metricas = metricas)\n",
    "print(\"fin td3 -- \" + datetime.now().strftime('%H:%M:%S'))\n",
    "\n",
    "td4 = funciones.td_consumo(df = dfc, columna = \"Medicamentos por Origen\", segmentacion = segmentacion, metricas = metricas)\n",
    "print(\"fin td4 -- \" + datetime.now().strftime('%H:%M:%S'))\n",
    "\n",
    "td5= funciones.td_consumo(df = dfc, columna = \"Medicamentos por Via\", segmentacion = segmentacion, metricas = metricas)\n",
    "print(\"fin td5 -- \" + datetime.now().strftime('%H:%M:%S'))\n",
    "\n",
    "td6 = funciones.td_consumo(df = dfc, columna = \"Medicamentos por Cobertura\", segmentacion = segmentacion, metricas = metricas)\n",
    "print(\"fin td6 -- \" + datetime.now().strftime('%H:%M:%S'))\n",
    "\n",
    "td7 = funciones.td_consumo(df = dfc, columna = \"Tipo Int. ID\", segmentacion = segmentacion, metricas = metricas)\n",
    "print(\"fin td7 -- \" + datetime.now().strftime('%H:%M:%S'))\n",
    "\n",
    "td8 = funciones.td_consumo(df = dfc, columna = \"Marca PMO\", segmentacion = segmentacion, metricas = metricas)\n",
    "print(\"fin td8 -- \" + datetime.now().strftime('%H:%M:%S'))"
   ]
  },
  {
   "cell_type": "code",
   "execution_count": null,
   "metadata": {},
   "outputs": [],
   "source": []
  },
  {
   "cell_type": "markdown",
   "metadata": {},
   "source": [
    "# Agrupamos las td que queremos y las exportamos como \"Consumos\""
   ]
  },
  {
   "cell_type": "code",
   "execution_count": 16,
   "metadata": {},
   "outputs": [],
   "source": [
    "tdt = pd.concat([td1, td2, td3, td4, td5, td6, td7, td8], axis=1)\n",
    "# NO EXPORTO EN ESTE CASO EL CONSUMO (continuo el script hasta finalizar)\n",
    "# tdt.to_csv(archivo_exportacion, encoding = 'latin1', decimal=',')"
   ]
  },
  {
   "cell_type": "code",
   "execution_count": null,
   "metadata": {},
   "outputs": [],
   "source": []
  },
  {
   "cell_type": "code",
   "execution_count": null,
   "metadata": {},
   "outputs": [],
   "source": []
  },
  {
   "cell_type": "code",
   "execution_count": null,
   "metadata": {},
   "outputs": [],
   "source": []
  },
  {
   "cell_type": "markdown",
   "metadata": {},
   "source": [
    "# Agrupamos el análisis con Stock"
   ]
  },
  {
   "cell_type": "code",
   "execution_count": 17,
   "metadata": {},
   "outputs": [
    {
     "name": "stdout",
     "output_type": "stream",
     "text": [
      "Inicio del proceso: 17:16:18\n",
      "Se cargó el archivo:  Stock_brinkmann_202010-202109.xlsx a las: 17:16:25\n",
      "Fin de la carga de archivos\n"
     ]
    }
   ],
   "source": [
    "dfs = funciones.leer_xlsx(ruta = ruta_stock)"
   ]
  },
  {
   "cell_type": "code",
   "execution_count": 18,
   "metadata": {},
   "outputs": [],
   "source": [
    "funciones.renombrar_columnas(dfs)"
   ]
  },
  {
   "cell_type": "code",
   "execution_count": null,
   "metadata": {},
   "outputs": [],
   "source": []
  },
  {
   "cell_type": "markdown",
   "metadata": {},
   "source": [
    "## Agregado de Auxiliares"
   ]
  },
  {
   "cell_type": "code",
   "execution_count": 21,
   "metadata": {},
   "outputs": [],
   "source": [
    "# RANGO DE EDAD\n",
    "\n",
    "\n",
    "# Levanto la auxiliar:\n",
    "Aux_RangoEdad = pd.read_excel(ruta_aux + \"Aux_RangoEdad.xlsx\")\n",
    "# Pego la informacion al df stock:\n",
    "dfs = pd.merge(left = dfs, right = Aux_RangoEdad[[\"Edad\",\"Rango_Edad\"]], left_on='Edad', right_on='Edad', how = \"left\")\n",
    "# Elimino la columna adicional -- no hay\n",
    "\n",
    "# Elimino Aux_RangoEdad de memoria\n",
    "Aux_RangoEdad = []"
   ]
  },
  {
   "cell_type": "code",
   "execution_count": 22,
   "metadata": {},
   "outputs": [],
   "source": [
    "# CARTILLA BASE\n",
    "\n",
    "\n",
    "# Levanto la auxiliar:\n",
    "Aux_CartillaBase = pd.read_excel(ruta_aux+\"Aux_CartillaBase.xlsx\")\n",
    "# Pego la informacion al df stock:\n",
    "dfs = pd.merge(left = dfs, right = Aux_CartillaBase[[\"Plan\",\"Modelo_Cartilla\"]], left_on='Plan', right_on='Plan', how = \"left\")\n",
    "# Elimino la columna adicional -- no hay\n",
    "\n",
    "# Elimino Aux_CartillaBase de memoria\n",
    "Aux_CartillaBase = []"
   ]
  },
  {
   "cell_type": "code",
   "execution_count": 23,
   "metadata": {},
   "outputs": [],
   "source": [
    "# COBERTURA MED\n",
    "\n",
    "\n",
    "# Levanto la auxiliar:\n",
    "Aux_CobertMedicamentosPlan = pd.read_excel(ruta_aux+\"Aux_CobertMedicamentosPlan.xlsx\")\n",
    "# Pego la informacion al df stock:\n",
    "dfs = pd.merge(left = dfs, right = Aux_CobertMedicamentosPlan[[\"Plan\",\"Cobertura_med_id\"]], left_on='Plan', right_on='Plan', how = \"left\")\n",
    "# Elimino la columna adicional -- no hay\n",
    "\n",
    "# Elimino Aux_CartillaBase de memoria\n",
    "Aux_CobertMedicamentosPlan = []"
   ]
  },
  {
   "cell_type": "code",
   "execution_count": 24,
   "metadata": {},
   "outputs": [],
   "source": [
    "# LISTA COPAGOS\n",
    "\n",
    "# Levanto la auxiliar:\n",
    "Aux_ListaCopagos = pd.read_excel(ruta_aux+\"Aux_ListaCopagos.xlsx\")\n",
    "# Pego la informacion al df stock:\n",
    "dfs = pd.merge(left = dfs, right = Aux_ListaCopagos[[\"Plan\",\"Lista_PrecioDesc\"]], left_on='Plan', right_on='Plan', how = \"left\")\n",
    "# Elimino la columna adicional -- no hay\n",
    "\n",
    "# Elimino Aux_CartillaBase de memoria\n",
    "Aux_ListaCopagos = []"
   ]
  },
  {
   "cell_type": "code",
   "execution_count": 25,
   "metadata": {},
   "outputs": [],
   "source": [
    "# DIAGNOSTICOS\n",
    "\n",
    "dfdiag = pd.read_csv(ruta_diag)\n",
    "\n",
    "# Pego la informacion al df stock:\n",
    "dfs = pd.merge(left = dfs, right = dfdiag[[\"Persona\",'GC', 'Rango_Cons', \n",
    "              'algun_diag', 'prop_diag', 'Marca_Diagnostico']], left_on='Persona', right_on='Persona', how = \"left\")\n",
    "# Elimino la columna adicional -- no hay\n",
    "\n",
    "# Elimino Aux_CartillaBase de memoria\n",
    "dfdiag = []\n",
    "\n",
    "\n",
    "# Reemplazo valores de filas con replace:\n",
    "dfs['Diabetes'] = dfs['Diabetes'].replace(['No Diabético', 'Diabético'], [0, 1])\n",
    "dfs['Hepatitis'] = dfs['Hepatitis'].replace(['Sin Hepatitis', 'Con Hepatitis'], [0, 1])\n",
    "dfs['PMI'] = dfs['PMI'].replace(['NO', 'SI'], [0, 1])\n",
    "dfs['Cronico'] = dfs['Cronico'].replace(['NO', 'SI'], [0, 1])\n",
    "dfs['Oncologico'] = dfs['Oncologico'].replace(['Sin Marca', 'Paciente Oncológico'], [0, 1])\n",
    "dfs['algun_diag'] = dfs['Marca_Diagnostico'].replace(['Sin Diagnostico', 'Con Diagnostico'], [0, 1])"
   ]
  },
  {
   "cell_type": "code",
   "execution_count": null,
   "metadata": {},
   "outputs": [],
   "source": [
    "# TRANSFORMACIONES NECESARIAS\n",
    "\n",
    "# Reemplazo los datos faltantes:\n",
    "dfs[\"GC\"].fillna(0, inplace = True)\n",
    "dfs[\"Rango_Cons\"].fillna(\"Muy Bajo\", inplace = True)\n",
    "dfs[\"algun_diag\"].fillna(0, inplace = True)\n",
    "dfs[\"prop_diag\"].fillna(0, inplace = True)\n",
    "dfs[\"Marca_Diagnostico\"].fillna(\"Sin Diagnostico\", inplace = True)\n",
    "\n",
    "# Reemplazo los valores mayores a 1 por 1 para que quede marca de gc 1 o 0\n",
    "#en lugar de cantidad de veces siendo GC..\n",
    "# Es un reemplazar que funciona al revez: Reemplaza todos los valores que NO CUMPLEN la condición\n",
    "dfs['GC'] = dfs['GC'].where(dfs['GC'] == 0 , 1)\n",
    "\n",
    "\n",
    "\n",
    "# Agregamos los parentescos de los hijos:\n",
    "# Método np.select()\n",
    "\n",
    "condiciones = [\n",
    "    (dfs['Parentesco IdParentesco'] == 3),\n",
    "    (dfs['Parentesco IdParentesco'] == 4),\n",
    "    (dfs['Parentesco IdParentesco'] == 5),\n",
    "    (dfs['Parentesco IdParentesco'] == 6),\n",
    "    (dfs['Parentesco IdParentesco'] == 7)]\n",
    "\n",
    "# Lista de resultados en función de las selecciones\n",
    "valores_condic = [1,1,1,1,1]     \n",
    "\n",
    "# Generación de la columna calculada\n",
    "dfs['Marca Hijo'] = np.select(condiciones, valores_condic, default=0) # se analizaron y surgen de consumo 3 == 0"
   ]
  },
  {
   "cell_type": "code",
   "execution_count": null,
   "metadata": {},
   "outputs": [],
   "source": [
    "# Reemplazo valores de filas con replace:\n",
    "dfs['Sexo'] = dfs['Sexo'].replace(['M', 'F'], [1, 0])\n",
    "dfs['Discapacidad'] = dfs['Discapacidad'].replace(['N', 'S'], [0, 1])"
   ]
  },
  {
   "cell_type": "markdown",
   "metadata": {},
   "source": [
    "## Armo la tabla consolidada de stock\n",
    "Por ahora se saca consolidado total"
   ]
  },
  {
   "cell_type": "markdown",
   "metadata": {},
   "source": [
    "# Creamos el df final del reporte"
   ]
  },
  {
   "cell_type": "code",
   "execution_count": null,
   "metadata": {},
   "outputs": [],
   "source": [
    "# reinicio indices de los dataframes de consumo y stock procesados\n",
    "tdt = tdt.reset_index()"
   ]
  },
  {
   "cell_type": "code",
   "execution_count": null,
   "metadata": {},
   "outputs": [],
   "source": [
    "# tdt es el consumo consolidado\n",
    "# tds es la td de stock por persona\n",
    "\n",
    "dff = pd.merge(left = dfs, right = tdt, \n",
    "               left_on=(\"Persona\",\"Periodo\"), right_on=(\"Persona\",\"Periodo_Prest\"), how = \"left\")\n",
    "\n",
    "dff = dff.fillna(0)"
   ]
  },
  {
   "cell_type": "code",
   "execution_count": null,
   "metadata": {},
   "outputs": [],
   "source": [
    "dff.to_csv(resultado_exportacion, encoding = 'latin1', index = False, decimal=',')"
   ]
  },
  {
   "cell_type": "code",
   "execution_count": null,
   "metadata": {},
   "outputs": [],
   "source": []
  },
  {
   "cell_type": "code",
   "execution_count": null,
   "metadata": {},
   "outputs": [],
   "source": []
  },
  {
   "cell_type": "code",
   "execution_count": null,
   "metadata": {},
   "outputs": [],
   "source": []
  },
  {
   "cell_type": "code",
   "execution_count": null,
   "metadata": {},
   "outputs": [],
   "source": []
  },
  {
   "cell_type": "code",
   "execution_count": null,
   "metadata": {},
   "outputs": [],
   "source": []
  },
  {
   "cell_type": "code",
   "execution_count": null,
   "metadata": {},
   "outputs": [],
   "source": []
  },
  {
   "cell_type": "code",
   "execution_count": null,
   "metadata": {},
   "outputs": [],
   "source": []
  },
  {
   "cell_type": "code",
   "execution_count": null,
   "metadata": {},
   "outputs": [],
   "source": []
  },
  {
   "cell_type": "code",
   "execution_count": null,
   "metadata": {},
   "outputs": [],
   "source": []
  },
  {
   "cell_type": "code",
   "execution_count": null,
   "metadata": {},
   "outputs": [],
   "source": []
  }
 ],
 "metadata": {
  "interpreter": {
   "hash": "562c9c567e50c33fd32533d1041799ab9ec09a9cf2f2e4c1c846bbf665f39d1b"
  },
  "kernelspec": {
   "display_name": "Python 3.9.7 ('base')",
   "language": "python",
   "name": "python3"
  },
  "language_info": {
   "codemirror_mode": {
    "name": "ipython",
    "version": 3
   },
   "file_extension": ".py",
   "mimetype": "text/x-python",
   "name": "python",
   "nbconvert_exporter": "python",
   "pygments_lexer": "ipython3",
   "version": "3.9.7"
  }
 },
 "nbformat": 4,
 "nbformat_minor": 4
}
