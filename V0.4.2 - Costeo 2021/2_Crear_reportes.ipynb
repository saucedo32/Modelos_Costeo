{
 "cells": [
  {
   "cell_type": "markdown",
   "metadata": {},
   "source": [
    "# Desde una ruta CSV"
   ]
  },
  {
   "cell_type": "code",
   "execution_count": 1,
   "metadata": {},
   "outputs": [],
   "source": [
    "# Librerías usadas:\n",
    "import pandas as pd\n",
    "import numpy as np\n",
    "import os\n",
    "from datetime import datetime\n",
    "import funciones\n",
    "import proceso\n",
    "import generador_zona\n",
    "\n",
    "ruta_set = \"C:/Users/lsaucedo/Desktop/Reportes_Costeo/Set_Archivos/\"\n",
    "lista_archivos = os.listdir(ruta_set)"
   ]
  },
  {
   "cell_type": "code",
   "execution_count": 2,
   "metadata": {},
   "outputs": [
    {
     "name": "stdout",
     "output_type": "stream",
     "text": [
      "inicia el proceso de Resto.txt\n",
      "float64\n",
      "float64\n",
      "ok, apertura pmo\n",
      "float64\n",
      "ok, internaciones\n",
      "ok, apertura total\n",
      "ok, apertura rubros\n",
      "float64\n",
      "ok, apertura medicamentos\n",
      "ok, apertura via medicamentos\n",
      "float64\n",
      "inicia la apertura medicamentos por cobertura\n",
      "float64\n",
      "división de valores iniciando\n",
      "división de valores finalizada\n",
      "redondear\n",
      "realizamos el cruce\n",
      "ok, apertura medicamentos por cobertura\n",
      "inicio tds\n",
      "vamos por la td8 finalizada\n",
      "todas las tds finalizadas, vamos a concatenarlas\n",
      "todas las tds concatenadas\n",
      "Pasamos rango edad\n",
      "Pasamos cartilla base\n",
      "Pasamos marca cobertura med\n",
      "Pasamos lista copagos\n",
      "Pasamos marca diag\n",
      "Pasamos parentesco\n",
      "Unimos por periodo persona el consumo para generar el archivo de salida\n",
      "exportando archivo de salida:\n"
     ]
    },
    {
     "ename": "AttributeError",
     "evalue": "module 'generador_zona' has no attribute 'generador_zona_df_con_per_csv'",
     "output_type": "error",
     "traceback": [
      "\u001b[1;31m---------------------------------------------------------------------------\u001b[0m",
      "\u001b[1;31mAttributeError\u001b[0m                            Traceback (most recent call last)",
      "\u001b[1;32m~\\AppData\\Local\\Temp/ipykernel_14684/1252622770.py\u001b[0m in \u001b[0;36m<module>\u001b[1;34m\u001b[0m\n\u001b[0;32m      6\u001b[0m \u001b[1;33m\u001b[0m\u001b[0m\n\u001b[0;32m      7\u001b[0m     \u001b[1;31m# Con apertura período\u001b[0m\u001b[1;33m\u001b[0m\u001b[1;33m\u001b[0m\u001b[0m\n\u001b[1;32m----> 8\u001b[1;33m     \u001b[0mgenerador_zona\u001b[0m\u001b[1;33m.\u001b[0m\u001b[0mgenerador_zona_df_con_per_csv\u001b[0m\u001b[1;33m(\u001b[0m\u001b[0mruta_set\u001b[0m \u001b[1;33m+\u001b[0m \u001b[0marchivos\u001b[0m\u001b[1;33m)\u001b[0m\u001b[1;33m\u001b[0m\u001b[1;33m\u001b[0m\u001b[0m\n\u001b[0m\u001b[0;32m      9\u001b[0m \u001b[1;33m\u001b[0m\u001b[0m\n\u001b[0;32m     10\u001b[0m     \u001b[0mprint\u001b[0m\u001b[1;33m(\u001b[0m\u001b[1;34m\"finalizado el proceso de\"\u001b[0m\u001b[1;33m,\u001b[0m \u001b[0marchivos\u001b[0m\u001b[1;33m)\u001b[0m\u001b[1;33m\u001b[0m\u001b[1;33m\u001b[0m\u001b[0m\n",
      "\u001b[1;31mAttributeError\u001b[0m: module 'generador_zona' has no attribute 'generador_zona_df_con_per_csv'"
     ]
    }
   ],
   "source": [
    "for archivos in lista_archivos:\n",
    "    print(\"inicia el proceso de\", archivos)\n",
    "\n",
    "    # Sin apertura periodo (cuando se procesan todas las zonas)\n",
    "    #generador_zona.generador_zona_df_csv(ruta_set + archivos)\n",
    "\n",
    "    # Con apertura período\n",
    "    generador_zona.generador_zona_df_con_periodo_csv(ruta_set + archivos)\n",
    "\n",
    "    print(\"finalizado el proceso de\", archivos)"
   ]
  },
  {
   "cell_type": "code",
   "execution_count": null,
   "metadata": {},
   "outputs": [],
   "source": []
  },
  {
   "cell_type": "code",
   "execution_count": null,
   "metadata": {},
   "outputs": [],
   "source": []
  },
  {
   "cell_type": "code",
   "execution_count": null,
   "metadata": {},
   "outputs": [],
   "source": []
  },
  {
   "cell_type": "code",
   "execution_count": null,
   "metadata": {},
   "outputs": [],
   "source": []
  }
 ],
 "metadata": {
  "kernelspec": {
   "display_name": "Python 3.9.7 ('base')",
   "language": "python",
   "name": "python3"
  },
  "language_info": {
   "codemirror_mode": {
    "name": "ipython",
    "version": 3
   },
   "file_extension": ".py",
   "mimetype": "text/x-python",
   "name": "python",
   "nbconvert_exporter": "python",
   "pygments_lexer": "ipython3",
   "version": "3.9.7"
  },
  "orig_nbformat": 4,
  "vscode": {
   "interpreter": {
    "hash": "562c9c567e50c33fd32533d1041799ab9ec09a9cf2f2e4c1c846bbf665f39d1b"
   }
  }
 },
 "nbformat": 4,
 "nbformat_minor": 2
}
