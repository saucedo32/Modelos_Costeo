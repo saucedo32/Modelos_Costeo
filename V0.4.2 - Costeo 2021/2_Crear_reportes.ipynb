{
 "cells": [
  {
   "cell_type": "markdown",
   "metadata": {},
   "source": [
    "# Desde una ruta CSV"
   ]
  },
  {
   "cell_type": "code",
   "execution_count": 5,
   "metadata": {},
   "outputs": [],
   "source": [
    "# Librerías usadas:\n",
    "import pandas as pd\n",
    "import numpy as np\n",
    "import os\n",
    "from datetime import datetime\n",
    "import funciones\n",
    "import proceso\n",
    "import generador_zona\n",
    "\n",
    "ruta_set = \"C:/Users/lsaucedo/Desktop/Reportes_Costeo/Set_Archivos/\"\n",
    "lista_archivos = os.listdir(ruta_set)"
   ]
  },
  {
   "cell_type": "code",
   "execution_count": 6,
   "metadata": {},
   "outputs": [
    {
     "name": "stdout",
     "output_type": "stream",
     "text": [
      "inicia el proceso de Resto.txt\n",
      "float64\n",
      "float64\n",
      "ok, apertura pmo\n",
      "float64\n",
      "ok, internaciones\n",
      "ok, apertura total\n",
      "ok, apertura rubros\n",
      "float64\n",
      "ok, apertura medicamentos\n",
      "ok, apertura via medicamentos\n",
      "float64\n",
      "inicia la apertura medicamentos por cobertura\n",
      "float64\n",
      "división de valores iniciando\n",
      "división de valores finalizada\n",
      "redondear\n",
      "realizamos el cruce\n",
      "ok, apertura medicamentos por cobertura\n",
      "inicio tds\n",
      "vamos por la td8 finalizada\n",
      "todas las tds finalizadas, vamos a concatenarlas\n",
      "todas las tds concatenadas\n",
      "Pasamos rango edad\n",
      "Pasamos cartilla base\n",
      "Pasamos marca cobertura med\n",
      "Pasamos lista copagos\n",
      "Pasamos marca diag\n",
      "Pasamos parentesco\n",
      "Unimos por periodo persona el consumo para generar el archivo de salida\n",
      "exportando archivo de salida:\n",
      "finalizado el proceso de Resto.txt\n"
     ]
    }
   ],
   "source": [
    "for archivos in lista_archivos:\n",
    "    print(\"inicia el proceso de\", archivos)\n",
    "    generador_zona.generador_zona_df_csv(ruta_set + archivos)\n",
    "    print(\"finalizado el proceso de\", archivos)"
   ]
  },
  {
   "cell_type": "code",
   "execution_count": null,
   "metadata": {},
   "outputs": [],
   "source": []
  },
  {
   "cell_type": "code",
   "execution_count": null,
   "metadata": {},
   "outputs": [],
   "source": []
  },
  {
   "cell_type": "code",
   "execution_count": null,
   "metadata": {},
   "outputs": [],
   "source": []
  },
  {
   "cell_type": "code",
   "execution_count": null,
   "metadata": {},
   "outputs": [],
   "source": []
  }
 ],
 "metadata": {
  "kernelspec": {
   "display_name": "Python 3.9.7 ('base')",
   "language": "python",
   "name": "python3"
  },
  "language_info": {
   "codemirror_mode": {
    "name": "ipython",
    "version": 3
   },
   "file_extension": ".py",
   "mimetype": "text/x-python",
   "name": "python",
   "nbconvert_exporter": "python",
   "pygments_lexer": "ipython3",
   "version": "3.9.7"
  },
  "orig_nbformat": 4,
  "vscode": {
   "interpreter": {
    "hash": "562c9c567e50c33fd32533d1041799ab9ec09a9cf2f2e4c1c846bbf665f39d1b"
   }
  }
 },
 "nbformat": 4,
 "nbformat_minor": 2
}
