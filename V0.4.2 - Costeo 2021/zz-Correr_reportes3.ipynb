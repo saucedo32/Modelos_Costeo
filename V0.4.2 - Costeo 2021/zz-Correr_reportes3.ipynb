{
 "cells": [
  {
   "cell_type": "markdown",
   "metadata": {},
   "source": [
    "# Código de reportes para generar informes"
   ]
  },
  {
   "cell_type": "code",
   "execution_count": 1,
   "metadata": {},
   "outputs": [],
   "source": [
    "# Librerías usadas:\n",
    "import pandas as pd\n",
    "import numpy as np\n",
    "import os\n",
    "from datetime import datetime\n",
    "import funciones\n",
    "import proceso\n",
    "import generador_zona"
   ]
  },
  {
   "cell_type": "code",
   "execution_count": 2,
   "metadata": {},
   "outputs": [],
   "source": [
    "ruta_seteos = \"C:/Users/lsaucedo/Desktop/Bases Costeos 2021/set_archivos/\""
   ]
  },
  {
   "cell_type": "code",
   "execution_count": 3,
   "metadata": {},
   "outputs": [],
   "source": [
    "# Generar una zona\n",
    "#generador_zona.generador_zona(ruta_seteos)"
   ]
  },
  {
   "cell_type": "code",
   "execution_count": 4,
   "metadata": {},
   "outputs": [],
   "source": [
    "r1 = \"C:/Users/lsaucedo/Desktop/Bases Costeos 2021/set_archivos/set_villa_mercedes.txt\"\n",
    "r2 = \"C:/Users/lsaucedo/Desktop/Bases Costeos 2021/set_archivos/set_reconquista.txt\"\n",
    "r3 = \"C:/Users/lsaucedo/Desktop/Bases Costeos 2021/set_archivos/set_chilecito.txt\"\n",
    "r4 = \"C:/Users/lsaucedo/Desktop/Bases Costeos 2021/set_archivos/set_rosario2.txt\""
   ]
  },
  {
   "cell_type": "code",
   "execution_count": 5,
   "metadata": {},
   "outputs": [
    {
     "name": "stdout",
     "output_type": "stream",
     "text": [
      "se generaron todas las columnas de consumos e inicia proceso de armado de tds\n"
     ]
    },
    {
     "name": "stderr",
     "output_type": "stream",
     "text": [
      "c:\\GitHub\\Modelos_Costeo\\V0.4.2 - Costeo 2021\\funciones.py:83: FutureWarning: In a future version of pandas all arguments of DataFrame.drop except for the argument 'labels' will be keyword-only\n",
      "  td = td.drop(td.columns[col_drop],1)\n"
     ]
    },
    {
     "name": "stdout",
     "output_type": "stream",
     "text": [
      "comienzo armado td internaciones\n",
      "fin armado td internaciones\n",
      "comienzo armado td internaciones pmo\n",
      "fin armado td internaciones pmo\n"
     ]
    }
   ],
   "source": [
    "generador_zona.generador_zona(r1)"
   ]
  },
  {
   "cell_type": "code",
   "execution_count": 6,
   "metadata": {},
   "outputs": [
    {
     "name": "stdout",
     "output_type": "stream",
     "text": [
      "se generaron todas las columnas de consumos e inicia proceso de armado de tds\n",
      "comienzo armado td internaciones\n",
      "fin armado td internaciones\n",
      "comienzo armado td internaciones pmo\n",
      "fin armado td internaciones pmo\n"
     ]
    }
   ],
   "source": [
    "generador_zona.generador_zona(r2)"
   ]
  },
  {
   "cell_type": "code",
   "execution_count": 7,
   "metadata": {},
   "outputs": [
    {
     "name": "stdout",
     "output_type": "stream",
     "text": [
      "se generaron todas las columnas de consumos e inicia proceso de armado de tds\n",
      "comienzo armado td internaciones\n",
      "fin armado td internaciones\n",
      "comienzo armado td internaciones pmo\n",
      "fin armado td internaciones pmo\n"
     ]
    }
   ],
   "source": [
    "generador_zona.generador_zona(r3)"
   ]
  },
  {
   "cell_type": "code",
   "execution_count": 8,
   "metadata": {},
   "outputs": [
    {
     "name": "stdout",
     "output_type": "stream",
     "text": [
      "se generaron todas las columnas de consumos e inicia proceso de armado de tds\n",
      "comienzo armado td internaciones\n",
      "fin armado td internaciones\n",
      "comienzo armado td internaciones pmo\n",
      "fin armado td internaciones pmo\n"
     ]
    }
   ],
   "source": [
    "generador_zona.generador_zona(r4)"
   ]
  },
  {
   "cell_type": "code",
   "execution_count": null,
   "metadata": {},
   "outputs": [],
   "source": []
  },
  {
   "cell_type": "code",
   "execution_count": null,
   "metadata": {},
   "outputs": [],
   "source": []
  },
  {
   "cell_type": "code",
   "execution_count": null,
   "metadata": {},
   "outputs": [],
   "source": []
  },
  {
   "cell_type": "code",
   "execution_count": null,
   "metadata": {},
   "outputs": [],
   "source": []
  },
  {
   "cell_type": "markdown",
   "metadata": {},
   "source": [
    "# Desde una ruta"
   ]
  },
  {
   "cell_type": "code",
   "execution_count": 1,
   "metadata": {},
   "outputs": [],
   "source": [
    "# Librerías usadas:\n",
    "import pandas as pd\n",
    "import numpy as np\n",
    "import os\n",
    "from datetime import datetime\n",
    "import funciones\n",
    "import proceso\n",
    "import generador_zona\n",
    "\n",
    "ruta_set = \"C:/Users/lsaucedo/Desktop/Bases Costeos 2021/set_archivos_3/\"\n",
    "lista_archivos = os.listdir(ruta_set)"
   ]
  },
  {
   "cell_type": "code",
   "execution_count": 2,
   "metadata": {},
   "outputs": [
    {
     "name": "stdout",
     "output_type": "stream",
     "text": [
      "inicia el proceso de CAR GUALEGUAYCHU_seteo.txt\n",
      "finalizado el proceso de CAR GUALEGUAYCHU_seteo.txt\n",
      "inicia el proceso de CAR JUJUY_seteo.txt\n",
      "finalizado el proceso de CAR JUJUY_seteo.txt\n",
      "inicia el proceso de CAR LA PLATA_seteo.txt\n",
      "finalizado el proceso de CAR LA PLATA_seteo.txt\n",
      "inicia el proceso de CAR LA RIOJA_seteo.txt\n",
      "finalizado el proceso de CAR LA RIOJA_seteo.txt\n",
      "inicia el proceso de CAR LEDESMA_seteo.txt\n",
      "finalizado el proceso de CAR LEDESMA_seteo.txt\n",
      "inicia el proceso de CAR LUJAN DE CUYO_seteo.txt\n",
      "finalizado el proceso de CAR LUJAN DE CUYO_seteo.txt\n",
      "inicia el proceso de CAR Lujan_seteo.txt\n",
      "finalizado el proceso de CAR Lujan_seteo.txt\n",
      "inicia el proceso de CAR MAR DEL PLATA_seteo.txt\n",
      "finalizado el proceso de CAR MAR DEL PLATA_seteo.txt\n",
      "inicia el proceso de CAR MARCOS JUAREZ_seteo.txt\n",
      "finalizado el proceso de CAR MARCOS JUAREZ_seteo.txt\n",
      "inicia el proceso de CAR MENDOZA_seteo.txt\n",
      "finalizado el proceso de CAR MENDOZA_seteo.txt\n",
      "inicia el proceso de CAR MONTEGRANDE_seteo.txt\n",
      "finalizado el proceso de CAR MONTEGRANDE_seteo.txt\n",
      "inicia el proceso de CAR MORON_seteo.txt\n",
      "finalizado el proceso de CAR MORON_seteo.txt\n"
     ]
    }
   ],
   "source": [
    "for archivos in lista_archivos:\n",
    "    print(\"inicia el proceso de\", archivos)\n",
    "    generador_zona.generador_zona_df(ruta_set + archivos)\n",
    "    print(\"finalizado el proceso de\", archivos)"
   ]
  },
  {
   "cell_type": "code",
   "execution_count": null,
   "metadata": {},
   "outputs": [],
   "source": []
  },
  {
   "cell_type": "code",
   "execution_count": null,
   "metadata": {},
   "outputs": [],
   "source": []
  },
  {
   "cell_type": "code",
   "execution_count": null,
   "metadata": {},
   "outputs": [],
   "source": []
  },
  {
   "cell_type": "code",
   "execution_count": null,
   "metadata": {},
   "outputs": [],
   "source": []
  },
  {
   "cell_type": "code",
   "execution_count": null,
   "metadata": {},
   "outputs": [],
   "source": []
  },
  {
   "cell_type": "code",
   "execution_count": 4,
   "metadata": {},
   "outputs": [
    {
     "name": "stdout",
     "output_type": "stream",
     "text": [
      "inicia el proceso de CAR CHILECITO_seteo.txt\n",
      "FINALIZO OK:  CAR CHILECITO_seteo.txt\n",
      "inicia el proceso de CAR RECONQUISTA_seteo.txt\n",
      "FINALIZO OK:  CAR RECONQUISTA_seteo.txt\n",
      "inicia el proceso de CAR VILLA MARIA_seteo.txt\n"
     ]
    },
    {
     "ename": "FileNotFoundError",
     "evalue": "[WinError 3] El sistema no puede encontrar la ruta especificada: 'C:/Users/lsaucedo/Desktop/Bases Costeos 2021/Consumo Zona/15-Consumos CAR VILLA MARIA/'",
     "output_type": "error",
     "traceback": [
      "\u001b[1;31m---------------------------------------------------------------------------\u001b[0m",
      "\u001b[1;31mFileNotFoundError\u001b[0m                         Traceback (most recent call last)",
      "\u001b[1;32m~\\AppData\\Local\\Temp/ipykernel_9228/3048428700.py\u001b[0m in \u001b[0;36m<module>\u001b[1;34m\u001b[0m\n\u001b[0;32m      5\u001b[0m     \u001b[0mprint\u001b[0m\u001b[1;33m(\u001b[0m\u001b[1;34m\"inicia el proceso de\"\u001b[0m\u001b[1;33m,\u001b[0m \u001b[0marchivos\u001b[0m\u001b[1;33m)\u001b[0m\u001b[1;33m\u001b[0m\u001b[1;33m\u001b[0m\u001b[0m\n\u001b[0;32m      6\u001b[0m     \u001b[1;32mtry\u001b[0m\u001b[1;33m:\u001b[0m\u001b[1;33m\u001b[0m\u001b[1;33m\u001b[0m\u001b[0m\n\u001b[1;32m----> 7\u001b[1;33m         \u001b[0mgenerador_zona\u001b[0m\u001b[1;33m.\u001b[0m\u001b[0mgenerador_zona\u001b[0m\u001b[1;33m(\u001b[0m\u001b[0mruta_set\u001b[0m \u001b[1;33m+\u001b[0m \u001b[0marchivos\u001b[0m\u001b[1;33m)\u001b[0m\u001b[1;33m\u001b[0m\u001b[1;33m\u001b[0m\u001b[0m\n\u001b[0m\u001b[0;32m      8\u001b[0m         \u001b[0mprint\u001b[0m\u001b[1;33m(\u001b[0m\u001b[1;34m\"FINALIZO OK: \"\u001b[0m\u001b[1;33m,\u001b[0m \u001b[0marchivos\u001b[0m\u001b[1;33m)\u001b[0m\u001b[1;33m\u001b[0m\u001b[1;33m\u001b[0m\u001b[0m\n\u001b[0;32m      9\u001b[0m \u001b[1;33m\u001b[0m\u001b[0m\n",
      "\u001b[1;32mc:\\GitHub\\Modelos_Costeo\\V0.4.2 - Costeo 2021\\generador_zona.py\u001b[0m in \u001b[0;36mgenerador_zona\u001b[1;34m(ruta_seteo)\u001b[0m\n\u001b[0;32m     38\u001b[0m     \u001b[1;31m#######################################################\u001b[0m\u001b[1;33m\u001b[0m\u001b[1;33m\u001b[0m\u001b[0m\n\u001b[0;32m     39\u001b[0m \u001b[1;33m\u001b[0m\u001b[0m\n\u001b[1;32m---> 40\u001b[1;33m     \u001b[0mdfc\u001b[0m \u001b[1;33m=\u001b[0m \u001b[0mfunciones\u001b[0m\u001b[1;33m.\u001b[0m\u001b[0mleer_xlsx\u001b[0m\u001b[1;33m(\u001b[0m\u001b[0mruta_consumo\u001b[0m\u001b[1;33m)\u001b[0m\u001b[1;33m\u001b[0m\u001b[1;33m\u001b[0m\u001b[0m\n\u001b[0m\u001b[0;32m     41\u001b[0m     \u001b[0mfunciones\u001b[0m\u001b[1;33m.\u001b[0m\u001b[0mrenombrar_columnas\u001b[0m\u001b[1;33m(\u001b[0m\u001b[0mdfc\u001b[0m\u001b[1;33m)\u001b[0m\u001b[1;33m\u001b[0m\u001b[1;33m\u001b[0m\u001b[0m\n\u001b[0;32m     42\u001b[0m \u001b[1;33m\u001b[0m\u001b[0m\n",
      "\u001b[1;32mc:\\GitHub\\Modelos_Costeo\\V0.4.2 - Costeo 2021\\funciones.py\u001b[0m in \u001b[0;36mleer_xlsx\u001b[1;34m(ruta)\u001b[0m\n\u001b[0;32m     10\u001b[0m \u001b[1;33m\u001b[0m\u001b[0m\n\u001b[0;32m     11\u001b[0m     \u001b[1;31m#print(\"Inicio carga: \" + datetime.now().strftime('%H:%M:%S'))\u001b[0m\u001b[1;33m\u001b[0m\u001b[1;33m\u001b[0m\u001b[0m\n\u001b[1;32m---> 12\u001b[1;33m     \u001b[0mcontenido\u001b[0m \u001b[1;33m=\u001b[0m \u001b[0mos\u001b[0m\u001b[1;33m.\u001b[0m\u001b[0mlistdir\u001b[0m\u001b[1;33m(\u001b[0m\u001b[0mruta\u001b[0m\u001b[1;33m)\u001b[0m\u001b[1;33m\u001b[0m\u001b[1;33m\u001b[0m\u001b[0m\n\u001b[0m\u001b[0;32m     13\u001b[0m \u001b[1;33m\u001b[0m\u001b[0m\n\u001b[0;32m     14\u001b[0m     \u001b[1;31m# Dataframe a generar:\u001b[0m\u001b[1;33m\u001b[0m\u001b[1;33m\u001b[0m\u001b[0m\n",
      "\u001b[1;31mFileNotFoundError\u001b[0m: [WinError 3] El sistema no puede encontrar la ruta especificada: 'C:/Users/lsaucedo/Desktop/Bases Costeos 2021/Consumo Zona/15-Consumos CAR VILLA MARIA/'"
     ]
    }
   ],
   "source": [
    "# prueba con try-except\n",
    "\n",
    "for archivos in lista_archivos:\n",
    "\n",
    "    print(\"inicia el proceso de\", archivos)\n",
    "    try:\n",
    "        generador_zona.generador_zona(ruta_set + archivos)\n",
    "        print(\"FINALIZO OK: \", archivos)\n",
    "  \n",
    "    except KeyError:\n",
    "        print(\"ERROR en:\", archivos)\n",
    "\n",
    "print(\"FIN DEL PROCESO\")\n",
    "\n",
    "\n"
   ]
  },
  {
   "cell_type": "code",
   "execution_count": null,
   "metadata": {},
   "outputs": [],
   "source": []
  }
 ],
 "metadata": {
  "kernelspec": {
   "display_name": "Python 3.9.7 ('base')",
   "language": "python",
   "name": "python3"
  },
  "language_info": {
   "codemirror_mode": {
    "name": "ipython",
    "version": 3
   },
   "file_extension": ".py",
   "mimetype": "text/x-python",
   "name": "python",
   "nbconvert_exporter": "python",
   "pygments_lexer": "ipython3",
   "version": "3.9.7"
  },
  "orig_nbformat": 4,
  "vscode": {
   "interpreter": {
    "hash": "562c9c567e50c33fd32533d1041799ab9ec09a9cf2f2e4c1c846bbf665f39d1b"
   }
  }
 },
 "nbformat": 4,
 "nbformat_minor": 2
}
