{
 "cells": [
  {
   "cell_type": "markdown",
   "metadata": {},
   "source": [
    "# Crear cubos para tablero"
   ]
  },
  {
   "cell_type": "code",
   "execution_count": 1,
   "metadata": {},
   "outputs": [],
   "source": [
    "import pandas as pd\n",
    "import numpy as np\n",
    "import funciones"
   ]
  },
  {
   "cell_type": "code",
   "execution_count": 2,
   "metadata": {},
   "outputs": [],
   "source": [
    "# Ruta con columnas:\n",
    "ruta_col_cubo = 'C:/Users/lsaucedo/Desktop/Reportes_Costeo_2021/Auxiliares/'\n",
    "archivo_posicion_desc = \"C:/Users/lsaucedo/Desktop/Reportes_Costeo_2021/Auxiliares/Posicion_asociado_desc.xlsx\"\n",
    "\n",
    "ruta_exportaciones = \"C:/Users/lsaucedo/Desktop/Reportes_Costeo_2021/Reportes/\"\n",
    "ruta_salida_cubo =  \"C:/Users/lsaucedo/Desktop/Reportes_Costeo_2021/Cubo_salida/\"\n",
    "\n",
    "# DEFINIR EL PERIODO DEL CUBO\n",
    "periodo_cubo = 202112"
   ]
  },
  {
   "cell_type": "code",
   "execution_count": 3,
   "metadata": {},
   "outputs": [],
   "source": [
    "# Buscamos la auxiliar con las columnas objetivo (en orden)\n",
    "df_base = pd.read_excel(ruta_col_cubo + \"columnas_cubo.xlsx\")\n",
    "columnas = list(df_base.columns)"
   ]
  },
  {
   "cell_type": "code",
   "execution_count": 4,
   "metadata": {},
   "outputs": [],
   "source": [
    "# Leemos el dataframe de exportaciones:\n",
    "df = funciones.leer_csv(ruta_exportaciones)\n",
    "df.reset_index()\n",
    "df.fillna(0, inplace=True)\n",
    "\n",
    "#df['Posicion Asociado DESC'] = \"**COMPLETAR**\"\n",
    "df['Subtipo de Venta ID'] = df['Tipo de Venta ID']\n",
    "\n",
    "# Agrego columna período al principio del df:\n",
    "df[\"Período\"] = periodo_cubo"
   ]
  },
  {
   "cell_type": "code",
   "execution_count": 5,
   "metadata": {},
   "outputs": [],
   "source": [
    "#archivo = \"C:/Users/lsaucedo/Desktop/Reportes_Costeo_2021/Reportes/R_P_Mendoza.csv\"\n",
    "#df = pd.read_csv(archivo, decimal=',', encoding='latin-1')"
   ]
  },
  {
   "cell_type": "code",
   "execution_count": 6,
   "metadata": {},
   "outputs": [
    {
     "data": {
      "text/html": [
       "<div>\n",
       "<style scoped>\n",
       "    .dataframe tbody tr th:only-of-type {\n",
       "        vertical-align: middle;\n",
       "    }\n",
       "\n",
       "    .dataframe tbody tr th {\n",
       "        vertical-align: top;\n",
       "    }\n",
       "\n",
       "    .dataframe thead th {\n",
       "        text-align: right;\n",
       "    }\n",
       "</style>\n",
       "<table border=\"1\" class=\"dataframe\">\n",
       "  <thead>\n",
       "    <tr style=\"text-align: right;\">\n",
       "      <th></th>\n",
       "      <th>Posicion Asociado ID</th>\n",
       "      <th>Posicion Asociado DESC</th>\n",
       "    </tr>\n",
       "  </thead>\n",
       "  <tbody>\n",
       "    <tr>\n",
       "      <th>0</th>\n",
       "      <td>0</td>\n",
       "      <td></td>\n",
       "    </tr>\n",
       "    <tr>\n",
       "      <th>1</th>\n",
       "      <td>1</td>\n",
       "      <td>CAR CÓRDOBA</td>\n",
       "    </tr>\n",
       "    <tr>\n",
       "      <th>2</th>\n",
       "      <td>2</td>\n",
       "      <td>CAR RIO CUARTO</td>\n",
       "    </tr>\n",
       "    <tr>\n",
       "      <th>3</th>\n",
       "      <td>3</td>\n",
       "      <td>CAR MORTEROS</td>\n",
       "    </tr>\n",
       "    <tr>\n",
       "      <th>4</th>\n",
       "      <td>4</td>\n",
       "      <td>CAR SANTA FE</td>\n",
       "    </tr>\n",
       "  </tbody>\n",
       "</table>\n",
       "</div>"
      ],
      "text/plain": [
       "   Posicion Asociado ID          Posicion Asociado DESC\n",
       "0                     0                                \n",
       "1                     1  CAR CÓRDOBA                   \n",
       "2                     2  CAR RIO CUARTO                \n",
       "3                     3  CAR MORTEROS                  \n",
       "4                     4  CAR SANTA FE                  "
      ]
     },
     "execution_count": 6,
     "metadata": {},
     "output_type": "execute_result"
    }
   ],
   "source": [
    "# leo el dataframe con la posicion desc e id:\n",
    "df_pa = pd.read_excel(archivo_posicion_desc)\n",
    "df_pa.head()"
   ]
  },
  {
   "cell_type": "code",
   "execution_count": 7,
   "metadata": {},
   "outputs": [
    {
     "data": {
      "text/plain": [
       "0    7\n",
       "1    7\n",
       "2    7\n",
       "3    7\n",
       "4    7\n",
       "Name: Posicion Asociado ID, dtype: int64"
      ]
     },
     "execution_count": 7,
     "metadata": {},
     "output_type": "execute_result"
    }
   ],
   "source": [
    "df[\"Posicion Asociado ID\"].head()"
   ]
  },
  {
   "cell_type": "code",
   "execution_count": 8,
   "metadata": {},
   "outputs": [],
   "source": [
    "# hago el cruce para obtener la desc. de la posición\n",
    "df = pd.merge(df, df_pa, on='Posicion Asociado ID', how='left')\n",
    "# temp = pd.merge(df, df_pa, on='Posicion Asociado ID', how='left')"
   ]
  },
  {
   "cell_type": "code",
   "execution_count": 9,
   "metadata": {},
   "outputs": [
    {
     "data": {
      "text/plain": [
       "0    SEDE BUENOS AIRES             \n",
       "1    SEDE BUENOS AIRES             \n",
       "2    SEDE BUENOS AIRES             \n",
       "3    SEDE BUENOS AIRES             \n",
       "4    SEDE BUENOS AIRES             \n",
       "Name: Posicion Asociado DESC, dtype: object"
      ]
     },
     "execution_count": 9,
     "metadata": {},
     "output_type": "execute_result"
    }
   ],
   "source": [
    "df[\"Posicion Asociado DESC\"].head()"
   ]
  },
  {
   "cell_type": "code",
   "execution_count": 10,
   "metadata": {},
   "outputs": [],
   "source": [
    "# Si se decide volver a correr el paso se deben invertir los iguales?\n",
    "# df['Posicion Asociado DESC'] = df[\"PA desc\"]"
   ]
  },
  {
   "cell_type": "code",
   "execution_count": 11,
   "metadata": {},
   "outputs": [
    {
     "name": "stderr",
     "output_type": "stream",
     "text": [
      "C:\\Users\\lsaucedo\\AppData\\Local\\Temp/ipykernel_10060/1386943277.py:5: PerformanceWarning: DataFrame is highly fragmented.  This is usually the result of calling `frame.insert` many times, which has poor performance.  Consider joining all columns at once using pd.concat(axis=1) instead.  To get a de-fragmented frame, use `newframe = frame.copy()`\n",
      "  df_final[columna] = df[columna]\n"
     ]
    }
   ],
   "source": [
    "# Armamos un dataframe filtrando las columnas: (forma poco elegante)\n",
    "df_final = pd.DataFrame()\n",
    "\n",
    "for columna in columnas:\n",
    "    df_final[columna] = df[columna]\n"
   ]
  },
  {
   "cell_type": "code",
   "execution_count": 26,
   "metadata": {},
   "outputs": [
    {
     "data": {
      "text/plain": [
       "['Período',\n",
       " 'Posicion Asociado DESC',\n",
       " 'Discapacidad',\n",
       " 'Posicion Asociado ID',\n",
       " 'Segmento',\n",
       " 'Plan',\n",
       " 'Plan Agrupado',\n",
       " 'Subtipo de Venta ID',\n",
       " 'Diabetes',\n",
       " 'Hepatitis',\n",
       " 'PMI',\n",
       " 'Cronico',\n",
       " 'Oncologico',\n",
       " 'Rango_Edad',\n",
       " 'Modelo_Cartilla',\n",
       " 'Cobertura_med_id',\n",
       " 'Lista_PrecioDesc',\n",
       " 'GC',\n",
       " 'Rango_Cons',\n",
       " 'algun_diag',\n",
       " 'Marca_Diagnostico',\n",
       " 'Marca Hijo',\n",
       " 'Edad',\n",
       " 'Sexo',\n",
       " 'Stock',\n",
       " 'Cantidad Total',\n",
       " 'Consumo Total',\n",
       " 'Cantidad Ambulatorio sin A,C,Med',\n",
       " 'Cantidad Internacion sin A,C,Med',\n",
       " 'Cantidad MEd',\n",
       " 'Cantidad NC',\n",
       " 'Cantidad Naj',\n",
       " 'Consumo Ambulatorio sin A,C,Med',\n",
       " 'Consumo Internacion sin A,C,Med',\n",
       " 'Consumo MEd',\n",
       " 'Consumo NC',\n",
       " 'Consumo Naj',\n",
       " 'Cantidad Amb DI',\n",
       " 'Cantidad Amb ME',\n",
       " 'Cantidad Amb NC',\n",
       " 'Cantidad Amb NP',\n",
       " 'Cantidad Consulta',\n",
       " 'Cantidad Fisiokinesio',\n",
       " 'Cantidad Imagenes',\n",
       " 'Cantidad Laboratorio',\n",
       " 'Cantidad Odontologia',\n",
       " 'Cantidad Resto Amb',\n",
       " 'Cantidad Salud Mental',\n",
       " 'Consumo Amb DI',\n",
       " 'Consumo Amb ME',\n",
       " 'Consumo Amb NC',\n",
       " 'Consumo Amb NP',\n",
       " 'Consumo Consulta',\n",
       " 'Consumo Fisiokinesio',\n",
       " 'Consumo Imagenes',\n",
       " 'Consumo Laboratorio',\n",
       " 'Consumo Odontologia',\n",
       " 'Consumo Resto Amb',\n",
       " 'Consumo Salud Mental',\n",
       " 'Cantidad Med. Amb',\n",
       " 'Cantidad Med. Int',\n",
       " 'Consumo Med. Amb',\n",
       " 'Consumo Med. Int',\n",
       " 'Cantidad Farmacia',\n",
       " 'Cantidad Otras vias',\n",
       " 'Cantidad Provision',\n",
       " 'Consumo Farmacia',\n",
       " 'Consumo Otras vias',\n",
       " 'Consumo Provision',\n",
       " 'Cantidad Cob. Base 40%',\n",
       " 'Cantidad Cob. Base 50%',\n",
       " 'Cantidad Cob. Base 60%',\n",
       " 'Cantidad Cob. Base 70%',\n",
       " 'Cantidad Cob. Base 80%',\n",
       " 'Cantidad Cobertura 100%',\n",
       " 'Cantidad Form. 4',\n",
       " 'Cantidad MACBI',\n",
       " 'Cantidad Otros',\n",
       " 'Cantidad Prest Genéricas',\n",
       " 'Cantidad R310',\n",
       " 'Consumo Cob. Base 40%',\n",
       " 'Consumo Cob. Base 50%',\n",
       " 'Consumo Cob. Base 60%',\n",
       " 'Consumo Cob. Base 70%',\n",
       " 'Consumo Cob. Base 80%',\n",
       " 'Consumo Cobertura 100%',\n",
       " 'Consumo Form. 4',\n",
       " 'Consumo MACBI',\n",
       " 'Consumo Otros',\n",
       " 'Consumo Prest Genéricas',\n",
       " 'Consumo R310',\n",
       " 'Cantidad CC',\n",
       " 'Cantidad CD',\n",
       " 'Cantidad CE',\n",
       " 'Cantidad CP',\n",
       " 'Cantidad Otras Int',\n",
       " 'Cantidad P ',\n",
       " 'Cantidad QC',\n",
       " 'Cantidad RN',\n",
       " 'Consumo CC',\n",
       " 'Consumo CD',\n",
       " 'Consumo CE',\n",
       " 'Consumo CP',\n",
       " 'Consumo Otras Int',\n",
       " 'Consumo P ',\n",
       " 'Consumo QC',\n",
       " 'Consumo RN',\n",
       " 'Cantidad NO PMO',\n",
       " 'Cantidad PMO',\n",
       " 'Consumo NO PMO',\n",
       " 'Consumo PMO',\n",
       " 'Cantidad Amb DI_pmo',\n",
       " 'Cantidad Amb ME_pmo',\n",
       " 'Cantidad Amb NC_pmo',\n",
       " 'Cantidad Amb NP_pmo',\n",
       " 'Cantidad Consulta_pmo',\n",
       " 'Cantidad Fisiokinesio_pmo',\n",
       " 'Cantidad Imagenes_pmo',\n",
       " 'Cantidad Laboratorio_pmo',\n",
       " 'Cantidad Odontologia_pmo',\n",
       " 'Cantidad Resto Amb_pmo',\n",
       " 'Cantidad Salud Mental_pmo',\n",
       " 'Consumo Amb DI_pmo',\n",
       " 'Consumo Amb ME_pmo',\n",
       " 'Consumo Amb NC_pmo',\n",
       " 'Consumo Amb NP_pmo',\n",
       " 'Consumo Consulta_pmo',\n",
       " 'Consumo Fisiokinesio_pmo',\n",
       " 'Consumo Imagenes_pmo',\n",
       " 'Consumo Laboratorio_pmo',\n",
       " 'Consumo Odontologia_pmo',\n",
       " 'Consumo Resto Amb_pmo',\n",
       " 'Consumo Salud Mental_pmo',\n",
       " 'Cantidad Med. Amb_pmo',\n",
       " 'Cantidad Med. Int_pmo',\n",
       " 'Consumo Med. Amb_pmo',\n",
       " 'Consumo Med. Int_pmo',\n",
       " 'Cantidad Farmacia_pmo',\n",
       " 'Cantidad Otras vias_pmo',\n",
       " 'Cantidad Provision_pmo',\n",
       " 'Consumo Farmacia_pmo',\n",
       " 'Consumo Otras vias_pmo',\n",
       " 'Consumo Provision_pmo',\n",
       " 'Cantidad CC_pmo',\n",
       " 'Cantidad CD_pmo',\n",
       " 'Cantidad CE_pmo',\n",
       " 'Cantidad CP_pmo',\n",
       " 'Cantidad Otras Int_pmo',\n",
       " 'Cantidad P _pmo',\n",
       " 'Cantidad QC_pmo',\n",
       " 'Cantidad RN_pmo',\n",
       " 'Consumo CC_pmo',\n",
       " 'Consumo CD_pmo',\n",
       " 'Consumo CE_pmo',\n",
       " 'Consumo CP_pmo',\n",
       " 'Consumo Otras Int_pmo',\n",
       " 'Consumo P _pmo',\n",
       " 'Consumo QC_pmo',\n",
       " 'Consumo RN_pmo',\n",
       " 'Cantidad Amb_sin_med_pmo',\n",
       " 'Cantidad Internacion_sin_med_pmo',\n",
       " 'Cantidad MEd_pmo',\n",
       " 'Consumo Amb_sin_med_pmo',\n",
       " 'Consumo Internacion_sin_med_pmo',\n",
       " 'Consumo MEd_pmo']"
      ]
     },
     "execution_count": 26,
     "metadata": {},
     "output_type": "execute_result"
    }
   ],
   "source": [
    "columnas"
   ]
  },
  {
   "cell_type": "code",
   "execution_count": 12,
   "metadata": {},
   "outputs": [],
   "source": [
    "df_final.to_csv(ruta_salida_cubo + \"Cubo.csv\", sep = \",\", encoding='latin-1', decimal= \",\",index=False)"
   ]
  },
  {
   "cell_type": "code",
   "execution_count": null,
   "metadata": {},
   "outputs": [],
   "source": []
  },
  {
   "cell_type": "code",
   "execution_count": null,
   "metadata": {},
   "outputs": [],
   "source": []
  }
 ],
 "metadata": {
  "kernelspec": {
   "display_name": "Python 3.9.7 ('base')",
   "language": "python",
   "name": "python3"
  },
  "language_info": {
   "codemirror_mode": {
    "name": "ipython",
    "version": 3
   },
   "file_extension": ".py",
   "mimetype": "text/x-python",
   "name": "python",
   "nbconvert_exporter": "python",
   "pygments_lexer": "ipython3",
   "version": "3.9.7"
  },
  "orig_nbformat": 4,
  "vscode": {
   "interpreter": {
    "hash": "562c9c567e50c33fd32533d1041799ab9ec09a9cf2f2e4c1c846bbf665f39d1b"
   }
  }
 },
 "nbformat": 4,
 "nbformat_minor": 2
}
