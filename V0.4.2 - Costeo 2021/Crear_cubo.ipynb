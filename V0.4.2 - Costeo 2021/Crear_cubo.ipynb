{
 "cells": [
  {
   "cell_type": "markdown",
   "metadata": {},
   "source": [
    "# Crear cubos para tablero"
   ]
  },
  {
   "cell_type": "code",
   "execution_count": 1,
   "metadata": {},
   "outputs": [],
   "source": [
    "import pandas as pd\n",
    "import numpy as np\n",
    "import funciones"
   ]
  },
  {
   "cell_type": "code",
   "execution_count": 2,
   "metadata": {},
   "outputs": [],
   "source": [
    "ruta_col_cubo = 'C:/Users/lsaucedo/Desktop/Bases Costeos 2021/'\n",
    "ruta_exportaciones = \"C:/Users/lsaucedo/Desktop/Bases Costeos 2021/Exportaciones csv/\"\n",
    "ruta_salida_cubo =  \"C:/Users/lsaucedo/Desktop/Bases Costeos 2021/Cubo/\"\n",
    "archivo_posicion_desc = \"C:/Users/lsaucedo/Desktop/Bases Costeos 2021/posiciones_asociado.xlsx\"\n",
    "\n",
    "# DEFINIR EL PERIODO DEL CUBO\n",
    "periodo_cubo = 202112"
   ]
  },
  {
   "cell_type": "code",
   "execution_count": 3,
   "metadata": {},
   "outputs": [],
   "source": [
    "# Buscamos la auxiliar con las columnas objetivo (en orden)\n",
    "df_base = pd.read_excel(ruta_col_cubo + \"columnas_cubo.xlsx\")\n",
    "columnas = list(df_base.columns)"
   ]
  },
  {
   "cell_type": "code",
   "execution_count": 4,
   "metadata": {},
   "outputs": [],
   "source": [
    "# Leemos el dataframe de exportaciones:\n",
    "df = funciones.leer_csv(ruta_exportaciones)\n",
    "df.reset_index()\n",
    "df.fillna(0, inplace=True)\n",
    "\n",
    "df['Posicion Asociado DESC'] = \"**COMPLETAR**\"\n",
    "df['Subtipo de Venta ID'] = df['Tipo de Venta ID']\n",
    "\n",
    "# Agrego columna período al principio del df:\n",
    "df[\"Período\"] = periodo_cubo"
   ]
  },
  {
   "cell_type": "code",
   "execution_count": 5,
   "metadata": {},
   "outputs": [],
   "source": [
    "# leo el dataframe con la posicion desc e id:\n",
    "df_pa = pd.read_excel(archivo_posicion_desc)\n",
    "\n",
    "# hago el cruce para obtener la desc. de la posición\n",
    "temp = pd.merge(df, df_pa, on='Posicion Asociado ID', how='left')\n",
    "temp[\"PA desc\"]\n",
    "\n",
    "# Pego la desc. de la posición al df que se exportara como cubo:\n",
    "df['Posicion Asociado DESC'] = temp[\"PA desc\"]"
   ]
  },
  {
   "cell_type": "code",
   "execution_count": 7,
   "metadata": {},
   "outputs": [
    {
     "name": "stderr",
     "output_type": "stream",
     "text": [
      "C:\\Users\\lsaucedo\\AppData\\Local\\Temp/ipykernel_8328/726196068.py:6: PerformanceWarning: DataFrame is highly fragmented.  This is usually the result of calling `frame.insert` many times, which has poor performance.  Consider joining all columns at once using pd.concat(axis=1) instead.  To get a de-fragmented frame, use `newframe = frame.copy()`\n",
      "  df_final[columna] = df[columna]\n"
     ]
    }
   ],
   "source": [
    "# Armamos un dataframe filtrando las columnas: (forma poco elegante)\n",
    "\n",
    "df_final = pd.DataFrame()\n",
    "\n",
    "for columna in columnas:\n",
    "    df_final[columna] = df[columna]\n"
   ]
  },
  {
   "cell_type": "code",
   "execution_count": 12,
   "metadata": {},
   "outputs": [],
   "source": [
    "df_final.to_csv(ruta_salida_cubo + \"Cubo.csv\", sep = \",\", encoding='latin-1', decimal= \",\",index=False)"
   ]
  },
  {
   "cell_type": "code",
   "execution_count": null,
   "metadata": {},
   "outputs": [],
   "source": []
  },
  {
   "cell_type": "code",
   "execution_count": null,
   "metadata": {},
   "outputs": [],
   "source": []
  }
 ],
 "metadata": {
  "kernelspec": {
   "display_name": "Python 3.9.7 ('base')",
   "language": "python",
   "name": "python3"
  },
  "language_info": {
   "codemirror_mode": {
    "name": "ipython",
    "version": 3
   },
   "file_extension": ".py",
   "mimetype": "text/x-python",
   "name": "python",
   "nbconvert_exporter": "python",
   "pygments_lexer": "ipython3",
   "version": "3.9.7"
  },
  "orig_nbformat": 4,
  "vscode": {
   "interpreter": {
    "hash": "562c9c567e50c33fd32533d1041799ab9ec09a9cf2f2e4c1c846bbf665f39d1b"
   }
  }
 },
 "nbformat": 4,
 "nbformat_minor": 2
}
