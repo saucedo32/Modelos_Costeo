{
 "cells": [
  {
   "cell_type": "markdown",
   "metadata": {},
   "source": [
    "# Crear cubos para tablero"
   ]
  },
  {
   "cell_type": "code",
   "execution_count": 1,
   "metadata": {},
   "outputs": [],
   "source": [
    "import pandas as pd\n",
    "import numpy as np\n",
    "import funciones"
   ]
  },
  {
   "cell_type": "code",
   "execution_count": 2,
   "metadata": {},
   "outputs": [],
   "source": [
    "# Ruta con columnas:\n",
    "ruta_col_cubo = 'C:/Users/lsaucedo/Desktop/Reportes_Costeo_2021/Auxiliares/'\n",
    "archivo_posicion_desc = \"C:/Users/lsaucedo/Desktop/Reportes_Costeo_2021/Auxiliares/Posicion_asociado_desc.xlsx\"\n",
    "archivo_provincia_desc = \"C:/Users/lsaucedo/Desktop/Reportes_Costeo_2021/Auxiliares/Provincia_asociado_desc.xlsx\"\n",
    "archivo_zonapromo_desc = \"C:/Users/lsaucedo/Desktop/Reportes_Costeo_2021/Auxiliares/Zona_promocion_desc.xlsx\"\n",
    "\n",
    "ruta_exportaciones = \"C:/Users/lsaucedo/Desktop/Reportes_Costeo_2021/Reportes/\"\n",
    "ruta_salida_cubo =  \"C:/Users/lsaucedo/Desktop/Reportes_Costeo_2021/Cubo_salida/\"\n",
    "\n",
    "# DEFINIR EL PERIODO DEL CUBO\n",
    "periodo_cubo = 202112"
   ]
  },
  {
   "cell_type": "code",
   "execution_count": 3,
   "metadata": {},
   "outputs": [],
   "source": [
    "# Buscamos la auxiliar con las columnas objetivo (en orden)\n",
    "df_base = pd.read_excel(ruta_col_cubo + \"columnas_cubo.xlsx\")\n",
    "columnas = list(df_base.columns)"
   ]
  },
  {
   "cell_type": "code",
   "execution_count": 4,
   "metadata": {},
   "outputs": [],
   "source": [
    "# Leemos el dataframe de exportaciones:\n",
    "df = funciones.leer_csv(ruta_exportaciones)\n",
    "df.reset_index()\n",
    "df.fillna(0, inplace=True)\n",
    "\n",
    "#df['Posicion Asociado DESC'] = \"**COMPLETAR**\"\n",
    "df['Subtipo de Venta ID'] = df['Tipo de Venta ID']\n",
    "\n",
    "# Agrego columna período al principio del df:\n",
    "df[\"Período\"] = periodo_cubo"
   ]
  },
  {
   "cell_type": "code",
   "execution_count": 5,
   "metadata": {},
   "outputs": [],
   "source": [
    "#archivo = \"C:/Users/lsaucedo/Desktop/Reportes_Costeo_2021/Reportes/R_P_Mendoza.csv\"\n",
    "#df = pd.read_csv(archivo, decimal=',', encoding='latin-1')"
   ]
  },
  {
   "cell_type": "code",
   "execution_count": 6,
   "metadata": {},
   "outputs": [
    {
     "data": {
      "text/html": [
       "<div>\n",
       "<style scoped>\n",
       "    .dataframe tbody tr th:only-of-type {\n",
       "        vertical-align: middle;\n",
       "    }\n",
       "\n",
       "    .dataframe tbody tr th {\n",
       "        vertical-align: top;\n",
       "    }\n",
       "\n",
       "    .dataframe thead th {\n",
       "        text-align: right;\n",
       "    }\n",
       "</style>\n",
       "<table border=\"1\" class=\"dataframe\">\n",
       "  <thead>\n",
       "    <tr style=\"text-align: right;\">\n",
       "      <th></th>\n",
       "      <th>Posicion Asociado ID</th>\n",
       "      <th>Posicion Asociado DESC</th>\n",
       "    </tr>\n",
       "  </thead>\n",
       "  <tbody>\n",
       "    <tr>\n",
       "      <th>0</th>\n",
       "      <td>0</td>\n",
       "      <td></td>\n",
       "    </tr>\n",
       "    <tr>\n",
       "      <th>1</th>\n",
       "      <td>1</td>\n",
       "      <td>CAR CÓRDOBA</td>\n",
       "    </tr>\n",
       "    <tr>\n",
       "      <th>2</th>\n",
       "      <td>2</td>\n",
       "      <td>CAR RIO CUARTO</td>\n",
       "    </tr>\n",
       "    <tr>\n",
       "      <th>3</th>\n",
       "      <td>3</td>\n",
       "      <td>CAR MORTEROS</td>\n",
       "    </tr>\n",
       "    <tr>\n",
       "      <th>4</th>\n",
       "      <td>4</td>\n",
       "      <td>CAR SANTA FE</td>\n",
       "    </tr>\n",
       "  </tbody>\n",
       "</table>\n",
       "</div>"
      ],
      "text/plain": [
       "   Posicion Asociado ID          Posicion Asociado DESC\n",
       "0                     0                                \n",
       "1                     1  CAR CÓRDOBA                   \n",
       "2                     2  CAR RIO CUARTO                \n",
       "3                     3  CAR MORTEROS                  \n",
       "4                     4  CAR SANTA FE                  "
      ]
     },
     "execution_count": 6,
     "metadata": {},
     "output_type": "execute_result"
    }
   ],
   "source": [
    "# leo el dataframe con la posicion desc e id:\n",
    "df_pa = pd.read_excel(archivo_posicion_desc)\n",
    "df_pa.head()"
   ]
  },
  {
   "cell_type": "code",
   "execution_count": 7,
   "metadata": {},
   "outputs": [
    {
     "data": {
      "text/html": [
       "<div>\n",
       "<style scoped>\n",
       "    .dataframe tbody tr th:only-of-type {\n",
       "        vertical-align: middle;\n",
       "    }\n",
       "\n",
       "    .dataframe tbody tr th {\n",
       "        vertical-align: top;\n",
       "    }\n",
       "\n",
       "    .dataframe thead th {\n",
       "        text-align: right;\n",
       "    }\n",
       "</style>\n",
       "<table border=\"1\" class=\"dataframe\">\n",
       "  <thead>\n",
       "    <tr style=\"text-align: right;\">\n",
       "      <th></th>\n",
       "      <th>Provincia Asociado ID</th>\n",
       "      <th>Provincia Asociado DESC</th>\n",
       "    </tr>\n",
       "  </thead>\n",
       "  <tbody>\n",
       "    <tr>\n",
       "      <th>0</th>\n",
       "      <td></td>\n",
       "      <td>FALTA DATO</td>\n",
       "    </tr>\n",
       "    <tr>\n",
       "      <th>1</th>\n",
       "      <td>9</td>\n",
       "      <td>FALTA DATO</td>\n",
       "    </tr>\n",
       "    <tr>\n",
       "      <th>2</th>\n",
       "      <td>A</td>\n",
       "      <td>SALTA</td>\n",
       "    </tr>\n",
       "    <tr>\n",
       "      <th>3</th>\n",
       "      <td>B</td>\n",
       "      <td>BUENOS AIRES</td>\n",
       "    </tr>\n",
       "    <tr>\n",
       "      <th>4</th>\n",
       "      <td>C</td>\n",
       "      <td>CAPITAL FEDERAL</td>\n",
       "    </tr>\n",
       "  </tbody>\n",
       "</table>\n",
       "</div>"
      ],
      "text/plain": [
       "  Provincia Asociado ID         Provincia Asociado DESC\n",
       "0                        FALTA DATO                    \n",
       "1                     9  FALTA DATO                    \n",
       "2                     A  SALTA                         \n",
       "3                     B  BUENOS AIRES                  \n",
       "4                     C  CAPITAL FEDERAL               "
      ]
     },
     "execution_count": 7,
     "metadata": {},
     "output_type": "execute_result"
    }
   ],
   "source": [
    "# leo el dataframe con la provincia desc e id:\n",
    "df_pra = pd.read_excel(archivo_provincia_desc)\n",
    "df_pra.head()"
   ]
  },
  {
   "cell_type": "code",
   "execution_count": 8,
   "metadata": {},
   "outputs": [
    {
     "data": {
      "text/html": [
       "<div>\n",
       "<style scoped>\n",
       "    .dataframe tbody tr th:only-of-type {\n",
       "        vertical-align: middle;\n",
       "    }\n",
       "\n",
       "    .dataframe tbody tr th {\n",
       "        vertical-align: top;\n",
       "    }\n",
       "\n",
       "    .dataframe thead th {\n",
       "        text-align: right;\n",
       "    }\n",
       "</style>\n",
       "<table border=\"1\" class=\"dataframe\">\n",
       "  <thead>\n",
       "    <tr style=\"text-align: right;\">\n",
       "      <th></th>\n",
       "      <th>Zona de Promocion ID</th>\n",
       "      <th>Zona de Promocion DESC</th>\n",
       "    </tr>\n",
       "  </thead>\n",
       "  <tbody>\n",
       "    <tr>\n",
       "      <th>0</th>\n",
       "      <td>0</td>\n",
       "      <td>SIN ASIGNAR</td>\n",
       "    </tr>\n",
       "    <tr>\n",
       "      <th>1</th>\n",
       "      <td>1</td>\n",
       "      <td>OTROS</td>\n",
       "    </tr>\n",
       "    <tr>\n",
       "      <th>2</th>\n",
       "      <td>2</td>\n",
       "      <td>CORDOBA</td>\n",
       "    </tr>\n",
       "    <tr>\n",
       "      <th>3</th>\n",
       "      <td>3</td>\n",
       "      <td>GALVEZ / ESPERANZA</td>\n",
       "    </tr>\n",
       "    <tr>\n",
       "      <th>4</th>\n",
       "      <td>4</td>\n",
       "      <td>MAR DEL PLATA</td>\n",
       "    </tr>\n",
       "  </tbody>\n",
       "</table>\n",
       "</div>"
      ],
      "text/plain": [
       "   Zona de Promocion ID Zona de Promocion DESC\n",
       "0                     0            SIN ASIGNAR\n",
       "1                     1                  OTROS\n",
       "2                     2                CORDOBA\n",
       "3                     3     GALVEZ / ESPERANZA\n",
       "4                     4          MAR DEL PLATA"
      ]
     },
     "execution_count": 8,
     "metadata": {},
     "output_type": "execute_result"
    }
   ],
   "source": [
    "# leo el dataframe con la zona de promocion desc e id:\n",
    "df_zp = pd.read_excel(archivo_zonapromo_desc)\n",
    "df_zp.head()"
   ]
  },
  {
   "cell_type": "code",
   "execution_count": 9,
   "metadata": {},
   "outputs": [],
   "source": [
    "# hago el cruce para obtener la desc. de la posición, provincia e id del rango edad:\n",
    "df = pd.merge(df, df_pa, on='Posicion Asociado ID', how='left')\n",
    "df = pd.merge(df, df_pra, on='Provincia Asociado ID', how='left')\n",
    "df = pd.merge(df, df_zp, on='Zona de Promocion ID', how='left')\n"
   ]
  },
  {
   "cell_type": "code",
   "execution_count": 10,
   "metadata": {},
   "outputs": [],
   "source": [
    "df.rename( columns = { 'Cobertura_desc': 'Cobertura_med_desc', \n",
    "'Rango_Edad id': 'Rango_Edad_id',\n",
    "'Cantidad NC_total_pmo': 'Cantidad NC_pmo',\n",
    "'Consumo NC_total_pmo': 'Consumo NC_pmo'\n",
    "}, inplace=True)"
   ]
  },
  {
   "cell_type": "code",
   "execution_count": null,
   "metadata": {},
   "outputs": [],
   "source": []
  },
  {
   "cell_type": "code",
   "execution_count": null,
   "metadata": {},
   "outputs": [],
   "source": []
  },
  {
   "cell_type": "code",
   "execution_count": 11,
   "metadata": {},
   "outputs": [
    {
     "name": "stderr",
     "output_type": "stream",
     "text": [
      "C:\\Users\\lsaucedo\\AppData\\Local\\Temp/ipykernel_16992/1386943277.py:5: PerformanceWarning: DataFrame is highly fragmented.  This is usually the result of calling `frame.insert` many times, which has poor performance.  Consider joining all columns at once using pd.concat(axis=1) instead.  To get a de-fragmented frame, use `newframe = frame.copy()`\n",
      "  df_final[columna] = df[columna]\n"
     ]
    }
   ],
   "source": [
    "# Armamos un dataframe filtrando las columnas: (forma poco elegante)\n",
    "df_final = pd.DataFrame()\n",
    "\n",
    "for columna in columnas:\n",
    "    df_final[columna] = df[columna]\n"
   ]
  },
  {
   "cell_type": "code",
   "execution_count": 12,
   "metadata": {},
   "outputs": [],
   "source": [
    "df_final.to_csv(ruta_salida_cubo + \"20220803_Cubo_202112.csv\", sep = \",\", encoding='latin-1', decimal= \",\",index=False)"
   ]
  },
  {
   "cell_type": "code",
   "execution_count": null,
   "metadata": {},
   "outputs": [],
   "source": []
  },
  {
   "cell_type": "code",
   "execution_count": null,
   "metadata": {},
   "outputs": [],
   "source": []
  },
  {
   "cell_type": "code",
   "execution_count": null,
   "metadata": {},
   "outputs": [],
   "source": []
  }
 ],
 "metadata": {
  "kernelspec": {
   "display_name": "Python 3.9.7 ('base')",
   "language": "python",
   "name": "python3"
  },
  "language_info": {
   "codemirror_mode": {
    "name": "ipython",
    "version": 3
   },
   "file_extension": ".py",
   "mimetype": "text/x-python",
   "name": "python",
   "nbconvert_exporter": "python",
   "pygments_lexer": "ipython3",
   "version": "3.9.7"
  },
  "orig_nbformat": 4,
  "vscode": {
   "interpreter": {
    "hash": "562c9c567e50c33fd32533d1041799ab9ec09a9cf2f2e4c1c846bbf665f39d1b"
   }
  }
 },
 "nbformat": 4,
 "nbformat_minor": 2
}
