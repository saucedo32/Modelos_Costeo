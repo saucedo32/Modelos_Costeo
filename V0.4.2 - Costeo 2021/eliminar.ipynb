{
 "cells": [
  {
   "cell_type": "code",
   "execution_count": 14,
   "metadata": {},
   "outputs": [],
   "source": [
    "import funciones\n",
    "import os\n",
    "import proceso\n",
    "import pandas as pd\n",
    "import numpy as np"
   ]
  },
  {
   "cell_type": "code",
   "execution_count": 6,
   "metadata": {},
   "outputs": [],
   "source": [
    "# Ruta donde se encuentran los seteos:\n",
    "ruta_seteos = \"C:/Users/lsaucedo/Desktop/Bases Costeos 2021/set_archivos/set_brinkmann.txt\"\n",
    "\n",
    "# leemos las variables de los diferentes archivos txt.\n",
    "variables = {}   # Diccionario que contendra los datos leidos.\n",
    "with open(ruta_seteos, \"r\") as datos:\n",
    "    for linea in datos:\n",
    "        nombre, valor = linea.strip().split(\"=\", maxsplit=1)\n",
    "        variables[nombre] = valor\n",
    "\n",
    "# Guardamos las variables en variables globales:\n",
    "ruta_aux = variables['ruta_aux']\n",
    "ruta_stock = variables['ruta_stock']\n",
    "ruta_consumo = variables['ruta_consumo']\n",
    "ruta_int = variables['ruta_int']\n",
    "ruta_diag = variables['ruta_diag']\n",
    "medicamentos_especiales = variables['medicamentos_especiales']\n",
    "cobertura_medicamentos = variables['cobertura_medicamentos']\n",
    "#archivo_exportacion = variables['archivo_exportacion']\n",
    "resultado_exportacion = variables['resultado_exportacion']"
   ]
  },
  {
   "cell_type": "code",
   "execution_count": 7,
   "metadata": {},
   "outputs": [],
   "source": [
    "# Importacion de consumo y cambio de nombre columnas\n",
    "dfc = funciones.leer_xlsx(ruta_consumo)\n",
    "funciones.renombrar_columnas(dfc)"
   ]
  },
  {
   "cell_type": "code",
   "execution_count": 8,
   "metadata": {},
   "outputs": [
    {
     "name": "stdout",
     "output_type": "stream",
     "text": [
      "Las prestaciones que no se pudieron catalogar fueron:\n",
      "['NS121002  ' 'NS0405710 ' 'NS0401070 ' 'NS0401100 ' 'NS0401080 '\n",
      " 'NS0401140 ']\n"
     ]
    }
   ],
   "source": [
    "# Aperturas realizadas al consumo:\n",
    "proceso.apertura_pmo(dfc, ruta_aux)\n",
    "proceso.apertura_tipo_internacion(dfc, ruta_int)\n",
    "proceso.apertura_total(dfc)\n",
    "proceso.apertura_rubros_amb(dfc)\n",
    "proceso.apertura_origen_medicamentos(dfc)\n",
    "proceso.apertura_via_medicamentos(dfc)\n"
   ]
  },
  {
   "cell_type": "code",
   "execution_count": 18,
   "metadata": {},
   "outputs": [],
   "source": [
    "proceso.apertura_cobertura_medicamentos(dfc, medicamentos_especiales, cobertura_medicamentos)"
   ]
  },
  {
   "cell_type": "code",
   "execution_count": 15,
   "metadata": {},
   "outputs": [],
   "source": [
    "# Segmentacion y metricas para td consumo:\n",
    "segmentacion = (['Periodo_Prest', 'Persona'])\n",
    "metricas = ({'Consumo':[np.sum], 'Prestacion':pd.Series.nunique,'Cantidad':[np.sum]})"
   ]
  },
  {
   "cell_type": "code",
   "execution_count": 16,
   "metadata": {},
   "outputs": [
    {
     "name": "stderr",
     "output_type": "stream",
     "text": [
      "c:\\GitHub\\Modelos_Costeo\\V0.4.2 - Costeo 2021\\funciones.py:83: FutureWarning: In a future version of pandas all arguments of DataFrame.drop except for the argument 'labels' will be keyword-only\n",
      "  td = td.drop(td.columns[col_drop],1)\n"
     ]
    },
    {
     "ename": "KeyError",
     "evalue": "'Medicamentos por Cobertura'",
     "output_type": "error",
     "traceback": [
      "\u001b[1;31m---------------------------------------------------------------------------\u001b[0m",
      "\u001b[1;31mKeyError\u001b[0m                                  Traceback (most recent call last)",
      "\u001b[1;32m~\\AppData\\Local\\Temp/ipykernel_14444/751675398.py\u001b[0m in \u001b[0;36m<module>\u001b[1;34m\u001b[0m\n\u001b[0;32m     15\u001b[0m \u001b[0mtd4\u001b[0m \u001b[1;33m=\u001b[0m \u001b[0mfunciones\u001b[0m\u001b[1;33m.\u001b[0m\u001b[0mtd_consumo\u001b[0m\u001b[1;33m(\u001b[0m\u001b[0mdf\u001b[0m \u001b[1;33m=\u001b[0m \u001b[0mdfc\u001b[0m\u001b[1;33m,\u001b[0m \u001b[0mcolumna\u001b[0m \u001b[1;33m=\u001b[0m \u001b[1;34m\"Medicamentos por Origen\"\u001b[0m\u001b[1;33m,\u001b[0m \u001b[0msegmentacion\u001b[0m \u001b[1;33m=\u001b[0m \u001b[0msegmentacion\u001b[0m\u001b[1;33m,\u001b[0m \u001b[0mmetricas\u001b[0m \u001b[1;33m=\u001b[0m \u001b[0mmetricas\u001b[0m\u001b[1;33m)\u001b[0m\u001b[1;33m\u001b[0m\u001b[1;33m\u001b[0m\u001b[0m\n\u001b[0;32m     16\u001b[0m \u001b[0mtd5\u001b[0m\u001b[1;33m=\u001b[0m \u001b[0mfunciones\u001b[0m\u001b[1;33m.\u001b[0m\u001b[0mtd_consumo\u001b[0m\u001b[1;33m(\u001b[0m\u001b[0mdf\u001b[0m \u001b[1;33m=\u001b[0m \u001b[0mdfc\u001b[0m\u001b[1;33m,\u001b[0m \u001b[0mcolumna\u001b[0m \u001b[1;33m=\u001b[0m \u001b[1;34m\"Medicamentos por Via\"\u001b[0m\u001b[1;33m,\u001b[0m \u001b[0msegmentacion\u001b[0m \u001b[1;33m=\u001b[0m \u001b[0msegmentacion\u001b[0m\u001b[1;33m,\u001b[0m \u001b[0mmetricas\u001b[0m \u001b[1;33m=\u001b[0m \u001b[0mmetricas\u001b[0m\u001b[1;33m)\u001b[0m\u001b[1;33m\u001b[0m\u001b[1;33m\u001b[0m\u001b[0m\n\u001b[1;32m---> 17\u001b[1;33m \u001b[0mtd6\u001b[0m \u001b[1;33m=\u001b[0m \u001b[0mfunciones\u001b[0m\u001b[1;33m.\u001b[0m\u001b[0mtd_consumo\u001b[0m\u001b[1;33m(\u001b[0m\u001b[0mdf\u001b[0m \u001b[1;33m=\u001b[0m \u001b[0mdfc\u001b[0m\u001b[1;33m,\u001b[0m \u001b[0mcolumna\u001b[0m \u001b[1;33m=\u001b[0m \u001b[1;34m\"Medicamentos por Cobertura\"\u001b[0m\u001b[1;33m,\u001b[0m \u001b[0msegmentacion\u001b[0m \u001b[1;33m=\u001b[0m \u001b[0msegmentacion\u001b[0m\u001b[1;33m,\u001b[0m \u001b[0mmetricas\u001b[0m \u001b[1;33m=\u001b[0m \u001b[0mmetricas\u001b[0m\u001b[1;33m)\u001b[0m\u001b[1;33m\u001b[0m\u001b[1;33m\u001b[0m\u001b[0m\n\u001b[0m\u001b[0;32m     18\u001b[0m \u001b[0mtd7\u001b[0m \u001b[1;33m=\u001b[0m \u001b[0mfunciones\u001b[0m\u001b[1;33m.\u001b[0m\u001b[0mtd_consumo\u001b[0m\u001b[1;33m(\u001b[0m\u001b[0mdf\u001b[0m \u001b[1;33m=\u001b[0m \u001b[0mdfc\u001b[0m\u001b[1;33m,\u001b[0m \u001b[0mcolumna\u001b[0m \u001b[1;33m=\u001b[0m \u001b[1;34m\"Tipo Int. ID\"\u001b[0m\u001b[1;33m,\u001b[0m \u001b[0msegmentacion\u001b[0m \u001b[1;33m=\u001b[0m \u001b[0msegmentacion\u001b[0m\u001b[1;33m,\u001b[0m \u001b[0mmetricas\u001b[0m \u001b[1;33m=\u001b[0m \u001b[0mmetricas\u001b[0m\u001b[1;33m)\u001b[0m\u001b[1;33m\u001b[0m\u001b[1;33m\u001b[0m\u001b[0m\n\u001b[0;32m     19\u001b[0m \u001b[0mtd8\u001b[0m \u001b[1;33m=\u001b[0m \u001b[0mfunciones\u001b[0m\u001b[1;33m.\u001b[0m\u001b[0mtd_consumo\u001b[0m\u001b[1;33m(\u001b[0m\u001b[0mdf\u001b[0m \u001b[1;33m=\u001b[0m \u001b[0mdfc\u001b[0m\u001b[1;33m,\u001b[0m \u001b[0mcolumna\u001b[0m \u001b[1;33m=\u001b[0m \u001b[1;34m\"Marca PMO\"\u001b[0m\u001b[1;33m,\u001b[0m \u001b[0msegmentacion\u001b[0m \u001b[1;33m=\u001b[0m \u001b[0msegmentacion\u001b[0m\u001b[1;33m,\u001b[0m \u001b[0mmetricas\u001b[0m \u001b[1;33m=\u001b[0m \u001b[0mmetricas\u001b[0m\u001b[1;33m)\u001b[0m\u001b[1;33m\u001b[0m\u001b[1;33m\u001b[0m\u001b[0m\n",
      "\u001b[1;32mc:\\GitHub\\Modelos_Costeo\\V0.4.2 - Costeo 2021\\funciones.py\u001b[0m in \u001b[0;36mtd_consumo\u001b[1;34m(df, columna, segmentacion, metricas)\u001b[0m\n\u001b[0;32m     66\u001b[0m \u001b[1;33m\u001b[0m\u001b[0m\n\u001b[0;32m     67\u001b[0m     \u001b[1;31m# Genero la td\u001b[0m\u001b[1;33m\u001b[0m\u001b[1;33m\u001b[0m\u001b[0m\n\u001b[1;32m---> 68\u001b[1;33m     td = pd.pivot_table(df, \n\u001b[0m\u001b[0;32m     69\u001b[0m                         \u001b[0mindex\u001b[0m \u001b[1;33m=\u001b[0m \u001b[0msegmentacion\u001b[0m\u001b[1;33m,\u001b[0m\u001b[1;33m\u001b[0m\u001b[1;33m\u001b[0m\u001b[0m\n\u001b[0;32m     70\u001b[0m                         \u001b[0mcolumns\u001b[0m \u001b[1;33m=\u001b[0m \u001b[0mcolumna\u001b[0m\u001b[1;33m,\u001b[0m\u001b[1;33m\u001b[0m\u001b[1;33m\u001b[0m\u001b[0m\n",
      "\u001b[1;32mc:\\Users\\lsaucedo\\Anaconda3\\lib\\site-packages\\pandas\\core\\reshape\\pivot.py\u001b[0m in \u001b[0;36mpivot_table\u001b[1;34m(data, values, index, columns, aggfunc, fill_value, margins, dropna, margins_name, observed, sort)\u001b[0m\n\u001b[0;32m     93\u001b[0m         \u001b[1;32mreturn\u001b[0m \u001b[0mtable\u001b[0m\u001b[1;33m.\u001b[0m\u001b[0m__finalize__\u001b[0m\u001b[1;33m(\u001b[0m\u001b[0mdata\u001b[0m\u001b[1;33m,\u001b[0m \u001b[0mmethod\u001b[0m\u001b[1;33m=\u001b[0m\u001b[1;34m\"pivot_table\"\u001b[0m\u001b[1;33m)\u001b[0m\u001b[1;33m\u001b[0m\u001b[1;33m\u001b[0m\u001b[0m\n\u001b[0;32m     94\u001b[0m \u001b[1;33m\u001b[0m\u001b[0m\n\u001b[1;32m---> 95\u001b[1;33m     table = __internal_pivot_table(\n\u001b[0m\u001b[0;32m     96\u001b[0m         \u001b[0mdata\u001b[0m\u001b[1;33m,\u001b[0m\u001b[1;33m\u001b[0m\u001b[1;33m\u001b[0m\u001b[0m\n\u001b[0;32m     97\u001b[0m         \u001b[0mvalues\u001b[0m\u001b[1;33m,\u001b[0m\u001b[1;33m\u001b[0m\u001b[1;33m\u001b[0m\u001b[0m\n",
      "\u001b[1;32mc:\\Users\\lsaucedo\\Anaconda3\\lib\\site-packages\\pandas\\core\\reshape\\pivot.py\u001b[0m in \u001b[0;36m__internal_pivot_table\u001b[1;34m(data, values, index, columns, aggfunc, fill_value, margins, dropna, margins_name, observed, sort)\u001b[0m\n\u001b[0;32m    162\u001b[0m         \u001b[0mvalues\u001b[0m \u001b[1;33m=\u001b[0m \u001b[0mlist\u001b[0m\u001b[1;33m(\u001b[0m\u001b[0mvalues\u001b[0m\u001b[1;33m)\u001b[0m\u001b[1;33m\u001b[0m\u001b[1;33m\u001b[0m\u001b[0m\n\u001b[0;32m    163\u001b[0m \u001b[1;33m\u001b[0m\u001b[0m\n\u001b[1;32m--> 164\u001b[1;33m     \u001b[0mgrouped\u001b[0m \u001b[1;33m=\u001b[0m \u001b[0mdata\u001b[0m\u001b[1;33m.\u001b[0m\u001b[0mgroupby\u001b[0m\u001b[1;33m(\u001b[0m\u001b[0mkeys\u001b[0m\u001b[1;33m,\u001b[0m \u001b[0mobserved\u001b[0m\u001b[1;33m=\u001b[0m\u001b[0mobserved\u001b[0m\u001b[1;33m,\u001b[0m \u001b[0msort\u001b[0m\u001b[1;33m=\u001b[0m\u001b[0msort\u001b[0m\u001b[1;33m)\u001b[0m\u001b[1;33m\u001b[0m\u001b[1;33m\u001b[0m\u001b[0m\n\u001b[0m\u001b[0;32m    165\u001b[0m     \u001b[0magged\u001b[0m \u001b[1;33m=\u001b[0m \u001b[0mgrouped\u001b[0m\u001b[1;33m.\u001b[0m\u001b[0magg\u001b[0m\u001b[1;33m(\u001b[0m\u001b[0maggfunc\u001b[0m\u001b[1;33m)\u001b[0m\u001b[1;33m\u001b[0m\u001b[1;33m\u001b[0m\u001b[0m\n\u001b[0;32m    166\u001b[0m     \u001b[1;32mif\u001b[0m \u001b[0mdropna\u001b[0m \u001b[1;32mand\u001b[0m \u001b[0misinstance\u001b[0m\u001b[1;33m(\u001b[0m\u001b[0magged\u001b[0m\u001b[1;33m,\u001b[0m \u001b[0mABCDataFrame\u001b[0m\u001b[1;33m)\u001b[0m \u001b[1;32mand\u001b[0m \u001b[0mlen\u001b[0m\u001b[1;33m(\u001b[0m\u001b[0magged\u001b[0m\u001b[1;33m.\u001b[0m\u001b[0mcolumns\u001b[0m\u001b[1;33m)\u001b[0m\u001b[1;33m:\u001b[0m\u001b[1;33m\u001b[0m\u001b[1;33m\u001b[0m\u001b[0m\n",
      "\u001b[1;32mc:\\Users\\lsaucedo\\Anaconda3\\lib\\site-packages\\pandas\\core\\frame.py\u001b[0m in \u001b[0;36mgroupby\u001b[1;34m(self, by, axis, level, as_index, sort, group_keys, squeeze, observed, dropna)\u001b[0m\n\u001b[0;32m   7629\u001b[0m         \u001b[1;31m# error: Argument \"squeeze\" to \"DataFrameGroupBy\" has incompatible type\u001b[0m\u001b[1;33m\u001b[0m\u001b[1;33m\u001b[0m\u001b[0m\n\u001b[0;32m   7630\u001b[0m         \u001b[1;31m# \"Union[bool, NoDefault]\"; expected \"bool\"\u001b[0m\u001b[1;33m\u001b[0m\u001b[1;33m\u001b[0m\u001b[0m\n\u001b[1;32m-> 7631\u001b[1;33m         return DataFrameGroupBy(\n\u001b[0m\u001b[0;32m   7632\u001b[0m             \u001b[0mobj\u001b[0m\u001b[1;33m=\u001b[0m\u001b[0mself\u001b[0m\u001b[1;33m,\u001b[0m\u001b[1;33m\u001b[0m\u001b[1;33m\u001b[0m\u001b[0m\n\u001b[0;32m   7633\u001b[0m             \u001b[0mkeys\u001b[0m\u001b[1;33m=\u001b[0m\u001b[0mby\u001b[0m\u001b[1;33m,\u001b[0m\u001b[1;33m\u001b[0m\u001b[1;33m\u001b[0m\u001b[0m\n",
      "\u001b[1;32mc:\\Users\\lsaucedo\\Anaconda3\\lib\\site-packages\\pandas\\core\\groupby\\groupby.py\u001b[0m in \u001b[0;36m__init__\u001b[1;34m(self, obj, keys, axis, level, grouper, exclusions, selection, as_index, sort, group_keys, squeeze, observed, mutated, dropna)\u001b[0m\n\u001b[0;32m    887\u001b[0m             \u001b[1;32mfrom\u001b[0m \u001b[0mpandas\u001b[0m\u001b[1;33m.\u001b[0m\u001b[0mcore\u001b[0m\u001b[1;33m.\u001b[0m\u001b[0mgroupby\u001b[0m\u001b[1;33m.\u001b[0m\u001b[0mgrouper\u001b[0m \u001b[1;32mimport\u001b[0m \u001b[0mget_grouper\u001b[0m\u001b[1;33m\u001b[0m\u001b[1;33m\u001b[0m\u001b[0m\n\u001b[0;32m    888\u001b[0m \u001b[1;33m\u001b[0m\u001b[0m\n\u001b[1;32m--> 889\u001b[1;33m             grouper, exclusions, obj = get_grouper(\n\u001b[0m\u001b[0;32m    890\u001b[0m                 \u001b[0mobj\u001b[0m\u001b[1;33m,\u001b[0m\u001b[1;33m\u001b[0m\u001b[1;33m\u001b[0m\u001b[0m\n\u001b[0;32m    891\u001b[0m                 \u001b[0mkeys\u001b[0m\u001b[1;33m,\u001b[0m\u001b[1;33m\u001b[0m\u001b[1;33m\u001b[0m\u001b[0m\n",
      "\u001b[1;32mc:\\Users\\lsaucedo\\Anaconda3\\lib\\site-packages\\pandas\\core\\groupby\\grouper.py\u001b[0m in \u001b[0;36mget_grouper\u001b[1;34m(obj, key, axis, level, sort, observed, mutated, validate, dropna)\u001b[0m\n\u001b[0;32m    860\u001b[0m                 \u001b[0min_axis\u001b[0m\u001b[1;33m,\u001b[0m \u001b[0mlevel\u001b[0m\u001b[1;33m,\u001b[0m \u001b[0mgpr\u001b[0m \u001b[1;33m=\u001b[0m \u001b[1;32mFalse\u001b[0m\u001b[1;33m,\u001b[0m \u001b[0mgpr\u001b[0m\u001b[1;33m,\u001b[0m \u001b[1;32mNone\u001b[0m\u001b[1;33m\u001b[0m\u001b[1;33m\u001b[0m\u001b[0m\n\u001b[0;32m    861\u001b[0m             \u001b[1;32melse\u001b[0m\u001b[1;33m:\u001b[0m\u001b[1;33m\u001b[0m\u001b[1;33m\u001b[0m\u001b[0m\n\u001b[1;32m--> 862\u001b[1;33m                 \u001b[1;32mraise\u001b[0m \u001b[0mKeyError\u001b[0m\u001b[1;33m(\u001b[0m\u001b[0mgpr\u001b[0m\u001b[1;33m)\u001b[0m\u001b[1;33m\u001b[0m\u001b[1;33m\u001b[0m\u001b[0m\n\u001b[0m\u001b[0;32m    863\u001b[0m         \u001b[1;32melif\u001b[0m \u001b[0misinstance\u001b[0m\u001b[1;33m(\u001b[0m\u001b[0mgpr\u001b[0m\u001b[1;33m,\u001b[0m \u001b[0mGrouper\u001b[0m\u001b[1;33m)\u001b[0m \u001b[1;32mand\u001b[0m \u001b[0mgpr\u001b[0m\u001b[1;33m.\u001b[0m\u001b[0mkey\u001b[0m \u001b[1;32mis\u001b[0m \u001b[1;32mnot\u001b[0m \u001b[1;32mNone\u001b[0m\u001b[1;33m:\u001b[0m\u001b[1;33m\u001b[0m\u001b[1;33m\u001b[0m\u001b[0m\n\u001b[0;32m    864\u001b[0m             \u001b[1;31m# Add key to exclusions\u001b[0m\u001b[1;33m\u001b[0m\u001b[1;33m\u001b[0m\u001b[0m\n",
      "\u001b[1;31mKeyError\u001b[0m: 'Medicamentos por Cobertura'"
     ]
    }
   ],
   "source": [
    "# Armado de tds consolidadas de consumos:\n",
    "td1 = pd.pivot_table(dfc, index = segmentacion, aggfunc = metricas, fill_value = 0)\n",
    "\n",
    "# Nombres de columnas:\n",
    "col_td1 = [\n",
    "    \"Cantidad Total\",\n",
    "    \"Consumo Total\",\n",
    "    \"Prest. Dist. Total\"  ]\n",
    "\n",
    "# Renombro las columnas:\n",
    "td1.columns = col_td1\n",
    "\n",
    "td2 = funciones.td_consumo(df = dfc, columna = \"Apertura Total\", segmentacion = segmentacion, metricas = metricas)\n",
    "td3 = funciones.td_consumo(df = dfc, columna = \"Amb por Rubros\", segmentacion = segmentacion, metricas = metricas)\n",
    "td4 = funciones.td_consumo(df = dfc, columna = \"Medicamentos por Origen\", segmentacion = segmentacion, metricas = metricas)\n",
    "td5= funciones.td_consumo(df = dfc, columna = \"Medicamentos por Via\", segmentacion = segmentacion, metricas = metricas)\n",
    "td6 = funciones.td_consumo(df = dfc, columna = \"Medicamentos por Cobertura\", segmentacion = segmentacion, metricas = metricas)\n",
    "td7 = funciones.td_consumo(df = dfc, columna = \"Tipo Int. ID\", segmentacion = segmentacion, metricas = metricas)\n",
    "td8 = funciones.td_consumo(df = dfc, columna = \"Marca PMO\", segmentacion = segmentacion, metricas = metricas)"
   ]
  },
  {
   "cell_type": "code",
   "execution_count": 19,
   "metadata": {},
   "outputs": [
    {
     "data": {
      "text/plain": [
       "Index(['Periodo', 'Periodo_Prest', 'Persona', 'Fecha_nac', 'Edad Orden ID',\n",
       "       'Sexo', 'Discapacidad', 'Posicion Asociado ID', 'Zona de Promocion ID',\n",
       "       'Plan', 'Plan Agrupado', 'Origen Prestacion ID',\n",
       "       'Origen Facturacion ID', 'Prestacion', 'Prestacion DESC',\n",
       "       'Rubro Indicadores Consumo ID', 'Prestacion Acreedor ID',\n",
       "       'Prestacion Acreedor DESC', 'Nomenclador ID', 'Nomenclador DESC',\n",
       "       'Acreedor ID', 'Provision Acreedor ID', 'Posicion Acreedor ID',\n",
       "       'Tipo Orden ID', 'Nro Orden ID', 'Tipo Orden Relacionada ID',\n",
       "       'Orden Relacionada ID', 'Cobertura_DW', 'Tipo de Venta DESC',\n",
       "       'Tipo de Venta ID', 'Subtipo de Venta DESC', 'Subtipo de Venta ID',\n",
       "       'Segmento', 'Cantidad', 'Consumo', 'Precio_sug', 'Prest_sin_esp',\n",
       "       'Apertura Total', 'Amb por Rubros', 'Medicamentos por Origen',\n",
       "       'Medicamentos por Via'],\n",
       "      dtype='object')"
      ]
     },
     "execution_count": 19,
     "metadata": {},
     "output_type": "execute_result"
    }
   ],
   "source": [
    "dfc.columns"
   ]
  },
  {
   "cell_type": "code",
   "execution_count": null,
   "metadata": {},
   "outputs": [],
   "source": []
  },
  {
   "cell_type": "code",
   "execution_count": null,
   "metadata": {},
   "outputs": [],
   "source": []
  },
  {
   "cell_type": "code",
   "execution_count": null,
   "metadata": {},
   "outputs": [],
   "source": []
  },
  {
   "cell_type": "code",
   "execution_count": null,
   "metadata": {},
   "outputs": [],
   "source": []
  },
  {
   "cell_type": "code",
   "execution_count": null,
   "metadata": {},
   "outputs": [],
   "source": []
  },
  {
   "cell_type": "code",
   "execution_count": null,
   "metadata": {},
   "outputs": [],
   "source": []
  },
  {
   "cell_type": "code",
   "execution_count": null,
   "metadata": {},
   "outputs": [],
   "source": []
  }
 ],
 "metadata": {
  "kernelspec": {
   "display_name": "Python 3.9.7 ('base')",
   "language": "python",
   "name": "python3"
  },
  "language_info": {
   "codemirror_mode": {
    "name": "ipython",
    "version": 3
   },
   "file_extension": ".py",
   "mimetype": "text/x-python",
   "name": "python",
   "nbconvert_exporter": "python",
   "pygments_lexer": "ipython3",
   "version": "3.9.7"
  },
  "orig_nbformat": 4,
  "vscode": {
   "interpreter": {
    "hash": "562c9c567e50c33fd32533d1041799ab9ec09a9cf2f2e4c1c846bbf665f39d1b"
   }
  }
 },
 "nbformat": 4,
 "nbformat_minor": 2
}
