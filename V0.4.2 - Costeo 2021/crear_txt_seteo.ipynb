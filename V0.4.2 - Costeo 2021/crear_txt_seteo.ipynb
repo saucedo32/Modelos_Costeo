{
 "cells": [
  {
   "cell_type": "markdown",
   "metadata": {},
   "source": [
    "# Generar los txt de seteo"
   ]
  },
  {
   "cell_type": "code",
   "execution_count": null,
   "metadata": {},
   "outputs": [],
   "source": [
    "import os.\n",
    "file = open(\"/ruta/filename.txt\", \"w\")\n",
    "file. write(\"Primera línea\" + os.linesep)\n",
    "file. write(\"Segunda línea\")\n",
    "file. close()\n",
    "\n",
    "\n",
    "\n",
    "\n"
   ]
  },
  {
   "cell_type": "code",
   "execution_count": 7,
   "metadata": {},
   "outputs": [],
   "source": [
    "import os\n",
    "\n",
    "# Definicion de variables\n",
    "ruta = \"C:/Users/lsaucedo/Desktop/Bases Costeos 2021/crear_seteos/1.txt\"\n",
    "\n",
    "resultado_pmo = \n",
    "resultado_no_pmo = \n",
    "ruta_stock_zona = \n",
    "ruta_consumo_zona = \n",
    "\n",
    "file = open(ruta, \"w\")\n",
    "file.write(\"resultado_exportacion_pmo=\" + resultado_pmo + \"\\n\")\n",
    "file.write(\"resultado_exportacion_no_pmo=\" + resultado_no_pmo + \"\\n\")\n",
    "file.write(\"ruta_stock=\" + ruta_stock_zona + \"\\n\")\n",
    "file.write(\"ruta_aux=C:\\\\modelos\\\\Aux_2021\\\\\" + \"\\n\")\n",
    "file.write(\"ruta_int=C:\\\\modelos\\\\Internaciones\\\\50.1 Tipos de internaciones.xlsx\" + \"\\n\")\n",
    "file.write(\"ruta_diag=C:\\\\modelos\\Aux_2021\\\\diagnosticos2021.csv\" + \"\\n\")\n",
    "file.write(\"medicamentos_especiales=C:\\\\modelos\\\\Aux_2021\\\\Aux_Prestaciones_especiales_med.xlsx\" + \"\\n\")\n",
    "file.write(\"cobertura_medicamentos=C:\\\\modelos\\\\Aux_2021\\\\Aux_CobertMedicamentosPlan.xlsx\")\n",
    "file.close()"
   ]
  },
  {
   "cell_type": "code",
   "execution_count": null,
   "metadata": {},
   "outputs": [],
   "source": []
  }
 ],
 "metadata": {
  "kernelspec": {
   "display_name": "Python 3.9.7 ('base')",
   "language": "python",
   "name": "python3"
  },
  "language_info": {
   "codemirror_mode": {
    "name": "ipython",
    "version": 3
   },
   "file_extension": ".py",
   "mimetype": "text/x-python",
   "name": "python",
   "nbconvert_exporter": "python",
   "pygments_lexer": "ipython3",
   "version": "3.9.7"
  },
  "orig_nbformat": 4,
  "vscode": {
   "interpreter": {
    "hash": "562c9c567e50c33fd32533d1041799ab9ec09a9cf2f2e4c1c846bbf665f39d1b"
   }
  }
 },
 "nbformat": 4,
 "nbformat_minor": 2
}
