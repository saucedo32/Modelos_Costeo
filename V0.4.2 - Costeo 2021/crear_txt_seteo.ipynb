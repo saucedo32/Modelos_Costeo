{
 "cells": [
  {
   "cell_type": "markdown",
   "metadata": {},
   "source": [
    "# Generar los txt de seteo"
   ]
  },
  {
   "cell_type": "code",
   "execution_count": 1,
   "metadata": {},
   "outputs": [],
   "source": [
    "import os\n",
    "import pandas as pd"
   ]
  },
  {
   "cell_type": "code",
   "execution_count": 2,
   "metadata": {},
   "outputs": [
    {
     "data": {
      "text/html": [
       "<div>\n",
       "<style scoped>\n",
       "    .dataframe tbody tr th:only-of-type {\n",
       "        vertical-align: middle;\n",
       "    }\n",
       "\n",
       "    .dataframe tbody tr th {\n",
       "        vertical-align: top;\n",
       "    }\n",
       "\n",
       "    .dataframe thead th {\n",
       "        text-align: right;\n",
       "    }\n",
       "</style>\n",
       "<table border=\"1\" class=\"dataframe\">\n",
       "  <thead>\n",
       "    <tr style=\"text-align: right;\">\n",
       "      <th></th>\n",
       "      <th>lista_cons</th>\n",
       "      <th>lista_stk</th>\n",
       "      <th>lista_zonas</th>\n",
       "    </tr>\n",
       "  </thead>\n",
       "  <tbody>\n",
       "    <tr>\n",
       "      <th>0</th>\n",
       "      <td>1-Consumos CAR CÓRDOBA</td>\n",
       "      <td>1-Stock CAR CÓRDOBA</td>\n",
       "      <td>CAR CÓRDOBA</td>\n",
       "    </tr>\n",
       "    <tr>\n",
       "      <th>1</th>\n",
       "      <td>2-Consumos CAR RIO CUARTO</td>\n",
       "      <td>2-Stock CAR RIO CUARTO</td>\n",
       "      <td>CAR RIO CUARTO</td>\n",
       "    </tr>\n",
       "    <tr>\n",
       "      <th>2</th>\n",
       "      <td>3-Consumos CAR MORTEROS</td>\n",
       "      <td>3-Stock CAR MORTEROS</td>\n",
       "      <td>CAR MORTEROS</td>\n",
       "    </tr>\n",
       "    <tr>\n",
       "      <th>3</th>\n",
       "      <td>4-Consumos CAR SANTA FE</td>\n",
       "      <td>4-Stock CAR SANTA FE</td>\n",
       "      <td>CAR SANTA FE</td>\n",
       "    </tr>\n",
       "    <tr>\n",
       "      <th>4</th>\n",
       "      <td>5-Consumos CAR ROSARIO</td>\n",
       "      <td>5-Stock CAR ROSARIO</td>\n",
       "      <td>CAR ROSARIO</td>\n",
       "    </tr>\n",
       "  </tbody>\n",
       "</table>\n",
       "</div>"
      ],
      "text/plain": [
       "                  lista_cons               lista_stk     lista_zonas\n",
       "0     1-Consumos CAR CÓRDOBA     1-Stock CAR CÓRDOBA     CAR CÓRDOBA\n",
       "1  2-Consumos CAR RIO CUARTO  2-Stock CAR RIO CUARTO  CAR RIO CUARTO\n",
       "2    3-Consumos CAR MORTEROS    3-Stock CAR MORTEROS    CAR MORTEROS\n",
       "3    4-Consumos CAR SANTA FE    4-Stock CAR SANTA FE    CAR SANTA FE\n",
       "4     5-Consumos CAR ROSARIO     5-Stock CAR ROSARIO     CAR ROSARIO"
      ]
     },
     "execution_count": 2,
     "metadata": {},
     "output_type": "execute_result"
    }
   ],
   "source": [
    "df_seteos = pd.read_excel('C:/Users/lsaucedo/Desktop/Bases Costeos 2021/lista_zonas.xlsx')\n",
    "df_seteos.head()"
   ]
  },
  {
   "cell_type": "code",
   "execution_count": 3,
   "metadata": {},
   "outputs": [],
   "source": [
    "# Consideraciones para crear las carpetas:\n",
    "carpetas_c = list(df_seteos.lista_cons)\n",
    "carpetas_s = list(df_seteos.lista_stk)\n",
    "#salidas_r = list(df_seteos.lista_zonas)\n",
    "zonas = list(df_seteos.lista_zonas)\n",
    "#carpeta_zona = (\"4- CAR SANTA FE\", \"61- CAR BELGRANO\")\n",
    "#prueba_sc = (\"4-Consumos CAR SANTA FE\", \"61-Consumos CAR BELGRANO\")\n",
    "ruta_txt_seteos = \"C:/Users/lsaucedo/Desktop/Bases Costeos 2021/set_archivos/\""
   ]
  },
  {
   "cell_type": "code",
   "execution_count": 4,
   "metadata": {},
   "outputs": [],
   "source": [
    "def creador_txt(nombre_txt, texto_txt):\n",
    "    with open(nombre_txt, \"w\") as file:\n",
    "        file.write(\"resultado_exportacion=\"+texto_txt[0])\n",
    "        file.write(\"ruta_stock=\"+texto_txt[1])\n",
    "        file.write(\"ruta_consumo=\"+texto_txt[2])\n",
    "        file.write(\"ruta_aux=\"+texto_txt[3])\n",
    "        file.write(\"ruta_int=\"+texto_txt[4])\n",
    "        file.write(\"ruta_diag=\"+texto_txt[5])\n",
    "        file.write(\"medicamentos_especiales=\"+texto_txt[6])\n",
    "        file.write(\"cobertura_medicamentos=\"+texto_txt[7])\n",
    "        file.close()\n"
   ]
  },
  {
   "cell_type": "code",
   "execution_count": 5,
   "metadata": {},
   "outputs": [],
   "source": [
    "for orden in range(len(zonas)):\n",
    "\n",
    "    # Archivos de saluda:\n",
    "    l1=  \"C:/modelos_2021/Exportaciones/R_\" + zonas[orden] + \".csv\" + \"\\n\"\n",
    "    # Carpeta con los stocks\n",
    "    l2 = \"C:/Users/lsaucedo/Desktop/Bases Costeos 2021/Stock Zona/\" + carpetas_s[orden] + \"/\" + \"\\n\"\n",
    "    # Carpeta con los consumos\n",
    "    l3 = \"C:/Users/lsaucedo/Desktop/Bases Costeos 2021/Consumo Zona/\" + carpetas_c[orden] + \"/\" + \"\\n\"\n",
    "    ### Ruta con auxiliares = 4\n",
    "    l4=\"C:/modelos/Aux_2021/\" + \"\\n\"\n",
    "    l5=\"C:/modelos/Internaciones/50.1 Tipos de internaciones.xlsx\" + \"\\n\"\n",
    "    l6=\"C:/modelos\\Aux_2021/diagnosticos2021.csv\" + \"\\n\"\n",
    "    l7=\"C:/modelos/Aux_2021/Aux_Prestaciones_especiales_med.xlsx\" + \"\\n\"\n",
    "    l8=\"C:/modelos/Aux_2021/Aux_CobertMedicamentosPlan.xlsx\"\n",
    "\n",
    "    # nombre txt seteo:\n",
    "    nombre_txt = ruta_txt_seteos + zonas[orden] + \"_seteo.txt\"\n",
    "\n",
    "    texto_txt = (l1, l2, l3, l4, l5, l6, l7, l8)\n",
    "\n",
    "    # corremos la funcion para generar el txt.\n",
    "    creador_txt(nombre_txt, texto_txt)\n"
   ]
  },
  {
   "cell_type": "code",
   "execution_count": null,
   "metadata": {},
   "outputs": [],
   "source": []
  },
  {
   "cell_type": "code",
   "execution_count": null,
   "metadata": {},
   "outputs": [],
   "source": []
  },
  {
   "cell_type": "code",
   "execution_count": null,
   "metadata": {},
   "outputs": [],
   "source": []
  },
  {
   "cell_type": "code",
   "execution_count": null,
   "metadata": {},
   "outputs": [],
   "source": []
  }
 ],
 "metadata": {
  "kernelspec": {
   "display_name": "Python 3.9.7 ('base')",
   "language": "python",
   "name": "python3"
  },
  "language_info": {
   "codemirror_mode": {
    "name": "ipython",
    "version": 3
   },
   "file_extension": ".py",
   "mimetype": "text/x-python",
   "name": "python",
   "nbconvert_exporter": "python",
   "pygments_lexer": "ipython3",
   "version": "3.9.7"
  },
  "orig_nbformat": 4,
  "vscode": {
   "interpreter": {
    "hash": "562c9c567e50c33fd32533d1041799ab9ec09a9cf2f2e4c1c846bbf665f39d1b"
   }
  }
 },
 "nbformat": 4,
 "nbformat_minor": 2
}
