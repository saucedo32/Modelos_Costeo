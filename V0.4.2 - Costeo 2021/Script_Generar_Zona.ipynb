{
 "cells": [
  {
   "cell_type": "code",
   "execution_count": 1,
   "metadata": {},
   "outputs": [],
   "source": [
    "import funciones\n",
    "import os\n",
    "import proceso\n",
    "import pandas as pd\n",
    "import numpy as np"
   ]
  },
  {
   "cell_type": "code",
   "execution_count": 2,
   "metadata": {},
   "outputs": [],
   "source": [
    "# Ruta donde se encuentran los seteos:\n",
    "ruta_seteos = \"C:/Users/lsaucedo/Desktop/Bases Costeos 2021/set_archivos/set_brinkmann.txt\"\n",
    "\n",
    "# leemos las variables de los diferentes archivos txt.\n",
    "variables = {}   # Diccionario que contendra los datos leidos.\n",
    "with open(ruta_seteos, \"r\") as datos:\n",
    "    for linea in datos:\n",
    "        nombre, valor = linea.strip().split(\"=\", maxsplit=1)\n",
    "        variables[nombre] = valor\n",
    "\n",
    "# Guardamos las variables en variables globales:\n",
    "ruta_aux = variables['ruta_aux']\n",
    "ruta_stock = variables['ruta_stock']\n",
    "ruta_consumo = variables['ruta_consumo']\n",
    "ruta_int = variables['ruta_int']\n",
    "ruta_diag = variables['ruta_diag']\n",
    "medicamentos_especiales = variables['medicamentos_especiales']\n",
    "cobertura_medicamentos = variables['cobertura_medicamentos']\n",
    "#archivo_exportacion = variables['archivo_exportacion']\n",
    "resultado_exportacion = variables['resultado_exportacion']"
   ]
  },
  {
   "cell_type": "code",
   "execution_count": 3,
   "metadata": {},
   "outputs": [],
   "source": [
    "#######################################################\n",
    "# Importacion de consumo y cambio de nombre columnas ##\n",
    "#######################################################\n",
    "\n",
    "dfc = funciones.leer_xlsx(ruta_consumo)\n",
    "funciones.renombrar_columnas(dfc)"
   ]
  },
  {
   "cell_type": "code",
   "execution_count": 4,
   "metadata": {},
   "outputs": [],
   "source": [
    "# Aperturas realizadas al consumo:\n",
    "dfc = proceso.apertura_pmo(dfc, ruta_aux)\n",
    "dfc = proceso.apertura_tipo_internacion(dfc, ruta_int)\n",
    "proceso.apertura_total(dfc)\n",
    "proceso.apertura_rubros_amb(dfc)\n",
    "proceso.apertura_origen_medicamentos(dfc)\n",
    "proceso.apertura_via_medicamentos(dfc)\n",
    "dfc = proceso.apertura_cobertura_medicamentos(dfc, medicamentos_especiales, cobertura_medicamentos)"
   ]
  },
  {
   "cell_type": "code",
   "execution_count": 5,
   "metadata": {},
   "outputs": [],
   "source": [
    "# Segmentacion y metricas para td consumo:\n",
    "segmentacion = (['Periodo_Prest', 'Persona'])\n",
    "metricas = ({'Consumo':[np.sum], 'Prestacion':pd.Series.nunique,'Cantidad':[np.sum]})"
   ]
  },
  {
   "cell_type": "code",
   "execution_count": 6,
   "metadata": {},
   "outputs": [
    {
     "name": "stderr",
     "output_type": "stream",
     "text": [
      "c:\\GitHub\\Modelos_Costeo\\V0.4.2 - Costeo 2021\\funciones.py:83: FutureWarning: In a future version of pandas all arguments of DataFrame.drop except for the argument 'labels' will be keyword-only\n",
      "  td = td.drop(td.columns[col_drop],1)\n"
     ]
    }
   ],
   "source": [
    "# Armado de tds consolidadas de consumos:\n",
    "td1 = pd.pivot_table(dfc, index = segmentacion, aggfunc = metricas, fill_value = 0)\n",
    "\n",
    "# Nombres de columnas:\n",
    "col_td1 = [\n",
    "    \"Cantidad Total\",\n",
    "    \"Consumo Total\",\n",
    "    \"Prest. Dist. Total\"  ]\n",
    "\n",
    "# Renombro las columnas:\n",
    "td1.columns = col_td1\n",
    "\n",
    "td2 = funciones.td_consumo(df = dfc, columna = \"Apertura Total\", segmentacion = segmentacion, metricas = metricas)\n",
    "td3 = funciones.td_consumo(df = dfc, columna = \"Amb por Rubros\", segmentacion = segmentacion, metricas = metricas)\n",
    "td4 = funciones.td_consumo(df = dfc, columna = \"Medicamentos por Origen\", segmentacion = segmentacion, metricas = metricas)\n",
    "td5= funciones.td_consumo(df = dfc, columna = \"Medicamentos por Via\", segmentacion = segmentacion, metricas = metricas)\n",
    "td6 = funciones.td_consumo(df = dfc, columna = \"Medicamentos por Cobertura\", segmentacion = segmentacion, metricas = metricas)\n",
    "td7 = funciones.td_consumo(df = dfc, columna = \"Tipo Int. ID\", segmentacion = segmentacion, metricas = metricas)\n",
    "td8 = funciones.td_consumo(df = dfc, columna = \"Marca PMO\", segmentacion = segmentacion, metricas = metricas)"
   ]
  },
  {
   "cell_type": "code",
   "execution_count": 10,
   "metadata": {},
   "outputs": [],
   "source": [
    "# Agrupamos las tablas de consumos:\n",
    "tdt = pd.concat([td1, td2, td3, td4, td5, td6, td7, td8], axis=1)\n",
    "tdt = tdt.reset_index()"
   ]
  },
  {
   "cell_type": "code",
   "execution_count": 8,
   "metadata": {},
   "outputs": [],
   "source": [
    "#######################################################\n",
    "# Importacion de stock y cambio de nombre columnas ####\n",
    "#######################################################\n",
    "\n",
    "# Cargamos el stock y cambiamos el nombre de las columnas:\n",
    "dfs = funciones.leer_xlsx(ruta = ruta_stock)\n",
    "funciones.renombrar_columnas(dfs)\n",
    "\n",
    "# Agregamos aperturas al stock:\n",
    "dfs = proceso.marca_rango_edad(dfs, ruta_aux)\n",
    "dfs = proceso.marca_cartilla_base(dfs, ruta_aux)\n",
    "dfs = proceso.marca_cobertura_med(dfs, ruta_aux)\n",
    "dfs = proceso.marca_lista_copagos(dfs, ruta_aux)\n",
    "dfs = proceso.marca_diagnistico(dfs, ruta_diag)\n",
    "dfs = proceso.marca_parentesco(dfs)"
   ]
  },
  {
   "cell_type": "code",
   "execution_count": 12,
   "metadata": {},
   "outputs": [
    {
     "name": "stdout",
     "output_type": "stream",
     "text": [
      "fin del proceso\n"
     ]
    }
   ],
   "source": [
    "##########################################\n",
    "## CREAMOS EL ARCHIVO DE SALIDA ##########\n",
    "##########################################\n",
    "\n",
    "dff = pd.merge(left = dfs, right = tdt, \n",
    "                left_on=(\"Persona\",\"Periodo\"), right_on=(\"Persona\",\"Periodo_Prest\"), how = \"left\")\n",
    "dff = dff.fillna(0)\n",
    "\n",
    "dff.to_csv(resultado_exportacion, encoding = 'latin1', index = False, decimal=',')\n",
    "print(\"fin del proceso\")"
   ]
  },
  {
   "cell_type": "code",
   "execution_count": null,
   "metadata": {},
   "outputs": [],
   "source": []
  },
  {
   "cell_type": "code",
   "execution_count": null,
   "metadata": {},
   "outputs": [],
   "source": []
  },
  {
   "cell_type": "code",
   "execution_count": null,
   "metadata": {},
   "outputs": [],
   "source": []
  }
 ],
 "metadata": {
  "kernelspec": {
   "display_name": "Python 3.9.7 ('base')",
   "language": "python",
   "name": "python3"
  },
  "language_info": {
   "codemirror_mode": {
    "name": "ipython",
    "version": 3
   },
   "file_extension": ".py",
   "mimetype": "text/x-python",
   "name": "python",
   "nbconvert_exporter": "python",
   "pygments_lexer": "ipython3",
   "version": "3.9.7"
  },
  "orig_nbformat": 4,
  "vscode": {
   "interpreter": {
    "hash": "562c9c567e50c33fd32533d1041799ab9ec09a9cf2f2e4c1c846bbf665f39d1b"
   }
  }
 },
 "nbformat": 4,
 "nbformat_minor": 2
}
