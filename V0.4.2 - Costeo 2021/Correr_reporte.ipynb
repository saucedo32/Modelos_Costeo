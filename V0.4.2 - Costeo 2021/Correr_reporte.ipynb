{
 "cells": [
  {
   "cell_type": "markdown",
   "metadata": {},
   "source": [
    "# Corriendo procesos en paralelo:"
   ]
  },
  {
   "cell_type": "code",
   "execution_count": 2,
   "metadata": {},
   "outputs": [],
   "source": [
    "import funciones\n",
    "import generador\n"
   ]
  },
  {
   "cell_type": "code",
   "execution_count": 4,
   "metadata": {},
   "outputs": [
    {
     "name": "stdout",
     "output_type": "stream",
     "text": [
      "inicio del proceso\n",
      "Inicio del proceso: 17:58:23\n",
      "Se cargó el archivo:  Cons_Brinkmann_202010_202109.xlsx a las: 17:59:49\n",
      "Fin de la carga de archivos\n",
      "Las prestaciones que no se pudieron catalogar fueron:\n",
      "['NS121002  ' 'NS0405710 ' 'NS0401070 ' 'NS0401100 ' 'NS0401080 '\n",
      " 'NS0401140 ']\n",
      "agregamos la marca de prestaciones PMO\n",
      "agregamos la marca de tipo internacion\n",
      "agregamos la columna apertura total\n",
      "agregamos la columna amb por rubro\n",
      "agregamos la columna medicamentos por origen\n",
      "agregamos la columna medicamentos por via\n",
      "Medicamentos por Cobertura\n"
     ]
    },
    {
     "name": "stderr",
     "output_type": "stream",
     "text": [
      "c:\\GitHub\\Modelos_Costeo\\V0.4.2 - Costeo 2021\\funciones.py:83: FutureWarning: In a future version of pandas all arguments of DataFrame.drop except for the argument 'labels' will be keyword-only\n",
      "  td = td.drop(td.columns[col_drop],1)\n"
     ]
    },
    {
     "name": "stdout",
     "output_type": "stream",
     "text": [
      "fin td2 -- 18:00:55\n",
      "fin td3 -- 18:00:59\n",
      "fin td4 -- 18:01:01\n",
      "fin td5 -- 18:01:03\n",
      "fin td6 -- 18:01:05\n",
      "fin td7 -- 18:01:07\n",
      "fin td8 -- 18:01:10\n",
      "armamos las td resumidas del consumo\n",
      "Inicio del proceso: 18:01:10\n",
      "Se cargó el archivo:  Stock_brinkmann_202010-202109.xlsx a las: 18:01:17\n",
      "Fin de la carga de archivos\n",
      "leimos el stock\n",
      "pegamos la edad\n",
      "pegamos la cartilla base\n",
      "pegamos la cobertura med del plan\n",
      "pegamos la lista copagos del plan\n",
      "pegamos los diagnosticos de las personas\n",
      "fin del proceso\n"
     ]
    }
   ],
   "source": [
    "# Generar reporte de una zona\n",
    "generador.generar_reporte(\"C:/Users/lsaucedo/Desktop/Reportes/set_brinkmann.txt\")"
   ]
  },
  {
   "cell_type": "code",
   "execution_count": 8,
   "metadata": {},
   "outputs": [],
   "source": [
    "# Generar reporte de una lista:\n",
    "\n",
    "#leer todos los archivos .txt de la carpeta desktop\n",
    "import os\n",
    "ruta_set = \"C:/Users/lsaucedo/Desktop/Reportes/\"\n",
    "lista_archivos = os.listdir(ruta_set)"
   ]
  },
  {
   "cell_type": "code",
   "execution_count": 9,
   "metadata": {},
   "outputs": [
    {
     "name": "stdout",
     "output_type": "stream",
     "text": [
      "inicia el proceso de set_brinkmann.txt\n",
      "inicio del proceso\n",
      "Inicio del proceso: 18:05:53\n",
      "Se cargó el archivo:  Cons_Brinkmann_202010_202109.xlsx a las: 18:07:25\n",
      "Fin de la carga de archivos\n",
      "Las prestaciones que no se pudieron catalogar fueron:\n",
      "['NS121002  ' 'NS0405710 ' 'NS0401070 ' 'NS0401100 ' 'NS0401080 '\n",
      " 'NS0401140 ']\n",
      "agregamos la marca de prestaciones PMO\n",
      "agregamos la marca de tipo internacion\n",
      "agregamos la columna apertura total\n",
      "agregamos la columna amb por rubro\n",
      "agregamos la columna medicamentos por origen\n",
      "agregamos la columna medicamentos por via\n",
      "Medicamentos por Cobertura\n"
     ]
    },
    {
     "name": "stderr",
     "output_type": "stream",
     "text": [
      "c:\\GitHub\\Modelos_Costeo\\V0.4.2 - Costeo 2021\\funciones.py:83: FutureWarning: In a future version of pandas all arguments of DataFrame.drop except for the argument 'labels' will be keyword-only\n",
      "  td = td.drop(td.columns[col_drop],1)\n"
     ]
    },
    {
     "name": "stdout",
     "output_type": "stream",
     "text": [
      "fin td2 -- 18:08:32\n",
      "fin td3 -- 18:08:37\n",
      "fin td4 -- 18:08:39\n",
      "fin td5 -- 18:08:41\n",
      "fin td6 -- 18:08:44\n",
      "fin td7 -- 18:08:45\n",
      "fin td8 -- 18:08:48\n",
      "armamos las td resumidas del consumo\n",
      "Inicio del proceso: 18:08:48\n",
      "Se cargó el archivo:  Stock_brinkmann_202010-202109.xlsx a las: 18:08:56\n",
      "Fin de la carga de archivos\n",
      "leimos el stock\n",
      "pegamos la edad\n",
      "pegamos la cartilla base\n",
      "pegamos la cobertura med del plan\n",
      "pegamos la lista copagos del plan\n",
      "pegamos los diagnosticos de las personas\n",
      "fin del proceso\n",
      "finalizado el proceso de set_brinkmann.txt\n",
      "inicia el proceso de set_villa_maria.txt\n",
      "inicio del proceso\n",
      "Inicio del proceso: 18:09:03\n",
      "Se cargó el archivo:  10.1 Consumos para modelo (per prestac) Villa Maria 202010-202101.xlsx a las: 18:11:50\n",
      "Se cargó el archivo:  10.1 Consumos para modelo (per prestac) Villa Maria 202102-202105.xlsx a las: 18:15:03\n",
      "Se cargó el archivo:  10.1 Consumos para modelo (per prestac) Villa Maria 202106-202109.xlsx a las: 18:18:28\n",
      "Fin de la carga de archivos\n",
      "Las prestaciones que no se pudieron catalogar fueron:\n",
      "['NS100     ' 'NS0401140 ' 'NS0401080 ' 'NS0401050 ' 'NS0401120 '\n",
      " 'NS0401020 ' 'NS0405710 ' 'NS0401110 ' 'NS0401010 ' 'NS122002  '\n",
      " 'NS130204  ' 'NS080203  ' '9E600000  ']\n",
      "agregamos la marca de prestaciones PMO\n",
      "agregamos la marca de tipo internacion\n",
      "agregamos la columna apertura total\n",
      "agregamos la columna amb por rubro\n",
      "agregamos la columna medicamentos por origen\n",
      "agregamos la columna medicamentos por via\n",
      "Medicamentos por Cobertura\n",
      "fin td2 -- 18:20:16\n",
      "fin td3 -- 18:20:44\n",
      "fin td4 -- 18:20:57\n",
      "fin td5 -- 18:21:10\n",
      "fin td6 -- 18:21:24\n",
      "fin td7 -- 18:21:34\n",
      "fin td8 -- 18:21:52\n",
      "armamos las td resumidas del consumo\n",
      "Inicio del proceso: 18:21:52\n",
      "Se cargó el archivo:  20.1 Stock Villa Maria.xlsx a las: 18:22:36\n",
      "Fin de la carga de archivos\n",
      "leimos el stock\n",
      "pegamos la edad\n",
      "pegamos la cartilla base\n",
      "pegamos la cobertura med del plan\n",
      "pegamos la lista copagos del plan\n",
      "pegamos los diagnosticos de las personas\n",
      "fin del proceso\n",
      "finalizado el proceso de set_villa_maria.txt\n"
     ]
    }
   ],
   "source": [
    "for archivos in lista_archivos:\n",
    "    print(\"inicia el proceso de\", archivos)\n",
    "    generador.generar_reporte(ruta_set + archivos)\n",
    "    print(\"finalizado el proceso de\", archivos)"
   ]
  },
  {
   "cell_type": "code",
   "execution_count": null,
   "metadata": {},
   "outputs": [],
   "source": []
  },
  {
   "cell_type": "code",
   "execution_count": null,
   "metadata": {},
   "outputs": [],
   "source": []
  },
  {
   "cell_type": "code",
   "execution_count": null,
   "metadata": {},
   "outputs": [],
   "source": []
  },
  {
   "cell_type": "code",
   "execution_count": null,
   "metadata": {},
   "outputs": [],
   "source": []
  },
  {
   "cell_type": "code",
   "execution_count": null,
   "metadata": {},
   "outputs": [],
   "source": []
  }
 ],
 "metadata": {
  "interpreter": {
   "hash": "562c9c567e50c33fd32533d1041799ab9ec09a9cf2f2e4c1c846bbf665f39d1b"
  },
  "kernelspec": {
   "display_name": "Python 3.9.7 ('base')",
   "language": "python",
   "name": "python3"
  },
  "language_info": {
   "codemirror_mode": {
    "name": "ipython",
    "version": 3
   },
   "file_extension": ".py",
   "mimetype": "text/x-python",
   "name": "python",
   "nbconvert_exporter": "python",
   "pygments_lexer": "ipython3",
   "version": "3.9.7"
  },
  "orig_nbformat": 4
 },
 "nbformat": 4,
 "nbformat_minor": 2
}
