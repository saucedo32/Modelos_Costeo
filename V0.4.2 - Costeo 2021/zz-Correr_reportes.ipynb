{
 "cells": [
  {
   "cell_type": "markdown",
   "metadata": {},
   "source": [
    "# Código de reportes para generar informes"
   ]
  },
  {
   "cell_type": "code",
   "execution_count": 1,
   "metadata": {},
   "outputs": [],
   "source": [
    "# Librerías usadas:\n",
    "import pandas as pd\n",
    "import numpy as np\n",
    "import os\n",
    "from datetime import datetime\n",
    "import funciones\n",
    "import proceso\n",
    "import generador_zona"
   ]
  },
  {
   "cell_type": "code",
   "execution_count": 2,
   "metadata": {},
   "outputs": [],
   "source": [
    "ruta_seteos = \"C:/Users/lsaucedo/Desktop/Bases Costeos 2021/set_archivos/\""
   ]
  },
  {
   "cell_type": "code",
   "execution_count": 3,
   "metadata": {},
   "outputs": [],
   "source": [
    "# Generar una zona\n",
    "#generador_zona.generador_zona(ruta_seteos)"
   ]
  },
  {
   "cell_type": "code",
   "execution_count": 4,
   "metadata": {},
   "outputs": [],
   "source": [
    "r1 = \"C:/Users/lsaucedo/Desktop/Bases Costeos 2021/set_archivos/set_villa_mercedes.txt\"\n",
    "r2 = \"C:/Users/lsaucedo/Desktop/Bases Costeos 2021/set_archivos/set_reconquista.txt\"\n",
    "r3 = \"C:/Users/lsaucedo/Desktop/Bases Costeos 2021/set_archivos/set_chilecito.txt\"\n",
    "r4 = \"C:/Users/lsaucedo/Desktop/Bases Costeos 2021/set_archivos/set_rosario2.txt\""
   ]
  },
  {
   "cell_type": "code",
   "execution_count": 5,
   "metadata": {},
   "outputs": [
    {
     "ename": "FileNotFoundError",
     "evalue": "[Errno 2] No such file or directory: 'C:/Users/lsaucedo/Desktop/Bases Costeos 2021/set_archivos/set_villa_mercedes.txt'",
     "output_type": "error",
     "traceback": [
      "\u001b[1;31m---------------------------------------------------------------------------\u001b[0m",
      "\u001b[1;31mFileNotFoundError\u001b[0m                         Traceback (most recent call last)",
      "\u001b[1;32m~\\AppData\\Local\\Temp/ipykernel_16960/3592510498.py\u001b[0m in \u001b[0;36m<module>\u001b[1;34m\u001b[0m\n\u001b[1;32m----> 1\u001b[1;33m \u001b[0mgenerador_zona\u001b[0m\u001b[1;33m.\u001b[0m\u001b[0mgenerador_zona\u001b[0m\u001b[1;33m(\u001b[0m\u001b[0mr1\u001b[0m\u001b[1;33m)\u001b[0m\u001b[1;33m\u001b[0m\u001b[1;33m\u001b[0m\u001b[0m\n\u001b[0m",
      "\u001b[1;32mc:\\GitHub\\Modelos_Costeo\\V0.4.2 - Costeo 2021\\generador_zona.py\u001b[0m in \u001b[0;36mgenerador_zona\u001b[1;34m(ruta_seteo)\u001b[0m\n\u001b[0;32m     17\u001b[0m     \u001b[1;31m# leemos las variables de los diferentes archivos txt.\u001b[0m\u001b[1;33m\u001b[0m\u001b[1;33m\u001b[0m\u001b[0m\n\u001b[0;32m     18\u001b[0m     \u001b[0mvariables\u001b[0m \u001b[1;33m=\u001b[0m \u001b[1;33m{\u001b[0m\u001b[1;33m}\u001b[0m   \u001b[1;31m# Diccionario que contendra los datos leidos.\u001b[0m\u001b[1;33m\u001b[0m\u001b[1;33m\u001b[0m\u001b[0m\n\u001b[1;32m---> 19\u001b[1;33m     \u001b[1;32mwith\u001b[0m \u001b[0mopen\u001b[0m\u001b[1;33m(\u001b[0m\u001b[0mruta_seteos\u001b[0m\u001b[1;33m,\u001b[0m \u001b[1;34m\"r\"\u001b[0m\u001b[1;33m)\u001b[0m \u001b[1;32mas\u001b[0m \u001b[0mdatos\u001b[0m\u001b[1;33m:\u001b[0m\u001b[1;33m\u001b[0m\u001b[1;33m\u001b[0m\u001b[0m\n\u001b[0m\u001b[0;32m     20\u001b[0m         \u001b[1;32mfor\u001b[0m \u001b[0mlinea\u001b[0m \u001b[1;32min\u001b[0m \u001b[0mdatos\u001b[0m\u001b[1;33m:\u001b[0m\u001b[1;33m\u001b[0m\u001b[1;33m\u001b[0m\u001b[0m\n\u001b[0;32m     21\u001b[0m             \u001b[0mnombre\u001b[0m\u001b[1;33m,\u001b[0m \u001b[0mvalor\u001b[0m \u001b[1;33m=\u001b[0m \u001b[0mlinea\u001b[0m\u001b[1;33m.\u001b[0m\u001b[0mstrip\u001b[0m\u001b[1;33m(\u001b[0m\u001b[1;33m)\u001b[0m\u001b[1;33m.\u001b[0m\u001b[0msplit\u001b[0m\u001b[1;33m(\u001b[0m\u001b[1;34m\"=\"\u001b[0m\u001b[1;33m,\u001b[0m \u001b[0mmaxsplit\u001b[0m\u001b[1;33m=\u001b[0m\u001b[1;36m1\u001b[0m\u001b[1;33m)\u001b[0m\u001b[1;33m\u001b[0m\u001b[1;33m\u001b[0m\u001b[0m\n",
      "\u001b[1;31mFileNotFoundError\u001b[0m: [Errno 2] No such file or directory: 'C:/Users/lsaucedo/Desktop/Bases Costeos 2021/set_archivos/set_villa_mercedes.txt'"
     ]
    }
   ],
   "source": [
    "generador_zona.generador_zona(r1)"
   ]
  },
  {
   "cell_type": "code",
   "execution_count": 6,
   "metadata": {},
   "outputs": [
    {
     "name": "stdout",
     "output_type": "stream",
     "text": [
      "se generaron todas las columnas de consumos e inicia proceso de armado de tds\n",
      "comienzo armado td internaciones\n",
      "fin armado td internaciones\n",
      "comienzo armado td internaciones pmo\n",
      "fin armado td internaciones pmo\n"
     ]
    }
   ],
   "source": [
    "generador_zona.generador_zona(r2)"
   ]
  },
  {
   "cell_type": "code",
   "execution_count": 7,
   "metadata": {},
   "outputs": [
    {
     "name": "stdout",
     "output_type": "stream",
     "text": [
      "se generaron todas las columnas de consumos e inicia proceso de armado de tds\n",
      "comienzo armado td internaciones\n",
      "fin armado td internaciones\n",
      "comienzo armado td internaciones pmo\n",
      "fin armado td internaciones pmo\n"
     ]
    }
   ],
   "source": [
    "generador_zona.generador_zona(r3)"
   ]
  },
  {
   "cell_type": "code",
   "execution_count": 8,
   "metadata": {},
   "outputs": [
    {
     "name": "stdout",
     "output_type": "stream",
     "text": [
      "se generaron todas las columnas de consumos e inicia proceso de armado de tds\n",
      "comienzo armado td internaciones\n",
      "fin armado td internaciones\n",
      "comienzo armado td internaciones pmo\n",
      "fin armado td internaciones pmo\n"
     ]
    }
   ],
   "source": [
    "generador_zona.generador_zona(r4)"
   ]
  },
  {
   "cell_type": "code",
   "execution_count": null,
   "metadata": {},
   "outputs": [],
   "source": []
  },
  {
   "cell_type": "code",
   "execution_count": null,
   "metadata": {},
   "outputs": [],
   "source": []
  },
  {
   "cell_type": "code",
   "execution_count": null,
   "metadata": {},
   "outputs": [],
   "source": []
  },
  {
   "cell_type": "code",
   "execution_count": null,
   "metadata": {},
   "outputs": [],
   "source": []
  },
  {
   "cell_type": "markdown",
   "metadata": {},
   "source": [
    "# Desde una ruta"
   ]
  },
  {
   "cell_type": "code",
   "execution_count": 1,
   "metadata": {},
   "outputs": [],
   "source": [
    "# Librerías usadas:\n",
    "import pandas as pd\n",
    "import numpy as np\n",
    "import os\n",
    "from datetime import datetime\n",
    "import funciones\n",
    "import proceso\n",
    "import generador_zona\n",
    "\n",
    "ruta_set = \"C:/Users/lsaucedo/Desktop/Bases Costeos 2021/set_archivos_santiago/\"\n",
    "lista_archivos = os.listdir(ruta_set)"
   ]
  },
  {
   "cell_type": "code",
   "execution_count": 2,
   "metadata": {},
   "outputs": [
    {
     "name": "stdout",
     "output_type": "stream",
     "text": [
      "inicia el proceso de CAR SANTIAGO DEL ESTERO_seteo.txt\n",
      "finalizado el proceso de CAR SANTIAGO DEL ESTERO_seteo.txt\n"
     ]
    }
   ],
   "source": [
    "for archivos in lista_archivos:\n",
    "    print(\"inicia el proceso de\", archivos)\n",
    "    generador_zona.generador_zona_df(ruta_set + archivos)\n",
    "    print(\"finalizado el proceso de\", archivos)"
   ]
  },
  {
   "cell_type": "code",
   "execution_count": null,
   "metadata": {},
   "outputs": [],
   "source": []
  },
  {
   "cell_type": "code",
   "execution_count": null,
   "metadata": {},
   "outputs": [],
   "source": []
  },
  {
   "cell_type": "code",
   "execution_count": null,
   "metadata": {},
   "outputs": [],
   "source": []
  },
  {
   "cell_type": "code",
   "execution_count": null,
   "metadata": {},
   "outputs": [],
   "source": []
  },
  {
   "cell_type": "code",
   "execution_count": null,
   "metadata": {},
   "outputs": [],
   "source": []
  },
  {
   "cell_type": "markdown",
   "metadata": {},
   "source": [
    "# Desde una ruta CSV"
   ]
  },
  {
   "cell_type": "code",
   "execution_count": 7,
   "metadata": {},
   "outputs": [],
   "source": [
    "# Librerías usadas:\n",
    "import pandas as pd\n",
    "import numpy as np\n",
    "import os\n",
    "from datetime import datetime\n",
    "import funciones\n",
    "import proceso\n",
    "import generador_zona\n",
    "\n",
    "ruta_set = \"C:/Users/lsaucedo/Desktop/Reportes_Costeo_2021/Set_Archivos/\"\n",
    "lista_archivos = os.listdir(ruta_set)"
   ]
  },
  {
   "cell_type": "code",
   "execution_count": 8,
   "metadata": {},
   "outputs": [
    {
     "name": "stdout",
     "output_type": "stream",
     "text": [
      "inicia el proceso de Mendoza.txt\n",
      "float64\n",
      "float64\n",
      "ok, apertura pmo\n",
      "float64\n",
      "ok, internaciones\n",
      "ok, apertura total\n",
      "ok, apertura rubros\n",
      "float64\n",
      "ok, apertura medicamentos\n",
      "ok, apertura via medicamentos\n",
      "float64\n",
      "inicia la apertura medicamentos por cobertura\n",
      "float64\n",
      "división de valores iniciando\n",
      "división de valores finalizada\n",
      "redondear\n",
      "realizamos el cruce\n",
      "ok, apertura medicamentos por cobertura\n",
      "inicio tds\n",
      "vamos por la td8 finalizada\n",
      "todas las tds finalizadas, vamos a concatenarlas\n",
      "todas las tds concatenadas\n",
      "Pasamos rango edad\n",
      "Pasamos cartilla base\n",
      "Pasamos marca cobertura med\n",
      "Pasamos lista copagos\n",
      "Pasamos marca diag\n",
      "Pasamos parentesco\n",
      "Unimos por periodo persona el consumo para generar el archivo de salida\n",
      "exportando archivo de salida:\n",
      "finalizado el proceso de Mendoza.txt\n"
     ]
    }
   ],
   "source": [
    "for archivos in lista_archivos:\n",
    "    print(\"inicia el proceso de\", archivos)\n",
    "    generador_zona.generador_zona_df_csv(ruta_set + archivos)\n",
    "    print(\"finalizado el proceso de\", archivos)"
   ]
  },
  {
   "cell_type": "code",
   "execution_count": null,
   "metadata": {},
   "outputs": [],
   "source": []
  },
  {
   "cell_type": "code",
   "execution_count": 4,
   "metadata": {},
   "outputs": [],
   "source": [
    "# !pip install streamlit\n",
    "# streamlit hello"
   ]
  },
  {
   "cell_type": "code",
   "execution_count": 5,
   "metadata": {},
   "outputs": [],
   "source": [
    "import streamlit as st\n",
    "x = st.slider('Select a value')\n",
    "st.write(x, 'squared is', x * x)"
   ]
  },
  {
   "cell_type": "code",
   "execution_count": null,
   "metadata": {},
   "outputs": [],
   "source": []
  },
  {
   "cell_type": "code",
   "execution_count": null,
   "metadata": {},
   "outputs": [],
   "source": []
  },
  {
   "cell_type": "code",
   "execution_count": 13,
   "metadata": {},
   "outputs": [
    {
     "data": {
      "text/plain": [
       "0   NaN\n",
       "1   NaN\n",
       "2   NaN\n",
       "3   NaN\n",
       "4   NaN\n",
       "Name: 26, dtype: float64"
      ]
     },
     "execution_count": 13,
     "metadata": {},
     "output_type": "execute_result"
    }
   ],
   "source": [
    "\n",
    "import funciones\n",
    "dfs = funciones.leer_csv_2(\"C:/Users/lsaucedo/Desktop/Reportes_Costeo_2021/Stock Zona/La Rioja/\")\n",
    "dfs.columns\n",
    "dfs[26].head()"
   ]
  },
  {
   "cell_type": "code",
   "execution_count": null,
   "metadata": {},
   "outputs": [],
   "source": []
  },
  {
   "cell_type": "code",
   "execution_count": 10,
   "metadata": {},
   "outputs": [
    {
     "data": {
      "text/plain": [
       "['Periodo ID',\n",
       " 'Persona ID',\n",
       " 'Persona Fecha Nacimiento',\n",
       " 'Parentesco IdParentesco',\n",
       " 'Edad Periodo ID',\n",
       " 'Sexo ID',\n",
       " 'Discapacitado ID',\n",
       " 'Localidad Asociado ID',\n",
       " 'Provincia Asociado ID',\n",
       " 'Posicion Asociado ID',\n",
       " 'Zona de Promocion ID',\n",
       " 'Segmento Agrupado ID',\n",
       " 'Segmento Agrupado DESC',\n",
       " 'Plan Sin Segmento ID',\n",
       " 'Plan Agrupado Sin Segmento DESC',\n",
       " 'Tipo de Venta DESC',\n",
       " 'Tipo de Venta ID',\n",
       " 'Subtipo de Venta DESC',\n",
       " 'Subtipo de Venta ID',\n",
       " 'Marca Persona con Diabetes DESC',\n",
       " 'Marca Persona con Hepatitis DESC',\n",
       " 'Marca Persona con PMI DESC',\n",
       " 'Marca Persona con Tratamiento Cronico DESC',\n",
       " 'Marca Persona con Tratamiento Oncológico DESC',\n",
       " 'Stock Asociados Salud',\n",
       " 'ACE Stock Asociados Salud']"
      ]
     },
     "execution_count": 10,
     "metadata": {},
     "output_type": "execute_result"
    }
   ],
   "source": [
    "    dfs = [\"Periodo ID\",\"Persona ID\",\"Persona Fecha Nacimiento\",\"Parentesco IdParentesco\",\"Edad Periodo ID\",\"Sexo ID\",\"Discapacitado ID\",\"Localidad Asociado ID\",\n",
    "    \"Provincia Asociado ID\",\"Posicion Asociado ID\",\"Zona de Promocion ID\",\"Segmento Agrupado ID\",\"Segmento Agrupado DESC\",\"Plan Sin Segmento ID\",\n",
    "    \"Plan Agrupado Sin Segmento DESC\",\"Tipo de Venta DESC\",\"Tipo de Venta ID\",\"Subtipo de Venta DESC\",\"Subtipo de Venta ID\",\"Marca Persona con Diabetes DESC\",\n",
    "    \"Marca Persona con Hepatitis DESC\",\"Marca Persona con PMI DESC\",\"Marca Persona con Tratamiento Cronico DESC\",\"Marca Persona con Tratamiento Oncológico DESC\",\n",
    "    \"Stock Asociados Salud\",\"ACE Stock Asociados Salud\"]\n",
    "    dfs"
   ]
  },
  {
   "cell_type": "code",
   "execution_count": 24,
   "metadata": {},
   "outputs": [],
   "source": []
  },
  {
   "cell_type": "code",
   "execution_count": 19,
   "metadata": {},
   "outputs": [
    {
     "data": {
      "text/plain": [
       "array([999.,  nan,   4., 987.,   0., 993., 996.,  57., 995.,   6., 899.,\n",
       "         8., 997., 994., 977.])"
      ]
     },
     "execution_count": 19,
     "metadata": {},
     "output_type": "execute_result"
    }
   ],
   "source": [
    "df[\"Subtipo de Venta DESC\"].unique()"
   ]
  },
  {
   "cell_type": "code",
   "execution_count": null,
   "metadata": {},
   "outputs": [],
   "source": []
  },
  {
   "cell_type": "code",
   "execution_count": null,
   "metadata": {},
   "outputs": [],
   "source": []
  },
  {
   "cell_type": "code",
   "execution_count": 5,
   "metadata": {},
   "outputs": [
    {
     "data": {
      "text/html": [
       "<div>\n",
       "<style scoped>\n",
       "    .dataframe tbody tr th:only-of-type {\n",
       "        vertical-align: middle;\n",
       "    }\n",
       "\n",
       "    .dataframe tbody tr th {\n",
       "        vertical-align: top;\n",
       "    }\n",
       "\n",
       "    .dataframe thead th {\n",
       "        text-align: right;\n",
       "    }\n",
       "</style>\n",
       "<table border=\"1\" class=\"dataframe\">\n",
       "  <thead>\n",
       "    <tr style=\"text-align: right;\">\n",
       "      <th></th>\n",
       "      <th>202101</th>\n",
       "      <th>22965</th>\n",
       "      <th>20010308</th>\n",
       "      <th>F</th>\n",
       "      <th>N</th>\n",
       "      <th>9015007</th>\n",
       "      <th>Z</th>\n",
       "      <th>43</th>\n",
       "      <th>33</th>\n",
       "      <th>AMS GRAVADO</th>\n",
       "      <th>...</th>\n",
       "      <th>5</th>\n",
       "      <th>Operativo</th>\n",
       "      <th>999</th>\n",
       "      <th>0</th>\n",
       "      <th>999.1</th>\n",
       "      <th>0.1</th>\n",
       "      <th>,000</th>\n",
       "      <th>1.1</th>\n",
       "      <th>1,2900</th>\n",
       "      <th>32,0000</th>\n",
       "    </tr>\n",
       "  </thead>\n",
       "  <tbody>\n",
       "    <tr>\n",
       "      <th>0</th>\n",
       "      <td>202101</td>\n",
       "      <td>87851</td>\n",
       "      <td>19840818</td>\n",
       "      <td>M</td>\n",
       "      <td>N</td>\n",
       "      <td>9405001</td>\n",
       "      <td>Z</td>\n",
       "      <td>41</td>\n",
       "      <td>26</td>\n",
       "      <td>Obras Sociales PMO</td>\n",
       "      <td>...</td>\n",
       "      <td>36</td>\n",
       "      <td>Táctico</td>\n",
       "      <td>999</td>\n",
       "      <td>0</td>\n",
       "      <td>999.0</td>\n",
       "      <td>0.0</td>\n",
       "      <td>0.0</td>\n",
       "      <td>1</td>\n",
       "      <td>923.69</td>\n",
       "      <td>0.0</td>\n",
       "    </tr>\n",
       "    <tr>\n",
       "      <th>1</th>\n",
       "      <td>202101</td>\n",
       "      <td>87851</td>\n",
       "      <td>19840818</td>\n",
       "      <td>M</td>\n",
       "      <td>N</td>\n",
       "      <td>9405001</td>\n",
       "      <td>Z</td>\n",
       "      <td>41</td>\n",
       "      <td>26</td>\n",
       "      <td>Obras Sociales PMO</td>\n",
       "      <td>...</td>\n",
       "      <td>999</td>\n",
       "      <td>F/D</td>\n",
       "      <td>999</td>\n",
       "      <td>10340069</td>\n",
       "      <td>NaN</td>\n",
       "      <td>NaN</td>\n",
       "      <td>0.0</td>\n",
       "      <td>0</td>\n",
       "      <td>-101.93</td>\n",
       "      <td>0.0</td>\n",
       "    </tr>\n",
       "    <tr>\n",
       "      <th>2</th>\n",
       "      <td>202101</td>\n",
       "      <td>117833</td>\n",
       "      <td>19901128</td>\n",
       "      <td>F</td>\n",
       "      <td>N</td>\n",
       "      <td>9011000</td>\n",
       "      <td>Z</td>\n",
       "      <td>43</td>\n",
       "      <td>33</td>\n",
       "      <td>AMS NO GRAVADO</td>\n",
       "      <td>...</td>\n",
       "      <td>7</td>\n",
       "      <td>F/D</td>\n",
       "      <td>999</td>\n",
       "      <td>0</td>\n",
       "      <td>999.0</td>\n",
       "      <td>0.0</td>\n",
       "      <td>0.0</td>\n",
       "      <td>1</td>\n",
       "      <td>0.00</td>\n",
       "      <td>0.0</td>\n",
       "    </tr>\n",
       "    <tr>\n",
       "      <th>3</th>\n",
       "      <td>202101</td>\n",
       "      <td>117833</td>\n",
       "      <td>19901128</td>\n",
       "      <td>F</td>\n",
       "      <td>N</td>\n",
       "      <td>9011000</td>\n",
       "      <td>Z</td>\n",
       "      <td>43</td>\n",
       "      <td>33</td>\n",
       "      <td>AMS NO GRAVADO</td>\n",
       "      <td>...</td>\n",
       "      <td>999</td>\n",
       "      <td>F/D</td>\n",
       "      <td>999</td>\n",
       "      <td>87791777</td>\n",
       "      <td>999.0</td>\n",
       "      <td>87791777.0</td>\n",
       "      <td>0.0</td>\n",
       "      <td>1</td>\n",
       "      <td>-13.32</td>\n",
       "      <td>0.0</td>\n",
       "    </tr>\n",
       "    <tr>\n",
       "      <th>4</th>\n",
       "      <td>202101</td>\n",
       "      <td>117833</td>\n",
       "      <td>19901128</td>\n",
       "      <td>F</td>\n",
       "      <td>N</td>\n",
       "      <td>9011000</td>\n",
       "      <td>Z</td>\n",
       "      <td>43</td>\n",
       "      <td>33</td>\n",
       "      <td>AMS NO GRAVADO</td>\n",
       "      <td>...</td>\n",
       "      <td>999</td>\n",
       "      <td>F/D</td>\n",
       "      <td>999</td>\n",
       "      <td>87843984</td>\n",
       "      <td>999.0</td>\n",
       "      <td>87843984.0</td>\n",
       "      <td>0.0</td>\n",
       "      <td>1</td>\n",
       "      <td>-51.59</td>\n",
       "      <td>0.0</td>\n",
       "    </tr>\n",
       "  </tbody>\n",
       "</table>\n",
       "<p>5 rows × 36 columns</p>\n",
       "</div>"
      ],
      "text/plain": [
       "   202101   22965  20010308  F  N  9015007  Z  43  33         AMS GRAVADO  \\\n",
       "0  202101   87851  19840818  M  N  9405001  Z  41  26  Obras Sociales PMO   \n",
       "1  202101   87851  19840818  M  N  9405001  Z  41  26  Obras Sociales PMO   \n",
       "2  202101  117833  19901128  F  N  9011000  Z  43  33      AMS NO GRAVADO   \n",
       "3  202101  117833  19901128  F  N  9011000  Z  43  33      AMS NO GRAVADO   \n",
       "4  202101  117833  19901128  F  N  9011000  Z  43  33      AMS NO GRAVADO   \n",
       "\n",
       "   ...    5 Operativo  999         0  999.1         0.1  ,000 1.1  1,2900  \\\n",
       "0  ...   36   Táctico  999         0  999.0         0.0   0.0   1  923.69   \n",
       "1  ...  999       F/D  999  10340069    NaN         NaN   0.0   0 -101.93   \n",
       "2  ...    7       F/D  999         0  999.0         0.0   0.0   1    0.00   \n",
       "3  ...  999       F/D  999  87791777  999.0  87791777.0   0.0   1  -13.32   \n",
       "4  ...  999       F/D  999  87843984  999.0  87843984.0   0.0   1  -51.59   \n",
       "\n",
       "  32,0000  \n",
       "0     0.0  \n",
       "1     0.0  \n",
       "2     0.0  \n",
       "3     0.0  \n",
       "4     0.0  \n",
       "\n",
       "[5 rows x 36 columns]"
      ]
     },
     "execution_count": 5,
     "metadata": {},
     "output_type": "execute_result"
    }
   ],
   "source": [
    "df = pd.read_csv(\"C:/Users/lsaucedo/Desktop/Reportes_Costeo_2021/Consumo Zona/Resto/Consumo Provincia- SANTA CRUZ.csv\", encoding=\"latin-1\",sep=\";\", decimal=\",\")\n",
    "df.head()"
   ]
  },
  {
   "cell_type": "code",
   "execution_count": 28,
   "metadata": {},
   "outputs": [
    {
     "data": {
      "text/plain": [
       "(379415, 39)"
      ]
     },
     "execution_count": 28,
     "metadata": {},
     "output_type": "execute_result"
    }
   ],
   "source": [
    "df.shape"
   ]
  },
  {
   "cell_type": "code",
   "execution_count": 6,
   "metadata": {},
   "outputs": [],
   "source": [
    "df.columns = [\"Periodo ID\",\"Persona ID\",\"Persona Fecha Nacimiento\",\"Sexo ID\",\"Discapacitado ID\",\n",
    "\"Localidad Asociado ID\",\"Provincia Asociado ID\",\"Posicion Asociado ID\",\"Zona de Promocion ID\",\n",
    "\"Segmento Agrupado DESC\",\"Plan Sin Segmento ID\",\"Tipo de Venta DESC\",\"Tipo de Venta ID\",\"Subtipo de Venta DESC\",\n",
    "\"Subtipo de Venta ID\",\"Periodo Prestacion ID\",\"Edad Orden ID\",\"Origen Prestacion ID\",\"Origen Facturacion ID\",\n",
    "\"Prestacion ID\",\"Rubro Indicadores Consumo ID\",\"Prestacion Acreedor ID\",\"Nomenclador ID\",\"Nomenclador DESC\",\"Acreedor ID\",\n",
    "\"Provision Acreedor ID\",\"Posicion Acreedor ID\",\"Subcategoria Acreedor DESC\",\"Tipo Orden ID\",\"Nro Orden ID\",\n",
    "\"Tipo Orden Relacionada ID\",\"Orden Relacionada ID\",\"Porcentaje Cobertura Medicamento ID\",\"Cantidad\",\n",
    "\"Consumo\",\"Precio Sugerido Medicamento\"]"
   ]
  },
  {
   "cell_type": "code",
   "execution_count": 7,
   "metadata": {},
   "outputs": [
    {
     "data": {
      "text/html": [
       "<div>\n",
       "<style scoped>\n",
       "    .dataframe tbody tr th:only-of-type {\n",
       "        vertical-align: middle;\n",
       "    }\n",
       "\n",
       "    .dataframe tbody tr th {\n",
       "        vertical-align: top;\n",
       "    }\n",
       "\n",
       "    .dataframe thead th {\n",
       "        text-align: right;\n",
       "    }\n",
       "</style>\n",
       "<table border=\"1\" class=\"dataframe\">\n",
       "  <thead>\n",
       "    <tr style=\"text-align: right;\">\n",
       "      <th></th>\n",
       "      <th>Periodo ID</th>\n",
       "      <th>Persona ID</th>\n",
       "      <th>Persona Fecha Nacimiento</th>\n",
       "      <th>Sexo ID</th>\n",
       "      <th>Discapacitado ID</th>\n",
       "      <th>Localidad Asociado ID</th>\n",
       "      <th>Provincia Asociado ID</th>\n",
       "      <th>Posicion Asociado ID</th>\n",
       "      <th>Zona de Promocion ID</th>\n",
       "      <th>Segmento Agrupado DESC</th>\n",
       "      <th>...</th>\n",
       "      <th>Posicion Acreedor ID</th>\n",
       "      <th>Subcategoria Acreedor DESC</th>\n",
       "      <th>Tipo Orden ID</th>\n",
       "      <th>Nro Orden ID</th>\n",
       "      <th>Tipo Orden Relacionada ID</th>\n",
       "      <th>Orden Relacionada ID</th>\n",
       "      <th>Porcentaje Cobertura Medicamento ID</th>\n",
       "      <th>Cantidad</th>\n",
       "      <th>Consumo</th>\n",
       "      <th>Precio Sugerido Medicamento</th>\n",
       "    </tr>\n",
       "  </thead>\n",
       "  <tbody>\n",
       "    <tr>\n",
       "      <th>0</th>\n",
       "      <td>202101</td>\n",
       "      <td>87851</td>\n",
       "      <td>19840818</td>\n",
       "      <td>M</td>\n",
       "      <td>N</td>\n",
       "      <td>9405001</td>\n",
       "      <td>Z</td>\n",
       "      <td>41</td>\n",
       "      <td>26</td>\n",
       "      <td>Obras Sociales PMO</td>\n",
       "      <td>...</td>\n",
       "      <td>36</td>\n",
       "      <td>Táctico</td>\n",
       "      <td>999</td>\n",
       "      <td>0</td>\n",
       "      <td>999.0</td>\n",
       "      <td>0.0</td>\n",
       "      <td>0.0</td>\n",
       "      <td>1</td>\n",
       "      <td>923.69</td>\n",
       "      <td>0.0</td>\n",
       "    </tr>\n",
       "    <tr>\n",
       "      <th>1</th>\n",
       "      <td>202101</td>\n",
       "      <td>87851</td>\n",
       "      <td>19840818</td>\n",
       "      <td>M</td>\n",
       "      <td>N</td>\n",
       "      <td>9405001</td>\n",
       "      <td>Z</td>\n",
       "      <td>41</td>\n",
       "      <td>26</td>\n",
       "      <td>Obras Sociales PMO</td>\n",
       "      <td>...</td>\n",
       "      <td>999</td>\n",
       "      <td>F/D</td>\n",
       "      <td>999</td>\n",
       "      <td>10340069</td>\n",
       "      <td>NaN</td>\n",
       "      <td>NaN</td>\n",
       "      <td>0.0</td>\n",
       "      <td>0</td>\n",
       "      <td>-101.93</td>\n",
       "      <td>0.0</td>\n",
       "    </tr>\n",
       "    <tr>\n",
       "      <th>2</th>\n",
       "      <td>202101</td>\n",
       "      <td>117833</td>\n",
       "      <td>19901128</td>\n",
       "      <td>F</td>\n",
       "      <td>N</td>\n",
       "      <td>9011000</td>\n",
       "      <td>Z</td>\n",
       "      <td>43</td>\n",
       "      <td>33</td>\n",
       "      <td>AMS NO GRAVADO</td>\n",
       "      <td>...</td>\n",
       "      <td>7</td>\n",
       "      <td>F/D</td>\n",
       "      <td>999</td>\n",
       "      <td>0</td>\n",
       "      <td>999.0</td>\n",
       "      <td>0.0</td>\n",
       "      <td>0.0</td>\n",
       "      <td>1</td>\n",
       "      <td>0.00</td>\n",
       "      <td>0.0</td>\n",
       "    </tr>\n",
       "    <tr>\n",
       "      <th>3</th>\n",
       "      <td>202101</td>\n",
       "      <td>117833</td>\n",
       "      <td>19901128</td>\n",
       "      <td>F</td>\n",
       "      <td>N</td>\n",
       "      <td>9011000</td>\n",
       "      <td>Z</td>\n",
       "      <td>43</td>\n",
       "      <td>33</td>\n",
       "      <td>AMS NO GRAVADO</td>\n",
       "      <td>...</td>\n",
       "      <td>999</td>\n",
       "      <td>F/D</td>\n",
       "      <td>999</td>\n",
       "      <td>87791777</td>\n",
       "      <td>999.0</td>\n",
       "      <td>87791777.0</td>\n",
       "      <td>0.0</td>\n",
       "      <td>1</td>\n",
       "      <td>-13.32</td>\n",
       "      <td>0.0</td>\n",
       "    </tr>\n",
       "    <tr>\n",
       "      <th>4</th>\n",
       "      <td>202101</td>\n",
       "      <td>117833</td>\n",
       "      <td>19901128</td>\n",
       "      <td>F</td>\n",
       "      <td>N</td>\n",
       "      <td>9011000</td>\n",
       "      <td>Z</td>\n",
       "      <td>43</td>\n",
       "      <td>33</td>\n",
       "      <td>AMS NO GRAVADO</td>\n",
       "      <td>...</td>\n",
       "      <td>999</td>\n",
       "      <td>F/D</td>\n",
       "      <td>999</td>\n",
       "      <td>87843984</td>\n",
       "      <td>999.0</td>\n",
       "      <td>87843984.0</td>\n",
       "      <td>0.0</td>\n",
       "      <td>1</td>\n",
       "      <td>-51.59</td>\n",
       "      <td>0.0</td>\n",
       "    </tr>\n",
       "  </tbody>\n",
       "</table>\n",
       "<p>5 rows × 36 columns</p>\n",
       "</div>"
      ],
      "text/plain": [
       "   Periodo ID  Persona ID  Persona Fecha Nacimiento Sexo ID Discapacitado ID  \\\n",
       "0      202101       87851                  19840818       M                N   \n",
       "1      202101       87851                  19840818       M                N   \n",
       "2      202101      117833                  19901128       F                N   \n",
       "3      202101      117833                  19901128       F                N   \n",
       "4      202101      117833                  19901128       F                N   \n",
       "\n",
       "   Localidad Asociado ID Provincia Asociado ID  Posicion Asociado ID  \\\n",
       "0                9405001                     Z                    41   \n",
       "1                9405001                     Z                    41   \n",
       "2                9011000                     Z                    43   \n",
       "3                9011000                     Z                    43   \n",
       "4                9011000                     Z                    43   \n",
       "\n",
       "   Zona de Promocion ID Segmento Agrupado DESC  ... Posicion Acreedor ID  \\\n",
       "0                    26     Obras Sociales PMO  ...                   36   \n",
       "1                    26     Obras Sociales PMO  ...                  999   \n",
       "2                    33         AMS NO GRAVADO  ...                    7   \n",
       "3                    33         AMS NO GRAVADO  ...                  999   \n",
       "4                    33         AMS NO GRAVADO  ...                  999   \n",
       "\n",
       "  Subcategoria Acreedor DESC  Tipo Orden ID Nro Orden ID  \\\n",
       "0                    Táctico            999            0   \n",
       "1                        F/D            999     10340069   \n",
       "2                        F/D            999            0   \n",
       "3                        F/D            999     87791777   \n",
       "4                        F/D            999     87843984   \n",
       "\n",
       "   Tipo Orden Relacionada ID  Orden Relacionada ID  \\\n",
       "0                      999.0                   0.0   \n",
       "1                        NaN                   NaN   \n",
       "2                      999.0                   0.0   \n",
       "3                      999.0            87791777.0   \n",
       "4                      999.0            87843984.0   \n",
       "\n",
       "   Porcentaje Cobertura Medicamento ID Cantidad Consumo  \\\n",
       "0                                  0.0        1  923.69   \n",
       "1                                  0.0        0 -101.93   \n",
       "2                                  0.0        1    0.00   \n",
       "3                                  0.0        1  -13.32   \n",
       "4                                  0.0        1  -51.59   \n",
       "\n",
       "  Precio Sugerido Medicamento  \n",
       "0                         0.0  \n",
       "1                         0.0  \n",
       "2                         0.0  \n",
       "3                         0.0  \n",
       "4                         0.0  \n",
       "\n",
       "[5 rows x 36 columns]"
      ]
     },
     "execution_count": 7,
     "metadata": {},
     "output_type": "execute_result"
    }
   ],
   "source": [
    "df.head()"
   ]
  },
  {
   "cell_type": "code",
   "execution_count": 11,
   "metadata": {},
   "outputs": [
    {
     "data": {
      "text/plain": [
       "219387859.52"
      ]
     },
     "execution_count": 11,
     "metadata": {},
     "output_type": "execute_result"
    }
   ],
   "source": [
    "df.Consumo.sum()"
   ]
  },
  {
   "cell_type": "code",
   "execution_count": null,
   "metadata": {},
   "outputs": [],
   "source": []
  },
  {
   "cell_type": "code",
   "execution_count": null,
   "metadata": {},
   "outputs": [],
   "source": []
  },
  {
   "cell_type": "code",
   "execution_count": 14,
   "metadata": {},
   "outputs": [],
   "source": [
    "    df.columns = [\"Periodo ID\",\"Periodo Prestacion ID\",\"Persona ID\",\"Persona Fecha Nacimiento\",\"Edad Orden ID\",\"Sexo ID\",\"Discapacitado ID\",\n",
    "    \"Posicion Asociado ID\",\"Zona de Promocion ID\",\"Localidad Asociado ID\",\"Provincia Asociado ID\",\"Plan Sin Segmento ID\",\"Origen Prestacion ID\",\n",
    "    \"Origen Facturacion ID\",\"Prestacion ID\",\"Rubro Indicadores Consumo ID\",\"Prestacion Acreedor ID\",\"Nomenclador ID\",\"Nomenclador DESC\",\n",
    "    \"Acreedor ID\",\"Provision Acreedor ID\",\"Posicion Acreedor ID\",\"Subcategoria Acreedor DESC\",\"Tipo Orden ID\",\"Nro Orden ID\",\"Tipo Orden Relacionada ID\"\n",
    "    ,\"Orden Relacionada ID\",\"Porcentaje Cobertura Medicamento ID\",\"Tipo de Venta DESC\",\"Tipo de Venta ID\",\"Subtipo de Venta DESC\",\"Subtipo de Venta ID\",\n",
    "    \"Segmento Agrupado DESC\",\"Cantidad\",\"Consumo\",\"Precio Sugerido Medicamento\"]"
   ]
  },
  {
   "cell_type": "code",
   "execution_count": 20,
   "metadata": {},
   "outputs": [
    {
     "data": {
      "text/html": [
       "<div>\n",
       "<style scoped>\n",
       "    .dataframe tbody tr th:only-of-type {\n",
       "        vertical-align: middle;\n",
       "    }\n",
       "\n",
       "    .dataframe tbody tr th {\n",
       "        vertical-align: top;\n",
       "    }\n",
       "\n",
       "    .dataframe thead th {\n",
       "        text-align: right;\n",
       "    }\n",
       "</style>\n",
       "<table border=\"1\" class=\"dataframe\">\n",
       "  <thead>\n",
       "    <tr style=\"text-align: right;\">\n",
       "      <th></th>\n",
       "      <th>Periodo ID</th>\n",
       "      <th>Periodo Prestacion ID</th>\n",
       "      <th>Persona ID</th>\n",
       "      <th>Persona Fecha Nacimiento</th>\n",
       "      <th>Edad Orden ID</th>\n",
       "      <th>Sexo ID</th>\n",
       "      <th>Discapacitado ID</th>\n",
       "      <th>Posicion Asociado ID</th>\n",
       "      <th>Zona de Promocion ID</th>\n",
       "      <th>Localidad Asociado ID</th>\n",
       "      <th>...</th>\n",
       "      <th>Orden Relacionada ID</th>\n",
       "      <th>Porcentaje Cobertura Medicamento ID</th>\n",
       "      <th>Tipo de Venta DESC</th>\n",
       "      <th>Tipo de Venta ID</th>\n",
       "      <th>Subtipo de Venta DESC</th>\n",
       "      <th>Subtipo de Venta ID</th>\n",
       "      <th>Segmento Agrupado DESC</th>\n",
       "      <th>Cantidad</th>\n",
       "      <th>Consumo</th>\n",
       "      <th>Precio Sugerido Medicamento</th>\n",
       "    </tr>\n",
       "  </thead>\n",
       "  <tbody>\n",
       "    <tr>\n",
       "      <th>0</th>\n",
       "      <td>202101</td>\n",
       "      <td>323549</td>\n",
       "      <td>19770915</td>\n",
       "      <td>M</td>\n",
       "      <td>N</td>\n",
       "      <td>9400009</td>\n",
       "      <td>Z</td>\n",
       "      <td>41</td>\n",
       "      <td>26</td>\n",
       "      <td>AMS NO GRAVADO</td>\n",
       "      <td>...</td>\n",
       "      <td>5</td>\n",
       "      <td>Táctico</td>\n",
       "      <td>999</td>\n",
       "      <td>0</td>\n",
       "      <td>999.0</td>\n",
       "      <td>0.0</td>\n",
       "      <td>0.0</td>\n",
       "      <td>1</td>\n",
       "      <td>42.50</td>\n",
       "      <td>0.0</td>\n",
       "    </tr>\n",
       "    <tr>\n",
       "      <th>1</th>\n",
       "      <td>202101</td>\n",
       "      <td>323549</td>\n",
       "      <td>19770915</td>\n",
       "      <td>M</td>\n",
       "      <td>N</td>\n",
       "      <td>9400009</td>\n",
       "      <td>Z</td>\n",
       "      <td>41</td>\n",
       "      <td>26</td>\n",
       "      <td>AMS NO GRAVADO</td>\n",
       "      <td>...</td>\n",
       "      <td>5</td>\n",
       "      <td>Operativo</td>\n",
       "      <td>999</td>\n",
       "      <td>0</td>\n",
       "      <td>999.0</td>\n",
       "      <td>0.0</td>\n",
       "      <td>0.0</td>\n",
       "      <td>1</td>\n",
       "      <td>1.29</td>\n",
       "      <td>32.0</td>\n",
       "    </tr>\n",
       "    <tr>\n",
       "      <th>2</th>\n",
       "      <td>202101</td>\n",
       "      <td>379105</td>\n",
       "      <td>19861202</td>\n",
       "      <td>F</td>\n",
       "      <td>N</td>\n",
       "      <td>9400009</td>\n",
       "      <td>Z</td>\n",
       "      <td>41</td>\n",
       "      <td>26</td>\n",
       "      <td>AMS NO GRAVADO</td>\n",
       "      <td>...</td>\n",
       "      <td>5</td>\n",
       "      <td>Táctico</td>\n",
       "      <td>999</td>\n",
       "      <td>0</td>\n",
       "      <td>999.0</td>\n",
       "      <td>0.0</td>\n",
       "      <td>0.0</td>\n",
       "      <td>1</td>\n",
       "      <td>42.50</td>\n",
       "      <td>0.0</td>\n",
       "    </tr>\n",
       "    <tr>\n",
       "      <th>3</th>\n",
       "      <td>202101</td>\n",
       "      <td>379105</td>\n",
       "      <td>19861202</td>\n",
       "      <td>F</td>\n",
       "      <td>N</td>\n",
       "      <td>9400009</td>\n",
       "      <td>Z</td>\n",
       "      <td>41</td>\n",
       "      <td>26</td>\n",
       "      <td>AMS NO GRAVADO</td>\n",
       "      <td>...</td>\n",
       "      <td>5</td>\n",
       "      <td>Operativo</td>\n",
       "      <td>999</td>\n",
       "      <td>0</td>\n",
       "      <td>999.0</td>\n",
       "      <td>0.0</td>\n",
       "      <td>0.0</td>\n",
       "      <td>1</td>\n",
       "      <td>1.29</td>\n",
       "      <td>32.0</td>\n",
       "    </tr>\n",
       "    <tr>\n",
       "      <th>4</th>\n",
       "      <td>202101</td>\n",
       "      <td>561895</td>\n",
       "      <td>19870127</td>\n",
       "      <td>F</td>\n",
       "      <td>N</td>\n",
       "      <td>9400009</td>\n",
       "      <td>Z</td>\n",
       "      <td>41</td>\n",
       "      <td>26</td>\n",
       "      <td>AMS NO GRAVADO</td>\n",
       "      <td>...</td>\n",
       "      <td>5</td>\n",
       "      <td>Táctico</td>\n",
       "      <td>999</td>\n",
       "      <td>0</td>\n",
       "      <td>999.0</td>\n",
       "      <td>0.0</td>\n",
       "      <td>0.0</td>\n",
       "      <td>1</td>\n",
       "      <td>42.50</td>\n",
       "      <td>0.0</td>\n",
       "    </tr>\n",
       "  </tbody>\n",
       "</table>\n",
       "<p>5 rows × 36 columns</p>\n",
       "</div>"
      ],
      "text/plain": [
       "   Periodo ID  Periodo Prestacion ID  Persona ID Persona Fecha Nacimiento  \\\n",
       "0      202101                 323549    19770915                        M   \n",
       "1      202101                 323549    19770915                        M   \n",
       "2      202101                 379105    19861202                        F   \n",
       "3      202101                 379105    19861202                        F   \n",
       "4      202101                 561895    19870127                        F   \n",
       "\n",
       "  Edad Orden ID  Sexo ID Discapacitado ID  Posicion Asociado ID  \\\n",
       "0             N  9400009                Z                    41   \n",
       "1             N  9400009                Z                    41   \n",
       "2             N  9400009                Z                    41   \n",
       "3             N  9400009                Z                    41   \n",
       "4             N  9400009                Z                    41   \n",
       "\n",
       "   Zona de Promocion ID Localidad Asociado ID  ... Orden Relacionada ID  \\\n",
       "0                    26        AMS NO GRAVADO  ...                    5   \n",
       "1                    26        AMS NO GRAVADO  ...                    5   \n",
       "2                    26        AMS NO GRAVADO  ...                    5   \n",
       "3                    26        AMS NO GRAVADO  ...                    5   \n",
       "4                    26        AMS NO GRAVADO  ...                    5   \n",
       "\n",
       "  Porcentaje Cobertura Medicamento ID  Tipo de Venta DESC Tipo de Venta ID  \\\n",
       "0                             Táctico                 999                0   \n",
       "1                           Operativo                 999                0   \n",
       "2                             Táctico                 999                0   \n",
       "3                           Operativo                 999                0   \n",
       "4                             Táctico                 999                0   \n",
       "\n",
       "   Subtipo de Venta DESC  Subtipo de Venta ID  Segmento Agrupado DESC  \\\n",
       "0                  999.0                  0.0                     0.0   \n",
       "1                  999.0                  0.0                     0.0   \n",
       "2                  999.0                  0.0                     0.0   \n",
       "3                  999.0                  0.0                     0.0   \n",
       "4                  999.0                  0.0                     0.0   \n",
       "\n",
       "  Cantidad Consumo Precio Sugerido Medicamento  \n",
       "0        1   42.50                         0.0  \n",
       "1        1    1.29                        32.0  \n",
       "2        1   42.50                         0.0  \n",
       "3        1    1.29                        32.0  \n",
       "4        1   42.50                         0.0  \n",
       "\n",
       "[5 rows x 36 columns]"
      ]
     },
     "execution_count": 20,
     "metadata": {},
     "output_type": "execute_result"
    }
   ],
   "source": [
    "df.head()"
   ]
  },
  {
   "cell_type": "code",
   "execution_count": 16,
   "metadata": {},
   "outputs": [
    {
     "data": {
      "text/plain": [
       "Periodo ID                               int64\n",
       "Periodo Prestacion ID                    int64\n",
       "Persona ID                               int64\n",
       "Persona Fecha Nacimiento                object\n",
       "Edad Orden ID                           object\n",
       "Sexo ID                                  int64\n",
       "Discapacitado ID                        object\n",
       "Posicion Asociado ID                     int64\n",
       "Zona de Promocion ID                     int64\n",
       "Localidad Asociado ID                   object\n",
       "Provincia Asociado ID                   object\n",
       "Plan Sin Segmento ID                    object\n",
       "Origen Prestacion ID                     int64\n",
       "Origen Facturacion ID                   object\n",
       "Prestacion ID                            int64\n",
       "Rubro Indicadores Consumo ID             int64\n",
       "Prestacion Acreedor ID                   int64\n",
       "Nomenclador ID                          object\n",
       "Nomenclador DESC                        object\n",
       "Acreedor ID                             object\n",
       "Provision Acreedor ID                   object\n",
       "Posicion Acreedor ID                    object\n",
       "Subcategoria Acreedor DESC              object\n",
       "Tipo Orden ID                           object\n",
       "Nro Orden ID                             int64\n",
       "Tipo Orden Relacionada ID                int64\n",
       "Orden Relacionada ID                     int64\n",
       "Porcentaje Cobertura Medicamento ID     object\n",
       "Tipo de Venta DESC                       int64\n",
       "Tipo de Venta ID                         int64\n",
       "Subtipo de Venta DESC                  float64\n",
       "Subtipo de Venta ID                    float64\n",
       "Segmento Agrupado DESC                 float64\n",
       "Cantidad                                 int64\n",
       "Consumo                                float64\n",
       "Precio Sugerido Medicamento            float64\n",
       "dtype: object"
      ]
     },
     "execution_count": 16,
     "metadata": {},
     "output_type": "execute_result"
    }
   ],
   "source": [
    "#  tipos de datos del df\n",
    "df.dtypes"
   ]
  },
  {
   "cell_type": "code",
   "execution_count": null,
   "metadata": {},
   "outputs": [],
   "source": []
  },
  {
   "cell_type": "code",
   "execution_count": null,
   "metadata": {},
   "outputs": [],
   "source": []
  },
  {
   "cell_type": "code",
   "execution_count": null,
   "metadata": {},
   "outputs": [],
   "source": []
  },
  {
   "cell_type": "code",
   "execution_count": null,
   "metadata": {},
   "outputs": [],
   "source": []
  },
  {
   "cell_type": "code",
   "execution_count": null,
   "metadata": {},
   "outputs": [],
   "source": []
  },
  {
   "cell_type": "code",
   "execution_count": null,
   "metadata": {},
   "outputs": [],
   "source": []
  },
  {
   "cell_type": "code",
   "execution_count": 12,
   "metadata": {},
   "outputs": [
    {
     "data": {
      "text/plain": [
       "Index([], dtype='object')"
      ]
     },
     "execution_count": 12,
     "metadata": {},
     "output_type": "execute_result"
    }
   ],
   "source": [
    "dfc.columns"
   ]
  },
  {
   "cell_type": "code",
   "execution_count": null,
   "metadata": {},
   "outputs": [],
   "source": [
    "def leer_csv_2(ruta):\n",
    "    \n",
    "    #print(\"Inicio carga: \" + datetime.now().strftime('%H:%M:%S'))\n",
    "    contenido = os.listdir(ruta)\n",
    "\n",
    "    # Dataframe a generar:\n",
    "    df = pd.DataFrame()\n",
    "\n",
    "    archivos = []\n",
    "    for fichero in contenido:\n",
    "        if os.path.isfile(os.path.join(ruta, fichero)) and fichero.endswith('.csv'):\n",
    "            df_temp = pd.read_csv(ruta+fichero, sep=';', header= None)\n",
    "            df = pd.concat([df, df_temp], axis=0)\n",
    "            #print(\"Se cargó el archivo: \", fichero, \"a las: \" + datetime.now().strftime('%H:%M:%S'))\n",
    "    \n",
    "    df_temp = []\n",
    "    #print(\"Fin de la carga de archivos\")\n",
    "    return df"
   ]
  },
  {
   "cell_type": "code",
   "execution_count": 1,
   "metadata": {},
   "outputs": [
    {
     "ename": "NameError",
     "evalue": "name 'pd' is not defined",
     "output_type": "error",
     "traceback": [
      "\u001b[1;31m---------------------------------------------------------------------------\u001b[0m",
      "\u001b[1;31mNameError\u001b[0m                                 Traceback (most recent call last)",
      "\u001b[1;32m~\\AppData\\Local\\Temp/ipykernel_18576/2884661002.py\u001b[0m in \u001b[0;36m<module>\u001b[1;34m\u001b[0m\n\u001b[1;32m----> 1\u001b[1;33m \u001b[0mpd\u001b[0m\u001b[1;33m.\u001b[0m\u001b[0mread_csv\u001b[0m\u001b[1;33m(\u001b[0m\u001b[1;34m\"C:/Users/lsaucedo/Desktop/Reportes_Costeo_2021/Consumo Zona/La Rioja/lala.csv\"\u001b[0m\u001b[1;33m,\u001b[0m \u001b[0msep\u001b[0m\u001b[1;33m=\u001b[0m\u001b[1;34m';'\u001b[0m\u001b[1;33m,\u001b[0m \u001b[0mheader\u001b[0m\u001b[1;33m=\u001b[0m \u001b[1;32mNone\u001b[0m\u001b[1;33m,\u001b[0m\u001b[0mencoding\u001b[0m\u001b[1;33m=\u001b[0m\u001b[1;34m'latin1'\u001b[0m\u001b[1;33m)\u001b[0m\u001b[1;33m\u001b[0m\u001b[1;33m\u001b[0m\u001b[0m\n\u001b[0m",
      "\u001b[1;31mNameError\u001b[0m: name 'pd' is not defined"
     ]
    }
   ],
   "source": [
    "pd.read_csv(\"C:/Users/lsaucedo/Desktop/Reportes_Costeo_2021/Consumo Zona/La Rioja/lala.csv\", sep=';', header= None,encoding='latin1')"
   ]
  },
  {
   "cell_type": "code",
   "execution_count": null,
   "metadata": {},
   "outputs": [],
   "source": []
  },
  {
   "cell_type": "code",
   "execution_count": null,
   "metadata": {},
   "outputs": [],
   "source": []
  }
 ],
 "metadata": {
  "kernelspec": {
   "display_name": "Python 3.9.7 ('base')",
   "language": "python",
   "name": "python3"
  },
  "language_info": {
   "codemirror_mode": {
    "name": "ipython",
    "version": 3
   },
   "file_extension": ".py",
   "mimetype": "text/x-python",
   "name": "python",
   "nbconvert_exporter": "python",
   "pygments_lexer": "ipython3",
   "version": "3.9.7"
  },
  "orig_nbformat": 4,
  "vscode": {
   "interpreter": {
    "hash": "562c9c567e50c33fd32533d1041799ab9ec09a9cf2f2e4c1c846bbf665f39d1b"
   }
  }
 },
 "nbformat": 4,
 "nbformat_minor": 2
}
