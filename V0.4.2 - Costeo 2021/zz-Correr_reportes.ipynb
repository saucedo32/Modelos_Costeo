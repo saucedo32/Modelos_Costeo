{
 "cells": [
  {
   "cell_type": "markdown",
   "metadata": {},
   "source": [
    "# Código de reportes para generar informes"
   ]
  },
  {
   "cell_type": "code",
   "execution_count": 1,
   "metadata": {},
   "outputs": [],
   "source": [
    "# Librerías usadas:\n",
    "import pandas as pd\n",
    "import numpy as np\n",
    "import os\n",
    "from datetime import datetime\n",
    "import funciones\n",
    "import proceso\n",
    "import generador_zona"
   ]
  },
  {
   "cell_type": "code",
   "execution_count": 2,
   "metadata": {},
   "outputs": [],
   "source": [
    "ruta_seteos = \"C:/Users/lsaucedo/Desktop/Bases Costeos 2021/set_archivos/\""
   ]
  },
  {
   "cell_type": "code",
   "execution_count": 3,
   "metadata": {},
   "outputs": [],
   "source": [
    "# Generar una zona\n",
    "#generador_zona.generador_zona(ruta_seteos)"
   ]
  },
  {
   "cell_type": "code",
   "execution_count": 4,
   "metadata": {},
   "outputs": [],
   "source": [
    "r1 = \"C:/Users/lsaucedo/Desktop/Bases Costeos 2021/set_archivos/set_villa_mercedes.txt\"\n",
    "r2 = \"C:/Users/lsaucedo/Desktop/Bases Costeos 2021/set_archivos/set_reconquista.txt\"\n",
    "r3 = \"C:/Users/lsaucedo/Desktop/Bases Costeos 2021/set_archivos/set_chilecito.txt\"\n",
    "r4 = \"C:/Users/lsaucedo/Desktop/Bases Costeos 2021/set_archivos/set_rosario2.txt\""
   ]
  },
  {
   "cell_type": "code",
   "execution_count": 5,
   "metadata": {},
   "outputs": [
    {
     "ename": "FileNotFoundError",
     "evalue": "[Errno 2] No such file or directory: 'C:/Users/lsaucedo/Desktop/Bases Costeos 2021/set_archivos/set_villa_mercedes.txt'",
     "output_type": "error",
     "traceback": [
      "\u001b[1;31m---------------------------------------------------------------------------\u001b[0m",
      "\u001b[1;31mFileNotFoundError\u001b[0m                         Traceback (most recent call last)",
      "\u001b[1;32m~\\AppData\\Local\\Temp/ipykernel_16960/3592510498.py\u001b[0m in \u001b[0;36m<module>\u001b[1;34m\u001b[0m\n\u001b[1;32m----> 1\u001b[1;33m \u001b[0mgenerador_zona\u001b[0m\u001b[1;33m.\u001b[0m\u001b[0mgenerador_zona\u001b[0m\u001b[1;33m(\u001b[0m\u001b[0mr1\u001b[0m\u001b[1;33m)\u001b[0m\u001b[1;33m\u001b[0m\u001b[1;33m\u001b[0m\u001b[0m\n\u001b[0m",
      "\u001b[1;32mc:\\GitHub\\Modelos_Costeo\\V0.4.2 - Costeo 2021\\generador_zona.py\u001b[0m in \u001b[0;36mgenerador_zona\u001b[1;34m(ruta_seteo)\u001b[0m\n\u001b[0;32m     17\u001b[0m     \u001b[1;31m# leemos las variables de los diferentes archivos txt.\u001b[0m\u001b[1;33m\u001b[0m\u001b[1;33m\u001b[0m\u001b[0m\n\u001b[0;32m     18\u001b[0m     \u001b[0mvariables\u001b[0m \u001b[1;33m=\u001b[0m \u001b[1;33m{\u001b[0m\u001b[1;33m}\u001b[0m   \u001b[1;31m# Diccionario que contendra los datos leidos.\u001b[0m\u001b[1;33m\u001b[0m\u001b[1;33m\u001b[0m\u001b[0m\n\u001b[1;32m---> 19\u001b[1;33m     \u001b[1;32mwith\u001b[0m \u001b[0mopen\u001b[0m\u001b[1;33m(\u001b[0m\u001b[0mruta_seteos\u001b[0m\u001b[1;33m,\u001b[0m \u001b[1;34m\"r\"\u001b[0m\u001b[1;33m)\u001b[0m \u001b[1;32mas\u001b[0m \u001b[0mdatos\u001b[0m\u001b[1;33m:\u001b[0m\u001b[1;33m\u001b[0m\u001b[1;33m\u001b[0m\u001b[0m\n\u001b[0m\u001b[0;32m     20\u001b[0m         \u001b[1;32mfor\u001b[0m \u001b[0mlinea\u001b[0m \u001b[1;32min\u001b[0m \u001b[0mdatos\u001b[0m\u001b[1;33m:\u001b[0m\u001b[1;33m\u001b[0m\u001b[1;33m\u001b[0m\u001b[0m\n\u001b[0;32m     21\u001b[0m             \u001b[0mnombre\u001b[0m\u001b[1;33m,\u001b[0m \u001b[0mvalor\u001b[0m \u001b[1;33m=\u001b[0m \u001b[0mlinea\u001b[0m\u001b[1;33m.\u001b[0m\u001b[0mstrip\u001b[0m\u001b[1;33m(\u001b[0m\u001b[1;33m)\u001b[0m\u001b[1;33m.\u001b[0m\u001b[0msplit\u001b[0m\u001b[1;33m(\u001b[0m\u001b[1;34m\"=\"\u001b[0m\u001b[1;33m,\u001b[0m \u001b[0mmaxsplit\u001b[0m\u001b[1;33m=\u001b[0m\u001b[1;36m1\u001b[0m\u001b[1;33m)\u001b[0m\u001b[1;33m\u001b[0m\u001b[1;33m\u001b[0m\u001b[0m\n",
      "\u001b[1;31mFileNotFoundError\u001b[0m: [Errno 2] No such file or directory: 'C:/Users/lsaucedo/Desktop/Bases Costeos 2021/set_archivos/set_villa_mercedes.txt'"
     ]
    }
   ],
   "source": [
    "generador_zona.generador_zona(r1)"
   ]
  },
  {
   "cell_type": "code",
   "execution_count": 6,
   "metadata": {},
   "outputs": [
    {
     "name": "stdout",
     "output_type": "stream",
     "text": [
      "se generaron todas las columnas de consumos e inicia proceso de armado de tds\n",
      "comienzo armado td internaciones\n",
      "fin armado td internaciones\n",
      "comienzo armado td internaciones pmo\n",
      "fin armado td internaciones pmo\n"
     ]
    }
   ],
   "source": [
    "generador_zona.generador_zona(r2)"
   ]
  },
  {
   "cell_type": "code",
   "execution_count": 7,
   "metadata": {},
   "outputs": [
    {
     "name": "stdout",
     "output_type": "stream",
     "text": [
      "se generaron todas las columnas de consumos e inicia proceso de armado de tds\n",
      "comienzo armado td internaciones\n",
      "fin armado td internaciones\n",
      "comienzo armado td internaciones pmo\n",
      "fin armado td internaciones pmo\n"
     ]
    }
   ],
   "source": [
    "generador_zona.generador_zona(r3)"
   ]
  },
  {
   "cell_type": "code",
   "execution_count": 8,
   "metadata": {},
   "outputs": [
    {
     "name": "stdout",
     "output_type": "stream",
     "text": [
      "se generaron todas las columnas de consumos e inicia proceso de armado de tds\n",
      "comienzo armado td internaciones\n",
      "fin armado td internaciones\n",
      "comienzo armado td internaciones pmo\n",
      "fin armado td internaciones pmo\n"
     ]
    }
   ],
   "source": [
    "generador_zona.generador_zona(r4)"
   ]
  },
  {
   "cell_type": "code",
   "execution_count": null,
   "metadata": {},
   "outputs": [],
   "source": []
  },
  {
   "cell_type": "code",
   "execution_count": null,
   "metadata": {},
   "outputs": [],
   "source": []
  },
  {
   "cell_type": "code",
   "execution_count": null,
   "metadata": {},
   "outputs": [],
   "source": []
  },
  {
   "cell_type": "code",
   "execution_count": null,
   "metadata": {},
   "outputs": [],
   "source": []
  },
  {
   "cell_type": "markdown",
   "metadata": {},
   "source": [
    "# Desde una ruta"
   ]
  },
  {
   "cell_type": "code",
   "execution_count": 1,
   "metadata": {},
   "outputs": [],
   "source": [
    "# Librerías usadas:\n",
    "import pandas as pd\n",
    "import numpy as np\n",
    "import os\n",
    "from datetime import datetime\n",
    "import funciones\n",
    "import proceso\n",
    "import generador_zona\n",
    "\n",
    "ruta_set = \"C:/Users/lsaucedo/Desktop/Bases Costeos 2021/set_archivos_santiago/\"\n",
    "lista_archivos = os.listdir(ruta_set)"
   ]
  },
  {
   "cell_type": "code",
   "execution_count": 2,
   "metadata": {},
   "outputs": [
    {
     "name": "stdout",
     "output_type": "stream",
     "text": [
      "inicia el proceso de CAR SANTIAGO DEL ESTERO_seteo.txt\n",
      "finalizado el proceso de CAR SANTIAGO DEL ESTERO_seteo.txt\n"
     ]
    }
   ],
   "source": [
    "for archivos in lista_archivos:\n",
    "    print(\"inicia el proceso de\", archivos)\n",
    "    generador_zona.generador_zona_df(ruta_set + archivos)\n",
    "    print(\"finalizado el proceso de\", archivos)"
   ]
  },
  {
   "cell_type": "code",
   "execution_count": null,
   "metadata": {},
   "outputs": [],
   "source": []
  },
  {
   "cell_type": "code",
   "execution_count": null,
   "metadata": {},
   "outputs": [],
   "source": []
  },
  {
   "cell_type": "code",
   "execution_count": null,
   "metadata": {},
   "outputs": [],
   "source": []
  },
  {
   "cell_type": "code",
   "execution_count": null,
   "metadata": {},
   "outputs": [],
   "source": []
  },
  {
   "cell_type": "code",
   "execution_count": null,
   "metadata": {},
   "outputs": [],
   "source": []
  },
  {
   "cell_type": "markdown",
   "metadata": {},
   "source": [
    "# Desde una ruta CSV"
   ]
  },
  {
   "cell_type": "code",
   "execution_count": 16,
   "metadata": {},
   "outputs": [],
   "source": [
    "# Librerías usadas:\n",
    "import pandas as pd\n",
    "import numpy as np\n",
    "import os\n",
    "from datetime import datetime\n",
    "import funciones\n",
    "import proceso\n",
    "import generador_zona\n",
    "\n",
    "ruta_set = \"C:/Users/lsaucedo/Desktop/Reportes_Costeo_2021/Set_Archivos/\"\n",
    "lista_archivos = os.listdir(ruta_set)"
   ]
  },
  {
   "cell_type": "code",
   "execution_count": 17,
   "metadata": {},
   "outputs": [
    {
     "name": "stdout",
     "output_type": "stream",
     "text": [
      "inicia el proceso de Resto.txt\n",
      "float64\n",
      "float64\n",
      "ok, apertura pmo\n",
      "float64\n",
      "ok, internaciones\n",
      "ok, apertura total\n",
      "ok, apertura rubros\n",
      "float64\n",
      "ok, apertura medicamentos\n",
      "ok, apertura via medicamentos\n",
      "float64\n",
      "inicia la apertura medicamentos por cobertura\n",
      "float64\n",
      "división de valores iniciando\n",
      "división de valores finalizada\n",
      "redondear\n",
      "realizamos el cruce\n",
      "ok, apertura medicamentos por cobertura\n",
      "inicio tds\n",
      "vamos por la td8 finalizada\n",
      "todas las tds finalizadas, vamos a concatenarlas\n",
      "todas las tds concatenadas\n",
      "Pasamos rango edad\n",
      "Pasamos cartilla base\n",
      "Pasamos marca cobertura med\n",
      "Pasamos lista copagos\n",
      "Pasamos marca diag\n",
      "Pasamos parentesco\n",
      "Unimos por periodo persona el consumo para generar el archivo de salida\n",
      "exportando archivo de salida:\n",
      "finalizado el proceso de Resto.txt\n"
     ]
    }
   ],
   "source": [
    "for archivos in lista_archivos:\n",
    "    print(\"inicia el proceso de\", archivos)\n",
    "    generador_zona.generador_zona_df_csv(ruta_set + archivos)\n",
    "    print(\"finalizado el proceso de\", archivos)"
   ]
  },
  {
   "cell_type": "code",
   "execution_count": null,
   "metadata": {},
   "outputs": [],
   "source": []
  },
  {
   "cell_type": "code",
   "execution_count": null,
   "metadata": {},
   "outputs": [],
   "source": []
  },
  {
   "cell_type": "code",
   "execution_count": null,
   "metadata": {},
   "outputs": [],
   "source": []
  },
  {
   "cell_type": "code",
   "execution_count": null,
   "metadata": {},
   "outputs": [],
   "source": []
  },
  {
   "cell_type": "code",
   "execution_count": null,
   "metadata": {},
   "outputs": [],
   "source": []
  },
  {
   "cell_type": "code",
   "execution_count": 13,
   "metadata": {},
   "outputs": [
    {
     "data": {
      "text/plain": [
       "0   NaN\n",
       "1   NaN\n",
       "2   NaN\n",
       "3   NaN\n",
       "4   NaN\n",
       "Name: 26, dtype: float64"
      ]
     },
     "execution_count": 13,
     "metadata": {},
     "output_type": "execute_result"
    }
   ],
   "source": [
    "\n",
    "import funciones\n",
    "dfs = funciones.leer_csv_2(\"C:/Users/lsaucedo/Desktop/Reportes_Costeo_2021/Stock Zona/La Rioja/\")\n",
    "dfs.columns\n",
    "dfs[26].head()"
   ]
  },
  {
   "cell_type": "code",
   "execution_count": null,
   "metadata": {},
   "outputs": [],
   "source": []
  },
  {
   "cell_type": "code",
   "execution_count": 10,
   "metadata": {},
   "outputs": [
    {
     "data": {
      "text/plain": [
       "['Periodo ID',\n",
       " 'Persona ID',\n",
       " 'Persona Fecha Nacimiento',\n",
       " 'Parentesco IdParentesco',\n",
       " 'Edad Periodo ID',\n",
       " 'Sexo ID',\n",
       " 'Discapacitado ID',\n",
       " 'Localidad Asociado ID',\n",
       " 'Provincia Asociado ID',\n",
       " 'Posicion Asociado ID',\n",
       " 'Zona de Promocion ID',\n",
       " 'Segmento Agrupado ID',\n",
       " 'Segmento Agrupado DESC',\n",
       " 'Plan Sin Segmento ID',\n",
       " 'Plan Agrupado Sin Segmento DESC',\n",
       " 'Tipo de Venta DESC',\n",
       " 'Tipo de Venta ID',\n",
       " 'Subtipo de Venta DESC',\n",
       " 'Subtipo de Venta ID',\n",
       " 'Marca Persona con Diabetes DESC',\n",
       " 'Marca Persona con Hepatitis DESC',\n",
       " 'Marca Persona con PMI DESC',\n",
       " 'Marca Persona con Tratamiento Cronico DESC',\n",
       " 'Marca Persona con Tratamiento Oncológico DESC',\n",
       " 'Stock Asociados Salud',\n",
       " 'ACE Stock Asociados Salud']"
      ]
     },
     "execution_count": 10,
     "metadata": {},
     "output_type": "execute_result"
    }
   ],
   "source": [
    "    dfs = [\"Periodo ID\",\"Persona ID\",\"Persona Fecha Nacimiento\",\"Parentesco IdParentesco\",\"Edad Periodo ID\",\"Sexo ID\",\"Discapacitado ID\",\"Localidad Asociado ID\",\n",
    "    \"Provincia Asociado ID\",\"Posicion Asociado ID\",\"Zona de Promocion ID\",\"Segmento Agrupado ID\",\"Segmento Agrupado DESC\",\"Plan Sin Segmento ID\",\n",
    "    \"Plan Agrupado Sin Segmento DESC\",\"Tipo de Venta DESC\",\"Tipo de Venta ID\",\"Subtipo de Venta DESC\",\"Subtipo de Venta ID\",\"Marca Persona con Diabetes DESC\",\n",
    "    \"Marca Persona con Hepatitis DESC\",\"Marca Persona con PMI DESC\",\"Marca Persona con Tratamiento Cronico DESC\",\"Marca Persona con Tratamiento Oncológico DESC\",\n",
    "    \"Stock Asociados Salud\",\"ACE Stock Asociados Salud\"]\n",
    "    dfs"
   ]
  },
  {
   "cell_type": "code",
   "execution_count": null,
   "metadata": {},
   "outputs": [],
   "source": []
  },
  {
   "cell_type": "code",
   "execution_count": null,
   "metadata": {},
   "outputs": [],
   "source": []
  },
  {
   "cell_type": "code",
   "execution_count": null,
   "metadata": {},
   "outputs": [],
   "source": []
  },
  {
   "cell_type": "code",
   "execution_count": 9,
   "metadata": {},
   "outputs": [],
   "source": [
    "import funciones\n",
    "dfc = funciones.leer_csv_2(\"C:/Users/lsaucedo/Desktop/Reportes_Costeo_2021/Consumo Zona/La Rioja/\")"
   ]
  },
  {
   "cell_type": "code",
   "execution_count": 4,
   "metadata": {},
   "outputs": [],
   "source": [
    "    dfc.columns = [\"Periodo ID\",\"Periodo Prestacion ID\",\"Persona ID\",\"Persona Fecha Nacimiento\",\"Edad Orden ID\",\"Sexo ID\",\"Discapacitado ID\",\n",
    "    \"Posicion Asociado ID\",\"Zona de Promocion ID\",\"Localidad Asociado ID\",\"Provincia Asociado ID\",\"Plan Sin Segmento ID\",\"Origen Prestacion ID\",\n",
    "    \"Origen Facturacion ID\",\"Prestacion ID\",\"Rubro Indicadores Consumo ID\",\"Prestacion Acreedor ID\",\"Nomenclador ID\",\"Nomenclador DESC\",\n",
    "    \"Acreedor ID\",\"Provision Acreedor ID\",\"Posicion Acreedor ID\",\"Subcategoria Acreedor DESC\",\"Tipo Orden ID\",\"Nro Orden ID\",\"Tipo Orden Relacionada ID\"\n",
    "    ,\"Orden Relacionada ID\",\"Porcentaje Cobertura Medicamento ID\",\"Tipo de Venta DESC\",\"Tipo de Venta ID\",\"Subtipo de Venta DESC\",\"Subtipo de Venta ID\",\n",
    "    \"Segmento Agrupado DESC\",\"Cantidad\",\"Consumo\",\"Precio Sugerido Medicamento\"]"
   ]
  },
  {
   "cell_type": "code",
   "execution_count": 11,
   "metadata": {},
   "outputs": [
    {
     "data": {
      "text/html": [
       "<div>\n",
       "<style scoped>\n",
       "    .dataframe tbody tr th:only-of-type {\n",
       "        vertical-align: middle;\n",
       "    }\n",
       "\n",
       "    .dataframe tbody tr th {\n",
       "        vertical-align: top;\n",
       "    }\n",
       "\n",
       "    .dataframe thead th {\n",
       "        text-align: right;\n",
       "    }\n",
       "</style>\n",
       "<table border=\"1\" class=\"dataframe\">\n",
       "  <thead>\n",
       "    <tr style=\"text-align: right;\">\n",
       "      <th></th>\n",
       "    </tr>\n",
       "  </thead>\n",
       "  <tbody>\n",
       "  </tbody>\n",
       "</table>\n",
       "</div>"
      ],
      "text/plain": [
       "Empty DataFrame\n",
       "Columns: []\n",
       "Index: []"
      ]
     },
     "execution_count": 11,
     "metadata": {},
     "output_type": "execute_result"
    }
   ],
   "source": [
    "dfc.head()"
   ]
  },
  {
   "cell_type": "code",
   "execution_count": 12,
   "metadata": {},
   "outputs": [
    {
     "data": {
      "text/plain": [
       "Index([], dtype='object')"
      ]
     },
     "execution_count": 12,
     "metadata": {},
     "output_type": "execute_result"
    }
   ],
   "source": [
    "dfc.columns"
   ]
  },
  {
   "cell_type": "code",
   "execution_count": null,
   "metadata": {},
   "outputs": [],
   "source": [
    "def leer_csv_2(ruta):\n",
    "    \n",
    "    #print(\"Inicio carga: \" + datetime.now().strftime('%H:%M:%S'))\n",
    "    contenido = os.listdir(ruta)\n",
    "\n",
    "    # Dataframe a generar:\n",
    "    df = pd.DataFrame()\n",
    "\n",
    "    archivos = []\n",
    "    for fichero in contenido:\n",
    "        if os.path.isfile(os.path.join(ruta, fichero)) and fichero.endswith('.csv'):\n",
    "            df_temp = pd.read_csv(ruta+fichero, sep=';', header= None)\n",
    "            df = pd.concat([df, df_temp], axis=0)\n",
    "            #print(\"Se cargó el archivo: \", fichero, \"a las: \" + datetime.now().strftime('%H:%M:%S'))\n",
    "    \n",
    "    df_temp = []\n",
    "    #print(\"Fin de la carga de archivos\")\n",
    "    return df"
   ]
  },
  {
   "cell_type": "code",
   "execution_count": 22,
   "metadata": {},
   "outputs": [
    {
     "data": {
      "text/html": [
       "<div>\n",
       "<style scoped>\n",
       "    .dataframe tbody tr th:only-of-type {\n",
       "        vertical-align: middle;\n",
       "    }\n",
       "\n",
       "    .dataframe tbody tr th {\n",
       "        vertical-align: top;\n",
       "    }\n",
       "\n",
       "    .dataframe thead th {\n",
       "        text-align: right;\n",
       "    }\n",
       "</style>\n",
       "<table border=\"1\" class=\"dataframe\">\n",
       "  <thead>\n",
       "    <tr style=\"text-align: right;\">\n",
       "      <th></th>\n",
       "      <th>0</th>\n",
       "      <th>1</th>\n",
       "      <th>2</th>\n",
       "      <th>3</th>\n",
       "      <th>4</th>\n",
       "      <th>5</th>\n",
       "      <th>6</th>\n",
       "      <th>7</th>\n",
       "      <th>8</th>\n",
       "      <th>9</th>\n",
       "      <th>...</th>\n",
       "      <th>26</th>\n",
       "      <th>27</th>\n",
       "      <th>28</th>\n",
       "      <th>29</th>\n",
       "      <th>30</th>\n",
       "      <th>31</th>\n",
       "      <th>32</th>\n",
       "      <th>33</th>\n",
       "      <th>34</th>\n",
       "      <th>35</th>\n",
       "    </tr>\n",
       "  </thead>\n",
       "  <tbody>\n",
       "    <tr>\n",
       "      <th>0</th>\n",
       "      <td>202101</td>\n",
       "      <td>202101</td>\n",
       "      <td>853275</td>\n",
       "      <td>19800905</td>\n",
       "      <td>40</td>\n",
       "      <td>M</td>\n",
       "      <td>N</td>\n",
       "      <td>85</td>\n",
       "      <td>25</td>\n",
       "      <td>5360000</td>\n",
       "      <td>...</td>\n",
       "      <td>0.0</td>\n",
       "      <td>,000</td>\n",
       "      <td>Linea Empresa</td>\n",
       "      <td>2</td>\n",
       "      <td>Grupo SanCor Salud</td>\n",
       "      <td>6</td>\n",
       "      <td>AMS NO GRAVADO</td>\n",
       "      <td>1</td>\n",
       "      <td>1,2900</td>\n",
       "      <td>32,0000</td>\n",
       "    </tr>\n",
       "    <tr>\n",
       "      <th>1</th>\n",
       "      <td>202101</td>\n",
       "      <td>202101</td>\n",
       "      <td>853281</td>\n",
       "      <td>20071026</td>\n",
       "      <td>13</td>\n",
       "      <td>F</td>\n",
       "      <td>N</td>\n",
       "      <td>85</td>\n",
       "      <td>25</td>\n",
       "      <td>5360000</td>\n",
       "      <td>...</td>\n",
       "      <td>0.0</td>\n",
       "      <td>,000</td>\n",
       "      <td>Linea Empresa</td>\n",
       "      <td>2</td>\n",
       "      <td>Grupo SanCor Salud</td>\n",
       "      <td>6</td>\n",
       "      <td>AMS NO GRAVADO</td>\n",
       "      <td>1</td>\n",
       "      <td>1,2900</td>\n",
       "      <td>32,0000</td>\n",
       "    </tr>\n",
       "    <tr>\n",
       "      <th>2</th>\n",
       "      <td>202101</td>\n",
       "      <td>202101</td>\n",
       "      <td>853367</td>\n",
       "      <td>19700718</td>\n",
       "      <td>50</td>\n",
       "      <td>M</td>\n",
       "      <td>N</td>\n",
       "      <td>35</td>\n",
       "      <td>25</td>\n",
       "      <td>5300015</td>\n",
       "      <td>...</td>\n",
       "      <td>NaN</td>\n",
       "      <td>,000</td>\n",
       "      <td>Sin Bonificaci¢n</td>\n",
       "      <td>1</td>\n",
       "      <td>Individual Puro</td>\n",
       "      <td>3</td>\n",
       "      <td>Obras Sociales PMO</td>\n",
       "      <td>0</td>\n",
       "      <td>-127,7400</td>\n",
       "      <td>,0000</td>\n",
       "    </tr>\n",
       "    <tr>\n",
       "      <th>3</th>\n",
       "      <td>202101</td>\n",
       "      <td>202101</td>\n",
       "      <td>853368</td>\n",
       "      <td>19760129</td>\n",
       "      <td>0</td>\n",
       "      <td>M</td>\n",
       "      <td>N</td>\n",
       "      <td>35</td>\n",
       "      <td>25</td>\n",
       "      <td>5300015</td>\n",
       "      <td>...</td>\n",
       "      <td>0.0</td>\n",
       "      <td>,000</td>\n",
       "      <td>Con Bonificaci¢n Permanente</td>\n",
       "      <td>3</td>\n",
       "      <td>G.A. Resto</td>\n",
       "      <td>8</td>\n",
       "      <td>AMS NO GRAVADO</td>\n",
       "      <td>1</td>\n",
       "      <td>6,5200</td>\n",
       "      <td>,0000</td>\n",
       "    </tr>\n",
       "    <tr>\n",
       "      <th>4</th>\n",
       "      <td>202101</td>\n",
       "      <td>202101</td>\n",
       "      <td>853368</td>\n",
       "      <td>19760129</td>\n",
       "      <td>0</td>\n",
       "      <td>M</td>\n",
       "      <td>N</td>\n",
       "      <td>35</td>\n",
       "      <td>25</td>\n",
       "      <td>5300015</td>\n",
       "      <td>...</td>\n",
       "      <td>0.0</td>\n",
       "      <td>,000</td>\n",
       "      <td>Con Bonificaci¢n Permanente</td>\n",
       "      <td>3</td>\n",
       "      <td>G.A. Resto</td>\n",
       "      <td>8</td>\n",
       "      <td>AMS NO GRAVADO</td>\n",
       "      <td>1</td>\n",
       "      <td>42,5000</td>\n",
       "      <td>,0000</td>\n",
       "    </tr>\n",
       "    <tr>\n",
       "      <th>...</th>\n",
       "      <td>...</td>\n",
       "      <td>...</td>\n",
       "      <td>...</td>\n",
       "      <td>...</td>\n",
       "      <td>...</td>\n",
       "      <td>...</td>\n",
       "      <td>...</td>\n",
       "      <td>...</td>\n",
       "      <td>...</td>\n",
       "      <td>...</td>\n",
       "      <td>...</td>\n",
       "      <td>...</td>\n",
       "      <td>...</td>\n",
       "      <td>...</td>\n",
       "      <td>...</td>\n",
       "      <td>...</td>\n",
       "      <td>...</td>\n",
       "      <td>...</td>\n",
       "      <td>...</td>\n",
       "      <td>...</td>\n",
       "      <td>...</td>\n",
       "    </tr>\n",
       "    <tr>\n",
       "      <th>379563</th>\n",
       "      <td>202203</td>\n",
       "      <td>202112</td>\n",
       "      <td>1068278</td>\n",
       "      <td>20170825</td>\n",
       "      <td>4</td>\n",
       "      <td>F</td>\n",
       "      <td>N</td>\n",
       "      <td>35</td>\n",
       "      <td>25</td>\n",
       "      <td>5300015</td>\n",
       "      <td>...</td>\n",
       "      <td>89054.0</td>\n",
       "      <td>,000</td>\n",
       "      <td>Con Bonificaci¢n Temporaria</td>\n",
       "      <td>4</td>\n",
       "      <td>G.A. TC/CBU</td>\n",
       "      <td>9</td>\n",
       "      <td>AMS NO GRAVADO</td>\n",
       "      <td>1</td>\n",
       "      <td>776,0000</td>\n",
       "      <td>,0000</td>\n",
       "    </tr>\n",
       "    <tr>\n",
       "      <th>379564</th>\n",
       "      <td>202203</td>\n",
       "      <td>202112</td>\n",
       "      <td>1081217</td>\n",
       "      <td>19910418</td>\n",
       "      <td>30</td>\n",
       "      <td>F</td>\n",
       "      <td>N</td>\n",
       "      <td>35</td>\n",
       "      <td>25</td>\n",
       "      <td>5300015</td>\n",
       "      <td>...</td>\n",
       "      <td>70580121.0</td>\n",
       "      <td>,000</td>\n",
       "      <td>Linea Empresa</td>\n",
       "      <td>2</td>\n",
       "      <td>Empresa Con Ejecutivo Asignado</td>\n",
       "      <td>7</td>\n",
       "      <td>AMS NO GRAVADO</td>\n",
       "      <td>1</td>\n",
       "      <td>892,0000</td>\n",
       "      <td>,0000</td>\n",
       "    </tr>\n",
       "    <tr>\n",
       "      <th>379565</th>\n",
       "      <td>202203</td>\n",
       "      <td>202112</td>\n",
       "      <td>1096666</td>\n",
       "      <td>19590929</td>\n",
       "      <td>62</td>\n",
       "      <td>F</td>\n",
       "      <td>N</td>\n",
       "      <td>35</td>\n",
       "      <td>25</td>\n",
       "      <td>5300015</td>\n",
       "      <td>...</td>\n",
       "      <td>64961668.0</td>\n",
       "      <td>60,000</td>\n",
       "      <td>Linea Empresa</td>\n",
       "      <td>2</td>\n",
       "      <td>Empresa Con Ejecutivo Asignado</td>\n",
       "      <td>7</td>\n",
       "      <td>AMS GRAVADO</td>\n",
       "      <td>1</td>\n",
       "      <td>2467,5900</td>\n",
       "      <td>4112,6500</td>\n",
       "    </tr>\n",
       "    <tr>\n",
       "      <th>379566</th>\n",
       "      <td>202203</td>\n",
       "      <td>202112</td>\n",
       "      <td>1182865</td>\n",
       "      <td>19810123</td>\n",
       "      <td>40</td>\n",
       "      <td>F</td>\n",
       "      <td>N</td>\n",
       "      <td>35</td>\n",
       "      <td>25</td>\n",
       "      <td>5300015</td>\n",
       "      <td>...</td>\n",
       "      <td>65097210.0</td>\n",
       "      <td>50,000</td>\n",
       "      <td>Con Bonificaci¢n Permanente</td>\n",
       "      <td>3</td>\n",
       "      <td>G.A. Resto</td>\n",
       "      <td>8</td>\n",
       "      <td>AMS NO GRAVADO</td>\n",
       "      <td>1</td>\n",
       "      <td>618,5300</td>\n",
       "      <td>1237,0500</td>\n",
       "    </tr>\n",
       "    <tr>\n",
       "      <th>379567</th>\n",
       "      <td>202203</td>\n",
       "      <td>202112</td>\n",
       "      <td>1927942</td>\n",
       "      <td>20210920</td>\n",
       "      <td>0</td>\n",
       "      <td>F</td>\n",
       "      <td>N</td>\n",
       "      <td>35</td>\n",
       "      <td>25</td>\n",
       "      <td>5300015</td>\n",
       "      <td>...</td>\n",
       "      <td>65075731.0</td>\n",
       "      <td>100,000</td>\n",
       "      <td>Linea Empresa</td>\n",
       "      <td>2</td>\n",
       "      <td>Empresa Con Ejecutivo Asignado</td>\n",
       "      <td>7</td>\n",
       "      <td>AMS NO GRAVADO</td>\n",
       "      <td>1</td>\n",
       "      <td>599,3100</td>\n",
       "      <td>599,3100</td>\n",
       "    </tr>\n",
       "  </tbody>\n",
       "</table>\n",
       "<p>379568 rows × 36 columns</p>\n",
       "</div>"
      ],
      "text/plain": [
       "            0       1        2         3   4  5  6   7   8        9   ...  \\\n",
       "0       202101  202101   853275  19800905  40  M  N  85  25  5360000  ...   \n",
       "1       202101  202101   853281  20071026  13  F  N  85  25  5360000  ...   \n",
       "2       202101  202101   853367  19700718  50  M  N  35  25  5300015  ...   \n",
       "3       202101  202101   853368  19760129   0  M  N  35  25  5300015  ...   \n",
       "4       202101  202101   853368  19760129   0  M  N  35  25  5300015  ...   \n",
       "...        ...     ...      ...       ...  .. .. ..  ..  ..      ...  ...   \n",
       "379563  202203  202112  1068278  20170825   4  F  N  35  25  5300015  ...   \n",
       "379564  202203  202112  1081217  19910418  30  F  N  35  25  5300015  ...   \n",
       "379565  202203  202112  1096666  19590929  62  F  N  35  25  5300015  ...   \n",
       "379566  202203  202112  1182865  19810123  40  F  N  35  25  5300015  ...   \n",
       "379567  202203  202112  1927942  20210920   0  F  N  35  25  5300015  ...   \n",
       "\n",
       "                26       27                           28 29  \\\n",
       "0              0.0     ,000                Linea Empresa  2   \n",
       "1              0.0     ,000                Linea Empresa  2   \n",
       "2              NaN     ,000            Sin Bonificaci¢n   1   \n",
       "3              0.0     ,000  Con Bonificaci¢n Permanente  3   \n",
       "4              0.0     ,000  Con Bonificaci¢n Permanente  3   \n",
       "...            ...      ...                          ... ..   \n",
       "379563     89054.0     ,000  Con Bonificaci¢n Temporaria  4   \n",
       "379564  70580121.0     ,000                Linea Empresa  2   \n",
       "379565  64961668.0   60,000                Linea Empresa  2   \n",
       "379566  65097210.0   50,000  Con Bonificaci¢n Permanente  3   \n",
       "379567  65075731.0  100,000                Linea Empresa  2   \n",
       "\n",
       "                                    30 31                  32 33         34  \\\n",
       "0                   Grupo SanCor Salud  6      AMS NO GRAVADO  1     1,2900   \n",
       "1                   Grupo SanCor Salud  6      AMS NO GRAVADO  1     1,2900   \n",
       "2                      Individual Puro  3  Obras Sociales PMO  0  -127,7400   \n",
       "3                           G.A. Resto  8      AMS NO GRAVADO  1     6,5200   \n",
       "4                           G.A. Resto  8      AMS NO GRAVADO  1    42,5000   \n",
       "...                                ... ..                 ... ..        ...   \n",
       "379563                     G.A. TC/CBU  9      AMS NO GRAVADO  1   776,0000   \n",
       "379564  Empresa Con Ejecutivo Asignado  7      AMS NO GRAVADO  1   892,0000   \n",
       "379565  Empresa Con Ejecutivo Asignado  7         AMS GRAVADO  1  2467,5900   \n",
       "379566                      G.A. Resto  8      AMS NO GRAVADO  1   618,5300   \n",
       "379567  Empresa Con Ejecutivo Asignado  7      AMS NO GRAVADO  1   599,3100   \n",
       "\n",
       "               35  \n",
       "0         32,0000  \n",
       "1         32,0000  \n",
       "2           ,0000  \n",
       "3           ,0000  \n",
       "4           ,0000  \n",
       "...           ...  \n",
       "379563      ,0000  \n",
       "379564      ,0000  \n",
       "379565  4112,6500  \n",
       "379566  1237,0500  \n",
       "379567   599,3100  \n",
       "\n",
       "[379568 rows x 36 columns]"
      ]
     },
     "execution_count": 22,
     "metadata": {},
     "output_type": "execute_result"
    }
   ],
   "source": [
    "pd.read_csv(\"C:/Users/lsaucedo/Desktop/Reportes_Costeo_2021/Consumo Zona/La Rioja/lala.csv\", sep=';', header= None,encoding='latin1')"
   ]
  },
  {
   "cell_type": "code",
   "execution_count": null,
   "metadata": {},
   "outputs": [],
   "source": []
  },
  {
   "cell_type": "code",
   "execution_count": null,
   "metadata": {},
   "outputs": [],
   "source": []
  }
 ],
 "metadata": {
  "kernelspec": {
   "display_name": "Python 3.9.7 ('base')",
   "language": "python",
   "name": "python3"
  },
  "language_info": {
   "codemirror_mode": {
    "name": "ipython",
    "version": 3
   },
   "file_extension": ".py",
   "mimetype": "text/x-python",
   "name": "python",
   "nbconvert_exporter": "python",
   "pygments_lexer": "ipython3",
   "version": "3.9.7"
  },
  "orig_nbformat": 4,
  "vscode": {
   "interpreter": {
    "hash": "562c9c567e50c33fd32533d1041799ab9ec09a9cf2f2e4c1c846bbf665f39d1b"
   }
  }
 },
 "nbformat": 4,
 "nbformat_minor": 2
}
