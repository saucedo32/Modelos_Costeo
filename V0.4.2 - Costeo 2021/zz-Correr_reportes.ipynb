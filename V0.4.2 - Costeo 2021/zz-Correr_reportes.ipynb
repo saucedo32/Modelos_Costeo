{
 "cells": [
  {
   "cell_type": "markdown",
   "metadata": {},
   "source": [
    "# Código de reportes para generar informes"
   ]
  },
  {
   "cell_type": "code",
   "execution_count": 1,
   "metadata": {},
   "outputs": [],
   "source": [
    "# Librerías usadas:\n",
    "import pandas as pd\n",
    "import numpy as np\n",
    "import os\n",
    "from datetime import datetime\n",
    "import funciones\n",
    "import proceso\n",
    "import generador_zona"
   ]
  },
  {
   "cell_type": "code",
   "execution_count": 2,
   "metadata": {},
   "outputs": [],
   "source": [
    "ruta_seteos = \"C:/Users/lsaucedo/Desktop/Bases Costeos 2021/set_archivos/\""
   ]
  },
  {
   "cell_type": "code",
   "execution_count": 3,
   "metadata": {},
   "outputs": [],
   "source": [
    "# Generar una zona\n",
    "#generador_zona.generador_zona(ruta_seteos)"
   ]
  },
  {
   "cell_type": "code",
   "execution_count": 4,
   "metadata": {},
   "outputs": [],
   "source": [
    "r1 = \"C:/Users/lsaucedo/Desktop/Bases Costeos 2021/set_archivos/set_villa_mercedes.txt\"\n",
    "r2 = \"C:/Users/lsaucedo/Desktop/Bases Costeos 2021/set_archivos/set_reconquista.txt\"\n",
    "r3 = \"C:/Users/lsaucedo/Desktop/Bases Costeos 2021/set_archivos/set_chilecito.txt\"\n",
    "r4 = \"C:/Users/lsaucedo/Desktop/Bases Costeos 2021/set_archivos/set_rosario2.txt\""
   ]
  },
  {
   "cell_type": "code",
   "execution_count": 5,
   "metadata": {},
   "outputs": [
    {
     "ename": "FileNotFoundError",
     "evalue": "[Errno 2] No such file or directory: 'C:/Users/lsaucedo/Desktop/Bases Costeos 2021/set_archivos/set_villa_mercedes.txt'",
     "output_type": "error",
     "traceback": [
      "\u001b[1;31m---------------------------------------------------------------------------\u001b[0m",
      "\u001b[1;31mFileNotFoundError\u001b[0m                         Traceback (most recent call last)",
      "\u001b[1;32m~\\AppData\\Local\\Temp/ipykernel_16960/3592510498.py\u001b[0m in \u001b[0;36m<module>\u001b[1;34m\u001b[0m\n\u001b[1;32m----> 1\u001b[1;33m \u001b[0mgenerador_zona\u001b[0m\u001b[1;33m.\u001b[0m\u001b[0mgenerador_zona\u001b[0m\u001b[1;33m(\u001b[0m\u001b[0mr1\u001b[0m\u001b[1;33m)\u001b[0m\u001b[1;33m\u001b[0m\u001b[1;33m\u001b[0m\u001b[0m\n\u001b[0m",
      "\u001b[1;32mc:\\GitHub\\Modelos_Costeo\\V0.4.2 - Costeo 2021\\generador_zona.py\u001b[0m in \u001b[0;36mgenerador_zona\u001b[1;34m(ruta_seteo)\u001b[0m\n\u001b[0;32m     17\u001b[0m     \u001b[1;31m# leemos las variables de los diferentes archivos txt.\u001b[0m\u001b[1;33m\u001b[0m\u001b[1;33m\u001b[0m\u001b[0m\n\u001b[0;32m     18\u001b[0m     \u001b[0mvariables\u001b[0m \u001b[1;33m=\u001b[0m \u001b[1;33m{\u001b[0m\u001b[1;33m}\u001b[0m   \u001b[1;31m# Diccionario que contendra los datos leidos.\u001b[0m\u001b[1;33m\u001b[0m\u001b[1;33m\u001b[0m\u001b[0m\n\u001b[1;32m---> 19\u001b[1;33m     \u001b[1;32mwith\u001b[0m \u001b[0mopen\u001b[0m\u001b[1;33m(\u001b[0m\u001b[0mruta_seteos\u001b[0m\u001b[1;33m,\u001b[0m \u001b[1;34m\"r\"\u001b[0m\u001b[1;33m)\u001b[0m \u001b[1;32mas\u001b[0m \u001b[0mdatos\u001b[0m\u001b[1;33m:\u001b[0m\u001b[1;33m\u001b[0m\u001b[1;33m\u001b[0m\u001b[0m\n\u001b[0m\u001b[0;32m     20\u001b[0m         \u001b[1;32mfor\u001b[0m \u001b[0mlinea\u001b[0m \u001b[1;32min\u001b[0m \u001b[0mdatos\u001b[0m\u001b[1;33m:\u001b[0m\u001b[1;33m\u001b[0m\u001b[1;33m\u001b[0m\u001b[0m\n\u001b[0;32m     21\u001b[0m             \u001b[0mnombre\u001b[0m\u001b[1;33m,\u001b[0m \u001b[0mvalor\u001b[0m \u001b[1;33m=\u001b[0m \u001b[0mlinea\u001b[0m\u001b[1;33m.\u001b[0m\u001b[0mstrip\u001b[0m\u001b[1;33m(\u001b[0m\u001b[1;33m)\u001b[0m\u001b[1;33m.\u001b[0m\u001b[0msplit\u001b[0m\u001b[1;33m(\u001b[0m\u001b[1;34m\"=\"\u001b[0m\u001b[1;33m,\u001b[0m \u001b[0mmaxsplit\u001b[0m\u001b[1;33m=\u001b[0m\u001b[1;36m1\u001b[0m\u001b[1;33m)\u001b[0m\u001b[1;33m\u001b[0m\u001b[1;33m\u001b[0m\u001b[0m\n",
      "\u001b[1;31mFileNotFoundError\u001b[0m: [Errno 2] No such file or directory: 'C:/Users/lsaucedo/Desktop/Bases Costeos 2021/set_archivos/set_villa_mercedes.txt'"
     ]
    }
   ],
   "source": [
    "generador_zona.generador_zona(r1)"
   ]
  },
  {
   "cell_type": "code",
   "execution_count": 6,
   "metadata": {},
   "outputs": [
    {
     "name": "stdout",
     "output_type": "stream",
     "text": [
      "se generaron todas las columnas de consumos e inicia proceso de armado de tds\n",
      "comienzo armado td internaciones\n",
      "fin armado td internaciones\n",
      "comienzo armado td internaciones pmo\n",
      "fin armado td internaciones pmo\n"
     ]
    }
   ],
   "source": [
    "generador_zona.generador_zona(r2)"
   ]
  },
  {
   "cell_type": "code",
   "execution_count": 7,
   "metadata": {},
   "outputs": [
    {
     "name": "stdout",
     "output_type": "stream",
     "text": [
      "se generaron todas las columnas de consumos e inicia proceso de armado de tds\n",
      "comienzo armado td internaciones\n",
      "fin armado td internaciones\n",
      "comienzo armado td internaciones pmo\n",
      "fin armado td internaciones pmo\n"
     ]
    }
   ],
   "source": [
    "generador_zona.generador_zona(r3)"
   ]
  },
  {
   "cell_type": "code",
   "execution_count": 8,
   "metadata": {},
   "outputs": [
    {
     "name": "stdout",
     "output_type": "stream",
     "text": [
      "se generaron todas las columnas de consumos e inicia proceso de armado de tds\n",
      "comienzo armado td internaciones\n",
      "fin armado td internaciones\n",
      "comienzo armado td internaciones pmo\n",
      "fin armado td internaciones pmo\n"
     ]
    }
   ],
   "source": [
    "generador_zona.generador_zona(r4)"
   ]
  },
  {
   "cell_type": "code",
   "execution_count": null,
   "metadata": {},
   "outputs": [],
   "source": []
  },
  {
   "cell_type": "code",
   "execution_count": null,
   "metadata": {},
   "outputs": [],
   "source": []
  },
  {
   "cell_type": "code",
   "execution_count": null,
   "metadata": {},
   "outputs": [],
   "source": []
  },
  {
   "cell_type": "code",
   "execution_count": null,
   "metadata": {},
   "outputs": [],
   "source": []
  },
  {
   "cell_type": "markdown",
   "metadata": {},
   "source": [
    "# Desde una ruta"
   ]
  },
  {
   "cell_type": "code",
   "execution_count": 1,
   "metadata": {},
   "outputs": [],
   "source": [
    "# Librerías usadas:\n",
    "import pandas as pd\n",
    "import numpy as np\n",
    "import os\n",
    "from datetime import datetime\n",
    "import funciones\n",
    "import proceso\n",
    "import generador_zona\n",
    "\n",
    "ruta_set = \"C:/Users/lsaucedo/Desktop/Bases Costeos 2021/set_archivos_santiago/\"\n",
    "lista_archivos = os.listdir(ruta_set)"
   ]
  },
  {
   "cell_type": "code",
   "execution_count": 2,
   "metadata": {},
   "outputs": [
    {
     "name": "stdout",
     "output_type": "stream",
     "text": [
      "inicia el proceso de CAR SANTIAGO DEL ESTERO_seteo.txt\n",
      "finalizado el proceso de CAR SANTIAGO DEL ESTERO_seteo.txt\n"
     ]
    }
   ],
   "source": [
    "for archivos in lista_archivos:\n",
    "    print(\"inicia el proceso de\", archivos)\n",
    "    generador_zona.generador_zona_df(ruta_set + archivos)\n",
    "    print(\"finalizado el proceso de\", archivos)"
   ]
  },
  {
   "cell_type": "code",
   "execution_count": null,
   "metadata": {},
   "outputs": [],
   "source": []
  },
  {
   "cell_type": "code",
   "execution_count": null,
   "metadata": {},
   "outputs": [],
   "source": []
  },
  {
   "cell_type": "code",
   "execution_count": null,
   "metadata": {},
   "outputs": [],
   "source": []
  },
  {
   "cell_type": "code",
   "execution_count": null,
   "metadata": {},
   "outputs": [],
   "source": []
  },
  {
   "cell_type": "code",
   "execution_count": null,
   "metadata": {},
   "outputs": [],
   "source": []
  },
  {
   "cell_type": "markdown",
   "metadata": {},
   "source": [
    "# Desde una ruta CSV"
   ]
  },
  {
   "cell_type": "code",
   "execution_count": 1,
   "metadata": {},
   "outputs": [],
   "source": [
    "# Librerías usadas:\n",
    "import pandas as pd\n",
    "import numpy as np\n",
    "import os\n",
    "from datetime import datetime\n",
    "import funciones\n",
    "import proceso\n",
    "import generador_zona\n",
    "\n",
    "ruta_set = \"C:/Users/lsaucedo/Desktop/Reportes_Costeo_2021/Set_Archivos/\"\n",
    "lista_archivos = os.listdir(ruta_set)"
   ]
  },
  {
   "cell_type": "code",
   "execution_count": 2,
   "metadata": {},
   "outputs": [
    {
     "name": "stdout",
     "output_type": "stream",
     "text": [
      "inicia el proceso de Cordoba.txt\n",
      "float64\n",
      "float64\n",
      "ok, apertura pmo\n",
      "float64\n",
      "ok, internaciones\n",
      "ok, apertura total\n",
      "ok, apertura rubros\n",
      "float64\n",
      "ok, apertura medicamentos\n",
      "ok, apertura via medicamentos\n",
      "float64\n",
      "inicia la apertura medicamentos por cobertura\n",
      "float64\n",
      "división de valores iniciando\n",
      "división de valores finalizada\n",
      "redondear\n",
      "realizamos el cruce\n",
      "ok, apertura medicamentos por cobertura\n",
      "inicio tds\n",
      "vamos por la td8 finalizada\n",
      "todas las tds finalizadas, vamos a concatenarlas\n",
      "todas las tds concatenadas\n",
      "Pasamos rango edad\n",
      "Pasamos cartilla base\n",
      "Pasamos marca cobertura med\n",
      "Pasamos lista copagos\n",
      "Pasamos marca diag\n",
      "Pasamos parentesco\n",
      "Unimos por periodo persona el consumo para generar el archivo de salida\n",
      "exportando archivo de salida:\n",
      "finalizado el proceso de Cordoba.txt\n",
      "inicia el proceso de Mendoza.txt\n",
      "float64\n",
      "float64\n",
      "ok, apertura pmo\n",
      "float64\n",
      "ok, internaciones\n",
      "ok, apertura total\n",
      "ok, apertura rubros\n",
      "float64\n",
      "ok, apertura medicamentos\n",
      "ok, apertura via medicamentos\n",
      "float64\n",
      "inicia la apertura medicamentos por cobertura\n",
      "float64\n",
      "división de valores iniciando\n",
      "división de valores finalizada\n",
      "redondear\n",
      "realizamos el cruce\n",
      "ok, apertura medicamentos por cobertura\n",
      "inicio tds\n",
      "vamos por la td8 finalizada\n",
      "todas las tds finalizadas, vamos a concatenarlas\n",
      "todas las tds concatenadas\n",
      "Pasamos rango edad\n",
      "Pasamos cartilla base\n",
      "Pasamos marca cobertura med\n",
      "Pasamos lista copagos\n",
      "Pasamos marca diag\n",
      "Pasamos parentesco\n",
      "Unimos por periodo persona el consumo para generar el archivo de salida\n",
      "exportando archivo de salida:\n",
      "finalizado el proceso de Mendoza.txt\n",
      "inicia el proceso de Provincia Buenos Aires.txt\n",
      "float64\n",
      "float64\n",
      "ok, apertura pmo\n",
      "float64\n",
      "ok, internaciones\n",
      "ok, apertura total\n",
      "ok, apertura rubros\n",
      "float64\n",
      "ok, apertura medicamentos\n",
      "ok, apertura via medicamentos\n",
      "float64\n",
      "inicia la apertura medicamentos por cobertura\n",
      "float64\n",
      "división de valores iniciando\n",
      "división de valores finalizada\n",
      "redondear\n",
      "realizamos el cruce\n",
      "ok, apertura medicamentos por cobertura\n",
      "inicio tds\n",
      "vamos por la td8 finalizada\n",
      "todas las tds finalizadas, vamos a concatenarlas\n",
      "todas las tds concatenadas\n",
      "Pasamos rango edad\n",
      "Pasamos cartilla base\n",
      "Pasamos marca cobertura med\n",
      "Pasamos lista copagos\n",
      "Pasamos marca diag\n",
      "Pasamos parentesco\n",
      "Unimos por periodo persona el consumo para generar el archivo de salida\n",
      "exportando archivo de salida:\n",
      "finalizado el proceso de Provincia Buenos Aires.txt\n",
      "inicia el proceso de Provincia Capital Federal.txt\n",
      "float64\n",
      "float64\n",
      "ok, apertura pmo\n",
      "float64\n",
      "ok, internaciones\n",
      "ok, apertura total\n",
      "ok, apertura rubros\n",
      "float64\n",
      "ok, apertura medicamentos\n",
      "ok, apertura via medicamentos\n",
      "float64\n",
      "inicia la apertura medicamentos por cobertura\n",
      "float64\n",
      "división de valores iniciando\n",
      "división de valores finalizada\n",
      "redondear\n",
      "realizamos el cruce\n",
      "ok, apertura medicamentos por cobertura\n",
      "inicio tds\n",
      "vamos por la td8 finalizada\n",
      "todas las tds finalizadas, vamos a concatenarlas\n",
      "todas las tds concatenadas\n",
      "Pasamos rango edad\n",
      "Pasamos cartilla base\n",
      "Pasamos marca cobertura med\n",
      "Pasamos lista copagos\n",
      "Pasamos marca diag\n",
      "Pasamos parentesco\n",
      "Unimos por periodo persona el consumo para generar el archivo de salida\n",
      "exportando archivo de salida:\n",
      "finalizado el proceso de Provincia Capital Federal.txt\n",
      "inicia el proceso de Resto.txt\n",
      "float64\n",
      "float64\n",
      "ok, apertura pmo\n",
      "float64\n",
      "ok, internaciones\n",
      "ok, apertura total\n",
      "ok, apertura rubros\n",
      "float64\n",
      "ok, apertura medicamentos\n",
      "ok, apertura via medicamentos\n",
      "float64\n",
      "inicia la apertura medicamentos por cobertura\n",
      "float64\n",
      "división de valores iniciando\n",
      "división de valores finalizada\n",
      "redondear\n",
      "realizamos el cruce\n",
      "ok, apertura medicamentos por cobertura\n",
      "inicio tds\n",
      "vamos por la td8 finalizada\n",
      "todas las tds finalizadas, vamos a concatenarlas\n",
      "todas las tds concatenadas\n",
      "Pasamos rango edad\n",
      "Pasamos cartilla base\n",
      "Pasamos marca cobertura med\n",
      "Pasamos lista copagos\n",
      "Pasamos marca diag\n",
      "Pasamos parentesco\n",
      "Unimos por periodo persona el consumo para generar el archivo de salida\n",
      "exportando archivo de salida:\n",
      "finalizado el proceso de Resto.txt\n",
      "inicia el proceso de Santa Fe.txt\n",
      "float64\n",
      "float64\n",
      "ok, apertura pmo\n",
      "float64\n",
      "ok, internaciones\n",
      "ok, apertura total\n",
      "ok, apertura rubros\n",
      "float64\n",
      "ok, apertura medicamentos\n",
      "ok, apertura via medicamentos\n",
      "float64\n",
      "inicia la apertura medicamentos por cobertura\n",
      "float64\n",
      "división de valores iniciando\n",
      "división de valores finalizada\n",
      "redondear\n",
      "realizamos el cruce\n",
      "ok, apertura medicamentos por cobertura\n",
      "inicio tds\n",
      "vamos por la td8 finalizada\n",
      "todas las tds finalizadas, vamos a concatenarlas\n",
      "todas las tds concatenadas\n",
      "Pasamos rango edad\n",
      "Pasamos cartilla base\n",
      "Pasamos marca cobertura med\n",
      "Pasamos lista copagos\n",
      "Pasamos marca diag\n",
      "Pasamos parentesco\n",
      "Unimos por periodo persona el consumo para generar el archivo de salida\n",
      "exportando archivo de salida:\n",
      "finalizado el proceso de Santa Fe.txt\n"
     ]
    }
   ],
   "source": [
    "for archivos in lista_archivos:\n",
    "    print(\"inicia el proceso de\", archivos)\n",
    "    generador_zona.generador_zona_df_csv(ruta_set + archivos)\n",
    "    print(\"finalizado el proceso de\", archivos)"
   ]
  },
  {
   "cell_type": "code",
   "execution_count": null,
   "metadata": {},
   "outputs": [],
   "source": []
  },
  {
   "cell_type": "code",
   "execution_count": null,
   "metadata": {},
   "outputs": [],
   "source": []
  },
  {
   "cell_type": "code",
   "execution_count": null,
   "metadata": {},
   "outputs": [],
   "source": []
  },
  {
   "cell_type": "code",
   "execution_count": null,
   "metadata": {},
   "outputs": [],
   "source": []
  },
  {
   "cell_type": "code",
   "execution_count": null,
   "metadata": {},
   "outputs": [],
   "source": []
  },
  {
   "cell_type": "code",
   "execution_count": null,
   "metadata": {},
   "outputs": [],
   "source": []
  },
  {
   "cell_type": "code",
   "execution_count": null,
   "metadata": {},
   "outputs": [],
   "source": []
  },
  {
   "cell_type": "code",
   "execution_count": null,
   "metadata": {},
   "outputs": [],
   "source": []
  },
  {
   "cell_type": "code",
   "execution_count": null,
   "metadata": {},
   "outputs": [],
   "source": []
  }
 ],
 "metadata": {
  "kernelspec": {
   "display_name": "Python 3.9.7 ('base')",
   "language": "python",
   "name": "python3"
  },
  "language_info": {
   "codemirror_mode": {
    "name": "ipython",
    "version": 3
   },
   "file_extension": ".py",
   "mimetype": "text/x-python",
   "name": "python",
   "nbconvert_exporter": "python",
   "pygments_lexer": "ipython3",
   "version": "3.9.7"
  },
  "orig_nbformat": 4,
  "vscode": {
   "interpreter": {
    "hash": "562c9c567e50c33fd32533d1041799ab9ec09a9cf2f2e4c1c846bbf665f39d1b"
   }
  }
 },
 "nbformat": 4,
 "nbformat_minor": 2
}
