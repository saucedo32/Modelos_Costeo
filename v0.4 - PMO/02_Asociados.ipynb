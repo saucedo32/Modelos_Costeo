{
 "cells": [
  {
   "cell_type": "markdown",
   "metadata": {},
   "source": [
    "# Asociados con todas sus marcas. Correr con el Stock de todos los asociados."
   ]
  },
  {
   "cell_type": "code",
   "execution_count": 2,
   "metadata": {},
   "outputs": [],
   "source": [
    "# Librerías usadas:\n",
    "import pandas as pd\n",
    "import numpy as np\n",
    "import os\n",
    "from datetime import datetime\n",
    "import funciones"
   ]
  },
  {
   "cell_type": "code",
   "execution_count": 20,
   "metadata": {},
   "outputs": [],
   "source": [
    "# DEFINICION DE LAS RUTAS Y VARIABLES:\n",
    "\n",
    "# Archivo al que se exportara la informacion:\n",
    "reporte_consolidado = 'C:/Users/lsaucedo/downloads/reporte_consolidado.csv'\n",
    "\n",
    "# Carpeta donde se encuentran las auxiliares:\n",
    "ruta_aux = 'C:/modelos/auxiliares/'\n",
    "aux_pmo = 'Aux_PMO.xlsx'\n",
    "\n",
    "# Archivo .csv con los diagnosticos:\n",
    "ruta_diag = 'C:/Users/lsaucedo/downloads/diagnostico.csv'\n",
    "\n",
    "\n",
    "# Ruta con Stocks de la zona:\n",
    "ruta_stock_zona = 'C:/Users/lsaucedo/Desktop/Costo PMO 202112/Stocks_Zona/'\n",
    "# Ruta con Consumos de la zona:\n",
    "ruta_consumos_zona = 'C:/Users/lsaucedo/Desktop/Costo PMO 202112/Consumos_Zona/'\n"
   ]
  },
  {
   "cell_type": "code",
   "execution_count": 13,
   "metadata": {},
   "outputs": [
    {
     "name": "stdout",
     "output_type": "stream",
     "text": [
      "Inicio del proceso: 14:22:12\n",
      "Se cargó el archivo:  20.1 Stock Mendoza.xlsx a las: 14:23:39\n",
      "Fin de la carga de archivos\n"
     ]
    }
   ],
   "source": [
    "# Cargamos y cambiamos los nombres de los stocks.\n",
    "dfs = funciones.leer_xlsx(ruta_stock_zona)\n",
    "funciones.renombrar_columnas(dfs)"
   ]
  },
  {
   "cell_type": "code",
   "execution_count": 21,
   "metadata": {},
   "outputs": [
    {
     "name": "stdout",
     "output_type": "stream",
     "text": [
      "Inicio del proceso: 14:25:05\n",
      "Se cargó el archivo:  10.1 Cons Mendoza 202010.xlsx a las: 14:25:59\n",
      "Se cargó el archivo:  10.1 Cons Mendoza 202011.xlsx a las: 14:26:56\n",
      "Se cargó el archivo:  10.1 Cons Mendoza 202012.xlsx a las: 14:27:55\n",
      "Se cargó el archivo:  10.1 Cons Mendoza 202101.xlsx a las: 14:28:52\n",
      "Se cargó el archivo:  10.1 Cons Mendoza 202102.xlsx a las: 14:29:49\n",
      "Se cargó el archivo:  10.1 Cons Mendoza 202103.xlsx a las: 14:31:00\n",
      "Se cargó el archivo:  10.1 Cons Mendoza 202104.xlsx a las: 14:32:38\n",
      "Se cargó el archivo:  10.1 Cons Mendoza 202105.xlsx a las: 14:34:23\n",
      "Se cargó el archivo:  10.1 Cons Mendoza 202106.xlsx a las: 14:36:08\n",
      "Se cargó el archivo:  10.1 Cons Mendoza 202107.xlsx a las: 14:38:00\n",
      "Se cargó el archivo:  10.1 Cons Mendoza 202108.xlsx a las: 14:39:50\n",
      "Se cargó el archivo:  10.1 Cons Mendoza 202109.xlsx a las: 14:41:36\n",
      "Fin de la carga de archivos\n"
     ]
    }
   ],
   "source": [
    "# Cargamos y cambiamos los nombres de los consumos.\n",
    "dfc = funciones.leer_xlsx(ruta_consumos_zona)\n",
    "funciones.renombrar_columnas(dfc)"
   ]
  },
  {
   "cell_type": "code",
   "execution_count": 22,
   "metadata": {},
   "outputs": [],
   "source": [
    "# Levantamos los diferentes archivos auxiliares:\n",
    "\n",
    "# Rango Edad\n",
    "Aux_RangoEdad = pd.read_excel(ruta_aux + \"Aux_RangoEdad.xlsx\")\n",
    "dfs = pd.merge(left = dfs, right = Aux_RangoEdad[[\"Edad\",\"Rango_Edad\"]], left_on='Edad', right_on='Edad', how = \"left\")\n",
    "Aux_RangoEdad = []\n",
    "\n",
    "# Cartilla Base\n",
    "Aux_CartillaBase = pd.read_excel(ruta_aux+\"Aux_CartillaBase.xlsx\")\n",
    "dfs = pd.merge(left = dfs, right = Aux_CartillaBase[[\"Plan\",\"Modelo_Cartilla\"]], left_on='Plan', right_on='Plan', how = \"left\")\n",
    "Aux_CartillaBase = []\n",
    "\n",
    "# Cobertura Medicamentos del plan\n",
    "Aux_CobertMedicamentosPlan = pd.read_excel(ruta_aux+\"Aux_CobertMedicamentosPlan.xlsx\")\n",
    "dfs = pd.merge(left = dfs, right = Aux_CobertMedicamentosPlan[[\"Plan\",\"Cobertura_med_id\"]], left_on='Plan', right_on='Plan', how = \"left\")\n",
    "Aux_CobertMedicamentosPlan = []\n",
    "\n",
    "# Lista de precios Copagos\n",
    "Aux_ListaCopagos = pd.read_excel(ruta_aux+\"Aux_ListaCopagos.xlsx\")\n",
    "dfs = pd.merge(left = dfs, right = Aux_ListaCopagos[[\"Plan\",\"Lista_PrecioDesc\"]], left_on='Plan', right_on='Plan', how = \"left\")\n",
    "Aux_ListaCopagos = []\n",
    "\n",
    "# Levanto el archivo con los diagnosticos:\n",
    "dfdiag = pd.read_csv(ruta_diag)\n",
    "dfs = pd.merge(left = dfs, right = dfdiag[[\"Persona\",'GC', 'Rango_Cons', 'algun_diag', 'prop_diag', 'Marca_Diagnostico']], left_on='Persona', right_on='Persona', how = \"left\")\n",
    "dfdiag = []"
   ]
  },
  {
   "cell_type": "code",
   "execution_count": 24,
   "metadata": {},
   "outputs": [],
   "source": [
    "# Reemplazo valores de filas para tener metricas:\n",
    "dfs['Diabetes'] = dfs['Diabetes'].replace(['No Diabético', 'Diabético'], [0, 1])\n",
    "dfs['Hepatitis'] = dfs['Hepatitis'].replace(['Sin Hepatitis', 'Con Hepatitis'], [0, 1])\n",
    "dfs['PMI'] = dfs['PMI'].replace(['NO', 'SI'], [0, 1])\n",
    "dfs['Cronico'] = dfs['Cronico'].replace(['NO', 'SI'], [0, 1])\n",
    "dfs['Oncologico'] = dfs['Oncologico'].replace(['Sin Marca', 'Paciente Oncológico'], [0, 1])\n",
    "dfs['algun_diag'] = dfs['Marca_Diagnostico'].replace(['Sin Diagnostico', 'Con Diagnostico'], [0, 1])\n",
    "\n",
    "# Reemplazo los datos faltantes:\n",
    "dfs[\"GC\"].fillna(0, inplace = True)\n",
    "dfs[\"Rango_Cons\"].fillna(\"Muy Bajo\", inplace = True)\n",
    "dfs[\"algun_diag\"].fillna(0, inplace = True)\n",
    "dfs[\"prop_diag\"].fillna(0, inplace = True)\n",
    "dfs[\"Marca_Diagnostico\"].fillna(\"Sin Diagnostico\", inplace = True)\n",
    "dfs['GC'] = dfs['GC'].where(dfs['GC'] == 0 , 1)\n",
    "\n",
    "# Agregamos los parentescos de los hijos:\n",
    "condiciones = [\n",
    "    (dfs['Parentesco IdParentesco'] == 3),\n",
    "    (dfs['Parentesco IdParentesco'] == 4),\n",
    "    (dfs['Parentesco IdParentesco'] == 5),\n",
    "    (dfs['Parentesco IdParentesco'] == 6),\n",
    "    (dfs['Parentesco IdParentesco'] == 7)]\n",
    "valores_condic = [1,1,1,1,1]\n",
    "dfs['Marca Hijo'] = np.select(condiciones, valores_condic, default=0) # se analizaron y surgen de consumo 3 == 0"
   ]
  },
  {
   "cell_type": "code",
   "execution_count": 25,
   "metadata": {},
   "outputs": [],
   "source": [
    "## SI QUEREMOS EXPORTAR POR PERSONA - PERIODO\n",
    "# Exportación de archivo sin hacer td:\n",
    "# dfs.to_csv(archivo_salida, encoding = 'latin1', decimal=',', index = False)\n",
    "\n",
    "\n",
    "## SI QUEREMOS EXPORTAR POR APERTURAS:\n",
    "segmentacion = ([ 'Periodo', 'Posicion Asociado ID', 'Plan Agrupado', 'Sexo', 'Rango_Edad','Rango_Cons'])\n",
    "\n",
    "# Defino las métricas a calcular\n",
    "metricas = ({   'Stock':np.sum,\n",
    "                'Edad':np.sum,\n",
    "                'ACE':np.sum,\n",
    "                'Oncologico':np.sum,\n",
    "                'Cronico':np.sum,\n",
    "                'PMI':np.sum,\n",
    "                'Hepatitis':np.sum,\n",
    "                'Diabetes':np.sum,\n",
    "                'GC':np.sum,\n",
    "                'algun_diag':np.sum,\n",
    "                'Marca Hijo':np.sum,\n",
    "            })\n",
    "\n",
    "\n",
    "td = pd.pivot_table(dfs, index = segmentacion, aggfunc = metricas)\n",
    "base_asociados = pd.DataFrame(td)\n",
    "# Exporto la información en csv:\n",
    "base_asociados.to_csv(archivo_salida , encoding = 'latin1', decimal=',', index = False)\n",
    "\n",
    "# dfcp = pd.read_csv('./PerPrest-Persona-Consumo-Bnknn_v3.csv', encoding = 'latin1', decimal=',')\n",
    "# dff = pd.merge(left = dfs, right = dfcp, left_on=(\"Persona\",\"Periodo\"), right_on=(\"Persona\",\"Periodo_Prest\"), how = \"left\")\n",
    "# dff = dff.fillna(0)"
   ]
  },
  {
   "cell_type": "code",
   "execution_count": null,
   "metadata": {},
   "outputs": [],
   "source": []
  },
  {
   "cell_type": "code",
   "execution_count": null,
   "metadata": {},
   "outputs": [],
   "source": []
  },
  {
   "cell_type": "code",
   "execution_count": null,
   "metadata": {},
   "outputs": [],
   "source": []
  }
 ],
 "metadata": {
  "interpreter": {
   "hash": "562c9c567e50c33fd32533d1041799ab9ec09a9cf2f2e4c1c846bbf665f39d1b"
  },
  "kernelspec": {
   "display_name": "Python 3.9.7 ('base')",
   "language": "python",
   "name": "python3"
  },
  "language_info": {
   "codemirror_mode": {
    "name": "ipython",
    "version": 3
   },
   "file_extension": ".py",
   "mimetype": "text/x-python",
   "name": "python",
   "nbconvert_exporter": "python",
   "pygments_lexer": "ipython3",
   "version": "3.9.7"
  }
 },
 "nbformat": 4,
 "nbformat_minor": 4
}
