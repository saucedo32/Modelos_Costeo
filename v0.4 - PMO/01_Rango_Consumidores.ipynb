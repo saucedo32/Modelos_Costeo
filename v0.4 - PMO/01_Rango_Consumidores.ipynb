{
 "cells": [
  {
   "cell_type": "markdown",
   "metadata": {},
   "source": [
    "# Rango Consumos por Persona y Diagnósticos"
   ]
  },
  {
   "cell_type": "markdown",
   "metadata": {},
   "source": [
    "Se calcula con consumos por período de prestación en un reporte y stock en otro reporte"
   ]
  },
  {
   "cell_type": "code",
   "execution_count": 21,
   "metadata": {},
   "outputs": [],
   "source": [
    "# Librerías usadas:\n",
    "import pandas as pd\n",
    "import numpy as np\n",
    "import os\n",
    "import datetime\n",
    "from datetime import datetime\n",
    "import funciones"
   ]
  },
  {
   "cell_type": "code",
   "execution_count": 44,
   "metadata": {},
   "outputs": [],
   "source": [
    "# DEFINICION DE LAS RUTAS Y VARIABLES:\n",
    "\n",
    "# Archivo al que se exportara la informacion:\n",
    "archivo_diagnosticos = 'C:/Users/lsaucedo/downloads/diagnosticos.csv'\n",
    "\n",
    "# Rutas donde se encuentran los 12 meses de consumo y stock por persona:\n",
    "ruta_cons_RC = \"C:/Users/lsaucedo/Desktop/Costo PMO 202112/Consumo_Rango_Cons/\"\n",
    "ruta_stock_RC = \"C:/Users/lsaucedo/Desktop/Costo PMO 202112/Stock_Rango_Cons/\"\n",
    "\n",
    "\n",
    "# Ruta con los 12 meses de stock de SanCor por persona:\n",
    "ruta_stock_ss = \"C:/Users/lsaucedo/Desktop/Costo PMO 202112/Stock_Sancor/\"\n",
    "\n",
    "\n",
    "# Defino importe gran consumidor\n",
    "importe_gc = 703354\n",
    "# De cada rango se define su límite inferior para consumo mensual\n",
    "c_muy_alto = importe_gc / 12\n",
    "c_alto = 0.015714129 * importe_gc # el monto se actualiza de acuerdo al importe gran consumidor\n",
    "c_medio = 0.000785706 * importe_gc # el monto se actualiza de acuerdo al importe gran consumidor\n",
    "c_bajo = 0.000314283 * importe_gc # el monto se actualiza de acuerdo al importe gran consumidor\n",
    "# El consumo c_muy_bajo queda por defecto.\n",
    "\n",
    "\n",
    "# proporcion limite para ser considerado persona con diagnostico\n",
    "prop_limite = 0.4 \n",
    "\n"
   ]
  },
  {
   "cell_type": "code",
   "execution_count": 23,
   "metadata": {},
   "outputs": [
    {
     "name": "stdout",
     "output_type": "stream",
     "text": [
      "Inicio del proceso: 11:28:17\n",
      "Se cargó el archivo:  30.1 Stock 12 M.xlsx a las: 11:28:42\n",
      "Fin de la carga de archivos\n",
      "Inicio del proceso: 11:28:42\n",
      "Se cargó el archivo:  30.2 Consumo 12 M.xlsx a las: 11:29:06\n",
      "Fin de la carga de archivos\n"
     ]
    }
   ],
   "source": [
    "# Importamos los datos de consumo por periodo consumo y stock por periodo\n",
    "dfc_RC = funciones.leer_xlsx(ruta_cons_RC)\n",
    "dfs_RC = funciones.leer_xlsx(ruta_stock_RC)\n",
    "\n",
    "# "
   ]
  },
  {
   "cell_type": "code",
   "execution_count": 24,
   "metadata": {},
   "outputs": [],
   "source": [
    "# renombramos las columnas de ambos dataframes\n",
    "funciones.renombrar_columnas(dfs_RC)\n",
    "funciones.renombrar_columnas(dfc_RC)"
   ]
  },
  {
   "cell_type": "code",
   "execution_count": 30,
   "metadata": {},
   "outputs": [],
   "source": [
    "# Agregamos a dfs el consumo de dfc:\n",
    "dfs_RC = pd.merge(left = dfs_RC, right = dfc_RC, left_on='Persona', right_on='Persona', how = \"left\")\n",
    "# Eliminamos el dfc de la memoria:\n",
    "del dfc_RC"
   ]
  },
  {
   "cell_type": "code",
   "execution_count": 31,
   "metadata": {},
   "outputs": [
    {
     "name": "stderr",
     "output_type": "stream",
     "text": [
      "C:\\Users\\lsaucedo\\AppData\\Local\\Temp/ipykernel_4408/3801111749.py:12: SettingWithCopyWarning: \n",
      "A value is trying to be set on a copy of a slice from a DataFrame\n",
      "\n",
      "See the caveats in the documentation: https://pandas.pydata.org/pandas-docs/stable/user_guide/indexing.html#returning-a-view-versus-a-copy\n",
      "  dfs_RC[\"Cons_mensualizado\"][i] = dfs_RC[\"Consumo\"][i]\n"
     ]
    }
   ],
   "source": [
    "# Marco los GC en el dataframe de stock\n",
    "dfs_RC['GC'] = np.where(dfs_RC['Consumo'] > importe_gc, 'GC','NO GC')\n",
    "\n",
    "# Marco Rango de Consumos:\n",
    "# Cálculo de consumo anualizado para rango consumos:\n",
    "dfs_RC['Cons_mensualizado'] = (dfs_RC['Consumo'] / dfs_RC['Stock'])\n",
    "\n",
    "# Como existen personas con stock == 0 -> reemplazo los nan con el valor de la columna \"Consumo\"\n",
    "# No encontré una función -> hago una reimputación manual\n",
    "for i in range(len(dfs_RC)):\n",
    "    if np.isnan(dfs_RC[\"Cons_mensualizado\"][i]) == True:\n",
    "        dfs_RC[\"Cons_mensualizado\"][i] = dfs_RC[\"Consumo\"][i]\n",
    "\n",
    "condiciones = [\n",
    "    (dfs_RC['Cons_mensualizado'] >= c_muy_alto) ,\n",
    "    (dfs_RC['Cons_mensualizado'] >= c_alto) ,\n",
    "    (dfs_RC['Cons_mensualizado'] >= c_medio) ,\n",
    "    (dfs_RC['Cons_mensualizado'] >= c_bajo) ,\n",
    "    (dfs_RC['Cons_mensualizado'] < c_bajo)]\n",
    "\n",
    "# Lista de resultados en función de las selecciones\n",
    "valores_condic = ['Muy Alto', 'Alto', 'Medio', 'Bajo', 'Muy Bajo']     \n",
    "\n",
    "# Generación de la columna calculada\n",
    "dfs_RC['Rango_Cons'] = np.select(condiciones, valores_condic, default='Muy Bajo') # se analizaron y surgen de consumo 3 == 0\n"
   ]
  },
  {
   "cell_type": "code",
   "execution_count": null,
   "metadata": {},
   "outputs": [],
   "source": [
    "# OPCIONAL - Exportar el dataframe a csv para tener las marcas a futuro\n",
    "#dfs_RC.to_csv(\"Rango_cons.csv\", encoding = 'latin1', decimal=',', index = False)"
   ]
  },
  {
   "cell_type": "code",
   "execution_count": null,
   "metadata": {},
   "outputs": [],
   "source": []
  },
  {
   "cell_type": "code",
   "execution_count": 36,
   "metadata": {},
   "outputs": [
    {
     "name": "stdout",
     "output_type": "stream",
     "text": [
      "Inicio del proceso: 11:41:22\n",
      "Se cargó el archivo:  20.1 Stock Mendoza.xlsx a las: 11:42:44\n",
      "Fin de la carga de archivos\n"
     ]
    }
   ],
   "source": [
    "## IMPORTAMOS EL DATAFRAME CON TODO EL STOCK PARA MARCAR LOS DIAGNOSTICOS\n",
    "dfs_ss = funciones.leer_xlsx(ruta_stock_ss)\n",
    "funciones.renombrar_columnas(dfs_ss)\n"
   ]
  },
  {
   "cell_type": "code",
   "execution_count": 37,
   "metadata": {},
   "outputs": [],
   "source": [
    "# Pegamos a dfs_ss el rango de consumo:\n",
    "dfs_ss = pd.merge(left = dfs_ss, right = dfs_RC[['Persona', 'GC', 'Rango_Cons']], left_on='Persona', right_on='Persona', how = \"left\")"
   ]
  },
  {
   "cell_type": "code",
   "execution_count": 38,
   "metadata": {},
   "outputs": [],
   "source": [
    "# Existen casos con nan a reemplazar (decision leo)\n",
    "# Al ser personas encontradas en el stock y no encontradas en el consumo ponemos: No GC y Rango Cons == Muy Bajo\n",
    "values = {\"GC\": \"NO GC\", \"Rango_Cons\": \"Muy Bajo\"}\n",
    "dfs_ss = dfs_ss.fillna(value=values)"
   ]
  },
  {
   "cell_type": "code",
   "execution_count": 40,
   "metadata": {},
   "outputs": [],
   "source": [
    "# Transformaciones necesarias para el calculo de los diagnosticos como metricas:\n",
    "dfs_ss['GC'] = dfs_ss['GC'].replace(['NO GC', 'GC'], [0, 1])\n",
    "dfs_ss['Diabetes'] = dfs_ss['Diabetes'].replace(['No Diabético', 'Diabético'], [0, 1])\n",
    "dfs_ss['Hepatitis'] = dfs_ss['Hepatitis'].replace(['Sin Hepatitis', 'Con Hepatitis'], [0, 1])\n",
    "dfs_ss['PMI'] = dfs_ss['PMI'].replace(['NO', 'SI'], [0, 1])\n",
    "dfs_ss['Cronico'] = dfs_ss['Cronico'].replace(['NO', 'SI'], [0, 1])\n",
    "dfs_ss['Oncologico'] = dfs_ss['Oncologico'].replace(['Sin Marca', 'Paciente Oncológico'], [0, 1])\n",
    "dfs_ss['GC'] = dfs_ss['GC'].replace(['NO GC', 'GC'], [0, 1])\n",
    "dfs_ss['Discapacidad'] = dfs_ss['Discapacidad'].replace(['N', 'S'], [0, 1])\n",
    "\n",
    "\n",
    "# Creo una columna de resultado que marque 1 si se tiene cualquier diagnostico\n",
    "suma = (dfs_ss['Diabetes'] + dfs_ss['Hepatitis'] + dfs_ss['PMI'] + \n",
    "        dfs_ss['Cronico'] + dfs_ss['Oncologico'] + dfs_ss['GC'] + dfs_ss['Discapacidad'])\n",
    "\n",
    "dfs_ss['algun_diag'] = np.where( suma > 0, 1, 0)"
   ]
  },
  {
   "cell_type": "code",
   "execution_count": 41,
   "metadata": {},
   "outputs": [],
   "source": [
    "# Creo una auxiliar que resuma por persona el stock y cantidad de veces con diag.\n",
    "# Agrupo por persona las diferentes métricas en otro df para luego cruzar con la base original\n",
    "filas = ['Persona','Rango_Cons']\n",
    "columnas = ['Stock','Diabetes', 'Hepatitis', 'PMI','Cronico', 'Oncologico', 'GC', 'Discapacidad', 'algun_diag']\n",
    "aux_diag = pd.DataFrame(dfs_ss.pivot_table(columnas , filas, aggfunc = np.sum))\n",
    "\n",
    "# Genero una columna que calcule el % de veces que se tuvo algún diagnóstico:\n",
    "aux_diag['prop_diag'] = aux_diag['algun_diag'] / aux_diag['Stock']\n",
    "aux_diag.tail()\n",
    "\n",
    "# Creamos la marca a cada persona\n",
    "# Analizando las diferentes posibilidades llegué a la conclusión que si la proporción es mayor a 40% se debe poner \"Con Diagnóstico\"\n",
    "aux_diag['Marca_Diagnostico'] = np.where(aux_diag['prop_diag'] > prop_limite, 'Con Diagnostico','Sin Diagnostico')\n",
    "\n",
    "# Reseteo los multi index:\n",
    "aux_diag = aux_diag.reset_index()"
   ]
  },
  {
   "cell_type": "code",
   "execution_count": 42,
   "metadata": {},
   "outputs": [
    {
     "data": {
      "text/html": [
       "<div>\n",
       "<style scoped>\n",
       "    .dataframe tbody tr th:only-of-type {\n",
       "        vertical-align: middle;\n",
       "    }\n",
       "\n",
       "    .dataframe tbody tr th {\n",
       "        vertical-align: top;\n",
       "    }\n",
       "\n",
       "    .dataframe thead th {\n",
       "        text-align: right;\n",
       "    }\n",
       "</style>\n",
       "<table border=\"1\" class=\"dataframe\">\n",
       "  <thead>\n",
       "    <tr style=\"text-align: right;\">\n",
       "      <th></th>\n",
       "      <th>Persona</th>\n",
       "      <th>Rango_Cons</th>\n",
       "      <th>Cronico</th>\n",
       "      <th>Diabetes</th>\n",
       "      <th>Discapacidad</th>\n",
       "      <th>GC</th>\n",
       "      <th>Hepatitis</th>\n",
       "      <th>Oncologico</th>\n",
       "      <th>PMI</th>\n",
       "      <th>Stock</th>\n",
       "      <th>algun_diag</th>\n",
       "      <th>prop_diag</th>\n",
       "      <th>Marca_Diagnostico</th>\n",
       "    </tr>\n",
       "  </thead>\n",
       "  <tbody>\n",
       "    <tr>\n",
       "      <th>0</th>\n",
       "      <td>14683</td>\n",
       "      <td>Medio</td>\n",
       "      <td>0</td>\n",
       "      <td>0</td>\n",
       "      <td>0</td>\n",
       "      <td>0</td>\n",
       "      <td>0</td>\n",
       "      <td>0</td>\n",
       "      <td>0</td>\n",
       "      <td>12</td>\n",
       "      <td>0</td>\n",
       "      <td>0.0</td>\n",
       "      <td>Sin Diagnostico</td>\n",
       "    </tr>\n",
       "    <tr>\n",
       "      <th>1</th>\n",
       "      <td>21372</td>\n",
       "      <td>Medio</td>\n",
       "      <td>0</td>\n",
       "      <td>12</td>\n",
       "      <td>0</td>\n",
       "      <td>0</td>\n",
       "      <td>0</td>\n",
       "      <td>0</td>\n",
       "      <td>0</td>\n",
       "      <td>12</td>\n",
       "      <td>12</td>\n",
       "      <td>1.0</td>\n",
       "      <td>Con Diagnostico</td>\n",
       "    </tr>\n",
       "    <tr>\n",
       "      <th>2</th>\n",
       "      <td>30921</td>\n",
       "      <td>Medio</td>\n",
       "      <td>0</td>\n",
       "      <td>0</td>\n",
       "      <td>0</td>\n",
       "      <td>0</td>\n",
       "      <td>0</td>\n",
       "      <td>0</td>\n",
       "      <td>0</td>\n",
       "      <td>12</td>\n",
       "      <td>0</td>\n",
       "      <td>0.0</td>\n",
       "      <td>Sin Diagnostico</td>\n",
       "    </tr>\n",
       "    <tr>\n",
       "      <th>3</th>\n",
       "      <td>49672</td>\n",
       "      <td>Alto</td>\n",
       "      <td>10</td>\n",
       "      <td>0</td>\n",
       "      <td>0</td>\n",
       "      <td>0</td>\n",
       "      <td>0</td>\n",
       "      <td>0</td>\n",
       "      <td>0</td>\n",
       "      <td>10</td>\n",
       "      <td>10</td>\n",
       "      <td>1.0</td>\n",
       "      <td>Con Diagnostico</td>\n",
       "    </tr>\n",
       "    <tr>\n",
       "      <th>4</th>\n",
       "      <td>54021</td>\n",
       "      <td>Muy Alto</td>\n",
       "      <td>0</td>\n",
       "      <td>0</td>\n",
       "      <td>0</td>\n",
       "      <td>12</td>\n",
       "      <td>0</td>\n",
       "      <td>0</td>\n",
       "      <td>0</td>\n",
       "      <td>12</td>\n",
       "      <td>12</td>\n",
       "      <td>1.0</td>\n",
       "      <td>Con Diagnostico</td>\n",
       "    </tr>\n",
       "    <tr>\n",
       "      <th>5</th>\n",
       "      <td>58897</td>\n",
       "      <td>Bajo</td>\n",
       "      <td>0</td>\n",
       "      <td>0</td>\n",
       "      <td>0</td>\n",
       "      <td>0</td>\n",
       "      <td>0</td>\n",
       "      <td>0</td>\n",
       "      <td>0</td>\n",
       "      <td>12</td>\n",
       "      <td>0</td>\n",
       "      <td>0.0</td>\n",
       "      <td>Sin Diagnostico</td>\n",
       "    </tr>\n",
       "    <tr>\n",
       "      <th>6</th>\n",
       "      <td>90727</td>\n",
       "      <td>Medio</td>\n",
       "      <td>0</td>\n",
       "      <td>0</td>\n",
       "      <td>0</td>\n",
       "      <td>0</td>\n",
       "      <td>0</td>\n",
       "      <td>0</td>\n",
       "      <td>0</td>\n",
       "      <td>11</td>\n",
       "      <td>0</td>\n",
       "      <td>0.0</td>\n",
       "      <td>Sin Diagnostico</td>\n",
       "    </tr>\n",
       "    <tr>\n",
       "      <th>7</th>\n",
       "      <td>100900</td>\n",
       "      <td>Medio</td>\n",
       "      <td>0</td>\n",
       "      <td>0</td>\n",
       "      <td>0</td>\n",
       "      <td>0</td>\n",
       "      <td>0</td>\n",
       "      <td>0</td>\n",
       "      <td>0</td>\n",
       "      <td>12</td>\n",
       "      <td>0</td>\n",
       "      <td>0.0</td>\n",
       "      <td>Sin Diagnostico</td>\n",
       "    </tr>\n",
       "  </tbody>\n",
       "</table>\n",
       "</div>"
      ],
      "text/plain": [
       "   Persona Rango_Cons  Cronico  Diabetes  Discapacidad  GC  Hepatitis  \\\n",
       "0    14683      Medio        0         0             0   0          0   \n",
       "1    21372      Medio        0        12             0   0          0   \n",
       "2    30921      Medio        0         0             0   0          0   \n",
       "3    49672       Alto       10         0             0   0          0   \n",
       "4    54021   Muy Alto        0         0             0  12          0   \n",
       "5    58897       Bajo        0         0             0   0          0   \n",
       "6    90727      Medio        0         0             0   0          0   \n",
       "7   100900      Medio        0         0             0   0          0   \n",
       "\n",
       "   Oncologico  PMI  Stock  algun_diag  prop_diag Marca_Diagnostico  \n",
       "0           0    0     12           0        0.0   Sin Diagnostico  \n",
       "1           0    0     12          12        1.0   Con Diagnostico  \n",
       "2           0    0     12           0        0.0   Sin Diagnostico  \n",
       "3           0    0     10          10        1.0   Con Diagnostico  \n",
       "4           0    0     12          12        1.0   Con Diagnostico  \n",
       "5           0    0     12           0        0.0   Sin Diagnostico  \n",
       "6           0    0     11           0        0.0   Sin Diagnostico  \n",
       "7           0    0     12           0        0.0   Sin Diagnostico  "
      ]
     },
     "execution_count": 42,
     "metadata": {},
     "output_type": "execute_result"
    }
   ],
   "source": [
    "# Observo los primeros 8 registros\n",
    "aux_diag.head(8)"
   ]
  },
  {
   "cell_type": "code",
   "execution_count": null,
   "metadata": {},
   "outputs": [],
   "source": [
    "# Exporto el df a csv\n",
    "aux_diag.to_csv(archivo_diagnostico, encoding = 'latin1',  decimal=',')"
   ]
  },
  {
   "cell_type": "code",
   "execution_count": null,
   "metadata": {},
   "outputs": [],
   "source": []
  },
  {
   "cell_type": "code",
   "execution_count": null,
   "metadata": {},
   "outputs": [],
   "source": []
  },
  {
   "cell_type": "code",
   "execution_count": null,
   "metadata": {},
   "outputs": [],
   "source": []
  },
  {
   "cell_type": "code",
   "execution_count": null,
   "metadata": {},
   "outputs": [],
   "source": []
  },
  {
   "cell_type": "code",
   "execution_count": null,
   "metadata": {},
   "outputs": [],
   "source": []
  },
  {
   "cell_type": "code",
   "execution_count": null,
   "metadata": {},
   "outputs": [],
   "source": []
  },
  {
   "cell_type": "code",
   "execution_count": null,
   "metadata": {},
   "outputs": [],
   "source": []
  },
  {
   "cell_type": "markdown",
   "metadata": {},
   "source": [
    "# 3- Calcular marcas de diagnóstico -- NO SE REALIZA MAS AQUI\n",
    "\n",
    "El procedimiento a seguir debe ser el siguiente:<br>\n",
    "1- Si el 100% del tiempo tuvo un diagnóstico va ese. <br>\n",
    "2- Si más del 60% tuvo algún diagnóstico va ese.<br>\n",
    "3- Si no supera 60% en algún clúster se lo define como su peor situación (con diagnóstico).<br>\n",
    "4- (solamente para consumos) = si no se encuentra la persona en el tiempo de stock analizado se lo marca como \"No Corresponde\".<br>"
   ]
  },
  {
   "cell_type": "code",
   "execution_count": null,
   "metadata": {},
   "outputs": [],
   "source": [
    "# dfs2 es el 2do dataframe que usamos para hacer el pegado de diag.\n",
    "ruta_dfs2 = 'C:\\\\Users\\\\lsaucedo\\\\Desktop\\\\Brinkmann v2\\\\Stock_Brinkmann/'\n",
    "dfs2 = pd.read_excel(ruta_dfs2 + \"Stock_brinkmann_202010-202109.xlsx\")"
   ]
  },
  {
   "cell_type": "code",
   "execution_count": null,
   "metadata": {},
   "outputs": [],
   "source": [
    "dfs2.rename( columns = {    'Periodo ID': 'Periodo',\n",
    "                           'Persona ID': 'Persona',\n",
    "                           'Persona Fecha Nacimiento': 'Fecha_nac',\n",
    "                           'Discapacitado ID': 'Discapacidad',\n",
    "                           'Marca Persona con Diabetes DESC': 'Diabetes',\n",
    "                           'Marca Persona con Hepatitis DESC': 'Hepatitis',\n",
    "                           'Marca Persona con PMI DESC': 'PMI',\n",
    "                           'Marca Persona con Tratamiento Cronico DESC': 'Cronico',\n",
    "                           'Marca Persona con Tratamiento Oncológico DESC':  'Oncologico',\n",
    "                           'Sexo ID': 'Sexo',\n",
    "                           'Plan Sin Segmento ID': 'Plan',\n",
    "                           'Posicion Asociado DESC': 'Posicion Asociado',\n",
    "                           'Zona de Promocion DESC': 'Zona de Promocion',\n",
    "                           'Segmento Agrupado DESC': 'Segmento',\n",
    "                           'Plan Agrupado Sin Segmento DESC': 'Plan Agrupado',\n",
    "                           'Stock Asociados Salud': 'Stock',\n",
    "                           'Edad Periodo ID': 'Edad',\n",
    "                           'ACE Stock Asociados Salud': 'ACE',\n",
    "                           'Consumos Costo con Subsidios SSS': 'Consumo3',\n",
    "                           'Recaudacion Costo con Otros Subsidios': 'Recaudacion3'                      \n",
    "                           }, inplace=True)"
   ]
  },
  {
   "cell_type": "code",
   "execution_count": null,
   "metadata": {},
   "outputs": [],
   "source": [
    "# Ruta de auxiliares\n",
    "ruta_aux = 'C:\\\\modelos\\\\Auxiliares\\\\'"
   ]
  },
  {
   "cell_type": "code",
   "execution_count": null,
   "metadata": {},
   "outputs": [],
   "source": [
    "# Definiciones:\n",
    "# Proporción mínima de meses con diagnóstico para ser considerado con algún diagnóstico:\n",
    "prop_limite = 0.4\n",
    "# Se puede agregar los campos considerados como diag..\n",
    "\n",
    "# Reemplazo valores de filas con replace:\n",
    "dfs2['Diabetes'] = dfs2['Diabetes'].replace(['No Diabético', 'Diabético'], [0, 1])\n",
    "dfs2['Hepatitis'] = dfs2['Hepatitis'].replace(['Sin Hepatitis', 'Con Hepatitis'], [0, 1])\n",
    "dfs2['PMI'] = dfs2['PMI'].replace(['NO', 'SI'], [0, 1])\n",
    "dfs2['Cronico'] = dfs2['Cronico'].replace(['NO', 'SI'], [0, 1])\n",
    "dfs2['Oncologico'] = dfs2['Oncologico'].replace(['Sin Marca', 'Paciente Oncológico'], [0, 1])\n",
    "dfs2['GC'] = dfs2['GC'].replace(['NO GC', 'GC'], [0, 1])\n",
    "dfs2['Discapacidad'] = dfs2['Discapacidad'].replace(['N', 'S'], [0, 1])\n",
    "\n",
    "# Creo una columna de resultado que marque 1 si se tiene cualquier diagnostico\n",
    "# Se tendría que mejorar para generalizar:\n",
    "suma = (dfs2['Diabetes'] + dfs2['Hepatitis'] + dfs2['PMI'] + \n",
    "        dfs2['Cronico'] + dfs2['Oncologico'] + dfs2['GC'] + dfs2['Discapacidad'])\n",
    "dfs2['algun_diag'] = np.where(suma > 0, 1, 0)\n",
    "\n",
    "# Creo una auxiliar que resuma por persona el stock y cantidad de veces con diag.\n",
    "# Agrupo por persona las diferentes métricas en otro df para luego cruzar con la base original\n",
    "filas = ['Persona','Rango_Cons']\n",
    "columnas = ['Stock','Diabetes', 'Hepatitis', 'PMI','Cronico', 'Oncologico', 'GC', 'Discapacidad', 'algun_diag']\n",
    "aux_diag = pd.DataFrame(dfs2.pivot_table(columnas , filas, aggfunc = np.sum))\n",
    "\n",
    "\n",
    "# Genero una columna que calcule el % de veces que se tuvo algún diagnóstico:\n",
    "aux_diag['prop_diag'] = aux_diag['algun_diag'] / aux_diag['Stock']\n",
    "aux_diag.tail()\n",
    "\n",
    "# Creamos la marca a cada persona\n",
    "# Analizando las diferentes posibilidades llegué a la conclusión que si la proporción es mayor a 40% se debe poner \"Con Diagnóstico\"\n",
    "aux_diag['Marca_Diagnostico'] = np.where(aux_diag['prop_diag'] > prop_limite, 'Con Diagnostico','Sin Diagnostico')\n",
    "\n",
    "# Reseteo los multi index:\n",
    "aux_diag = aux_diag.reset_index()"
   ]
  },
  {
   "cell_type": "code",
   "execution_count": null,
   "metadata": {},
   "outputs": [],
   "source": [
    "# tener en cuenta que al agregar la pos. asoc. a la td pueden aparecer\n",
    "#personas duplicadas si se exportan los reportes en diferente momento.."
   ]
  },
  {
   "cell_type": "code",
   "execution_count": null,
   "metadata": {},
   "outputs": [],
   "source": [
    "# lo que se acorta el df tiene relacion con personas duplicadas.\n",
    "# en el caso de stock continúa ok.\n",
    "len(aux_diag)"
   ]
  },
  {
   "cell_type": "code",
   "execution_count": null,
   "metadata": {},
   "outputs": [],
   "source": [
    "aux_diag.Stock.sum()"
   ]
  },
  {
   "cell_type": "markdown",
   "metadata": {},
   "source": [
    "# Exporto la info a csv"
   ]
  },
  {
   "cell_type": "code",
   "execution_count": 45,
   "metadata": {},
   "outputs": [],
   "source": [
    "aux_diag.to_csv(archivo_diagnosticos, encoding = 'latin1', decimal=',', index = False)"
   ]
  },
  {
   "cell_type": "code",
   "execution_count": null,
   "metadata": {},
   "outputs": [],
   "source": []
  },
  {
   "cell_type": "code",
   "execution_count": null,
   "metadata": {},
   "outputs": [],
   "source": []
  },
  {
   "cell_type": "code",
   "execution_count": null,
   "metadata": {},
   "outputs": [],
   "source": []
  }
 ],
 "metadata": {
  "interpreter": {
   "hash": "562c9c567e50c33fd32533d1041799ab9ec09a9cf2f2e4c1c846bbf665f39d1b"
  },
  "kernelspec": {
   "display_name": "Python 3.9.7 ('base')",
   "language": "python",
   "name": "python3"
  },
  "language_info": {
   "codemirror_mode": {
    "name": "ipython",
    "version": 3
   },
   "file_extension": ".py",
   "mimetype": "text/x-python",
   "name": "python",
   "nbconvert_exporter": "python",
   "pygments_lexer": "ipython3",
   "version": "3.9.7"
  }
 },
 "nbformat": 4,
 "nbformat_minor": 4
}
