{
 "cells": [
  {
   "cell_type": "markdown",
   "metadata": {},
   "source": [
    "# Diagnóstico por persona"
   ]
  },
  {
   "cell_type": "markdown",
   "metadata": {},
   "source": [
    "En esta \"V1\" se mejora de la \"V0\" porque tiene en cuenta discapacidad como diagnóstico y se exporta el dataframe son columnas con multi-index."
   ]
  },
  {
   "cell_type": "code",
   "execution_count": 1,
   "metadata": {},
   "outputs": [],
   "source": [
    "# Librerías usadas:\n",
    "import pandas as pd\n",
    "import numpy as np\n",
    "import os\n",
    "from datetime import datetime"
   ]
  },
  {
   "cell_type": "code",
   "execution_count": 2,
   "metadata": {},
   "outputs": [
    {
     "name": "stdout",
     "output_type": "stream",
     "text": [
      "Inicio del proceso: 14:18:32\n",
      "Se cargó el archivo:  Stock_202009.xlsx a las: 14:21:07\n",
      "Se cargó el archivo:  Stock_202010.xlsx a las: 14:23:59\n",
      "Se cargó el archivo:  Stock_202011.xlsx a las: 14:27:13\n",
      "Se cargó el archivo:  Stock_202012.xlsx a las: 14:30:39\n",
      "Se cargó el archivo:  Stock_202101_SanCor.xlsx a las: 14:34:02\n",
      "Se cargó el archivo:  Stock_202102_SanCor.xlsx a las: 14:37:00\n",
      "Se cargó el archivo:  Stock_202103_SanCor.xlsx a las: 14:40:10\n",
      "Se cargó el archivo:  Stock_202104_SanCor.xlsx a las: 14:43:22\n",
      "Se cargó el archivo:  Stock_202105_SanCor.xlsx a las: 14:46:39\n",
      "Se cargó el archivo:  Stock_202106_SanCor.xlsx a las: 14:50:05\n",
      "Se cargó el archivo:  Stock_202107_SanCor.xlsx a las: 14:53:34\n",
      "Se cargó el archivo:  Stock_202108_SanCor.xlsx a las: 14:57:07\n",
      "Se cargó el archivo:  Stock_202109_SanCor.xlsx a las: 15:00:40\n",
      "Fin de la carga de archivos\n"
     ]
    }
   ],
   "source": [
    "# Levanto el stock existente en una carpeta:\n",
    "\n",
    "ruta = '.\\Stocks\\\\'\n",
    "contenido = os.listdir(ruta)\n",
    "\n",
    "print(\"Inicio del proceso: \" + datetime.now().strftime('%H:%M:%S'))\n",
    "\n",
    "# Dataframe con el stock:\n",
    "dfs = pd.DataFrame()\n",
    "\n",
    "archivos = []\n",
    "for fichero in contenido:\n",
    "    if os.path.isfile(os.path.join(ruta, fichero)) and fichero.endswith('.xlsx'):\n",
    "        df_temp = pd.read_excel(ruta+fichero)\n",
    "        dfs = pd.concat([dfs, df_temp], axis=0)\n",
    "        print(\"Se cargó el archivo: \", fichero, \"a las: \" + datetime.now().strftime('%H:%M:%S'))\n",
    "\n",
    "df_temp = []\n",
    "print(\"Fin de la carga de archivos\")        \n"
   ]
  },
  {
   "cell_type": "markdown",
   "metadata": {},
   "source": [
    "## 1.2- Renombrar columnas"
   ]
  },
  {
   "cell_type": "code",
   "execution_count": 6,
   "metadata": {},
   "outputs": [],
   "source": [
    "# Se pueden renombrar incluso columnas que no existen (mejorar la eficiencia en función del warning)\n",
    "dfs.rename( columns = {    'Periodo ID': 'Periodo',\n",
    "                           'Persona ID': 'Persona',\n",
    "                           'Persona Fecha Nacimiento': 'Fecha_nac',\n",
    "                           'Discapacitado ID': 'Discapacidad',\n",
    "                           'Marca Persona con Diabetes DESC': 'Diabetes',\n",
    "                           'Marca Persona con Hepatitis DESC': 'Hepatitis',\n",
    "                           'Marca Persona con PMI DESC': 'PMI',\n",
    "                           'Marca Persona con Tratamiento Cronico DESC': 'Cronico',\n",
    "                           'Marca Persona con Tratamiento Oncológico DESC':  'Oncologico',\n",
    "                           'Sexo ID': 'Sexo',\n",
    "                           'Plan Sin Segmento ID': 'Plan',\n",
    "                           'Posicion Asociado DESC': 'Posicion Asociado',\n",
    "                           'Zona de Promocion DESC': 'Zona de Promocion',\n",
    "                           'Segmento Agrupado DESC': 'Segmento',\n",
    "                           'Plan Agrupado Sin Segmento DESC': 'Plan Agrupado',\n",
    "                           'Stock Asociados Salud': 'Stock',\n",
    "                           'Edad Periodo ID': 'Edad',\n",
    "                           'ACE Stock Asociados Salud': 'ACE',\n",
    "                           'Consumos Costo con Subsidios SSS': 'Consumo3',\n",
    "                           'Recaudacion Costo con Otros Subsidios': 'Recaudacion3'                      \n",
    "                           }, inplace=True)"
   ]
  },
  {
   "cell_type": "code",
   "execution_count": 7,
   "metadata": {},
   "outputs": [
    {
     "data": {
      "text/plain": [
       "7738496"
      ]
     },
     "execution_count": 7,
     "metadata": {},
     "output_type": "execute_result"
    }
   ],
   "source": [
    "len(dfs)"
   ]
  },
  {
   "cell_type": "code",
   "execution_count": 8,
   "metadata": {},
   "outputs": [
    {
     "data": {
      "text/plain": [
       "7740092"
      ]
     },
     "execution_count": 8,
     "metadata": {},
     "output_type": "execute_result"
    }
   ],
   "source": [
    "dfs.Stock.sum()"
   ]
  },
  {
   "cell_type": "markdown",
   "metadata": {},
   "source": [
    "# 2- Cálculo de marca GC\n",
    "\n",
    "Pasos a seguir:<br>\n",
    "1- Buscar el consumo por persona<br>\n",
    "2- Definir los rangos para marcara a cada persona<br>\n",
    "3- Marcar los GC por importe<br>\n",
    "4- Calcular consumo anualizado<br>\n",
    "5- Marcar los rangos de consumos según las definiciones iniciales<br>\n",
    "6- Cruzar con el stock su marca<br>\n",
    "7- Para las personas que no estan en consumos o stock marcar \"no corresponde\"<br>"
   ]
  },
  {
   "cell_type": "code",
   "execution_count": 14,
   "metadata": {},
   "outputs": [],
   "source": [
    "# Carpeta en que se encuentran las auxiliares:\n",
    "ruta_aux =  '.\\Auxiliares\\\\'\n",
    "\n",
    "# Guardo cantidad de registros iniciales para comparar al final:\n",
    "len_dfs = len(dfs)"
   ]
  },
  {
   "cell_type": "code",
   "execution_count": 15,
   "metadata": {},
   "outputs": [],
   "source": [
    "# Seteo de variables:\n",
    "\n",
    "# Defino importe gran consumidor\n",
    "importe_gc = 600000\n",
    "\n",
    "# De cada rango se define su límite inferior\n",
    "c_muy_alto = 600 * 1000\n",
    "c_alto = 100 * 1000\n",
    "c_medio = 10 * 1000\n",
    "c_bajo = 200 * 12 # 200 pesos por mes por el efecto cápita\n",
    "# El consumo c_muy_bajo queda por defecto.\n"
   ]
  },
  {
   "cell_type": "code",
   "execution_count": 11,
   "metadata": {},
   "outputs": [
    {
     "name": "stdout",
     "output_type": "stream",
     "text": [
      "Inicio del proceso: 15:20:26\n",
      "Se cargó el archivo:  30.1 CSR por persona 202009-202109.xlsx a las: 15:21:30\n",
      "Fin de la carga de archivos\n"
     ]
    }
   ],
   "source": [
    "# Levanto el archivo .xlsx de la carpeta:\n",
    "\n",
    "ruta = '.\\Consumos\\\\'\n",
    "contenido = os.listdir(ruta)\n",
    "\n",
    "print(\"Inicio del proceso: \" + datetime.now().strftime('%H:%M:%S'))\n",
    "\n",
    "# Dataframe con el stock:\n",
    "df_consumos = pd.DataFrame()\n",
    "\n",
    "archivos = []\n",
    "for fichero in contenido:\n",
    "    if os.path.isfile(os.path.join(ruta, fichero)) and fichero.endswith('.xlsx'):\n",
    "        df_temp = pd.read_excel(ruta+fichero)\n",
    "        df_consumos = pd.concat([df_consumos, df_temp], axis=0)\n",
    "        print(\"Se cargó el archivo: \", fichero, \"a las: \" + datetime.now().strftime('%H:%M:%S'))\n",
    "\n",
    "df_temp = []\n",
    "print(\"Fin de la carga de archivos\")\n"
   ]
  },
  {
   "cell_type": "code",
   "execution_count": 12,
   "metadata": {},
   "outputs": [],
   "source": [
    "# Renombro columnas:\n",
    "# Se pueden renombrar incluso columnas que no existen (mejorar la eficiencia en función del warning)\n",
    "\n",
    "df_consumos.rename( columns = \n",
    "                      {    'Periodo ID': 'Periodo',\n",
    "                           'Persona ID': 'Persona',\n",
    "                           'Persona Fecha Nacimiento': 'Fecha_nac',\n",
    "                           'Discapacitado ID': 'Discapacidad',\n",
    "                           'Marca Persona con Diabetes DESC': 'Diabetes',\n",
    "                           'Marca Persona con Hepatitis DESC': 'Hepatitis',\n",
    "                           'Marca Persona con PMI DESC': 'PMI',\n",
    "                           'Marca Persona con Tratamiento Cronico DESC': 'Cronico',\n",
    "                           'Marca Persona con Tratamiento Oncológico DESC':  'Oncologico',\n",
    "                           'Sexo ID': 'Sexo',\n",
    "                           'Plan Sin Segmento ID': 'Plan',\n",
    "                           'Posicion Asociado DESC': 'Posicion Asociado',\n",
    "                           'Zona de Promocion DESC': 'Zona de Promocion',\n",
    "                           'Segmento Agrupado DESC': 'Segmento',\n",
    "                           'Plan Agrupado Sin Segmento DESC': 'Plan Agrupado',\n",
    "                           'Stock Asociados Salud': 'Stock',\n",
    "                           'Edad Periodo ID': 'Edad',\n",
    "                           'ACE Stock Asociados Salud': 'ACE',\n",
    "                           'Consumos Costo con Subsidios SSS': 'Consumo3',\n",
    "                           'Recaudacion Costo con Otros Subsidios': 'Recaudacion3'                      \n",
    "                           }, inplace=True)\n"
   ]
  },
  {
   "cell_type": "code",
   "execution_count": 13,
   "metadata": {},
   "outputs": [
    {
     "name": "stderr",
     "output_type": "stream",
     "text": [
      "C:\\ProgramData\\Anaconda3\\lib\\site-packages\\ipykernel_launcher.py:14: SettingWithCopyWarning: \n",
      "A value is trying to be set on a copy of a slice from a DataFrame\n",
      "\n",
      "See the caveats in the documentation: https://pandas.pydata.org/pandas-docs/stable/user_guide/indexing.html#returning-a-view-versus-a-copy\n",
      "  \n"
     ]
    },
    {
     "data": {
      "text/plain": [
       "0"
      ]
     },
     "execution_count": 13,
     "metadata": {},
     "output_type": "execute_result"
    }
   ],
   "source": [
    "\n",
    "######## MARCO GRAN CONSUMIDOR:\n",
    "# https://es.stackoverflow.com/questions/193267/c%C3%B3mo-creo-una-columna-en-un-dataframe-dependiendo-del-valor-de-otras-dos-column\n",
    "df_consumos['GC'] = np.where(df_consumos['Consumo3'] > importe_gc, 'GC','NO GC')\n",
    "\n",
    "\n",
    "######## MARCO RANGO CONSUMOS:\n",
    "# Cálculo de consumo anualizado para rango consumos:\n",
    "df_consumos['Cons_anualizado'] = (df_consumos['Consumo3']*12)/df_consumos['Stock']\n",
    "\n",
    "# Como existen personas con stock == 0 -> reemplazo los nan con el valor de la columna \"Consumo3\"\n",
    "# No encontré una función -> hago una reimputación manual\n",
    "for i in range(len(df_consumos)):\n",
    "    if np.isnan(df_consumos[\"Cons_anualizado\"][i]) == True:\n",
    "        df_consumos[\"Cons_anualizado\"][i] = df_consumos[\"Consumo3\"][i]\n",
    "\n",
    "# Lista de condiciones para selección\n",
    "# https://www.delftstack.com/es/howto/python-pandas/how-to-create-dataframe-column-based-on-given-condition-in-pandas/#lista-de-comprensi%25C3%25B3n-para-crear-nuevas-columnas-dataframe-basadas-en-una-condici%25C3%25B3n-dada-en-pandas\n",
    "# Método np.select()\n",
    "condiciones = [\n",
    "    (df_consumos['Cons_anualizado'] >= c_muy_alto) ,\n",
    "    (df_consumos['Cons_anualizado'] >= c_alto) ,\n",
    "    (df_consumos['Cons_anualizado'] >= c_medio) ,\n",
    "    (df_consumos['Cons_anualizado'] >= c_bajo) ,\n",
    "    (df_consumos['Cons_anualizado'] < c_bajo)]\n",
    "\n",
    "# Lista de resultados en función de las selecciones\n",
    "valores_condic = ['Muy Alto', 'Alto', 'Medio', 'Bajo', 'Muy Bajo']     \n",
    "\n",
    "# Generación de la columna calculada\n",
    "df_consumos['Rango_Cons'] = np.select(condiciones, valores_condic, default='Sin valor')\n",
    "\n",
    "\n",
    "######## PEGAMOS LA INFORMACION AL df DE STOCK:\n",
    "dfs = pd.merge(left = dfs, right = df_consumos[[\"Persona\",\"GC\",\"Rango_Cons\"]], left_on='Persona', right_on='Persona', how = \"left\")\n",
    "# verifico cantidad de registros:\n",
    "len_dfs_cons = len(dfs)\n",
    "len_dfs_cons - len_dfs\n",
    "\n",
    "# Elimino el df auxiliar por memoria:\n",
    "#df_consumos = []"
   ]
  },
  {
   "cell_type": "markdown",
   "metadata": {},
   "source": [
    "# 3- Calcular marcas de diagnóstico\n",
    "\n",
    "El procedimiento a seguir debe ser el siguiente:<br>\n",
    "1- Si el 100% del tiempo tuvo un diagnóstico va ese. <br>\n",
    "2- Si más del 60% tuvo algún diagnóstico va ese.<br>\n",
    "3- Si no supera 60% en algún clúster se lo define como su peor situación (con diagnóstico).<br>\n",
    "4- (solamente para consumos) = si no se encuentra la persona en el tiempo de stock analizado se lo marca como \"No Corresponde\".<br>"
   ]
  },
  {
   "cell_type": "code",
   "execution_count": 16,
   "metadata": {},
   "outputs": [],
   "source": [
    "# Definiciones:\n",
    "# Proporción mínima de meses con diagnóstico para ser considerado con algún diagnóstico:\n",
    "prop_limite = 0.4\n",
    "# Se puede agregar los campos considerados como diag..\n",
    "\n",
    "# Reemplazo valores de filas con replace:\n",
    "dfs['Diabetes'] = dfs['Diabetes'].replace(['No Diabético', 'Diabético'], [0, 1])\n",
    "dfs['Hepatitis'] = dfs['Hepatitis'].replace(['Sin Hepatitis', 'Con Hepatitis'], [0, 1])\n",
    "dfs['PMI'] = dfs['PMI'].replace(['NO', 'SI'], [0, 1])\n",
    "dfs['Cronico'] = dfs['Cronico'].replace(['NO', 'SI'], [0, 1])\n",
    "dfs['Oncologico'] = dfs['Oncologico'].replace(['Sin Marca', 'Paciente Oncológico'], [0, 1])\n",
    "dfs['GC'] = dfs['GC'].replace(['NO GC', 'GC'], [0, 1])\n",
    "dfs['Discapacidad'] = dfs['Discapacidad'].replace(['N', 'S'], [0, 1])\n",
    "\n",
    "# Creo una columna de resultado que marque 1 si se tiene cualquier diagnostico\n",
    "# Se tendría que mejorar para generalizar:\n",
    "suma = (dfs['Diabetes'] + dfs['Hepatitis'] + dfs['PMI'] + \n",
    "        dfs['Cronico'] + dfs['Oncologico'] + dfs['GC'] + dfs['Discapacidad'])\n",
    "dfs['algun_diag'] = np.where( suma > 0, 1, 0)\n",
    "\n",
    "# Creo una auxiliar que resuma por persona el stock y cantidad de veces con diag.\n",
    "# Agrupo por persona las diferentes métricas en otro df para luego cruzar con la base original\n",
    "filas = ['Persona','Rango_Cons']\n",
    "columnas = ['Stock','Diabetes', 'Hepatitis', 'PMI','Cronico', 'Oncologico', 'GC', 'Discapacidad', 'algun_diag']\n",
    "aux_diag = pd.DataFrame(dfs.pivot_table(columnas , filas, aggfunc = np.sum))\n",
    "\n",
    "\n",
    "# Genero una columna que calcule el % de veces que se tuvo algún diagnóstico:\n",
    "aux_diag['prop_diag'] = aux_diag['algun_diag'] / aux_diag['Stock']\n",
    "aux_diag.tail()\n",
    "\n",
    "# Creamos la marca a cada persona\n",
    "# Analizando las diferentes posibilidades llegué a la conclusión que si la proporción es mayor a 40% se debe poner \"Con Diagnóstico\"\n",
    "aux_diag['Marca_Diagnostico'] = np.where(aux_diag['prop_diag'] > prop_limite, 'Con Diagnostico','Sin Diagnostico')\n",
    "\n",
    "# Reseteo los multi index:\n",
    "aux_diag = aux_diag.reset_index()"
   ]
  },
  {
   "cell_type": "code",
   "execution_count": 17,
   "metadata": {},
   "outputs": [
    {
     "data": {
      "text/plain": [
       "766227"
      ]
     },
     "execution_count": 17,
     "metadata": {},
     "output_type": "execute_result"
    }
   ],
   "source": [
    "# lo que se acorta el df tiene relacion con personas duplicadas.\n",
    "# en el caso de stock continúa ok.\n",
    "len(aux_diag)"
   ]
  },
  {
   "cell_type": "code",
   "execution_count": 18,
   "metadata": {},
   "outputs": [
    {
     "data": {
      "text/plain": [
       "7740092"
      ]
     },
     "execution_count": 18,
     "metadata": {},
     "output_type": "execute_result"
    }
   ],
   "source": [
    "aux_diag.Stock.sum()"
   ]
  },
  {
   "cell_type": "markdown",
   "metadata": {},
   "source": [
    "# Exporto la info a csv"
   ]
  },
  {
   "cell_type": "code",
   "execution_count": 20,
   "metadata": {},
   "outputs": [],
   "source": [
    "aux_diag.to_csv(\"Diagnosticos.csv\", encoding = 'latin1')"
   ]
  },
  {
   "cell_type": "code",
   "execution_count": null,
   "metadata": {},
   "outputs": [],
   "source": []
  },
  {
   "cell_type": "code",
   "execution_count": null,
   "metadata": {},
   "outputs": [],
   "source": []
  },
  {
   "cell_type": "code",
   "execution_count": null,
   "metadata": {},
   "outputs": [],
   "source": []
  },
  {
   "cell_type": "code",
   "execution_count": null,
   "metadata": {},
   "outputs": [],
   "source": []
  },
  {
   "cell_type": "code",
   "execution_count": null,
   "metadata": {},
   "outputs": [],
   "source": []
  },
  {
   "cell_type": "code",
   "execution_count": null,
   "metadata": {},
   "outputs": [],
   "source": []
  },
  {
   "cell_type": "code",
   "execution_count": null,
   "metadata": {},
   "outputs": [],
   "source": []
  },
  {
   "cell_type": "code",
   "execution_count": null,
   "metadata": {},
   "outputs": [],
   "source": []
  },
  {
   "cell_type": "code",
   "execution_count": null,
   "metadata": {},
   "outputs": [],
   "source": []
  },
  {
   "cell_type": "markdown",
   "metadata": {},
   "source": [
    "# Todo lo siguiente no se corre en este caso"
   ]
  },
  {
   "cell_type": "markdown",
   "metadata": {},
   "source": [
    "# 4- Pegar las marcas al consumo\n",
    "\n",
    "Se hace para tener la info de los que están en el consumo y los que están en stock"
   ]
  },
  {
   "cell_type": "code",
   "execution_count": null,
   "metadata": {},
   "outputs": [],
   "source": [
    "# Diagnósticos a pegar:\n",
    "diags = ['Cronico', 'Diabetes', 'Hepatitis', 'Oncologico', 'PMI', 'algun_diag', 'prop_diag', 'Marca_Diagnostico']\n",
    "\n",
    "\n",
    "# Pegamos la información de diagnósticos en consumos 12M:\n",
    "df_consumos = pd.merge(left = df_consumos, right = aux_diag[diags], left_on='Persona', \n",
    "               right_on='Persona', how = \"left\")"
   ]
  },
  {
   "cell_type": "code",
   "execution_count": null,
   "metadata": {},
   "outputs": [],
   "source": [
    "# Reemplazar GC = S por 1 y N por 0\n",
    "df_consumos['GC'] = df_consumos['GC'].replace(['NO GC', 'GC'], [0, 1])"
   ]
  },
  {
   "cell_type": "markdown",
   "metadata": {},
   "source": [
    "# 5- Resolvemos valores faltantes?"
   ]
  },
  {
   "cell_type": "code",
   "execution_count": null,
   "metadata": {},
   "outputs": [],
   "source": [
    "#"
   ]
  },
  {
   "cell_type": "code",
   "execution_count": null,
   "metadata": {},
   "outputs": [],
   "source": []
  },
  {
   "cell_type": "markdown",
   "metadata": {},
   "source": [
    "# 6- Exportar la información en \".csv\""
   ]
  },
  {
   "cell_type": "code",
   "execution_count": null,
   "metadata": {},
   "outputs": [],
   "source": [
    "# Exporto la información en csv:\n",
    "df_consumos.to_csv(\"Diagnosticos.csv\", encoding = 'latin1')"
   ]
  },
  {
   "cell_type": "code",
   "execution_count": null,
   "metadata": {},
   "outputs": [],
   "source": []
  },
  {
   "cell_type": "markdown",
   "metadata": {},
   "source": [
    "# 7- Levantamos csv para observar el dataframe"
   ]
  },
  {
   "cell_type": "code",
   "execution_count": null,
   "metadata": {},
   "outputs": [],
   "source": [
    "df = pd.read_csv('Diagnosticos.csv')"
   ]
  },
  {
   "cell_type": "code",
   "execution_count": null,
   "metadata": {},
   "outputs": [],
   "source": [
    "df.head()"
   ]
  },
  {
   "cell_type": "code",
   "execution_count": null,
   "metadata": {},
   "outputs": [],
   "source": [
    "df.Cronico.unique()"
   ]
  },
  {
   "cell_type": "code",
   "execution_count": null,
   "metadata": {},
   "outputs": [],
   "source": []
  }
 ],
 "metadata": {
  "kernelspec": {
   "display_name": "Python 3",
   "language": "python",
   "name": "python3"
  },
  "language_info": {
   "codemirror_mode": {
    "name": "ipython",
    "version": 3
   },
   "file_extension": ".py",
   "mimetype": "text/x-python",
   "name": "python",
   "nbconvert_exporter": "python",
   "pygments_lexer": "ipython3",
   "version": "3.7.6"
  }
 },
 "nbformat": 4,
 "nbformat_minor": 4
}
