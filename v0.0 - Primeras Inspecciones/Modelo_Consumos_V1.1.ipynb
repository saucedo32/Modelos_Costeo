{
 "cells": [
  {
   "cell_type": "markdown",
   "metadata": {},
   "source": [
    "A diferencia de los modelos anteriores que consolidaba datos por período de consumos, en el presente script se busca pegar el consumo por PERIODO PRESTACION por persona y cada rango separado. \n",
    "Se eliminan cálculos importantes como la edad de la persona al momento del conusmo."
   ]
  },
  {
   "cell_type": "code",
   "execution_count": 1,
   "metadata": {},
   "outputs": [],
   "source": [
    "# Librerías usadas:\n",
    "import pandas as pd\n",
    "import numpy as np\n",
    "import os\n",
    "from datetime import datetime"
   ]
  },
  {
   "cell_type": "code",
   "execution_count": 2,
   "metadata": {},
   "outputs": [],
   "source": [
    "# Parámetros de seteo.\n",
    "\n",
    "# Parámetros de seteo.\n",
    "\n",
    "# Ruta a la que tiene que salir la información\n",
    "ruta_base = 'C:\\\\Users\\\\lsaucedo\\\\Desktop\\\\Brinkmann V1\\\\'\n",
    "\n",
    "# Archivo de salida\n",
    "archivo_salida = ruta_base + \"PerPrest-Persona-Consumo-Bnknn_v2\" + \".csv\"\n",
    "\n",
    "# Ruta en que se encuentran los archivos:\n",
    "ruta = ruta_base + 'Consumo\\\\'\n"
   ]
  },
  {
   "cell_type": "markdown",
   "metadata": {},
   "source": [
    "# 1- Levantar los archivos con consumos"
   ]
  },
  {
   "cell_type": "code",
   "execution_count": 3,
   "metadata": {},
   "outputs": [
    {
     "name": "stdout",
     "output_type": "stream",
     "text": [
      "Inicio del proceso: 08:07:33\n",
      "Se cargó el archivo:  10.1 Consumos 202009-202109 (per prestac).xlsx a las: 08:09:06\n",
      "Fin de la carga de archivos\n"
     ]
    }
   ],
   "source": [
    "# Levanto el consumo existente en una carpeta:\n",
    "\n",
    "# Buscamos y levantamos a df todos los excel de \"ruta\"\n",
    "contenido = os.listdir(ruta)\n",
    "\n",
    "print(\"Inicio del proceso: \" + datetime.now().strftime('%H:%M:%S'))\n",
    "\n",
    "# Dataframe con el stock:\n",
    "dfc = pd.DataFrame()\n",
    "\n",
    "archivos = []\n",
    "for fichero in contenido:\n",
    "    if os.path.isfile(os.path.join(ruta, fichero)) and fichero.endswith('.xlsx'):\n",
    "        df_temp = pd.read_excel(ruta+fichero)\n",
    "        dfc = pd.concat([dfc, df_temp], axis=0)\n",
    "        print(\"Se cargó el archivo: \", fichero, \"a las: \" + datetime.now().strftime('%H:%M:%S'))\n",
    "\n",
    "df_temp = []\n",
    "print(\"Fin de la carga de archivos\")"
   ]
  },
  {
   "cell_type": "markdown",
   "metadata": {},
   "source": [
    "# 1.2- Renombrar las columnas"
   ]
  },
  {
   "cell_type": "code",
   "execution_count": 25,
   "metadata": {},
   "outputs": [],
   "source": [
    "# Se pueden renombrar incluso columnas que no existen (mejorar la eficiencia en función del warning)\n",
    "dfc.rename( columns = {    'Periodo ID': 'Periodo',\n",
    "                           'Persona ID': 'Persona',\n",
    "                           'Persona Fecha Nacimiento': 'Fecha_nac',\n",
    "                           'Discapacitado ID': 'Discapacidad',\n",
    "                           'Marca Persona con Diabetes DESC': 'Diabetes',\n",
    "                           'Marca Persona con Hepatitis DESC': 'Hepatitis',\n",
    "                           'Marca Persona con PMI DESC': 'PMI',\n",
    "                           'Marca Persona con Tratamiento Cronico DESC': 'Cronico',\n",
    "                           'Marca Persona con Tratamiento Oncológico DESC':  'Oncologico',\n",
    "                           'Sexo ID': 'Sexo',\n",
    "                           'Plan Sin Segmento ID': 'Plan',\n",
    "                           'Posicion Asociado DESC': 'Posicion Asociado',\n",
    "                           'Zona de Promocion DESC': 'Zona de Promocion',\n",
    "                           'Segmento Agrupado DESC': 'Segmento',\n",
    "                           'Plan Agrupado Sin Segmento DESC': 'Plan Agrupado',\n",
    "                           'Stock Asociados Salud': 'Stock',\n",
    "                           'Edad Periodo ID': 'Edad',\n",
    "                           'ACE Stock Asociados Salud': 'ACE', \n",
    "                           'Consumos Costo con Subsidios SSS': 'Consumo3',\n",
    "                           'Recaudacion Costo con Otros Subsidios': 'Recaudacion3',\n",
    "                           'Precio Sugerido Medicamento': \"Precio_sug\",\n",
    "                           'Periodo Prestacion ID':'Periodo_Prest',\n",
    "                           'Provision Acreedor DESC':\"Prov_acr_de\",\n",
    "                           'Porcentaje Cobertura Medicamento ID': \"Cobertura_DW\",\n",
    "                           'Prestacion ID': 'Prestacion',\n",
    "                           'Consumos Costo con Otros Subsidios': 'Consumo',\n",
    "                           'Cantidad Practicas Pagadas': 'Cantidad',\n",
    "                           'Plan Agrupado Con Segmento DESC':'Plan Agrupado'\n",
    "                           }, inplace=True)"
   ]
  },
  {
   "cell_type": "code",
   "execution_count": 5,
   "metadata": {},
   "outputs": [
    {
     "data": {
      "text/plain": [
       "Index(['Periodo', 'Periodo_Prest', 'Persona', 'Fecha_nac', 'Edad Orden ID',\n",
       "       'Sexo', 'Discapacidad', 'Posicion Asociado ID', 'Zona de Promocion ID',\n",
       "       'Plan', 'Plan Agrupado', 'Origen Prestacion ID',\n",
       "       'Origen Facturacion ID', 'Prestacion ID', 'Prestacion DESC',\n",
       "       'Rubro Indicadores Consumo ID', 'Prestacion Acreedor ID',\n",
       "       'Prestacion Acreedor DESC', 'Nomenclador ID', 'Nomenclador DESC',\n",
       "       'Acreedor ID', 'Provision Acreedor ID', 'Posicion Acreedor ID',\n",
       "       'Tipo Orden ID', 'Nro Orden ID', 'Tipo Orden Relacionada ID',\n",
       "       'Orden Relacionada ID', 'Porcentaje Cobertura Medicamento ID',\n",
       "       'Tipo de Venta DESC', 'Tipo de Venta ID', 'Subtipo de Venta DESC',\n",
       "       'Subtipo de Venta ID', 'Segmento', 'Cantidad', 'Consumo', 'Precio_sug'],\n",
       "      dtype='object')"
      ]
     },
     "execution_count": 5,
     "metadata": {},
     "output_type": "execute_result"
    }
   ],
   "source": [
    "dfc.columns"
   ]
  },
  {
   "cell_type": "markdown",
   "metadata": {},
   "source": [
    "# 2- Cálculo de edad\n",
    "\n",
    "No se realiza el cálculo a partir de la fecha de nacimiento y período. Par eso ver versines 0.x"
   ]
  },
  {
   "cell_type": "markdown",
   "metadata": {},
   "source": [
    "# 2- Agrego archivos auxiliares\n",
    "\n",
    "No se agregan los diagnósticos"
   ]
  },
  {
   "cell_type": "markdown",
   "metadata": {},
   "source": [
    "# 3- Agrego Marcas de Consumo y Rango Consumos\n",
    "\n",
    "No se agregan rangos de consumos en esta versión. Bucar en las v0.x."
   ]
  },
  {
   "cell_type": "markdown",
   "metadata": {},
   "source": [
    "# Inspecciones varias"
   ]
  },
  {
   "cell_type": "code",
   "execution_count": 6,
   "metadata": {},
   "outputs": [
    {
     "data": {
      "text/plain": [
       "array(['NP', 'ME', 'NM', 'ND', nan, 'MD', 'M1', 'DI', 'NO', 'NU', 'NS',\n",
       "       'OP', 'NB', 'NC', 'HB'], dtype=object)"
      ]
     },
     "execution_count": 6,
     "metadata": {},
     "output_type": "execute_result"
    }
   ],
   "source": [
    "dfc['Nomenclador ID'].unique()"
   ]
  },
  {
   "cell_type": "code",
   "execution_count": 7,
   "metadata": {},
   "outputs": [
    {
     "data": {
      "text/plain": [
       "array(['I', 'A', 'X'], dtype=object)"
      ]
     },
     "execution_count": 7,
     "metadata": {},
     "output_type": "execute_result"
    }
   ],
   "source": [
    "dfc['Origen Prestacion ID'].unique()"
   ]
  },
  {
   "cell_type": "code",
   "execution_count": 8,
   "metadata": {},
   "outputs": [
    {
     "data": {
      "text/plain": [
       "array(['F', 'A', 'R', 'C'], dtype=object)"
      ]
     },
     "execution_count": 8,
     "metadata": {},
     "output_type": "execute_result"
    }
   ],
   "source": [
    "dfc['Origen Facturacion ID'].unique()"
   ]
  },
  {
   "cell_type": "markdown",
   "metadata": {},
   "source": [
    "# Segmentaciones y métricas"
   ]
  },
  {
   "cell_type": "code",
   "execution_count": 9,
   "metadata": {},
   "outputs": [],
   "source": [
    "# Segmentaciones y métricas comúnes:\n",
    "\n",
    "# QUEDA PENDIENTE SEGMENTO EN LA APERTURA\n",
    "segmentacion = (['Periodo_Prest', 'Persona'])\n",
    "\n",
    "# dejo para probar procesamientos más rápido (debugging)\n",
    "segmentacion2 = ['Periodo', 'Sexo']\n",
    "\n",
    "\n",
    "# Defino las métricas a calcular\n",
    "metricas = ({'Consumo':[np.sum], 'Prestacion ID':pd.Series.nunique,'Cantidad':[np.sum]})\n",
    "\n",
    "\n",
    "metricas2 = ({  'Consumo':[np.sum,len],\n",
    "                'Cantidad':np.sum,\n",
    "            })\n"
   ]
  },
  {
   "cell_type": "markdown",
   "metadata": {},
   "source": [
    "# TD1 - Armado de la primera tabla de resúmen:\n",
    "## Período PRESTACION - Persona\n",
    "## A1 = Total\n",
    "Se calcula para diferentes aperturas."
   ]
  },
  {
   "cell_type": "code",
   "execution_count": 10,
   "metadata": {},
   "outputs": [],
   "source": [
    "# Genero la tabla de salida\n",
    "td1 = pd.pivot_table(dfc, index = segmentacion, \n",
    "               #values = ['Stock Asociados Salud', 'Edad Periodo ID'] , # no es obligatorio\n",
    "               aggfunc = metricas)"
   ]
  },
  {
   "cell_type": "code",
   "execution_count": 11,
   "metadata": {},
   "outputs": [],
   "source": [
    "# Renombramos columnas:\n",
    "\n",
    "# Reseteo los multi index:\n",
    "# td0 = td0.reset_index()\n",
    "\n",
    "\n",
    "# Nombres de columnas:\n",
    "col_td1 = [\n",
    "\n",
    "    \"Cantidad Total\",\n",
    "    \"Consumo Total\",\n",
    "    \"Prest. Dist. Total\"  ]\n",
    "\n",
    "\n",
    "# Renombro las columnas:\n",
    "td1.columns = col_td1"
   ]
  },
  {
   "cell_type": "markdown",
   "metadata": {},
   "source": [
    "# TD2 - Armado de aperturas diferentes al total\n",
    "## A2: Por nomenclador y Origen Prestación"
   ]
  },
  {
   "cell_type": "code",
   "execution_count": 12,
   "metadata": {},
   "outputs": [],
   "source": [
    "# Apertura para consumo agrupacion 2 (la 1 es la total)\n",
    "\n",
    "condiciones2 = [\n",
    "    (dfc['Origen Facturacion ID'] == 'A') ,\n",
    "    (dfc['Origen Facturacion ID'] == 'C') ,\n",
    "    (dfc['Nomenclador ID'] == 'ME') ,\n",
    "    (dfc['Nomenclador ID'] == 'M1') ,\n",
    "    (dfc['Origen Prestacion ID'] == 'I')]\n",
    "\n",
    "# Lista de resultados en función de las selecciones\n",
    "valores_condic2 = ['Naj', 'NC', 'MEd', 'MEd', 'Internacion sin A,C,Med']     \n",
    "\n",
    "# Generación de la columna calculada\n",
    "dfc['Agrc2'] = np.select(condiciones2, valores_condic2, default = 'Ambulatorio sin A,C,Med')"
   ]
  },
  {
   "cell_type": "code",
   "execution_count": 13,
   "metadata": {},
   "outputs": [
    {
     "data": {
      "text/plain": [
       "array(['Internacion sin A,C,Med', 'Ambulatorio sin A,C,Med', 'MEd', 'Naj',\n",
       "       'NC'], dtype=object)"
      ]
     },
     "execution_count": 13,
     "metadata": {},
     "output_type": "execute_result"
    }
   ],
   "source": [
    "# No debería haber nan\n",
    "dfc['Agrc2'].unique()"
   ]
  },
  {
   "cell_type": "code",
   "execution_count": 14,
   "metadata": {},
   "outputs": [],
   "source": [
    "td2 = pd.pivot_table(dfc, index = segmentacion, columns = 'Agrc2',\n",
    "               #values = ['Stock Asociados Salud', 'Edad Periodo ID'] , # no es obligatorio\n",
    "               aggfunc = metricas, fill_value = 0)"
   ]
  },
  {
   "cell_type": "code",
   "execution_count": 15,
   "metadata": {},
   "outputs": [],
   "source": [
    "# Nombres de columnas:\n",
    "col_td2 = [\n",
    "    \n",
    "    \"Cantidad Amb.\",\n",
    "    \"Cantidad Int.\",\n",
    "    \"Cantidad Medic.\",\n",
    "    \"Cantidad NC.\",\n",
    "    \"Cantidad NA\",\n",
    "    \n",
    "    \"Consumo Amb.\",\n",
    "    \"Consumo Int.\",\n",
    "    \"Consumo Medic.\",\n",
    "    \"Consumo NC.\",\n",
    "    \"Consumo NA\",\n",
    "    \n",
    "    \"Prest. Dist. Amb.\",\n",
    "    \"Prest. Dist. Int.\",\n",
    "    \"Prest. Dist. Medic.\",\n",
    "    \"Prest. Dist. NC.\",\n",
    "    \"Prest. Dist. NA\"]\n",
    "\n",
    "# Renombro las columnas:\n",
    "td2.columns = col_td2\n"
   ]
  },
  {
   "cell_type": "markdown",
   "metadata": {},
   "source": [
    "# TD2 - Amb por Rubros\n",
    "\n",
    "## A3"
   ]
  },
  {
   "cell_type": "code",
   "execution_count": 20,
   "metadata": {},
   "outputs": [],
   "source": [
    "# Apertura para consumo: Agrupador consumos 3\n",
    "\n",
    "condiciones3 = [\n",
    "    (dfc['Origen Prestacion ID'] == 'A') & (dfc['Rubro Indicadores Consumo ID'] == 'A'),\n",
    "    \n",
    "    (dfc['Origen Prestacion ID'] == 'A') & (dfc['Rubro Indicadores Consumo ID'] == 'I'),\n",
    "    \n",
    "    (dfc['Origen Prestacion ID'] == 'A') & (dfc['Rubro Indicadores Consumo ID'] == 'C'),\n",
    "    (dfc['Origen Prestacion ID'] == 'A') & (dfc['Rubro Indicadores Consumo ID'] == 'D'),\n",
    "    (dfc['Origen Prestacion ID'] == 'A') & (dfc['Rubro Indicadores Consumo ID'] == 'E'),\n",
    "    (dfc['Origen Prestacion ID'] == 'A') & (dfc['Rubro Indicadores Consumo ID'] == 'F'),\n",
    "    (dfc['Origen Prestacion ID'] == 'A') & (dfc['Rubro Indicadores Consumo ID'] == 'G'),\n",
    "    \n",
    "    (dfc['Origen Prestacion ID'] == 'A') & (dfc['Rubro Indicadores Consumo ID'] == 'N'),\n",
    "    \n",
    "    (dfc['Origen Prestacion ID'] == 'A') & (dfc['Rubro Indicadores Consumo ID'] == 'M'),\n",
    "    \n",
    "    (dfc['Origen Prestacion ID'] == 'A') & (dfc['Rubro Indicadores Consumo ID'] == 'J'),\n",
    "    (dfc['Origen Prestacion ID'] == 'A') & (dfc['Rubro Indicadores Consumo ID'] == 'R'),\n",
    "    (dfc['Origen Prestacion ID'] == 'A') & (dfc['Rubro Indicadores Consumo ID'] == 'S'),\n",
    "    (dfc['Origen Prestacion ID'] == 'A') & (dfc['Rubro Indicadores Consumo ID'] == 'T'),\n",
    "    (dfc['Origen Prestacion ID'] == 'A') & (dfc['Rubro Indicadores Consumo ID'] == 'U'),\n",
    "    (dfc['Origen Prestacion ID'] == 'A') & (dfc['Rubro Indicadores Consumo ID'] == 'V'),\n",
    "    (dfc['Origen Prestacion ID'] == 'A') & (dfc['Rubro Indicadores Consumo ID'] == 'W'),\n",
    "    (dfc['Origen Prestacion ID'] == 'A') & (dfc['Rubro Indicadores Consumo ID'] == 'X'),\n",
    "    \n",
    "    (dfc['Origen Prestacion ID'] == 'A') & (dfc['Nomenclador ID'] == 'ME'),\n",
    "    (dfc['Origen Prestacion ID'] == 'A') & (dfc['Nomenclador ID'] == 'M1'),\n",
    "\n",
    "    (dfc['Origen Prestacion ID'] == 'A') & (dfc['Nomenclador ID'] == 'NP'),\n",
    "    \n",
    "    (dfc['Origen Prestacion ID'] == 'A') & (dfc['Nomenclador ID'] == 'DI'),\n",
    "    \n",
    "    (dfc['Origen Prestacion ID'] == 'A') & (dfc['Nomenclador ID'] == 'NC'),\n",
    "    \n",
    "    (dfc['Origen Prestacion ID'] == 'A') & (dfc['Nomenclador ID'] == 'NA'),\n",
    "    \n",
    "    (dfc['Origen Prestacion ID'] == 'A') ]\n",
    "\n",
    "# Lista de resultados en función de las selecciones\n",
    "valores_condic3 = ['Consulta', 'Laboratorio', 'Imagenes', 'Imagenes', 'Imagenes', \n",
    "                  'Imagenes', 'Imagenes', 'Fisiokinesio', 'Salud Mental', \n",
    "                  'Odontologia', 'Odontologia', 'Odontologia', 'Odontologia', \n",
    "                   'Odontologia', 'Odontologia', 'Odontologia', 'Odontologia',\n",
    "                   'Amb ME','Amb ME','Amb NP','Amb DI', 'Amb NC',\n",
    "                   'Amb NA','Resto Amb']   \n",
    "\n",
    "# Generación de la columna calculada\n",
    "dfc['Agrc3'] = np.select(condiciones3, valores_condic3, default = 'No Considerar')\n"
   ]
  },
  {
   "cell_type": "code",
   "execution_count": 22,
   "metadata": {},
   "outputs": [],
   "source": [
    "# Armado de la td:\n",
    "\n",
    "td3 = pd.pivot_table(dfc, index = segmentacion, columns = 'Agrc3',\n",
    "               #values = ['Stock Asociados Salud', 'Edad Periodo ID'] , # no es obligatorio\n",
    "               aggfunc = metricas, fill_value = 0)\n",
    "\n",
    "# td3.head()"
   ]
  },
  {
   "cell_type": "code",
   "execution_count": 23,
   "metadata": {},
   "outputs": [
    {
     "data": {
      "text/plain": [
       "MultiIndex([(     'Cantidad',     'sum',        'Amb DI'),\n",
       "            (     'Cantidad',     'sum',        'Amb ME'),\n",
       "            (     'Cantidad',     'sum',        'Amb NC'),\n",
       "            (     'Cantidad',     'sum',        'Amb NP'),\n",
       "            (     'Cantidad',     'sum',      'Consulta'),\n",
       "            (     'Cantidad',     'sum',  'Fisiokinesio'),\n",
       "            (     'Cantidad',     'sum',      'Imagenes'),\n",
       "            (     'Cantidad',     'sum',   'Laboratorio'),\n",
       "            (     'Cantidad',     'sum', 'No Considerar'),\n",
       "            (     'Cantidad',     'sum',   'Odontologia'),\n",
       "            (     'Cantidad',     'sum',     'Resto Amb'),\n",
       "            (     'Cantidad',     'sum',  'Salud Mental'),\n",
       "            (      'Consumo',     'sum',        'Amb DI'),\n",
       "            (      'Consumo',     'sum',        'Amb ME'),\n",
       "            (      'Consumo',     'sum',        'Amb NC'),\n",
       "            (      'Consumo',     'sum',        'Amb NP'),\n",
       "            (      'Consumo',     'sum',      'Consulta'),\n",
       "            (      'Consumo',     'sum',  'Fisiokinesio'),\n",
       "            (      'Consumo',     'sum',      'Imagenes'),\n",
       "            (      'Consumo',     'sum',   'Laboratorio'),\n",
       "            (      'Consumo',     'sum', 'No Considerar'),\n",
       "            (      'Consumo',     'sum',   'Odontologia'),\n",
       "            (      'Consumo',     'sum',     'Resto Amb'),\n",
       "            (      'Consumo',     'sum',  'Salud Mental'),\n",
       "            ('Prestacion ID', 'nunique',        'Amb DI'),\n",
       "            ('Prestacion ID', 'nunique',        'Amb ME'),\n",
       "            ('Prestacion ID', 'nunique',        'Amb NC'),\n",
       "            ('Prestacion ID', 'nunique',        'Amb NP'),\n",
       "            ('Prestacion ID', 'nunique',      'Consulta'),\n",
       "            ('Prestacion ID', 'nunique',  'Fisiokinesio'),\n",
       "            ('Prestacion ID', 'nunique',      'Imagenes'),\n",
       "            ('Prestacion ID', 'nunique',   'Laboratorio'),\n",
       "            ('Prestacion ID', 'nunique', 'No Considerar'),\n",
       "            ('Prestacion ID', 'nunique',   'Odontologia'),\n",
       "            ('Prestacion ID', 'nunique',     'Resto Amb'),\n",
       "            ('Prestacion ID', 'nunique',  'Salud Mental')],\n",
       "           names=[None, None, 'Agrc3'])"
      ]
     },
     "execution_count": 23,
     "metadata": {},
     "output_type": "execute_result"
    }
   ],
   "source": [
    "td3.columns"
   ]
  },
  {
   "cell_type": "code",
   "execution_count": 24,
   "metadata": {},
   "outputs": [],
   "source": [
    "# Nombres de columnas:\n",
    "col_td3 = [\n",
    "    \"Cantidad Amb DI\",    \n",
    "    \"Cantidad Amb ME\",\n",
    "    \"Cantidad Amb NC\",\n",
    "    \"Cantidad Amb NP\",\n",
    "    \"Cantidad Consulta\",\n",
    "    \"Cantidad Fisiokinesio\",\n",
    "    \"Cantidad Imagenes\",\n",
    "    \"Cantidad Laboratorio\",\n",
    "    \"Cantidad No Considerar\",\n",
    "    \"Cantidad Odontologia\",\n",
    "    \"Cantidad Resto Amb\",\n",
    "    \"Cantidad Salud Mental\",\n",
    "    \n",
    "    \n",
    "    \"Consumo Amb DI\",    \n",
    "    \"Consumo Amb ME\",\n",
    "    \"Consumo Amb NC\",\n",
    "    \"Consumo Amb NP\",\n",
    "    \"Consumo Consulta\",\n",
    "    \"Consumo Fisiokinesio\",\n",
    "    \"Consumo Imagenes\",    \n",
    "    \"Consumo Laboratorio\",\n",
    "    \"Consumo No Considerar\",\n",
    "    \"Consumo Odontologia\",\n",
    "    \"Consumo Resto Amb\",\n",
    "    \"Consumo Salud Mental\",\n",
    "\n",
    "    \"Prest. Dist. Amb DI\",    \n",
    "    \"Prest. Dist. Amb ME\",\n",
    "    \"Prest. Dist. Amb NC\",\n",
    "    \"Prest. Dist. Amb NP\",    \n",
    "    \"Prest. Dist. Consulta\",\n",
    "    \"Prest. Dist. Fisiokinesio\",\n",
    "    \"Prest. Dist. Imagenes\",    \n",
    "    \"Prest. Dist. Laboratorio\",\n",
    "    \"Prest. Dist. No Considerar\",\n",
    "    \"Prest. Dist. Odontologia\",\n",
    "    \"Prest. Dist. Resto Amb\",\n",
    "    \"Prest. Dist. Salud Mental\"]\n",
    "\n",
    "# Renombro las columnas:\n",
    "td3.columns = col_td3"
   ]
  },
  {
   "cell_type": "code",
   "execution_count": null,
   "metadata": {},
   "outputs": [],
   "source": []
  },
  {
   "cell_type": "markdown",
   "metadata": {},
   "source": [
    "# TD4 - Medicamentos por Origen Prestación\n",
    "\n",
    "## Agr 4: Medicamentos por origen"
   ]
  },
  {
   "cell_type": "code",
   "execution_count": 21,
   "metadata": {},
   "outputs": [],
   "source": [
    "# Apertura para consumo: Agrupador consumos 3\n",
    "\n",
    "condiciones4 = [\n",
    "    \n",
    "    # Condiciones para marcar medicamentos en internacion:\n",
    "    (dfc['Origen Prestacion ID'] == 'I') & (dfc['Nomenclador ID'] == 'ME'),\n",
    "    (dfc['Origen Prestacion ID'] == 'I') & (dfc['Nomenclador ID'] == 'M1'),\n",
    "    \n",
    "    # Condiciones para marcar medicamentos en amb -> no se filtra origen (por defecto mandar a AMB)\n",
    "    (dfc['Nomenclador ID'] == 'ME'),\n",
    "    (dfc['Nomenclador ID'] == 'M1') ]\n",
    "\n",
    "# Lista de resultados en función de las selecciones\n",
    "valores_condic4 = ['Med. Int', 'Med. Int', 'Med. Amb', 'Med. Amb']     \n",
    "\n",
    "# Generación de la columna calculada\n",
    "dfc['Agrc4'] = np.select(condiciones4, valores_condic4, default = 'No Considerar')\n"
   ]
  },
  {
   "cell_type": "code",
   "execution_count": 22,
   "metadata": {},
   "outputs": [],
   "source": [
    "# Armado de la td:\n",
    "\n",
    "td4 = pd.pivot_table(dfc, index = segmentacion, columns = 'Agrc4',\n",
    "               #values = ['Stock Asociados Salud', 'Edad Periodo ID'] , # no es obligatorio\n",
    "               aggfunc = metricas, fill_value = 0)\n",
    "\n",
    "# td4.head()"
   ]
  },
  {
   "cell_type": "code",
   "execution_count": 23,
   "metadata": {},
   "outputs": [
    {
     "data": {
      "text/plain": [
       "MultiIndex([(     'Cantidad',     'sum',      'Med. Amb'),\n",
       "            (     'Cantidad',     'sum',      'Med. Int'),\n",
       "            (     'Cantidad',     'sum', 'No Considerar'),\n",
       "            (      'Consumo',     'sum',      'Med. Amb'),\n",
       "            (      'Consumo',     'sum',      'Med. Int'),\n",
       "            (      'Consumo',     'sum', 'No Considerar'),\n",
       "            ('Prestacion ID', 'nunique',      'Med. Amb'),\n",
       "            ('Prestacion ID', 'nunique',      'Med. Int'),\n",
       "            ('Prestacion ID', 'nunique', 'No Considerar')],\n",
       "           names=[None, None, 'Agrc4'])"
      ]
     },
     "execution_count": 23,
     "metadata": {},
     "output_type": "execute_result"
    }
   ],
   "source": [
    "td4.columns"
   ]
  },
  {
   "cell_type": "code",
   "execution_count": 24,
   "metadata": {},
   "outputs": [],
   "source": [
    "# Nombres de columnas:\n",
    "col_td4 = [\n",
    "    \n",
    "    \"Cantidad Med. Amb\",\n",
    "    \"Cantidad Med. Int\",\n",
    "    \"Cantidad No Considerar\",\n",
    "    \n",
    "    \"Consumo Med. Amb\",\n",
    "    \"Consumo Med. Int\",\n",
    "    \"Consumo No Considerar\",    \n",
    "\n",
    "\n",
    "    \"Prest. Dist. Med. Amb\",\n",
    "    \"Prest. Dist. Med. Int\",\n",
    "    \"Prest. No Considerar\"]\n",
    "\n",
    "# Renombro las columnas:\n",
    "td4.columns = col_td4"
   ]
  },
  {
   "cell_type": "code",
   "execution_count": null,
   "metadata": {},
   "outputs": [],
   "source": []
  },
  {
   "cell_type": "markdown",
   "metadata": {},
   "source": [
    "# TD5 - Medicamentos por vía\n",
    "\n",
    "## Agr 5: Medicamentos por vía"
   ]
  },
  {
   "cell_type": "code",
   "execution_count": 25,
   "metadata": {},
   "outputs": [],
   "source": [
    "# Apertura para consumo: Agrupador consumos 3\n",
    "\n",
    "condiciones5 = [\n",
    "    \n",
    "    # Condiciones para marcar medicamentos en internacion:\n",
    "    (dfc['Provision Acreedor ID'] == 6) & (dfc['Nomenclador ID'] == 'ME'),\n",
    "    (dfc['Provision Acreedor ID'] == 6) & (dfc['Nomenclador ID'] == 'M1'),\n",
    "\n",
    "    (dfc['Provision Acreedor ID'] == 66) & (dfc['Nomenclador ID'] == 'ME'),\n",
    "    (dfc['Provision Acreedor ID'] == 66) & (dfc['Nomenclador ID'] == 'M1'),\n",
    "    \n",
    "    (dfc['Nomenclador ID'] == 'ME'),\n",
    "    (dfc['Nomenclador ID'] == 'M1') ]\n",
    "\n",
    "# Lista de resultados en función de las selecciones\n",
    "valores_condic5 = ['Farmacia', 'Farmacia', 'Provision', 'Provision', 'Otras vias', 'Otras vias']     \n",
    "\n",
    "# Generación de la columna calculada\n",
    "dfc['Agrc5'] = np.select(condiciones5, valores_condic5, default = 'No Considerar')\n"
   ]
  },
  {
   "cell_type": "code",
   "execution_count": 26,
   "metadata": {},
   "outputs": [],
   "source": [
    "# Armado de la td:\n",
    "\n",
    "td5 = pd.pivot_table(dfc, index = segmentacion, columns = 'Agrc5',\n",
    "               #values = ['Stock Asociados Salud', 'Edad Periodo ID'] , # no es obligatorio\n",
    "               aggfunc = metricas, fill_value = 0)\n",
    "\n",
    "# td5.head()"
   ]
  },
  {
   "cell_type": "code",
   "execution_count": 27,
   "metadata": {},
   "outputs": [
    {
     "data": {
      "text/plain": [
       "MultiIndex([(     'Cantidad',     'sum',      'Farmacia'),\n",
       "            (     'Cantidad',     'sum', 'No Considerar'),\n",
       "            (     'Cantidad',     'sum',    'Otras vias'),\n",
       "            (     'Cantidad',     'sum',     'Provision'),\n",
       "            (      'Consumo',     'sum',      'Farmacia'),\n",
       "            (      'Consumo',     'sum', 'No Considerar'),\n",
       "            (      'Consumo',     'sum',    'Otras vias'),\n",
       "            (      'Consumo',     'sum',     'Provision'),\n",
       "            ('Prestacion ID', 'nunique',      'Farmacia'),\n",
       "            ('Prestacion ID', 'nunique', 'No Considerar'),\n",
       "            ('Prestacion ID', 'nunique',    'Otras vias'),\n",
       "            ('Prestacion ID', 'nunique',     'Provision')],\n",
       "           names=[None, None, 'Agrc5'])"
      ]
     },
     "execution_count": 27,
     "metadata": {},
     "output_type": "execute_result"
    }
   ],
   "source": [
    "td5.columns"
   ]
  },
  {
   "cell_type": "code",
   "execution_count": 28,
   "metadata": {},
   "outputs": [],
   "source": [
    "# Nombres de columnas:\n",
    "col_td5 = [\n",
    "    \n",
    "    \"Cantidad Farmacia\",\n",
    "    \"Cantidad No Considerar\",\n",
    "    \"Cantidad Otras vias\",\n",
    "    \"Cantidad Provision\",\n",
    "    \n",
    "    \"Consumo Farmacia\",\n",
    "    \"Consumo No Considerar\",\n",
    "    \"Consumo Otras vias\",    \n",
    "    \"Consumo Provision\",  \n",
    "\n",
    "    \"Prest. Farmacia\",\n",
    "    \"Prest. No Considerar\",\n",
    "    \"Prest. Otras vias\",\n",
    "    \"Prest. Provision\"]\n",
    "\n",
    "# Renombro las columnas:\n",
    "td5.columns = col_td5"
   ]
  },
  {
   "cell_type": "markdown",
   "metadata": {},
   "source": [
    "# TD6 - Medicamentos por Origen\n",
    "\n",
    "## Agr 6: Medicamentos por Cobertura"
   ]
  },
  {
   "cell_type": "code",
   "execution_count": 30,
   "metadata": {},
   "outputs": [
    {
     "data": {
      "text/html": [
       "<div>\n",
       "<style scoped>\n",
       "    .dataframe tbody tr th:only-of-type {\n",
       "        vertical-align: middle;\n",
       "    }\n",
       "\n",
       "    .dataframe tbody tr th {\n",
       "        vertical-align: top;\n",
       "    }\n",
       "\n",
       "    .dataframe thead th {\n",
       "        text-align: right;\n",
       "    }\n",
       "</style>\n",
       "<table border=\"1\" class=\"dataframe\">\n",
       "  <thead>\n",
       "    <tr style=\"text-align: right;\">\n",
       "      <th></th>\n",
       "      <th>Prestacion</th>\n",
       "      <th>Tipo_med</th>\n",
       "      <th>Cobertura</th>\n",
       "    </tr>\n",
       "  </thead>\n",
       "  <tbody>\n",
       "    <tr>\n",
       "      <th>0</th>\n",
       "      <td>ME00037909</td>\n",
       "      <td>R310</td>\n",
       "      <td>70</td>\n",
       "    </tr>\n",
       "    <tr>\n",
       "      <th>1</th>\n",
       "      <td>ME00053398</td>\n",
       "      <td>R310</td>\n",
       "      <td>70</td>\n",
       "    </tr>\n",
       "    <tr>\n",
       "      <th>2</th>\n",
       "      <td>ME00002232</td>\n",
       "      <td>R310</td>\n",
       "      <td>70</td>\n",
       "    </tr>\n",
       "    <tr>\n",
       "      <th>3</th>\n",
       "      <td>ME00044879</td>\n",
       "      <td>R310</td>\n",
       "      <td>70</td>\n",
       "    </tr>\n",
       "    <tr>\n",
       "      <th>4</th>\n",
       "      <td>ME00051142</td>\n",
       "      <td>R310</td>\n",
       "      <td>70</td>\n",
       "    </tr>\n",
       "  </tbody>\n",
       "</table>\n",
       "</div>"
      ],
      "text/plain": [
       "   Prestacion Tipo_med  Cobertura\n",
       "0  ME00037909     R310         70\n",
       "1  ME00053398     R310         70\n",
       "2  ME00002232     R310         70\n",
       "3  ME00044879     R310         70\n",
       "4  ME00051142     R310         70"
      ]
     },
     "execution_count": 30,
     "metadata": {},
     "output_type": "execute_result"
    }
   ],
   "source": [
    "ruta_aux = 'C:\\\\modelos\\\\Auxiliares\\\\'\n",
    "dfmed = pd.read_excel(ruta_aux + 'Aux_Prestaciones_especiales_med.xlsx')\n",
    "dfmed.head()"
   ]
  },
  {
   "cell_type": "code",
   "execution_count": null,
   "metadata": {},
   "outputs": [],
   "source": []
  },
  {
   "cell_type": "code",
   "execution_count": 31,
   "metadata": {},
   "outputs": [
    {
     "data": {
      "text/plain": [
       "array(['R310', 'ME6000000 y ME1600085', 'MACBI'], dtype=object)"
      ]
     },
     "execution_count": 31,
     "metadata": {},
     "output_type": "execute_result"
    }
   ],
   "source": [
    "dfmed.Tipo_med.unique()"
   ]
  },
  {
   "cell_type": "code",
   "execution_count": 33,
   "metadata": {},
   "outputs": [],
   "source": [
    "# Cruzamos con el dfc:\n",
    "dfc = pd.merge( left = dfc, right = dfmed[[\"Prestacion\",\"Tipo_med\"]], \n",
    "               left_on='Prestacion', right_on='Prestacion', how = \"left\")\n",
    "\n",
    "# Libero memoria:\n",
    "dfmed = []"
   ]
  },
  {
   "cell_type": "code",
   "execution_count": 34,
   "metadata": {},
   "outputs": [],
   "source": [
    "# Cálculos auxiliares para definir % cobertura:\n",
    "\n",
    "# Creo el cálculo auxiliar con *10 para quedarnos con la decena de la cobertura\n",
    "dfc['Cob_prec_sug'] = (dfc.Consumo / dfc.Precio_sug)*10\n",
    "\n",
    "# Reemplazo valores +inf y -inf por 0\n",
    "dfc['Cob_prec_sug'] = dfc['Cob_prec_sug'].replace([np.inf, -np.inf], 0)\n",
    "\n",
    "# Redondeo a 0 y multiplico por 10 para quedarme con la decena\n",
    "dfc['Cob_prec_sug'] = round(dfc['Cob_prec_sug'],0)*10"
   ]
  },
  {
   "cell_type": "code",
   "execution_count": 38,
   "metadata": {},
   "outputs": [
    {
     "data": {
      "text/html": [
       "<div>\n",
       "<style scoped>\n",
       "    .dataframe tbody tr th:only-of-type {\n",
       "        vertical-align: middle;\n",
       "    }\n",
       "\n",
       "    .dataframe tbody tr th {\n",
       "        vertical-align: top;\n",
       "    }\n",
       "\n",
       "    .dataframe thead th {\n",
       "        text-align: right;\n",
       "    }\n",
       "</style>\n",
       "<table border=\"1\" class=\"dataframe\">\n",
       "  <thead>\n",
       "    <tr style=\"text-align: right;\">\n",
       "      <th></th>\n",
       "      <th>Plan</th>\n",
       "      <th>Cobertura_med_id</th>\n",
       "      <th>Cobertura_desc</th>\n",
       "      <th>Marca_Manual</th>\n",
       "    </tr>\n",
       "  </thead>\n",
       "  <tbody>\n",
       "    <tr>\n",
       "      <th>0</th>\n",
       "      <td>B1000</td>\n",
       "      <td>301</td>\n",
       "      <td>Cobertura 40%</td>\n",
       "      <td>NaN</td>\n",
       "    </tr>\n",
       "    <tr>\n",
       "      <th>1</th>\n",
       "      <td>B100J</td>\n",
       "      <td>301</td>\n",
       "      <td>Cobertura 40%</td>\n",
       "      <td>NaN</td>\n",
       "    </tr>\n",
       "    <tr>\n",
       "      <th>2</th>\n",
       "      <td>B1050</td>\n",
       "      <td>303</td>\n",
       "      <td>Cobertura 50%</td>\n",
       "      <td>NaN</td>\n",
       "    </tr>\n",
       "    <tr>\n",
       "      <th>3</th>\n",
       "      <td>B105J</td>\n",
       "      <td>303</td>\n",
       "      <td>Cobertura 50%</td>\n",
       "      <td>NaN</td>\n",
       "    </tr>\n",
       "    <tr>\n",
       "      <th>4</th>\n",
       "      <td>B1060</td>\n",
       "      <td>304</td>\n",
       "      <td>Cobertura 60%</td>\n",
       "      <td>x</td>\n",
       "    </tr>\n",
       "  </tbody>\n",
       "</table>\n",
       "</div>"
      ],
      "text/plain": [
       "    Plan  Cobertura_med_id Cobertura_desc Marca_Manual\n",
       "0  B1000               301  Cobertura 40%          NaN\n",
       "1  B100J               301  Cobertura 40%          NaN\n",
       "2  B1050               303  Cobertura 50%          NaN\n",
       "3  B105J               303  Cobertura 50%          NaN\n",
       "4  B1060               304  Cobertura 60%            x"
      ]
     },
     "execution_count": 38,
     "metadata": {},
     "output_type": "execute_result"
    }
   ],
   "source": [
    "ruta_aux = 'C:\\\\modelos\\\\Auxiliares\\\\'\n",
    "dfmed2 = pd.read_excel(ruta_aux + 'Aux_CobertMedicamentosPlan.xlsx')\n",
    "dfmed2.head()"
   ]
  },
  {
   "cell_type": "code",
   "execution_count": 39,
   "metadata": {},
   "outputs": [],
   "source": [
    "# Cruzamos con el dfc:\n",
    "dfc = pd.merge( left = dfc, right = dfmed2[[\"Plan\",\"Cobertura_med_id\"]], \n",
    "               left_on='Plan', right_on='Plan', how = \"left\")\n",
    "\n",
    "# Libero memoria:\n",
    "dfmed2 = []"
   ]
  },
  {
   "cell_type": "code",
   "execution_count": 42,
   "metadata": {},
   "outputs": [],
   "source": [
    "# MARCA COBERTURA BASE\n",
    "\n",
    "# Transformo las provisiones en función de su descripción\n",
    "condiciones_c = [\n",
    "    (dfc.Cobertura_med_id == 301) & (dfc.Cobertura_DW == 40) & (dfc.Cob_prec_sug == 40),\n",
    "    (dfc.Cobertura_med_id == 302) & (dfc.Cobertura_DW == 40) & (dfc.Cob_prec_sug == 40),\n",
    "    (dfc.Cobertura_med_id == 302) & (dfc.Cobertura_DW == 50) & (dfc.Cob_prec_sug == 50),    \n",
    "    (dfc.Cobertura_med_id == 303) & (dfc.Cobertura_DW == 50) & (dfc.Cob_prec_sug == 50),\n",
    "    (dfc.Cobertura_med_id == 304) & (dfc.Cobertura_DW == 60) & (dfc.Cob_prec_sug == 60),\n",
    "    (dfc.Cobertura_med_id == 305) & (dfc.Cobertura_DW == 70) & (dfc.Cob_prec_sug == 70),\n",
    "    (dfc.Cobertura_med_id == 306) & (dfc.Cobertura_DW == 80) & (dfc.Cob_prec_sug == 80),\n",
    "    (dfc.Cobertura_med_id == 307) & (dfc.Cobertura_DW == 40) & (dfc.Cob_prec_sug == 40),\n",
    "    (dfc.Cobertura_med_id == 307) & (dfc.Cobertura_DW == 60) & (dfc.Cob_prec_sug == 60),\n",
    "    (dfc.Cobertura_med_id == 308) & (dfc.Cobertura_DW == 40) & (dfc.Cob_prec_sug == 40),\n",
    "    (dfc.Cobertura_med_id == 310) & (dfc.Cobertura_DW == 40) & (dfc.Cob_prec_sug == 40),\n",
    "    (dfc.Cobertura_med_id == 312) & (dfc.Cobertura_DW == 40) & (dfc.Cob_prec_sug == 40),\n",
    "    (dfc.Cobertura_med_id == 312) & (dfc.Cobertura_DW == 60) & (dfc.Cob_prec_sug == 60),\n",
    "    (dfc.Cobertura_med_id == 313) & (dfc.Cobertura_DW == 40) & (dfc.Cob_prec_sug == 40),\n",
    "    (dfc.Cobertura_med_id == 313) & (dfc.Cobertura_DW == 40) & (dfc.Cob_prec_sug == 40),\n",
    "    (dfc.Cobertura_med_id == 315) & (dfc.Cobertura_DW == 40) & (dfc.Cob_prec_sug == 40) \n",
    "]\n",
    "\n",
    "# Lista de resultados en función de las selecciones\n",
    "valores_condic_c = ['Cob. Base 40%', \n",
    "                  'Cob. Base 40%',\n",
    "                  'Cob. Base 50%',\n",
    "                  'Cob. Base 50%',\n",
    "                  'Cob. Base 60%',\n",
    "                  'Cob. Base 70%',\n",
    "                  'Cob. Base 80%',\n",
    "                  'Cob. Base 40%',\n",
    "                  'Cob. Base 60%',\n",
    "                  'Cob. Base 40%',\n",
    "                  'Cob. Base 40%',\n",
    "                  'Cob. Base 40%',\n",
    "                  'Cob. Base 60%',\n",
    "                  'Cob. Base 40%',\n",
    "                  'Cob. Base 40%',\n",
    "                  'Cob. Base 40%']     \n",
    "\n",
    "# Generación de la columna calculada\n",
    "dfc['Marca_Cob_Base'] = np.select(condiciones_c, valores_condic_c, default = 'No Cob. Base')"
   ]
  },
  {
   "cell_type": "code",
   "execution_count": 44,
   "metadata": {},
   "outputs": [],
   "source": [
    "# MARCA COBERTURA 100%\n",
    "\n",
    "condiciones = [(dfc.Cobertura_DW == 100) & (dfc.Cob_prec_sug == 100)]\n",
    "\n",
    "# Lista de resultados en función de las selecciones\n",
    "valores_condic = ['Cobertura 100%']  \n",
    "\n",
    "# Generación de la columna calculada\n",
    "dfc['Marca_Cobertura_100'] = np.select(condiciones, valores_condic, default = 'No Cobertura 100%')"
   ]
  },
  {
   "cell_type": "code",
   "execution_count": 52,
   "metadata": {},
   "outputs": [],
   "source": [
    "# Genero la agrupación final med\n",
    "condiciones = [\n",
    "    # Tipo medicamento es MACBI, ME6000 o M1 o R310.\n",
    "    dfc.Tipo_med == 'ME6000000 y ME1600085',\n",
    "    dfc.Tipo_med.isnull() == 0,\n",
    "    dfc.Marca_Cob_Base != 'No Cob. Base',\n",
    "    dfc.Marca_Cobertura_100 == \"Cobertura 100%\",\n",
    "    dfc[\"Tipo Orden ID\"] == 4,\n",
    "    dfc[\"Nomenclador ID\"] == 'ME',\n",
    "    dfc[\"Nomenclador ID\"] == 'M1']\n",
    "    \n",
    "# Lista de resultados en función de las selecciones\n",
    "valores_condic = [\"Prest Genéricas\", dfc.Tipo_med, dfc.Marca_Cob_Base, dfc.Marca_Cobertura_100, \"Form. 4\", \"Otros\", \"Otros\"]  \n",
    "\n",
    "# Generación de la columna calculada\n",
    "dfc['Marca_Cob_Final_Med'] = np.select(condiciones, valores_condic, default = 'No Considerar')"
   ]
  },
  {
   "cell_type": "code",
   "execution_count": 53,
   "metadata": {},
   "outputs": [
    {
     "data": {
      "text/plain": [
       "array(['Form. 4', 'No Considerar', 'Prest Genéricas', 'Otros',\n",
       "       'Cobertura 100%', 'R310', 'Cob. Base 50%', 'Cob. Base 40%',\n",
       "       'Cob. Base 60%', 'Cob. Base 80%', 'MACBI'], dtype=object)"
      ]
     },
     "execution_count": 53,
     "metadata": {},
     "output_type": "execute_result"
    }
   ],
   "source": [
    "dfc['Marca_Cob_Final_Med'].unique()"
   ]
  },
  {
   "cell_type": "code",
   "execution_count": null,
   "metadata": {},
   "outputs": [],
   "source": []
  },
  {
   "cell_type": "code",
   "execution_count": null,
   "metadata": {},
   "outputs": [],
   "source": []
  },
  {
   "cell_type": "code",
   "execution_count": null,
   "metadata": {},
   "outputs": [],
   "source": []
  },
  {
   "cell_type": "code",
   "execution_count": null,
   "metadata": {},
   "outputs": [],
   "source": []
  },
  {
   "cell_type": "markdown",
   "metadata": {},
   "source": [
    "# Quiero armar la apertura de tipo internacion"
   ]
  },
  {
   "cell_type": "code",
   "execution_count": 54,
   "metadata": {},
   "outputs": [
    {
     "data": {
      "text/plain": [
       "Index(['Periodo', 'Periodo_Prest', 'Persona', 'Fecha_nac', 'Edad Orden ID',\n",
       "       'Sexo', 'Discapacidad', 'Posicion Asociado ID', 'Zona de Promocion ID',\n",
       "       'Plan', 'Plan Agrupado', 'Origen Prestacion ID',\n",
       "       'Origen Facturacion ID', 'Prestacion', 'Prestacion DESC',\n",
       "       'Rubro Indicadores Consumo ID', 'Prestacion Acreedor ID',\n",
       "       'Prestacion Acreedor DESC', 'Nomenclador ID', 'Nomenclador DESC',\n",
       "       'Acreedor ID', 'Provision Acreedor ID', 'Posicion Acreedor ID',\n",
       "       'Tipo Orden ID', 'Nro Orden ID', 'Tipo Orden Relacionada ID',\n",
       "       'Orden Relacionada ID', 'Cobertura_DW', 'Tipo de Venta DESC',\n",
       "       'Tipo de Venta ID', 'Subtipo de Venta DESC', 'Subtipo de Venta ID',\n",
       "       'Segmento', 'Cantidad', 'Consumo', 'Precio_sug', 'Agrc2', 'Agrc3',\n",
       "       'Tipo_med', 'Cob_prec_sug', 'Cobertura_med_id', 'Marca_Cob_Base',\n",
       "       'Marca_Cobertura_100', 'Marca_Cob_Final_Med'],\n",
       "      dtype='object')"
      ]
     },
     "execution_count": 54,
     "metadata": {},
     "output_type": "execute_result"
    }
   ],
   "source": [
    "dfc.columns"
   ]
  },
  {
   "cell_type": "markdown",
   "metadata": {},
   "source": [
    "Procedimiento:\n",
    "\n",
    "1- intentar poner el tipo internación en el reporte de consumos <br>\n",
    "2- en caso de no poder realizar lo primero hacer una auxiliar con tipo-nro orden y tipo de internacion<br>\n",
    "3- Separar por tipos de internación en las diferentes columnas<br>\n",
    "4- Pensar qué vamos a hacer con las \"internaciones no encontradas\"<br>\n",
    "5- Vamos a medir alguna \"tasa de uso\" o \"alos\" de las diferentes internaciones?.<br>"
   ]
  },
  {
   "cell_type": "code",
   "execution_count": null,
   "metadata": {},
   "outputs": [],
   "source": []
  },
  {
   "cell_type": "code",
   "execution_count": null,
   "metadata": {},
   "outputs": [],
   "source": []
  },
  {
   "cell_type": "code",
   "execution_count": null,
   "metadata": {},
   "outputs": [],
   "source": []
  },
  {
   "cell_type": "code",
   "execution_count": null,
   "metadata": {},
   "outputs": [],
   "source": []
  },
  {
   "cell_type": "markdown",
   "metadata": {},
   "source": [
    "# Agrupamos las diferentes tablas"
   ]
  },
  {
   "cell_type": "code",
   "execution_count": 29,
   "metadata": {},
   "outputs": [
    {
     "data": {
      "text/html": [
       "<div>\n",
       "<style scoped>\n",
       "    .dataframe tbody tr th:only-of-type {\n",
       "        vertical-align: middle;\n",
       "    }\n",
       "\n",
       "    .dataframe tbody tr th {\n",
       "        vertical-align: top;\n",
       "    }\n",
       "\n",
       "    .dataframe thead th {\n",
       "        text-align: right;\n",
       "    }\n",
       "</style>\n",
       "<table border=\"1\" class=\"dataframe\">\n",
       "  <thead>\n",
       "    <tr style=\"text-align: right;\">\n",
       "      <th></th>\n",
       "      <th></th>\n",
       "      <th>Cantidad Total</th>\n",
       "      <th>Consumo Total</th>\n",
       "      <th>Prest. Dist. Total</th>\n",
       "      <th>Cantidad Amb.</th>\n",
       "      <th>Cantidad Int.</th>\n",
       "      <th>Cantidad Medic.</th>\n",
       "      <th>Cantidad NC.</th>\n",
       "      <th>Cantidad NA</th>\n",
       "      <th>Consumo Amb.</th>\n",
       "      <th>Consumo Int.</th>\n",
       "      <th>...</th>\n",
       "      <th>Cantidad Otras vias</th>\n",
       "      <th>Cantidad Provision</th>\n",
       "      <th>Consumo Farmacia</th>\n",
       "      <th>Consumo No Considerar</th>\n",
       "      <th>Consumo Otras vias</th>\n",
       "      <th>Consumo Provision</th>\n",
       "      <th>Prest. Farmacia</th>\n",
       "      <th>Prest. No Considerar</th>\n",
       "      <th>Prest. Otras vias</th>\n",
       "      <th>Prest. Provision</th>\n",
       "    </tr>\n",
       "    <tr>\n",
       "      <th>Periodo_Prest</th>\n",
       "      <th>Persona</th>\n",
       "      <th></th>\n",
       "      <th></th>\n",
       "      <th></th>\n",
       "      <th></th>\n",
       "      <th></th>\n",
       "      <th></th>\n",
       "      <th></th>\n",
       "      <th></th>\n",
       "      <th></th>\n",
       "      <th></th>\n",
       "      <th></th>\n",
       "      <th></th>\n",
       "      <th></th>\n",
       "      <th></th>\n",
       "      <th></th>\n",
       "      <th></th>\n",
       "      <th></th>\n",
       "      <th></th>\n",
       "      <th></th>\n",
       "      <th></th>\n",
       "      <th></th>\n",
       "    </tr>\n",
       "  </thead>\n",
       "  <tbody>\n",
       "    <tr>\n",
       "      <th rowspan=\"5\" valign=\"top\">202009</th>\n",
       "      <th>266</th>\n",
       "      <td>6</td>\n",
       "      <td>-46.33</td>\n",
       "      <td>5</td>\n",
       "      <td>0</td>\n",
       "      <td>0</td>\n",
       "      <td>0</td>\n",
       "      <td>2</td>\n",
       "      <td>4</td>\n",
       "      <td>0.00</td>\n",
       "      <td>0.0</td>\n",
       "      <td>...</td>\n",
       "      <td>0</td>\n",
       "      <td>0</td>\n",
       "      <td>0.00</td>\n",
       "      <td>-46.33</td>\n",
       "      <td>0.0</td>\n",
       "      <td>0.0</td>\n",
       "      <td>0</td>\n",
       "      <td>5</td>\n",
       "      <td>0</td>\n",
       "      <td>0</td>\n",
       "    </tr>\n",
       "    <tr>\n",
       "      <th>452</th>\n",
       "      <td>4</td>\n",
       "      <td>61.46</td>\n",
       "      <td>4</td>\n",
       "      <td>0</td>\n",
       "      <td>0</td>\n",
       "      <td>0</td>\n",
       "      <td>3</td>\n",
       "      <td>1</td>\n",
       "      <td>0.00</td>\n",
       "      <td>0.0</td>\n",
       "      <td>...</td>\n",
       "      <td>0</td>\n",
       "      <td>0</td>\n",
       "      <td>0.00</td>\n",
       "      <td>61.46</td>\n",
       "      <td>0.0</td>\n",
       "      <td>0.0</td>\n",
       "      <td>0</td>\n",
       "      <td>4</td>\n",
       "      <td>0</td>\n",
       "      <td>0</td>\n",
       "    </tr>\n",
       "    <tr>\n",
       "      <th>779</th>\n",
       "      <td>8</td>\n",
       "      <td>2005.31</td>\n",
       "      <td>7</td>\n",
       "      <td>3</td>\n",
       "      <td>0</td>\n",
       "      <td>2</td>\n",
       "      <td>2</td>\n",
       "      <td>1</td>\n",
       "      <td>1376.54</td>\n",
       "      <td>0.0</td>\n",
       "      <td>...</td>\n",
       "      <td>0</td>\n",
       "      <td>0</td>\n",
       "      <td>563.27</td>\n",
       "      <td>1442.04</td>\n",
       "      <td>0.0</td>\n",
       "      <td>0.0</td>\n",
       "      <td>2</td>\n",
       "      <td>5</td>\n",
       "      <td>0</td>\n",
       "      <td>0</td>\n",
       "    </tr>\n",
       "    <tr>\n",
       "      <th>780</th>\n",
       "      <td>20</td>\n",
       "      <td>6672.98</td>\n",
       "      <td>9</td>\n",
       "      <td>14</td>\n",
       "      <td>0</td>\n",
       "      <td>0</td>\n",
       "      <td>2</td>\n",
       "      <td>4</td>\n",
       "      <td>6709.87</td>\n",
       "      <td>0.0</td>\n",
       "      <td>...</td>\n",
       "      <td>0</td>\n",
       "      <td>0</td>\n",
       "      <td>0.00</td>\n",
       "      <td>6672.98</td>\n",
       "      <td>0.0</td>\n",
       "      <td>0.0</td>\n",
       "      <td>0</td>\n",
       "      <td>9</td>\n",
       "      <td>0</td>\n",
       "      <td>0</td>\n",
       "    </tr>\n",
       "    <tr>\n",
       "      <th>1219</th>\n",
       "      <td>7</td>\n",
       "      <td>-704.21</td>\n",
       "      <td>6</td>\n",
       "      <td>0</td>\n",
       "      <td>0</td>\n",
       "      <td>0</td>\n",
       "      <td>3</td>\n",
       "      <td>4</td>\n",
       "      <td>0.00</td>\n",
       "      <td>0.0</td>\n",
       "      <td>...</td>\n",
       "      <td>0</td>\n",
       "      <td>0</td>\n",
       "      <td>0.00</td>\n",
       "      <td>-704.21</td>\n",
       "      <td>0.0</td>\n",
       "      <td>0.0</td>\n",
       "      <td>0</td>\n",
       "      <td>6</td>\n",
       "      <td>0</td>\n",
       "      <td>0</td>\n",
       "    </tr>\n",
       "  </tbody>\n",
       "</table>\n",
       "<p>5 rows × 63 columns</p>\n",
       "</div>"
      ],
      "text/plain": [
       "                       Cantidad Total  Consumo Total  Prest. Dist. Total  \\\n",
       "Periodo_Prest Persona                                                      \n",
       "202009        266                   6         -46.33                   5   \n",
       "              452                   4          61.46                   4   \n",
       "              779                   8        2005.31                   7   \n",
       "              780                  20        6672.98                   9   \n",
       "              1219                  7        -704.21                   6   \n",
       "\n",
       "                       Cantidad Amb.  Cantidad Int.  Cantidad Medic.  \\\n",
       "Periodo_Prest Persona                                                  \n",
       "202009        266                  0              0                0   \n",
       "              452                  0              0                0   \n",
       "              779                  3              0                2   \n",
       "              780                 14              0                0   \n",
       "              1219                 0              0                0   \n",
       "\n",
       "                       Cantidad NC.  Cantidad NA  Consumo Amb.  Consumo Int.  \\\n",
       "Periodo_Prest Persona                                                          \n",
       "202009        266                 2            4          0.00           0.0   \n",
       "              452                 3            1          0.00           0.0   \n",
       "              779                 2            1       1376.54           0.0   \n",
       "              780                 2            4       6709.87           0.0   \n",
       "              1219                3            4          0.00           0.0   \n",
       "\n",
       "                       ...  Cantidad Otras vias  Cantidad Provision  \\\n",
       "Periodo_Prest Persona  ...                                            \n",
       "202009        266      ...                    0                   0   \n",
       "              452      ...                    0                   0   \n",
       "              779      ...                    0                   0   \n",
       "              780      ...                    0                   0   \n",
       "              1219     ...                    0                   0   \n",
       "\n",
       "                       Consumo Farmacia  Consumo No Considerar  \\\n",
       "Periodo_Prest Persona                                            \n",
       "202009        266                  0.00                 -46.33   \n",
       "              452                  0.00                  61.46   \n",
       "              779                563.27                1442.04   \n",
       "              780                  0.00                6672.98   \n",
       "              1219                 0.00                -704.21   \n",
       "\n",
       "                       Consumo Otras vias  Consumo Provision  Prest. Farmacia  \\\n",
       "Periodo_Prest Persona                                                           \n",
       "202009        266                     0.0                0.0                0   \n",
       "              452                     0.0                0.0                0   \n",
       "              779                     0.0                0.0                2   \n",
       "              780                     0.0                0.0                0   \n",
       "              1219                    0.0                0.0                0   \n",
       "\n",
       "                       Prest. No Considerar  Prest. Otras vias  \\\n",
       "Periodo_Prest Persona                                            \n",
       "202009        266                         5                  0   \n",
       "              452                         4                  0   \n",
       "              779                         5                  0   \n",
       "              780                         9                  0   \n",
       "              1219                        6                  0   \n",
       "\n",
       "                       Prest. Provision  \n",
       "Periodo_Prest Persona                    \n",
       "202009        266                     0  \n",
       "              452                     0  \n",
       "              779                     0  \n",
       "              780                     0  \n",
       "              1219                    0  \n",
       "\n",
       "[5 rows x 63 columns]"
      ]
     },
     "execution_count": 29,
     "metadata": {},
     "output_type": "execute_result"
    }
   ],
   "source": [
    "tdt = pd.concat([td1, td2, td3, td4, td5], axis=1)\n",
    "tdt.reset_index()\n",
    "tdt.head()"
   ]
  },
  {
   "cell_type": "code",
   "execution_count": null,
   "metadata": {},
   "outputs": [],
   "source": []
  },
  {
   "cell_type": "markdown",
   "metadata": {},
   "source": [
    "# 4- Exportar la información a un .csv"
   ]
  },
  {
   "cell_type": "markdown",
   "metadata": {},
   "source": [
    "\n",
    "Dentro del código queda pendiente:\n",
    "1- Calcular rango de edad.\n",
    "2- Cargar el diganóstico de todo el stock para levantar una vez.\n",
    "3- Definir una función para cambio de nombres.\n",
    "4- Definir una función para carga de dataframes desde excel.\n",
    "5- Definir todos los parámetros que fueron necesarios.\n",
    "\n"
   ]
  },
  {
   "cell_type": "code",
   "execution_count": 30,
   "metadata": {},
   "outputs": [],
   "source": [
    "# Genero un dataframe con la td\n",
    "base_consumos = pd.DataFrame(tdt)\n",
    "\n",
    "# Exporto la información en csv:\n",
    "base_consumos.to_csv(archivo_salida, encoding = 'latin1', decimal=',')\n",
    "# A modo de ejemplo:\n",
    "#  df.to_csv('./exportaciones/' + supermercado + '-' + str(fecha_exportado) + '.csv', encoding = 'latin1')"
   ]
  },
  {
   "cell_type": "code",
   "execution_count": null,
   "metadata": {},
   "outputs": [],
   "source": []
  },
  {
   "cell_type": "code",
   "execution_count": null,
   "metadata": {},
   "outputs": [],
   "source": []
  },
  {
   "cell_type": "code",
   "execution_count": null,
   "metadata": {},
   "outputs": [],
   "source": []
  }
 ],
 "metadata": {
  "kernelspec": {
   "display_name": "Python 3",
   "language": "python",
   "name": "python3"
  },
  "language_info": {
   "codemirror_mode": {
    "name": "ipython",
    "version": 3
   },
   "file_extension": ".py",
   "mimetype": "text/x-python",
   "name": "python",
   "nbconvert_exporter": "python",
   "pygments_lexer": "ipython3",
   "version": "3.7.6"
  }
 },
 "nbformat": 4,
 "nbformat_minor": 4
}
