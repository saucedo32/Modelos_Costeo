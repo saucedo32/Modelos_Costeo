{
 "cells": [
  {
   "cell_type": "markdown",
   "metadata": {},
   "source": [
    "# Rango Consumos por Persona y Diagnósticos"
   ]
  },
  {
   "cell_type": "markdown",
   "metadata": {},
   "source": [
    "Se calcula con consumos por período de prestación en un reporte y stock en otro reporte"
   ]
  },
  {
   "cell_type": "code",
   "execution_count": 14,
   "metadata": {},
   "outputs": [],
   "source": [
    "# Librerías usadas:\n",
    "import pandas as pd\n",
    "import numpy as np\n",
    "import os\n",
    "import datetime\n",
    "from datetime import datetime\n",
    "import funciones"
   ]
  },
  {
   "cell_type": "code",
   "execution_count": 15,
   "metadata": {},
   "outputs": [],
   "source": [
    "# DEFINICION DE LAS RUTAS Y VARIABLES:\n",
    "\n",
    "# Archivo al que se exportara la informacion:\n",
    "archivo_diagnosticos = 'C:/modelos/Aux_2021/dx_rosario_2111.csv'\n",
    "\n",
    "# Rutas donde se encuentran los 12 meses de consumo y stock por persona:\n",
    "ruta_cons_RC = \"C:/Users/lsaucedo/Desktop/HISTORICO ROSARIO/202111/Consumo_12M/\"\n",
    "ruta_stock_RC = \"C:/Users/lsaucedo/Desktop/HISTORICO ROSARIO/202111/Stock_12M/\"\n",
    "\n",
    "# Ruta con los 12 meses de stock de SanCor por persona:\n",
    "ruta_stock_ss = \"C:/Users/lsaucedo/Desktop/HISTORICO ROSARIO/202111/Stock_posicion/\"\n",
    "\n",
    "\n",
    "# Defino importe gran consumidor\n",
    "importe_gc = 693643\n",
    "# De cada rango se define su límite inferior para consumo mensual\n",
    "c_muy_alto = importe_gc / 12\n",
    "c_alto = 0.015714129 * importe_gc # el monto se actualiza de acuerdo al importe gran consumidor\n",
    "c_medio = 0.000785706 * importe_gc # el monto se actualiza de acuerdo al importe gran consumidor\n",
    "c_bajo = 0.000314283 * importe_gc # el monto se actualiza de acuerdo al importe gran consumidor\n",
    "# El consumo c_muy_bajo queda por defecto.\n",
    "\n",
    "\n",
    "# proporcion limite para ser considerado persona con diagnostico\n",
    "prop_limite = 0.4 \n",
    "\n"
   ]
  },
  {
   "cell_type": "code",
   "execution_count": 16,
   "metadata": {},
   "outputs": [
    {
     "name": "stdout",
     "output_type": "stream",
     "text": [
      "Inicio del proceso: 01:28:53\n",
      "Se cargó el archivo:  RC 202111.xlsx a las: 01:29:45\n",
      "Fin de la carga de archivos\n",
      "Inicio del proceso: 01:29:45\n",
      "Se cargó el archivo:  202111.xlsx a las: 01:30:28\n",
      "Fin de la carga de archivos\n"
     ]
    }
   ],
   "source": [
    "# Importamos los datos de consumo por periodo consumo y stock por periodo\n",
    "dfc_RC = funciones.leer_xlsx(ruta_cons_RC)\n",
    "dfs_RC = funciones.leer_xlsx(ruta_stock_RC)"
   ]
  },
  {
   "cell_type": "code",
   "execution_count": 17,
   "metadata": {},
   "outputs": [],
   "source": [
    "# renombramos las columnas de ambos dataframes\n",
    "funciones.renombrar_columnas(dfs_RC)\n",
    "funciones.renombrar_columnas(dfc_RC)"
   ]
  },
  {
   "cell_type": "code",
   "execution_count": 18,
   "metadata": {},
   "outputs": [],
   "source": [
    "# Agregamos a dfs el consumo de dfc:\n",
    "dfs_RC = pd.merge(left = dfs_RC, right = dfc_RC, left_on='Persona', right_on='Persona', how = \"left\")\n",
    "# Eliminamos el dfc de la memoria:\n",
    "del dfc_RC"
   ]
  },
  {
   "cell_type": "code",
   "execution_count": 19,
   "metadata": {},
   "outputs": [
    {
     "name": "stderr",
     "output_type": "stream",
     "text": [
      "C:\\Users\\lsaucedo\\AppData\\Local\\Temp/ipykernel_15540/832951618.py:12: SettingWithCopyWarning: \n",
      "A value is trying to be set on a copy of a slice from a DataFrame\n",
      "\n",
      "See the caveats in the documentation: https://pandas.pydata.org/pandas-docs/stable/user_guide/indexing.html#returning-a-view-versus-a-copy\n",
      "  dfs_RC[\"Cons_mensualizado\"][i] = dfs_RC[\"Consumo\"][i]\n"
     ]
    }
   ],
   "source": [
    "# Marco los GC en el dataframe de stock\n",
    "dfs_RC['GC'] = np.where(dfs_RC['Consumo'] > importe_gc, 'GC','NO GC')\n",
    "\n",
    "# Marco Rango de Consumos:\n",
    "# Cálculo de consumo anualizado para rango consumos:\n",
    "dfs_RC['Cons_mensualizado'] = (dfs_RC['Consumo'] / dfs_RC['Stock'])\n",
    "\n",
    "# Como existen personas con stock == 0 -> reemplazo los nan con el valor de la columna \"Consumo\"\n",
    "# No encontré una función -> hago una reimputación manual\n",
    "for i in range(len(dfs_RC)):\n",
    "    if np.isnan(dfs_RC[\"Cons_mensualizado\"][i]) == True:\n",
    "        dfs_RC[\"Cons_mensualizado\"][i] = dfs_RC[\"Consumo\"][i]\n",
    "\n",
    "condiciones = [\n",
    "    (dfs_RC['Cons_mensualizado'] >= c_muy_alto) ,\n",
    "    (dfs_RC['Cons_mensualizado'] >= c_alto) ,\n",
    "    (dfs_RC['Cons_mensualizado'] >= c_medio) ,\n",
    "    (dfs_RC['Cons_mensualizado'] >= c_bajo) ,\n",
    "    (dfs_RC['Cons_mensualizado'] < c_bajo)]\n",
    "\n",
    "# Lista de resultados en función de las selecciones\n",
    "valores_condic = ['Muy Alto', 'Alto', 'Medio', 'Bajo', 'Muy Bajo']     \n",
    "\n",
    "# Generación de la columna calculada\n",
    "dfs_RC['Rango_Cons'] = np.select(condiciones, valores_condic, default='Muy Bajo') # se analizaron y surgen de consumo 3 == 0\n"
   ]
  },
  {
   "cell_type": "code",
   "execution_count": 20,
   "metadata": {},
   "outputs": [],
   "source": [
    "# OPCIONAL - Exportar el dataframe a csv para tener las marcas a futuro\n",
    "#dfs_RC.to_csv(\"Rango_cons.csv\", encoding = 'latin1', decimal=',', index = False)"
   ]
  },
  {
   "cell_type": "code",
   "execution_count": null,
   "metadata": {},
   "outputs": [],
   "source": []
  },
  {
   "cell_type": "code",
   "execution_count": 21,
   "metadata": {},
   "outputs": [
    {
     "name": "stdout",
     "output_type": "stream",
     "text": [
      "Inicio del proceso: 01:31:06\n",
      "Se cargó el archivo:  S 202012.xlsx a las: 01:31:17\n",
      "Se cargó el archivo:  S 202101.xlsx a las: 01:31:28\n",
      "Se cargó el archivo:  S 202102.xlsx a las: 01:31:39\n",
      "Se cargó el archivo:  S 202103.xlsx a las: 01:31:50\n",
      "Se cargó el archivo:  S 202104.xlsx a las: 01:32:01\n",
      "Se cargó el archivo:  S 202105.xlsx a las: 01:32:11\n",
      "Se cargó el archivo:  S 202106.xlsx a las: 01:32:21\n",
      "Se cargó el archivo:  S 202107.xlsx a las: 01:32:29\n",
      "Se cargó el archivo:  S 202108.xlsx a las: 01:32:37\n",
      "Se cargó el archivo:  S 202109.xlsx a las: 01:32:44\n",
      "Se cargó el archivo:  S 202110.xlsx a las: 01:32:52\n",
      "Se cargó el archivo:  S 202111.xlsx a las: 01:32:59\n",
      "Fin de la carga de archivos\n"
     ]
    }
   ],
   "source": [
    "## IMPORTAMOS EL DATAFRAME CON TODO EL STOCK PARA MARCAR LOS DIAGNOSTICOS\n",
    "dfs_ss = funciones.leer_xlsx(ruta_stock_ss)\n",
    "funciones.renombrar_columnas(dfs_ss)\n"
   ]
  },
  {
   "cell_type": "code",
   "execution_count": 22,
   "metadata": {},
   "outputs": [],
   "source": [
    "# Pegamos a dfs_ss el rango de consumo:\n",
    "dfs_ss = pd.merge(left = dfs_ss, right = dfs_RC[['Persona', 'GC', 'Rango_Cons']], left_on='Persona', right_on='Persona', how = \"left\")"
   ]
  },
  {
   "cell_type": "code",
   "execution_count": 23,
   "metadata": {},
   "outputs": [],
   "source": [
    "# Existen casos con nan a reemplazar (decision leo)\n",
    "# Al ser personas encontradas en el stock y no encontradas en el consumo ponemos: No GC y Rango Cons == Muy Bajo\n",
    "values = {\"GC\": \"NO GC\", \"Rango_Cons\": \"Muy Bajo\"}\n",
    "dfs_ss = dfs_ss.fillna(value=values)"
   ]
  },
  {
   "cell_type": "code",
   "execution_count": 24,
   "metadata": {},
   "outputs": [],
   "source": [
    "# Transformaciones necesarias para el calculo de los diagnosticos como metricas:\n",
    "dfs_ss['GC'] = dfs_ss['GC'].replace(['NO GC', 'GC'], [0, 1])\n",
    "dfs_ss['Diabetes'] = dfs_ss['Diabetes'].replace(['No Diabético', 'Diabético'], [0, 1])\n",
    "dfs_ss['Hepatitis'] = dfs_ss['Hepatitis'].replace(['Sin Hepatitis', 'Con Hepatitis'], [0, 1])\n",
    "dfs_ss['PMI'] = dfs_ss['PMI'].replace(['NO', 'SI'], [0, 1])\n",
    "dfs_ss['Cronico'] = dfs_ss['Cronico'].replace(['NO', 'SI'], [0, 1])\n",
    "dfs_ss['Oncologico'] = dfs_ss['Oncologico'].replace(['Sin Marca', 'Paciente Oncológico'], [0, 1])\n",
    "dfs_ss['GC'] = dfs_ss['GC'].replace(['NO GC', 'GC'], [0, 1])\n",
    "dfs_ss['Discapacidad'] = dfs_ss['Discapacidad'].replace(['N', 'S'], [0, 1])\n",
    "\n",
    "\n",
    "# Creo una columna de resultado que marque 1 si se tiene cualquier diagnostico\n",
    "suma = (dfs_ss['Diabetes'] + dfs_ss['Hepatitis'] + dfs_ss['PMI'] + \n",
    "        dfs_ss['Cronico'] + dfs_ss['Oncologico'] + dfs_ss['GC'] + dfs_ss['Discapacidad'])\n",
    "\n",
    "dfs_ss['algun_diag'] = np.where( suma > 0, 1, 0)"
   ]
  },
  {
   "cell_type": "code",
   "execution_count": 25,
   "metadata": {},
   "outputs": [],
   "source": [
    "# Creo una auxiliar que resuma por persona el stock y cantidad de veces con diag.\n",
    "# Agrupo por persona las diferentes métricas en otro df para luego cruzar con la base original\n",
    "filas = ['Persona','Rango_Cons']\n",
    "columnas = ['Stock','Diabetes', 'Hepatitis', 'PMI','Cronico', 'Oncologico', 'GC', 'Discapacidad', 'algun_diag']\n",
    "aux_diag = pd.DataFrame(dfs_ss.pivot_table(columnas , filas, aggfunc = np.sum))\n",
    "\n",
    "# Genero una columna que calcule el % de veces que se tuvo algún diagnóstico:\n",
    "aux_diag['prop_diag'] = aux_diag['algun_diag'] / aux_diag['Stock']\n",
    "aux_diag.tail()\n",
    "\n",
    "# Creamos la marca a cada persona\n",
    "# Analizando las diferentes posibilidades llegué a la conclusión que si la proporción es mayor a 40% se debe poner \"Con Diagnóstico\"\n",
    "aux_diag['Marca_Diagnostico'] = np.where(aux_diag['prop_diag'] > prop_limite, 'Con Diagnostico','Sin Diagnostico')\n",
    "\n",
    "# Reseteo los multi index:\n",
    "aux_diag = aux_diag.reset_index()"
   ]
  },
  {
   "cell_type": "code",
   "execution_count": 26,
   "metadata": {},
   "outputs": [],
   "source": [
    "# Exporto el df a csv\n",
    "aux_diag.to_csv(archivo_diagnosticos, encoding = 'latin1',  decimal=',')"
   ]
  },
  {
   "cell_type": "code",
   "execution_count": null,
   "metadata": {},
   "outputs": [],
   "source": []
  },
  {
   "cell_type": "code",
   "execution_count": null,
   "metadata": {},
   "outputs": [],
   "source": [
    "\n"
   ]
  },
  {
   "cell_type": "code",
   "execution_count": null,
   "metadata": {},
   "outputs": [],
   "source": []
  },
  {
   "cell_type": "code",
   "execution_count": null,
   "metadata": {},
   "outputs": [],
   "source": []
  },
  {
   "cell_type": "code",
   "execution_count": null,
   "metadata": {},
   "outputs": [],
   "source": []
  },
  {
   "cell_type": "code",
   "execution_count": null,
   "metadata": {},
   "outputs": [],
   "source": []
  },
  {
   "cell_type": "code",
   "execution_count": null,
   "metadata": {},
   "outputs": [],
   "source": []
  },
  {
   "cell_type": "code",
   "execution_count": null,
   "metadata": {},
   "outputs": [],
   "source": []
  },
  {
   "cell_type": "code",
   "execution_count": null,
   "metadata": {},
   "outputs": [],
   "source": []
  },
  {
   "cell_type": "code",
   "execution_count": null,
   "metadata": {},
   "outputs": [],
   "source": []
  }
 ],
 "metadata": {
  "interpreter": {
   "hash": "562c9c567e50c33fd32533d1041799ab9ec09a9cf2f2e4c1c846bbf665f39d1b"
  },
  "kernelspec": {
   "display_name": "Python 3.9.7 ('base')",
   "language": "python",
   "name": "python3"
  },
  "language_info": {
   "codemirror_mode": {
    "name": "ipython",
    "version": 3
   },
   "file_extension": ".py",
   "mimetype": "text/x-python",
   "name": "python",
   "nbconvert_exporter": "python",
   "pygments_lexer": "ipython3",
   "version": "3.9.7"
  }
 },
 "nbformat": 4,
 "nbformat_minor": 4
}
