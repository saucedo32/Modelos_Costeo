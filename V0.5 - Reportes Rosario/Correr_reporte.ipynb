{
 "cells": [
  {
   "cell_type": "markdown",
   "metadata": {},
   "source": [
    "# Corriendo procesos en paralelo:"
   ]
  },
  {
   "cell_type": "code",
   "execution_count": 6,
   "metadata": {},
   "outputs": [],
   "source": [
    "import funciones\n",
    "import generador\n"
   ]
  },
  {
   "cell_type": "code",
   "execution_count": 7,
   "metadata": {},
   "outputs": [],
   "source": [
    "# Generar reporte de una zona\n",
    "# generador.generar_reporte(\"C:/Users/lsaucedo/Desktop/Reportes/set_brinkmann.txt\")"
   ]
  },
  {
   "cell_type": "code",
   "execution_count": 8,
   "metadata": {},
   "outputs": [],
   "source": [
    "# Generar reporte de una lista:\n",
    "\n",
    "#leer todos los archivos .txt de la carpeta desktop\n",
    "import os\n",
    "ruta_set = \"C:/Users/lsaucedo/Desktop/HISTORICO ROSARIO/seteos/\"\n",
    "lista_archivos = os.listdir(ruta_set)"
   ]
  },
  {
   "cell_type": "code",
   "execution_count": 9,
   "metadata": {},
   "outputs": [
    {
     "name": "stdout",
     "output_type": "stream",
     "text": [
      "inicia el proceso de 0set_202109.txt\n",
      "finalizado el proceso de 0set_202109.txt\n",
      "inicia el proceso de set_202012.txt\n",
      "finalizado el proceso de set_202012.txt\n",
      "inicia el proceso de set_202101.txt\n",
      "finalizado el proceso de set_202101.txt\n",
      "inicia el proceso de set_202102.txt\n",
      "finalizado el proceso de set_202102.txt\n",
      "inicia el proceso de set_202103.txt\n",
      "finalizado el proceso de set_202103.txt\n",
      "inicia el proceso de set_202104.txt\n",
      "finalizado el proceso de set_202104.txt\n",
      "inicia el proceso de set_202105.txt\n",
      "finalizado el proceso de set_202105.txt\n",
      "inicia el proceso de set_202106.txt\n",
      "finalizado el proceso de set_202106.txt\n",
      "inicia el proceso de set_202107.txt\n",
      "finalizado el proceso de set_202107.txt\n",
      "inicia el proceso de set_202108.txt\n",
      "finalizado el proceso de set_202108.txt\n",
      "inicia el proceso de set_202110.txt\n",
      "finalizado el proceso de set_202110.txt\n",
      "inicia el proceso de set_202111.txt\n",
      "finalizado el proceso de set_202111.txt\n",
      "inicia el proceso de set_202112.txt\n",
      "finalizado el proceso de set_202112.txt\n"
     ]
    }
   ],
   "source": [
    "for archivos in lista_archivos:\n",
    "    print(\"inicia el proceso de\", archivos)\n",
    "    generador.generar_reporte(ruta_set + archivos)\n",
    "    print(\"finalizado el proceso de\", archivos)"
   ]
  },
  {
   "cell_type": "code",
   "execution_count": null,
   "metadata": {},
   "outputs": [],
   "source": []
  },
  {
   "cell_type": "code",
   "execution_count": null,
   "metadata": {},
   "outputs": [],
   "source": []
  },
  {
   "cell_type": "code",
   "execution_count": null,
   "metadata": {},
   "outputs": [],
   "source": []
  },
  {
   "cell_type": "code",
   "execution_count": null,
   "metadata": {},
   "outputs": [],
   "source": []
  },
  {
   "cell_type": "code",
   "execution_count": null,
   "metadata": {},
   "outputs": [],
   "source": []
  }
 ],
 "metadata": {
  "interpreter": {
   "hash": "562c9c567e50c33fd32533d1041799ab9ec09a9cf2f2e4c1c846bbf665f39d1b"
  },
  "kernelspec": {
   "display_name": "Python 3.9.7 ('base')",
   "language": "python",
   "name": "python3"
  },
  "language_info": {
   "codemirror_mode": {
    "name": "ipython",
    "version": 3
   },
   "file_extension": ".py",
   "mimetype": "text/x-python",
   "name": "python",
   "nbconvert_exporter": "python",
   "pygments_lexer": "ipython3",
   "version": "3.9.7"
  },
  "orig_nbformat": 4
 },
 "nbformat": 4,
 "nbformat_minor": 2
}
